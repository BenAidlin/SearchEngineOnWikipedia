{
  "nbformat": 4,
  "nbformat_minor": 0,
  "metadata": {
    "colab": {
      "name": "assignment_3.ipynb",
      "provenance": [],
      "collapsed_sections": []
    },
    "kernelspec": {
      "display_name": "Python 3",
      "language": "python",
      "name": "python3"
    },
    "language_info": {
      "codemirror_mode": {
        "name": "ipython",
        "version": 3
      },
      "file_extension": ".py",
      "mimetype": "text/x-python",
      "name": "python",
      "nbconvert_exporter": "python",
      "pygments_lexer": "ipython3",
      "version": "3.7.6"
    }
  },
  "cells": [
    {
      "cell_type": "markdown",
      "metadata": {
        "id": "ByCSu-FhG5v7"
      },
      "source": [
        "# Assignment 3: MapReduce & Web Graph"
      ]
    },
    {
      "cell_type": "markdown",
      "metadata": {
        "id": "-e3cxxyFG_XW"
      },
      "source": [
        "## General guidelines\n",
        "\n",
        "This notebook contains considerable amount of code to help you complete this assignment. Your task is to implement any missing parts of the code and answer any questions (if exist) within this notebook. This will require understanding the existing code, may require reading about packages being used, reading additional resources, and maybe even going over your notes from class 😱\n",
        "\n",
        "**Evaluation and auto-grading**: Your submissions will be evaluated using both automatic and manual grading. Code parts for implementation are marked with a comment `# YOUR CODE HERE`, and usually followed by cell(s) containing automatic tests that evaluate the correctness of your answer. Staff will allow your notebook to **execute from start to finish for no more than 90 seconds**, then manually assess your submission. Any automatic tests that did not run due to your notebook timing out **will automatically receive 0 points**. The execution time excludes initial data download, which will already exist in the testing environment. The staff reserves the right to **modify any grade provided by the auto-grader** as well as to **execute additional tests not provided to you**. It is also important to note that **auto-graded cells only result in full or no credit**. In other words, you must pass all tests implemented in a test cell in order to get the credit for it, and passing some, but not all, of the tests in a test cell will not earn you any points for that cell. \n",
        "\n",
        "**Submission**: Upload a zip file **with your ID as the file name** containing the colab notebook and the GCP notebook to the assignment on Moodle. The names of the files should be  in the format:  012345678_colab.ipynb and 012345678_gcp.ipynb."
      ]
    },
    {
      "cell_type": "markdown",
      "metadata": {
        "id": "fscYA3wkHCLk"
      },
      "source": [
        "# Tasks\n",
        "\n",
        "In this assignment, we are going to use MapReduce in pySpark to scale up index creation. **The assignment consists of two parts, one in Google Colab and one in GCP**. In the first part (Colab), we will learn how to use MapReduce in PySpark, create an inverted index, and calculate PageRank. In the second part, we will use GCP to scale up index creation for the entire English Wikipedia. \n",
        "\n",
        "You will learn how to work with PySpark, write MapReduce code that executes on a cluster of machines, and experience the power of parallel processing. **All tasks must be completed through the use of PySpark's MapReduce**.\n",
        "\n",
        "To save you (and us) time, both in this assignment and in the final project, we are providing you with preprocessed files for the entire English wikipedia dump. Preprocessing was done, similar to Assignment #2, to extract article information from the XML, then remove the WikiMedia markup. The complete preprocessing code for one wiki dump can be seen [here](https://colab.research.google.com/drive/1xXc0YPU4BVd8CAjVNgICimW_d-Z7wryu?usp=sharing).\n",
        "\n",
        "\n",
        "**By the end of this assignment, you will have:**\n",
        "\n",
        "In Colab (65 Points)\n",
        "\n",
        "1. (20 Points) Processed articles' body to produce posting lists (using PySpark and MapReduce).\n",
        "2. (5 Points) Calculated document frequency (DF) in a  distributed fashion. \n",
        "3. (20 Points) Partitioned the posting lists and wrote them to disk in parallel.\n",
        "4. (20 Points) Constructed the links graph and calculated PageRank on it. \n",
        "All of these will be based on a small subset of articles from one wiki dump file.\n",
        "\n",
        "In GCP (35 Points):\n",
        "\n",
        "1. (10 Points) Successfully started a Dataproc cluster, setup cloud storage bucket, and properly initialized cluster nodes.\n",
        "2. (10 Points) Created an inverted index for all of English Wikipedia. \n",
        "3. (10 Points) Successfully computed PageRank for the entire English Wikipedia.\n",
        "4. (5 Points) Reporting: size of the data, size of index, time it took to build the index, time it took to compute PageRank, and the $ amount of credits it consumed.\n",
        "\n",
        "Bonus (10 points) if you implement PageRank in pure PySpark, i.e. without using the GraphFrames package, AND manage to complete 10 iterations of your algorithm on the entire English Wikipedia in less than an hour. \n",
        "\n",
        "\n",
        "\n",
        "\n",
        "\n"
      ]
    },
    {
      "cell_type": "markdown",
      "metadata": {
        "id": "J0P4W63JvrT5"
      },
      "source": [
        "# Setup"
      ]
    },
    {
      "cell_type": "markdown",
      "metadata": {
        "id": "59yMYAN1x3oh"
      },
      "source": [
        "## General imports\n",
        "\n",
        "The `inverted_index_colab` import requires the `inverted_index_colab.py` file. You should upload the file and then run this cell."
      ]
    },
    {
      "cell_type": "code",
      "metadata": {
        "colab": {
          "base_uri": "https://localhost:8080/"
        },
        "deletable": false,
        "editable": false,
        "id": "byNgReCYsmA9",
        "nbgrader": {
          "cell_type": "code",
          "checksum": "9a5e34081c68da39370c09ff0ee046f0",
          "grade": false,
          "grade_id": "cell-4bab9532110cc7e3",
          "locked": true,
          "schema_version": 3,
          "solution": false,
          "task": false
        },
        "outputId": "42702dba-51b5-4461-d3cd-a0bde8395943"
      },
      "source": [
        "import sys\n",
        "from collections import Counter, OrderedDict\n",
        "import itertools\n",
        "from itertools import islice, count, groupby\n",
        "import pandas as pd\n",
        "import os\n",
        "import re\n",
        "from operator import itemgetter\n",
        "import nltk\n",
        "from nltk.stem.porter import *\n",
        "from nltk.corpus import stopwords\n",
        "from time import time\n",
        "from timeit import timeit\n",
        "from pathlib import Path\n",
        "import pickle\n",
        "import pandas as pd\n",
        "import numpy as np\n",
        "from google.cloud import storage\n",
        "\n",
        "import hashlib\n",
        "def _hash(s):\n",
        "    return hashlib.blake2b(bytes(s, encoding='utf8'), digest_size=5).hexdigest()\n",
        "\n",
        "nltk.download('stopwords')\n",
        "\n",
        "from inverted_index_colab import *"
      ],
      "execution_count": 215,
      "outputs": [
        {
          "output_type": "stream",
          "name": "stdout",
          "text": [
            "[nltk_data] Downloading package stopwords to /root/nltk_data...\n",
            "[nltk_data]   Package stopwords is already up-to-date!\n"
          ]
        }
      ]
    },
    {
      "cell_type": "markdown",
      "metadata": {
        "id": "KRjOVgLBrfCs"
      },
      "source": [
        "## Installing, importing, and initializing PySpark\n"
      ]
    },
    {
      "cell_type": "markdown",
      "metadata": {
        "id": "GORmjMdasns1"
      },
      "source": [
        "The following code installs PySpark and its dependencies in Colab. In addition, we install GraphFrames, which is a PySpark package for dealing with graphs in a distributed fashion. Colab notebooks run on a single machine so we will work in local mode, i.e. there is no cluster of machines and both the master and worker processes run on a single machine. This will help us debug and iron out the code we will use in the second half of this assignment on an actual cluster mode in GCP. \n",
        "\n",
        "The installation in the next cell should take about 1 minute in a fresh environment. Don't worry about going  over the 90 seconds limit for the assignment because in our testing enviroment all of these requirements will already be met. "
      ]
    },
    {
      "cell_type": "code",
      "metadata": {
        "id": "Xf84c2MsIUGk"
      },
      "source": [
        ""
      ],
      "execution_count": 215,
      "outputs": []
    },
    {
      "cell_type": "code",
      "metadata": {
        "deletable": false,
        "editable": false,
        "id": "kw33QgujFQez",
        "nbgrader": {
          "cell_type": "code",
          "checksum": "da733d0507fb7716a3f432b5d9d409a3",
          "grade": false,
          "grade_id": "cell-3f5100ba2d532176",
          "locked": true,
          "schema_version": 3,
          "solution": false,
          "task": false
        },
        "colab": {
          "base_uri": "https://localhost:8080/"
        },
        "outputId": "578a33a3-b331-4b1f-f42a-101ffaf5daff"
      },
      "source": [
        "# These will already be installed in the testing environment so disregard the \n",
        "# amount of time (~1 minute) it takes to install. \n",
        "# !pip install -q pyspark\n",
        "# !pip install -U -q PyDrive\n",
        "# !apt install openjdk-8-jdk-headless -qq\n",
        "# !pip install -q graphframes\n",
        "!pip install -q pyspark\n",
        "!pip install -U -q PyDrive\n",
        "!apt-get update -qq\n",
        "!apt install openjdk-8-jdk-headless -qq\n",
        "import os\n",
        "os.environ[\"JAVA_HOME\"] = \"/usr/lib/jvm/java-8-openjdk-amd64\"\n",
        "graphframes_jar = 'https://repos.spark-packages.org/graphframes/graphframes/0.8.2-spark3.2-s_2.12/graphframes-0.8.2-spark3.2-s_2.12.jar'\n",
        "spark_jars = '/usr/local/lib/python3.7/dist-packages/pyspark/jars'\n",
        "!wget -N -P $spark_jars $graphframes_jar"
      ],
      "execution_count": 216,
      "outputs": [
        {
          "output_type": "stream",
          "name": "stdout",
          "text": [
            "openjdk-8-jdk-headless is already the newest version (8u312-b07-0ubuntu1~18.04).\n",
            "0 upgraded, 0 newly installed, 0 to remove and 100 not upgraded.\n",
            "--2022-01-01 17:05:25--  https://repos.spark-packages.org/graphframes/graphframes/0.8.2-spark3.2-s_2.12/graphframes-0.8.2-spark3.2-s_2.12.jar\n",
            "Resolving repos.spark-packages.org (repos.spark-packages.org)... 13.35.101.23, 13.35.101.120, 13.35.101.108, ...\n",
            "Connecting to repos.spark-packages.org (repos.spark-packages.org)|13.35.101.23|:443... connected.\n",
            "HTTP request sent, awaiting response... 304 Not Modified\n",
            "File ‘/usr/local/lib/python3.7/dist-packages/pyspark/jars/graphframes-0.8.2-spark3.2-s_2.12.jar’ not modified on server. Omitting download.\n",
            "\n"
          ]
        }
      ]
    },
    {
      "cell_type": "code",
      "metadata": {
        "deletable": false,
        "editable": false,
        "id": "BkEErqJnsXyy",
        "nbgrader": {
          "cell_type": "code",
          "checksum": "032f9e425c679e50c3f5c4ea0c8c1a0d",
          "grade": false,
          "grade_id": "cell-eb29d235a981ccf1",
          "locked": true,
          "schema_version": 3,
          "solution": false,
          "task": false
        },
        "colab": {
          "base_uri": "https://localhost:8080/"
        },
        "outputId": "3010e33e-7530-425c-c9a0-7616e2937277"
      },
      "source": [
        "import pyspark\n",
        "from pyspark.sql import *\n",
        "from pyspark.sql.functions import *\n",
        "from pyspark import SparkContext, SparkConf\n",
        "from pyspark.sql import SQLContext\n",
        "from pyspark.ml.feature import Tokenizer, RegexTokenizer\n",
        "!pip install graphframes\n",
        "from graphframes import *"
      ],
      "execution_count": 217,
      "outputs": [
        {
          "output_type": "stream",
          "name": "stdout",
          "text": [
            "Requirement already satisfied: graphframes in /usr/local/lib/python3.7/dist-packages (0.6)\n",
            "Requirement already satisfied: numpy in /usr/local/lib/python3.7/dist-packages (from graphframes) (1.19.5)\n",
            "Requirement already satisfied: nose in /usr/local/lib/python3.7/dist-packages (from graphframes) (1.3.7)\n"
          ]
        }
      ]
    },
    {
      "cell_type": "code",
      "metadata": {
        "deletable": false,
        "editable": false,
        "id": "OgiSewKAsgKd",
        "nbgrader": {
          "cell_type": "code",
          "checksum": "a5af00dff69d4112e18699486f128230",
          "grade": false,
          "grade_id": "cell-3abe6255693138cc",
          "locked": true,
          "schema_version": 3,
          "solution": false,
          "task": false
        }
      },
      "source": [
        "# Initializing spark context\n",
        "# create a spark context and session\n",
        "conf = SparkConf().set(\"spark.ui.port\", \"4050\")\n",
        "#sc = pyspark.SparkContext(conf=conf)\n",
        "sc.addPyFile(str(Path(spark_jars) / Path(graphframes_jar).name))\n",
        "spark = SparkSession.builder.getOrCreate()"
      ],
      "execution_count": 218,
      "outputs": []
    },
    {
      "cell_type": "markdown",
      "metadata": {
        "id": "A9fjw2J-s87v"
      },
      "source": [
        "You can easily check the current version and get the link of the web interface. In the Spark UI, you can monitor the progress of your job and debug the performance bottlenecks (if your Colab is running with a **local runtime**)."
      ]
    },
    {
      "cell_type": "code",
      "metadata": {
        "id": "PUyhQAlBs8qL",
        "colab": {
          "base_uri": "https://localhost:8080/",
          "height": 219
        },
        "outputId": "86a23030-2b62-43c4-ff12-efd97f16df06"
      },
      "source": [
        "spark"
      ],
      "execution_count": 219,
      "outputs": [
        {
          "output_type": "execute_result",
          "data": {
            "text/html": [
              "\n",
              "            <div>\n",
              "                <p><b>SparkSession - in-memory</b></p>\n",
              "                \n",
              "        <div>\n",
              "            <p><b>SparkContext</b></p>\n",
              "\n",
              "            <p><a href=\"http://c1e0c91757dd:4050\">Spark UI</a></p>\n",
              "\n",
              "            <dl>\n",
              "              <dt>Version</dt>\n",
              "                <dd><code>v3.2.0</code></dd>\n",
              "              <dt>Master</dt>\n",
              "                <dd><code>local[*]</code></dd>\n",
              "              <dt>AppName</dt>\n",
              "                <dd><code>pyspark-shell</code></dd>\n",
              "            </dl>\n",
              "        </div>\n",
              "        \n",
              "            </div>\n",
              "        "
            ],
            "text/plain": [
              "<pyspark.sql.session.SparkSession at 0x7f174ed11050>"
            ]
          },
          "metadata": {},
          "execution_count": 219
        }
      ]
    },
    {
      "cell_type": "markdown",
      "metadata": {
        "id": "19EG5AvVru1J"
      },
      "source": [
        "## Copy some wiki data"
      ]
    },
    {
      "cell_type": "markdown",
      "metadata": {
        "id": "ofyAoTHttjHE"
      },
      "source": [
        "As mentioned above, all wiki dumps were preprocessed and placed in a shared google storage bucket. To access the files in Colab, you will first have to authenticate with google storage, and then copy the data to your local environment. In GCP, the storage will already be mounted on the cluster machines and we will show you how to access it. "
      ]
    },
    {
      "cell_type": "code",
      "metadata": {
        "deletable": false,
        "editable": false,
        "id": "DkdjBm5DOVWX",
        "nbgrader": {
          "cell_type": "code",
          "checksum": "0b138c8dd737320e8f709a125f6862f9",
          "grade": false,
          "grade_id": "cell-e21b8fff61e90a95",
          "locked": true,
          "schema_version": 3,
          "solution": false,
          "task": false
        }
      },
      "source": [
        "# Authenticate your user\n",
        "# The authentication should be done with the email connected to your GCP account\n",
        "from google.colab import auth\n",
        "auth.authenticate_user()"
      ],
      "execution_count": 220,
      "outputs": []
    },
    {
      "cell_type": "code",
      "metadata": {
        "deletable": false,
        "editable": false,
        "id": "vDuikxFbN9B7",
        "nbgrader": {
          "cell_type": "code",
          "checksum": "21fef1395f2be15f2a4cac7d41236bf3",
          "grade": false,
          "grade_id": "cell-e19184d540ed3d67",
          "locked": true,
          "schema_version": 3,
          "solution": false,
          "task": false
        },
        "colab": {
          "base_uri": "https://localhost:8080/"
        },
        "outputId": "f74532b4-7da6-4db1-9c8e-a651465eae34"
      },
      "source": [
        "# Copy one wikidumps files \n",
        "import os\n",
        "from pathlib import Path\n",
        "from google.colab import auth\n",
        "\n",
        "project_id = 'core-period-321814'\n",
        "!gcloud config set project {project_id}\n",
        "\n",
        "data_bucket_name = 'wikidata_preprocessed'\n",
        "try:\n",
        "    if os.environ[\"wikidata_preprocessed\"] is not None:\n",
        "        pass  \n",
        "except:\n",
        "      !mkdir wikidumps\n",
        "      !gsutil cp gs://{data_bucket_name}/multistream1_preprocessed.parquet \"wikidumps/\" \n"
      ],
      "execution_count": 221,
      "outputs": [
        {
          "output_type": "stream",
          "name": "stdout",
          "text": [
            "Updated property [core/project].\n",
            "\u001b[1;33mWARNING:\u001b[0m You do not appear to have access to project [core-period-321814] or it does not exist.\n",
            "mkdir: cannot create directory ‘wikidumps’: File exists\n",
            "Copying gs://wikidata_preprocessed/multistream1_preprocessed.parquet...\n",
            "- [1 files][316.7 MiB/316.7 MiB]                                                \n",
            "Operation completed over 1 objects/316.7 MiB.                                    \n"
          ]
        }
      ]
    },
    {
      "cell_type": "markdown",
      "metadata": {
        "id": "_GU4djg6yizh"
      },
      "source": [
        "# Processing wikipedia"
      ]
    },
    {
      "cell_type": "markdown",
      "metadata": {
        "id": "uF9ywiIC-sAX"
      },
      "source": [
        "Now that we completed the setup and have some data in our local environment, we are ready to process it using PySpark. "
      ]
    },
    {
      "cell_type": "markdown",
      "metadata": {
        "id": "tkEUicVTzDZd"
      },
      "source": [
        "## A 2-minute intro to PySpark"
      ]
    },
    {
      "cell_type": "markdown",
      "metadata": {
        "id": "6GVQMbCtzWI2"
      },
      "source": [
        "One of the fundamental data structures in spark is a **Resillient Distributed Dataset (RDD)**. It is an immutable distributed collections of objects that are partitioned across machines, and thus making parallel processing natural and easy. RDD's support two types of operations: *transformations* (e.g. selecting a subset of fields from each element or projecting each element from A->B), and *actions* (e.g. save to disk or `collect` elements into the master node's memory). Watch out for `collect` operations that send too much data to the master node, it will crash without a trace because of running out of memory. \n",
        "\n",
        "Spark employs **lazy-evaluation** (like many of us...), meaning that it accumulates things we ask it to do into an execution plan, but doesn't do any calculation until a result is actually needed. When a result is needed? when we save something to disk, ask spark to show the data, or use other actions. But make no mistakes, Spark is not a slacker. It employs lazy-evaluation because it allows optimizations that wouldn't be possible otherwise and it often saves users from unnecessary data reads, tranfers across machines, and other costly operations. As we will see in a bit, the RDD data structure lends itself to simple and efficient MapReduce operations."
      ]
    },
    {
      "cell_type": "markdown",
      "metadata": {
        "id": "5aQwbFGxPb4D"
      },
      "source": [
        "Let's look at our data before transforming it to RDD."
      ]
    },
    {
      "cell_type": "code",
      "metadata": {
        "deletable": false,
        "editable": false,
        "id": "24AI2jXgOuVN",
        "nbgrader": {
          "cell_type": "code",
          "checksum": "cf07662ebf5f21f0f3bb8d43ee5aa50f",
          "grade": false,
          "grade_id": "cell-b34211e3350164ca",
          "locked": true,
          "schema_version": 3,
          "solution": false,
          "task": false
        },
        "colab": {
          "base_uri": "https://localhost:8080/"
        },
        "outputId": "5a9791a1-9294-4687-9a2b-f8e4fac8c545"
      },
      "source": [
        "from pathlib import Path \n",
        "import os\n",
        "\n",
        "try:\n",
        "    if os.environ[\"wikidata_preprocessed\"] is not None:\n",
        "      path = os.environ[\"wikidata_preprocessed\"]+\"/wikidumps/*\"\n",
        "except:\n",
        "      path = \"wikidumps/*\"\n",
        "\n",
        "parquetFile = spark.read.parquet(path)\n",
        "parquetFile.show()"
      ],
      "execution_count": 222,
      "outputs": [
        {
          "output_type": "stream",
          "name": "stdout",
          "text": [
            "+---+--------------------+--------------------+--------------------+\n",
            "| id|               title|                text|         anchor_text|\n",
            "+---+--------------------+--------------------+--------------------+\n",
            "| 12|           Anarchism|'''Anarchism''' i...|[{23040, politica...|\n",
            "| 25|              Autism|'''Autism''' is a...|[{492271, Clinica...|\n",
            "| 39|              Albedo|thumb|upright=1.3...|[{679294, diffuse...|\n",
            "|290|                   A|'''A''', or '''a'...|[{290, See below}...|\n",
            "|303|             Alabama|'''Alabama''' () ...|[{351590, Yellowh...|\n",
            "|305|            Achilles|thumb|260px|Ancie...|[{1076007, potter...|\n",
            "|307|     Abraham Lincoln|'''Abraham Lincol...|[{1827174, Alexan...|\n",
            "|308|           Aristotle|'''Aristotle''' (...|[{1389981, bust},...|\n",
            "|309|An American in Paris|'''''An American ...|[{13066, George G...|\n",
            "|316|Academy Award for...|The '''Academy Aw...|[{39842, Academy ...|\n",
            "|324|      Academy Awards|The '''Academy Aw...|[{649481, film in...|\n",
            "|330|             Actrius|'''''Actresses'''...|[{5282, Catalan},...|\n",
            "|332|     Animalia (book)|'''''Animalia''''...|[{2511084, Graeme...|\n",
            "|334|International Ato...|'''International ...|[{25453985, atomi...|\n",
            "|336|            Altruism|thumb|Giving alms...|[{657573, alms}, ...|\n",
            "|339|            Ayn Rand|'''Alice O'Connor...|[{24320051, St. P...|\n",
            "|340|        Alain Connes|'''Alain Connes''...|[{1201522, Dragui...|\n",
            "|344|          Allan Dwan|'''Allan Dwan''' ...|[{64646, Toronto}...|\n",
            "|358|             Algeria|'''Algeria''', of...|[{803, Arabic}, {...|\n",
            "|359|List of Atlas Shr...|This is a list of...|[{339, Ayn Rand},...|\n",
            "+---+--------------------+--------------------+--------------------+\n",
            "only showing top 20 rows\n",
            "\n"
          ]
        }
      ]
    },
    {
      "cell_type": "code",
      "metadata": {
        "deletable": false,
        "editable": false,
        "id": "KMcsrc8RO9kn",
        "nbgrader": {
          "cell_type": "code",
          "checksum": "9f6dbcc85fde698083cc613e0cc1aaef",
          "grade": false,
          "grade_id": "cell-59e4fe49688570ce",
          "locked": true,
          "schema_version": 3,
          "solution": false,
          "task": false
        }
      },
      "source": [
        "# take the 'text' and 'id' or the first 1000 rows and create an RDD from it\n",
        "total_number_of_docs_N = parquetFile.count()\n",
        "doc_text_pairs = parquetFile.limit(1000).select(\"text\", \"id\").rdd # Remark text is not enought. what about anchor and title?\n",
        "# Remark! we can get the amount of documents in the corpus here. (N)"
      ],
      "execution_count": 223,
      "outputs": []
    },
    {
      "cell_type": "markdown",
      "metadata": {
        "id": "__g69rcETm4w"
      },
      "source": [
        "## Word counts"
      ]
    },
    {
      "cell_type": "markdown",
      "metadata": {
        "id": "-zUibXvjWb6Q"
      },
      "source": [
        "### Term frequency"
      ]
    },
    {
      "cell_type": "markdown",
      "metadata": {
        "id": "UrBuHUHmA5pP"
      },
      "source": [
        "**YOUR TASK (10 POINTS):** Complete the implementation of `word_count`, which calculates the term-frequency (tf) for each word in a single document.  map function. The functions gets the text and the wiki id, calculates the tf and returns list of tuples in the form of (token, (wiki_id, tf))."
      ]
    },
    {
      "cell_type": "code",
      "metadata": {
        "deletable": false,
        "id": "9GmPedzexLyt",
        "nbgrader": {
          "cell_type": "code",
          "checksum": "27318e0e7bdcd4384f38fbce1f52996a",
          "grade": false,
          "grade_id": "cell-6b21d53c0afef4f6",
          "locked": false,
          "schema_version": 3,
          "solution": true,
          "task": false
        }
      },
      "source": [
        "english_stopwords = frozenset(stopwords.words('english'))\n",
        "corpus_stopwords = ['category', 'references', 'also', 'links', 'extenal', 'see', 'thumb']\n",
        "RE_WORD = re.compile(r\"\"\"[\\#\\@\\w](['\\-]?\\w){2,24}\"\"\", re.UNICODE)\n",
        "### Remark! understand tokenizing? change it?\n",
        "\n",
        "all_stopwords = english_stopwords.union(corpus_stopwords)\n",
        "\n",
        "def word_count(text, id):\n",
        "  ''' Count the frequency of each word in `text` (tf) that is not included in \n",
        "  `all_stopwords` and return entries that will go into our posting lists. \n",
        "  Parameters:\n",
        "  -----------\n",
        "    text: str\n",
        "      Text of one document\n",
        "    id: int\n",
        "      Document id\n",
        "  Returns: shahar likes studying\n",
        "  --------\n",
        "    List of tuples\n",
        "      A list of (token, (doc_id, tf)) pairs \n",
        "      for example: [(\"Anarchism\", (12, 5)), ...]\n",
        "  '''\n",
        "\n",
        "  #\n",
        "  # Remark! Stemming? Word embedding???\n",
        "  #\n",
        "  tokens = [token.group() for token in RE_WORD.finditer(text.lower())]\n",
        "  # YOUR CODE HERE\n",
        "  clear_tokens = [token for token in tokens if token not in all_stopwords]\n",
        "  ### Remark! Stem clear_tokens? ### \n",
        "  dic = {}\n",
        "  for clear_tok in clear_tokens:\n",
        "    if clear_tok in dic:\n",
        "      dic[clear_tok] += 1\n",
        "    else:\n",
        "      dic[clear_tok] = 1\n",
        "  return [(k, (id, v)) for k,v in dic.items()]    \n",
        "  #raise NotImplementedError()"
      ],
      "execution_count": 224,
      "outputs": []
    },
    {
      "cell_type": "code",
      "metadata": {
        "deletable": false,
        "editable": false,
        "id": "RLqHPKUvbT8R",
        "nbgrader": {
          "cell_type": "code",
          "checksum": "f87a2c3f96e1be68b55c7bdc528c9b70",
          "grade": true,
          "grade_id": "cell-078c69c116c8dc58",
          "locked": true,
          "points": 10,
          "schema_version": 3,
          "solution": false,
          "task": false
        }
      },
      "source": [
        "# test for word count\n",
        "text = \"This is a test to check the words count function actually count words\"\n",
        "id = 0\n",
        "word_count_results = word_count(text, id)\n",
        "assert word_count_results[0][0] == 'test'\n",
        "assert len(word_count_results) == 6\n",
        "assert word_count_results[2][1][1] == word_count_results[2][1][1]\n",
        "assert type(word_count_results[0][0]) == str\n",
        "assert type(word_count_results[0][1]) == tuple\n"
      ],
      "execution_count": 225,
      "outputs": []
    },
    {
      "cell_type": "markdown",
      "metadata": {
        "id": "MNC7QlO8KZL_"
      },
      "source": [
        "PySpark has a `map` trasformation that, just like we learned in class about Map in MapReduce, executes a given function on each element of an  RDD. It also has a `flatMap()` transformation that executes a given function on each element of an RDD, but afterwards flattens the results to create one big \"list\" instead multiple nested lists. For example, `flatMap` on the above `word_count` function will concatenate the tokens from multiple document into one big list rather than keeping separate list of tokens for each document like a regular `map` would produce. "
      ]
    },
    {
      "cell_type": "code",
      "metadata": {
        "deletable": false,
        "editable": false,
        "id": "g3DUXXzxsy-B",
        "nbgrader": {
          "cell_type": "code",
          "checksum": "1b9779ec6b1e9dc06e41ea10fd7c259a",
          "grade": false,
          "grade_id": "cell-340917ce88e0d116",
          "locked": true,
          "schema_version": 3,
          "solution": false,
          "task": false
        },
        "colab": {
          "base_uri": "https://localhost:8080/"
        },
        "outputId": "d86197a3-e910-4e21-cd36-ae9723d305fc"
      },
      "source": [
        "# Remark!\n",
        "# 1) get rdd of documents without stopwords\n",
        "# 2) get rdd of each document and it's size (doc length) (di)\n",
        "# 3) do word_count, without flatting, to get documents tf vector. (f_(i,j))\n",
        "# 4) get word_counts - df (posting list length) !!! do after reducing, 3 blocks down!!!\n",
        "\n",
        "'''\n",
        "Map: \n",
        "doc1 -> chocolate, (1, 10), shahar, (1, 15)\n",
        "doc2 -> chocolate, (2, 5)\n",
        "FlatMap:\n",
        "chocolate, (1,10), shahar, (1,15), chocolate, (2, 5)\n",
        "Reduce:\n",
        "chocolate, [(1,10), (2,5)], shahar(1,15)\n",
        "'''\n",
        "def our_sum(lst):\n",
        "  summ = 0\n",
        "  for i in lst:\n",
        "    summ+=i\n",
        "  return summ\n",
        "\n",
        "doc_tf_vector = doc_text_pairs.map(lambda x: (x[1], word_count(x[0], x[1]))) \n",
        "print(doc_tf_vector.take(1))\n",
        "doc_len = doc_tf_vector.map(lambda x: (x[0], our_sum([i[1][1] for i in x[1]]))) ## Di # 2 # key = dicId!!! value = doc len\n",
        "print(doc_len.take(1))\n",
        "\n",
        "doc_tf_unnormalized = doc_tf_vector.map(lambda x:(x[0], [(i[0],i[1][1]) for i in x[1]])) ## f_(i,j) # 3 # key = docId!!! value = tf vector\n",
        "print(doc_tf_unnormalized.take(1))\n",
        "\n",
        "\n",
        "word_counts = doc_text_pairs.flatMap(lambda x: word_count(x[0], x[1]))\n",
        "\n"
      ],
      "execution_count": 226,
      "outputs": [
        {
          "output_type": "stream",
          "name": "stdout",
          "text": [
            "[(12, [('anarchism', (12, 125)), ('political', (12, 26)), ('philosophy', (12, 6)), ('movement', (12, 23)), ('sceptical', (12, 1)), ('authority', (12, 18)), ('rejects', (12, 1)), ('involuntary', (12, 1)), ('coercive', (12, 2)), ('forms', (12, 9)), ('hierarchy', (12, 4)), ('calls', (12, 3)), ('abolition', (12, 3)), ('state', (12, 50)), ('holds', (12, 2)), ('undesirable', (12, 1)), ('unnecessary', (12, 1)), ('harmful', (12, 1)), ('historically', (12, 3)), ('far-left', (12, 2)), ('usually', (12, 4)), ('described', (12, 2)), ('alongside', (12, 5)), ('libertarian', (12, 14)), ('marxism', (12, 6)), ('wing', (12, 3)), ('socialism', (12, 15)), ('socialist', (12, 14)), ('strong', (12, 2)), ('historical', (12, 4)), ('association', (12, 5)), ('anti-capitalism', (12, 3)), ('history', (12, 5)), ('anarchy', (12, 9)), ('goes', (12, 1)), ('back', (12, 2)), ('prehistory', (12, 1)), ('humans', (12, 4)), ('arguably', (12, 1)), ('lived', (12, 1)), ('anarchic', (12, 2)), ('societies', (12, 2)), ('long', (12, 2)), ('establishment', (12, 3)), ('formal', (12, 3)), ('states', (12, 8)), ('realms', (12, 1)), ('empires', (12, 1)), ('rise', (12, 1)), ('organised', (12, 2)), ('hierarchical', (12, 3)), ('bodies', (12, 1)), ('scepticism', (12, 1)), ('toward', (12, 3)), ('rose', (12, 1)), ('19th', (12, 6)), ('century', (12, 20)), ('self-conscious', (12, 1)), ('emerged', (12, 3)), ('latter', (12, 2)), ('half', (12, 2)), ('first', (12, 13)), ('decades', (12, 3)), ('20th', (12, 8)), ('anarchist', (12, 89)), ('flourished', (12, 2)), ('parts', (12, 1)), ('world', (12, 13)), ('significant', (12, 8)), ('role', (12, 6)), ('workers', (12, 11)), ('struggles', (12, 1)), ('emancipation', (12, 1)), ('various', (12, 15)), ('schools', (12, 13)), ('thought', (12, 12)), ('formed', (12, 5)), ('period', (12, 3)), ('anarchists', (12, 70)), ('taken', (12, 4)), ('part', (12, 8)), ('several', (12, 3)), ('revolutions', (12, 2)), ('notably', (12, 2)), ('spanish', (12, 4)), ('civil', (12, 5)), ('war', (12, 11)), ('whose', (12, 6)), ('end', (12, 5)), ('marked', (12, 1)), ('classical', (12, 14)), ('era', (12, 12)), ('last', (12, 2)), ('21st', (12, 3)), ('resurgent', (12, 1)), ('employs', (12, 1)), ('diversity', (12, 2)), ('tactics', (12, 15)), ('order', (12, 3)), ('meet', (12, 1)), ('ideal', (12, 8)), ('ends', (12, 4)), ('broadly', (12, 1)), ('separated', (12, 1)), ('revolutionary', (12, 10)), ('evolutionary', (12, 5)), ('overlap', (12, 2)), ('two', (12, 7)), ('merely', (12, 2)), ('descriptive', (12, 1)), ('aim', (12, 4)), ('bring', (12, 2)), ('violent', (12, 6)), ('turn', (12, 5)), ('past', (12, 2)), ('prefigure', (12, 1)), ('society', (12, 23)), ('would', (12, 14)), ('like', (12, 1)), ('criticism', (12, 10)), ('praxis', (12, 2)), ('played', (12, 1)), ('diverse', (12, 4)), ('areas', (12, 2)), ('human', (12, 9)), ('criticisms', (12, 1)), ('include', (12, 6)), ('claims', (12, 4)), ('internally', (12, 1)), ('inconsistent', (12, 1)), ('utopian', (12, 3)), ('etymology', (12, 2)), ('terminology', (12, 1)), ('definition', (12, 4)), ('wilhelm', (12, 2)), ('weitling', (12, 2)), ('example', (12, 3)), ('writer', (12, 1)), ('added', (12, 1)), ('theory', (12, 10)), ('without', (12, 10)), ('using', (12, 1)), ('exact', (12, 1)), ('term', (12, 4)), ('etymological', (12, 1)), ('origin', (12, 1)), ('ancient', (12, 2)), ('greek', (12, 1)), ('anarkhia', (12, 1)), ('meaning', (12, 3)), ('ruler', (12, 3)), ('composed', (12, 2)), ('prefix', (12, 1)), ('word', (12, 1)), ('arkhos', (12, 1)), ('leader', (12, 2)), ('suffix', (12, 1)), ('ism', (12, 1)), ('denotes', (12, 1)), ('ideological', (12, 2)), ('current', (12, 6)), ('favours', (12, 2)), ('appears', (12, 1)), ('english', (12, 2)), ('1642', (12, 1)), ('anarchisme', (12, 1)), ('1539', (12, 1)), ('early', (12, 6)), ('usages', (12, 1)), ('emphasised', (12, 1)), ('sense', (12, 3)), ('disorder', (12, 1)), ('factions', (12, 2)), ('within', (12, 12)), ('french', (12, 6)), ('revolution', (12, 10)), ('labelled', (12, 1)), ('opponents', (12, 1)), ('although', (12, 7)), ('accused', (12, 1)), ('shared', (12, 2)), ('many', (12, 16)), ('views', (12, 3)), ('later', (12, 6)), ('revolutionaries', (12, 2)), ('william', (12, 6)), ('godwin', (12, 4)), ('1756', (12, 1)), ('1836', (12, 1)), ('1808', (12, 1)), ('1871', (12, 2)), ('contribute', (12, 1)), ('doctrines', (12, 2)), ('next', (12, 1)), ('generation', (12, 1)), ('use', (12, 7)), ('describing', (12, 1)), ('beliefs', (12, 2)), ('philosopher', (12, 3)), ('call', (12, 2)), ('pierre-joseph', (12, 5)), ('proudhon', (12, 6)), ('1809', (12, 1)), ('1865', (12, 1)), ('marking', (12, 1)), ('birth', (12, 2)), ('mid-19th', (12, 1)), ('since', (12, 4)), ('1890s', (12, 2)), ('beginning', (12, 2)), ('france', (12, 3)), ('libertarianism', (12, 4)), ('often', (12, 6)), ('used', (12, 5)), ('synonym', (12, 3)), ('still', (12, 5)), ('common', (12, 8)), ('outside', (12, 1)), ('united', (12, 4)), ('hand', (12, 4)), ('refer', (12, 2)), ('individualistic', (12, 1)), ('free-market', (12, 2)), ('referring', (12, 2)), ('largely', (12, 6)), ('synonymous', (12, 1)), ('recently', (12, 1)), ('diluted', (12, 1)), ('wider', (12, 3)), ('adoption', (12, 1)), ('ideologically', (12, 3)), ('disparate', (12, 2)), ('groups', (12, 14)), ('including', (12, 3)), ('new', (12, 7)), ('left', (12, 7)), ('marxists', (12, 4)), ('associate', (12, 1)), ('authoritarian', (12, 2)), ('socialists', (12, 3)), ('vanguard', (12, 1)), ('party', (12, 2)), ('well', (12, 4)), ('extreme', (12, 2)), ('liberals', (12, 3)), ('primarily', (12, 2)), ('concerned', (12, 1)), ('liberties', (12, 1)), ('additionally', (12, 1)), ('avoid', (12, 1)), (\"anarchism's\", (12, 4)), ('negative', (12, 2)), ('connotations', (12, 1)), ('emphasise', (12, 2)), ('connections', (12, 1)), ('matthew', (12, 1)), ('adams', (12, 1)), ('carl', (12, 1)), ('levy', (12, 1)), ('write', (12, 1)), ('describe', (12, 3)), ('anti-authoritarian', (12, 3)), ('noam', (12, 1)), ('chomsky', (12, 1)), ('describes', (12, 1)), ('daniel', (12, 1)), ('guérin', (12, 1)), ('wrote', (12, 3)), ('narchism', (12, 1)), ('really', (12, 1)), ('abolish', (12, 3)), ('exploitation', (12, 1)), ('man', (12, 2)), ('one', (12, 9)), ('streams', (12, 1)), ('stream', (12, 1)), ('main', (12, 2)), ('components', (12, 1)), ('concern', (12, 2)), ('liberty', (12, 7)), ('haste', (12, 1)), ('opposition', (12, 3)), ('central', (12, 3)), ('defining', (12, 1)), ('easy', (12, 1)), ('task', (12, 1)), ('lot', (12, 1)), ('discussion', (12, 3)), ('among', (12, 17)), ('scholars', (12, 2)), ('matter', (12, 1)), ('currents', (12, 15)), ('perceive', (12, 1)), ('slightly', (12, 1)), ('differently', (12, 2)), ('hence', (12, 2)), ('might', (12, 1)), ('true', (12, 2)), ('say', (12, 2)), ('cluster', (12, 1)), ('philosophies', (12, 2)), ('opposing', (12, 2)), ('organisation', (12, 2)), ('capitalism', (12, 11)), ('nationalism', (12, 3)), ('associated', (12, 6)), ('institutions', (12, 7)), ('conduct', (12, 1)), ('relations', (12, 2)), ('favour', (12, 1)), ('based', (12, 9)), ('decentralisation', (12, 2)), ('freedom', (12, 4)), ('voluntary', (12, 3)), ('however', (12, 11)), ('shortcomings', (12, 1)), ('anti-authoritarianism', (12, 2)), ('posteriori', (12, 1)), ('conclusion', (12, 2)), ('anti-statism', (12, 1)), ('much', (12, 4)), ('simply', (12, 1)), ('negation', (12, 1)), ('nonetheless', (12, 3)), ('major', (12, 8)), ('elements', (12, 1)), ('non-coercive', (12, 2)), ('rejection', (12, 2)), ('apparatus', (12, 1)), ('belief', (12, 4)), ('nature', (12, 4)), ('allows', (12, 1)), ('exist', (12, 4)), ('progress', (12, 2)), ('suggestion', (12, 1)), ('act', (12, 6)), ('pursue', (12, 1)), ('herbert', (12, 3)), ('osgood', (12, 1)), ('claimed', (12, 1)), ('antithesis', (12, 1)), ('communism', (12, 5)), ('peter', (12, 6)), ('marshall', (12, 1)), ('general', (12, 4)), ('closer', (12, 2)), ('liberalism', (12, 3)), ('finds', (12, 2)), ('camp', (12, 1)), ('outriders', (12, 1)), ('cannot', (12, 4)), ('reduced', (12, 1)), ('best', (12, 1)), ('seen', (12, 4)), ('separate', (12, 1)), ('distinctive', (12, 1)), ('doctrine', (12, 2)), ('according', (12, 8)), ('jeremy', (12, 1)), ('jennings', (12, 2)), ('hard', (12, 1)), ('conclude', (12, 1)), ('ideas', (12, 7)), ('anarcho-capitalism', (12, 2)), ('basis', (12, 1)), ('misunderstanding', (12, 1)), ('adds', (12, 1)), ('stand', (12, 1)), ('untrammelled', (12, 1)), ('individual', (12, 13)), ('anarcho-capitalists', (12, 1)), ('appear', (12, 1)), ('believe', (12, 2)), ('already', (12, 1)), ('extension', (12, 2)), ('individuality', (12, 2)), ('community', (12, 5)), ('nicolas', (12, 1)), ('walter', (12, 1)), ('derive', (12, 1)), ('always', (12, 2)), ('remain', (12, 1)), ('whenever', (12, 1)), ('reject', (12, 3)), ('good', (12, 2)), ('either', (12, 1)), ('betray', (12, 1)), ('michael', (12, 2)), ('newman', (12, 1)), ('includes', (12, 2)), ('traditions', (12, 6)), ('especially', (12, 7)), ('socialist-aligned', (12, 1)), ('tradition', (12, 4)), ('following', (12, 6)), ('mikhail', (12, 4)), ('bakunin', (12, 6)), ('brian', (12, 1)), ('morriss', (12, 1)), ('argues', (12, 3)), ('conceptually', (12, 1)), ('misleading', (12, 1)), ('create', (12, 4)), ('dichotomy', (12, 1)), ('pre-modern', (12, 1)), ('upright', (12, 5)), ('zeno', (12, 1)), ('citium', (12, 1)), ('334', (12, 1)), ('262', (12, 1)), ('republic', (12, 1)), ('inspired', (12, 1)), ('kropotkin', (12, 6)), ('prehistoric', (12, 1)), ('mankind', (12, 1)), ('established', (12, 8)), ('creation', (12, 2)), ('towns', (12, 1)), ('cities', (12, 1)), ('anarchistic', (12, 4)), ('espoused', (12, 3)), ('reaction', (12, 3)), ('notable', (12, 2)), ('precursors', (12, 1)), ('china', (12, 3)), ('greece', (12, 3)), ('philosophical', (12, 15)), ('legitimacy', (12, 2)), ('delineated', (12, 1)), ('taoist', (12, 1)), ('philosophers', (12, 2)), ('zhuang', (12, 1)), ('zhou', (12, 1)), ('laozi', (12, 1)), ('stoicism', (12, 1)), ('taoism', (12, 1)), ('said', (12, 1)), ('anticipations', (12, 1)), ('attitudes', (12, 4)), ('articulated', (12, 2)), ('tragedians', (12, 1)), ('aeschylus', (12, 1)), ('sophocles', (12, 1)), ('myth', (12, 1)), ('antigone', (12, 1)), ('illustrate', (12, 1)), ('conflict', (12, 2)), ('rules', (12, 1)), ('set', (12, 3)), ('personal', (12, 2)), ('autonomy', (12, 12)), ('socrates', (12, 1)), ('questioned', (12, 1)), ('athenian', (12, 1)), ('authorities', (12, 3)), ('constantly', (12, 1)), ('insisted', (12, 1)), ('right', (12, 4)), ('conscience', (12, 1)), ('cynics', (12, 1)), ('dismissed', (12, 1)), ('law', (12, 3)), ('nomos', (12, 1)), ('trying', (12, 1)), ('live', (12, 1)), ('physis', (12, 1)), ('stoics', (12, 1)), ('supportive', (12, 2)), ('unofficial', (12, 1)), ('friendly', (12, 1)), ('citizens', (12, 2)), ('presence', (12, 2)), ('middle', (12, 1)), ('ages', (12, 1)), ('activity', (12, 1)), ('except', (12, 2)), ('ascetic', (12, 1)), ('religious', (12, 3)), ('movements', (12, 12)), ('muslim', (12, 1)), ('christian', (12, 2)), ('europe', (12, 5)), ('kind', (12, 1)), ('gave', (12, 1)), ('sasanian', (12, 1)), ('empire', (12, 1)), ('mazdak', (12, 1)), ('called', (12, 3)), ('egalitarian', (12, 1)), ('monarchy', (12, 2)), ('soon', (12, 1)), ('executed', (12, 1)), ('emperor', (12, 1)), ('kavad', (12, 1)), ('basra', (12, 1)), ('sects', (12, 2)), ('preached', (12, 1)), ('developed', (12, 6)), ('anti-state', (12, 2)), ('tendencies', (12, 7)), ('renaissance', (12, 1)), ('spread', (12, 4)), ('humanism', (12, 2)), ('rationalism', (12, 1)), ('reasoning', (12, 2)), ('novelists', (12, 1)), ('fictionalised', (12, 1)), ('voluntarism', (12, 1)), ('rather', (12, 7)), ('coercion', (12, 4)), ('age', (12, 3)), ('enlightenment', (12, 1)), ('pushed', (12, 1)), ('towards', (12, 8)), ('optimism', (12, 1)), ('social', (12, 15)), ('modern', (12, 2)), ('partisan', (12, 1)), ('enragés', (12, 1)), ('saw', (12, 6)), ('turning', (12, 1)), ('point', (12, 3)), ('fermentation', (12, 1)), ('federalist', (12, 1)), ('sentiments', (12, 1)), ('throughout', (12, 2)), ('18th', (12, 1)), ('england', (12, 2)), ('morally', (12, 3)), ('delegitimising', (12, 1)), ('max', (12, 3)), (\"stirner's\", (12, 1)), ('thinking', (12, 2)), ('paved', (12, 1)), ('way', (12, 6)), ('individualism', (12, 4)), (\"proudhon's\", (12, 2)), ('mutualism', (12, 7)), ('found', (12, 3)), ('fertile', (12, 1)), ('soil', (12, 1)), ('late', (12, 6)), ('1870s', (12, 2)), ('become', (12, 2)), ('well-defined', (12, 1)), ('wave', (12, 4)), ('unprecedented', (12, 2)), ('globalization', (12, 1)), ('occurred', (12, 1)), ('1880', (12, 1)), ('1914', (12, 1)), ('lasted', (12, 1)), ('considered', (12, 2)), ('golden', (12, 1)), ('opposed', (12, 4)), ('marxist', (12, 5)), ('dictatorship', (12, 2)), ('proletariat', (12, 2)), ('allied', (12, 2)), ('federalists', (12, 1)), ('international', (12, 11)), ('expulsion', (12, 2)), ('drawing', (12, 2)), ('founded', (12, 2)), ('collectivist', (12, 7)), ('entered', (12, 1)), (\"workingmen's\", (12, 1)), ('class', (12, 8)), ('worker', (12, 2)), ('union', (12, 2)), ('known', (12, 8)), ('1864', (12, 1)), ('unite', (12, 1)), ('became', (12, 8)), ('force', (12, 2)), ('karl', (12, 1)), ('marx', (12, 1)), ('leading', (12, 5)), ('figure', (12, 1)), ('member', (12, 4)), ('council', (12, 1)), (\"bakunin's\", (12, 1)), ('faction', (12, 1)), ('jura', (12, 1)), ('federation', (12, 4)), ('followers', (12, 1)), ('mutualists', (12, 1)), ('advocating', (12, 2)), ('abstentionism', (12, 1)), ('small', (12, 8)), ('property', (12, 4)), ('holdings', (12, 1)), ('bitter', (12, 3)), ('disputes', (12, 1)), ('bakuninists', (12, 1)), ('expelled', (12, 2)), ('1872', (12, 1)), ('hague', (12, 1)), ('congress', (12, 1)), ('treated', (12, 1)), ('similarly', (12, 2)), ('second', (12, 4)), ('ultimately', (12, 2)), ('1896', (12, 1)), ('famously', (12, 1)), ('predicted', (12, 1)), ('gained', (12, 1)), ('power', (12, 6)), (\"marx's\", (12, 1)), ('terms', (12, 2)), ('tyrants', (12, 1)), ('response', (12, 3)), ('imier', (12, 1)), ('influence', (12, 2)), ('russian', (12, 3)), ('scientist', (12, 1)), ('anarcho-communism', (12, 5)), ('overlapped', (12, 1)), ('collectivism', (12, 3)), ('anarcho-communists', (12, 2)), ('drew', (12, 1)), ('inspiration', (12, 2)), ('paris', (12, 2)), ('commune', (12, 2)), ('advocated', (12, 3)), ('free', (12, 20)), ('distribution', (12, 2)), ('goods', (12, 2)), (\"one's\", (12, 2)), ('needs', (12, 2)), ('feature', (12, 1)), ('syndicalism', (12, 3)), ('students', (12, 2)), ('imported', (12, 1)), ('humanistic', (12, 1)), ('pro-science', (12, 1)), ('version', (12, 1)), ('tokyo', (12, 1)), ('hotspot', (12, 1)), ('rebellious', (12, 1)), ('youth', (12, 1)), ('countries', (12, 3)), ('far', (12, 1)), ('east', (12, 1)), ('travelling', (12, 1)), ('japanese', (12, 1)), ('capital', (12, 1)), ('study', (12, 2)), ('latin', (12, 2)), ('america', (12, 2)), ('argentina', (12, 1)), ('stronghold', (12, 1)), ('anarcho-syndicalism', (12, 3)), ('prominent', (12, 7)), ('left-wing', (12, 3)), ('ideology', (12, 2)), ('time', (12, 6)), ('minority', (12, 1)), ('adopted', (12, 4)), ('violence', (12, 11)), ('strategy', (12, 2)), ('propaganda', (12, 3)), ('deed', (12, 2)), ('dismemberment', (12, 1)), ('execution', (12, 1)), ('exile', (12, 1)), ('communards', (12, 1)), ('penal', (12, 1)), ('colonies', (12, 1)), ('suppression', (12, 3)), ('favoured', (12, 2)), ('individualist', (12, 10)), ('expression', (12, 1)), ('acts', (12, 4)), ('even', (12, 4)), ('though', (12, 1)), ('distanced', (12, 2)), ('terrorist', (12, 1)), ('infamy', (12, 1)), ('came', (12, 1)), ('upon', (12, 4)), ('attempts', (12, 3)), ('made', (12, 3)), ('exclude', (12, 1)), ('american', (12, 2)), ('immigration', (12, 2)), ('1903', (12, 1)), ('exclusion', (12, 1)), ('illegalism', (12, 2)), ('another', (12, 6)), ('nestor', (12, 2)), ('makhno', (12, 1)), ('members', (12, 6)), ('insurrectionary', (12, 2)), ('army', (12, 2)), ('ukraine', (12, 3)), ('despite', (12, 3)), ('concerns', (12, 2)), ('enthusiastically', (12, 1)), ('participated', (12, 1)), ('white', (12, 2)), ('met', (12, 2)), ('harsh', (12, 1)), ('bolshevik', (12, 1)), ('government', (12, 8)), ('stabilized', (12, 1)), ('petrograd', (12, 1)), ('moscow', (12, 1)), ('fled', (12, 1)), ('kronstadt', (12, 1)), ('rebellion', (12, 2)), (\"makhno's\", (12, 1)), ('struggle', (12, 2)), ('territory', (12, 1)), ('crushed', (12, 1)), ('russia', (12, 1)), ('antithetical', (12, 1)), ('namely', (12, 4)), ('platformism', (12, 1)), ('synthesis', (12, 2)), ('former', (12, 1)), ('sought', (12, 3)), ('coherent', (12, 1)), ('group', (12, 7)), ('push', (12, 1)), ('anything', (12, 1)), ('resemble', (12, 1)), ('seeing', (12, 3)), ('victories', (12, 1)), ('bolsheviks', (12, 1)), ('october', (12, 1)), ('resulting', (12, 2)), ('activists', (12, 3)), ('turned', (12, 1)), ('communist', (12, 4)), ('parties', (12, 1)), ('grew', (12, 2)), ('expense', (12, 1)), ('syndicalist', (12, 2)), ('confederation', (12, 1)), ('labour', (12, 2)), ('industrial', (12, 1)), ('organisations', (12, 1)), ('joined', (12, 1)), ('1936', (12, 1)), ('syndicalists', (12, 1)), ('cnt', (12, 1)), ('fai', (12, 1)), ('leftists', (12, 1)), ('led', (12, 3)), ('playing', (12, 1)), ('pivotal', (12, 1)), ('anarchist-inspired', (12, 1)), ('peasants', (12, 1)), ('supported', (12, 2)), ('armed', (12, 2)), ('militias', (12, 1)), ('took', (12, 4)), ('control', (12, 3)), ('barcelona', (12, 2)), ('large', (12, 3)), ('rural', (12, 1)), ('spain', (12, 3)), ('collectivised', (12, 1)), ('land', (12, 1)), ('soviet', (12, 1)), ('provided', (12, 1)), ('limited', (12, 3)), ('assistance', (12, 1)), ('result', (12, 2)), ('fight', (12, 1)), ('communists', (12, 1)), ('series', (12, 2)), ('events', (12, 3)), ('named', (12, 1)), ('may', (12, 4)), ('days', (12, 1)), ('joseph', (12, 2)), ('stalin', (12, 1)), ('tried', (12, 1)), ('seize', (12, 1)), ('republicans', (12, 1)), ('post-war', (12, 1)), (\"rojava's\", (12, 1)), ('support', (12, 3)), ('efforts', (12, 1)), ('form', (12, 7)), ('cooperatives', (12, 2)), ('exemplified', (12, 2)), ('sewing', (12, 1)), ('cooperative', (12, 1)), ('severely', (12, 1)), ('weakened', (12, 1)), ('1960s', (12, 2)), ('witnessed', (12, 1)), ('revival', (12, 2)), ('likely', (12, 1)), ('caused', (12, 2)), ('perceived', (12, 1)), ('failure', (12, 2)), ('leninism', (12, 1)), ('tensions', (12, 1)), ('built', (12, 2)), ('cold', (12, 1)), ('critical', (12, 2)), ('anti-nuclear', (12, 1)), ('environmental', (12, 1)), ('peace', (12, 1)), ('counterculture', (12, 1)), ('transition', (12, 1)), ('previous', (12, 1)), ('provocative', (12, 1)), ('anti-capitalist', (12, 3)), ('reformism', (12, 1)), ('punk', (12, 2)), ('subculture', (12, 1)), ('bands', (12, 1)), ('crass', (12, 1)), ('sex', (12, 1)), ('pistols', (12, 1)), ('feminist', (12, 3)), ('anarcha-feminism', (12, 2)), ('returned', (12, 1)), ('vigour', (12, 1)), ('feminism', (12, 3)), ('black', (12, 5)), ('began', (12, 1)), ('take', (12, 4)), ('influenced', (12, 3)), ('move', (12, 1)), ('eurocentric', (12, 1)), ('demographic', (12, 1)), ('coincided', (12, 1)), ('gain', (12, 2)), ('traction', (12, 1)), ('northern', (12, 3)), ('height', (12, 1)), ('around', (12, 2)), ('popularity', (12, 1)), ('anti-war', (12, 1)), ('anti-globalisation', (12, 2)), ('involvement', (12, 2)), ('protests', (12, 6)), ('trade', (12, 2)), ('organization', (12, 1)), ('wto', (12, 2)), ('eight', (12, 1)), ('economic', (12, 7)), ('forum', (12, 1)), ('hoc', (12, 1)), ('leaderless', (12, 2)), ('anonymous', (12, 1)), ('cadres', (12, 1)), ('blocs', (12, 1)), ('engaged', (12, 1)), ('rioting', (12, 1)), ('destruction', (12, 2)), ('confrontations', (12, 2)), ('police', (12, 3)), ('organisational', (12, 2)), ('pioneered', (12, 1)), ('affinity', (12, 2)), ('security', (12, 1)), ('culture', (12, 3)), ('decentralised', (12, 1)), ('technologies', (12, 1)), ('internet', (12, 1)), ('event', (12, 1)), ('1999', (12, 1)), ('seattle', (12, 1)), ('conference', (12, 1)), ('influential', (12, 1)), ('development', (12, 1)), ('zapatistas', (12, 1)), ('mexico', (12, 2)), ('democratic', (12, 2)), ('syria', (12, 2)), ('commonly', (12, 3)), ('rojava', (12, 1)), ('facto', (12, 1)), ('autonomous', (12, 2)), ('region', (12, 1)), ('generally', (12, 2)), ('grouped', (12, 1)), ('owing', (12, 1)), ('different', (12, 3)), ('origins', (12, 1)), ('values', (12, 4)), ('evolution', (12, 1)), ('emphasises', (12, 2)), ('restraints', (12, 1)), ('positive', (12, 1)), ('aiming', (12, 1)), ('achieve', (12, 3)), ('potential', (12, 2)), ('equality', (12, 5)), ('ownership', (12, 3)), ('chronological', (12, 1)), ('segmented', (12, 1)), ('post-classical', (12, 2)), ('green', (12, 2)), ('post-anarchism', (12, 1)), ('thereafter', (12, 1)), ('beyond', (12, 1)), ('specific', (12, 4)), ('constitute', (12, 1)), ('lies', (12, 1)), ('lacks', (12, 2)), ('moral', (12, 6)), ('necessarily', (12, 1)), ('accepting', (12, 1)), ('imperative', (12, 1)), ('eliminate', (12, 1)), ('component', (12, 1)), ('tolerate', (12, 1)), ('existence', (12, 1)), ('minimal', (12, 1)), ('obligation', (12, 1)), ('obey', (12, 1)), ('conflicts', (12, 1)), ('pays', (12, 1)), ('attention', (12, 1)), ('arguments', (12, 3)), ('ethics', (12, 5)), ('emphasis', (12, 1)), ('egalitarianism', (12, 1)), ('sets', (12, 2)), ('apart', (12, 1)), ('types', (12, 2)), ('placed', (12, 1)), ('spectrum', (12, 1)), ('economics', (12, 1)), ('legal', (12, 1)), ('reflect', (12, 3)), ('anti-statist', (12, 1)), ('radical', (12, 3)), ('interpretations', (12, 1)), ('politics', (12, 2)), ('theories', (12, 2)), ('offer', (12, 1)), ('fixed', (12, 1)), ('body', (12, 1)), ('single', (12, 1)), ('particular', (12, 1)), ('worldview', (12, 1)), ('varieties', (12, 1)), ('diverge', (12, 1)), ('widely', (12, 3)), ('sectarianism', (12, 1)), ('milieu', (12, 2)), ('adjectives', (12, 1)), ('toleration', (12, 1)), ('unity', (12, 3)), ('fernando', (12, 1)), ('tarrida', (12, 1)), ('del', (12, 1)), ('mármol', (12, 1)), ('1889', (12, 1)), ('debates', (12, 1)), ('nihilism', (12, 1)), ('separation', (12, 1)), ('distinct', (12, 2)), ('entities', (12, 2)), ('intermingle', (12, 1)), ('connected', (12, 1)), ('uniform', (12, 1)), ('principles', (12, 10)), ('local', (12, 1)), ('mutual', (12, 2)), ('aid', (12, 2)), ('network', (12, 3)), ('communal', (12, 2)), ('democracy', (12, 3)), ('justified', (12, 1)), ('primary', (12, 2)), ('proponent', (12, 2)), ('future', (12, 2)), ('thinkers', (12, 3)), ('inceptive', (12, 1)), ('followed', (12, 1)), ('differ', (12, 2)), ('aspects', (12, 2)), ('18th-century', (12, 1)), ('aims', (12, 4)), ('reciprocity', (12, 1)), ('contract', (12, 1)), ('monetary', (12, 1)), ('reform', (12, 2)), ('credit', (12, 1)), ('currency', (12, 1)), ('regulated', (12, 1)), ('bank', (12, 1)), ('people', (12, 5)), ('retrospectively', (12, 1)), ('characterised', (12, 2)), ('situated', (12, 1)), ('1840', (12, 1)), ('goal', (12, 2)), ('third', (12, 3)), ('advocate', (12, 4)), ('collective', (12, 4)), ('means', (12, 12)), ('production', (12, 3)), ('theorised', (12, 1)), ('achieved', (12, 1)), ('paid', (12, 1)), ('worked', (12, 1)), ('distributed', (12, 1)), ('need', (12, 5)), ('arose', (12, 3)), ('rejected', (12, 1)), ('stated', (12, 1)), ('stateless', (12, 1)), ('advocates', (12, 4)), ('direct', (12, 6)), ('horizontal', (12, 1)), ('associations', (12, 1)), ('councils', (12, 1)), ('consumption', (12, 1)), ('guiding', (12, 1)), ('principle', (12, 5)), ('ability', (12, 4)), ('formulated', (12, 1)), ('italian', (12, 2)), ('section', (12, 1)), ('expanded', (12, 2)), ('theoretical', (12, 1)), ('work', (12, 3)), ('style', (12, 1)), ('onto', (12, 1)), ('dominating', (12, 1)), ('view', (12, 2)), ('branch', (12, 1)), ('syndicates', (12, 1)), ('change', (12, 2)), ('replacing', (12, 1)), ('democratically', (12, 1)), ('self-managed', (12, 2)), ('basic', (12, 1)), ('action', (12, 9)), ('solidarity', (12, 1)), ('self-management', (12, 1)), ('kinds', (12, 3)), ('external', (12, 2)), ('determinants', (12, 1)), ('influences', (12, 1)), ('stirner', (12, 2)), ('henry', (12, 1)), ('david', (12, 1)), ('thoreau', (12, 1)), ('attracted', (12, 1)), ('yet', (12, 1)), ('bohemian', (12, 1)), ('artists', (12, 1)), ('intellectuals', (12, 1)), ('young', (12, 1)), ('outlaws', (12, 1)), ('reclamation', (12, 1)), ('contemporary', (12, 14)), ('lawrence', (12, 1)), ('jarach', (12, 2)), ('john', (12, 4)), ('zerzan', (12, 2)), ('authors', (12, 1)), ('voice', (12, 1)), ('anarcho-primitivism', (12, 2)), ('noted', (12, 1)), ('post-left', (12, 1)), ('undergird', (12, 1)), ('interest', (12, 3)), ('momentum', (12, 1)), ('activist', (12, 1)), ('networks', (12, 2)), ('orientation', (12, 1)), ('shaped', (12, 1)), ('radicalism', (12, 1)), ('embrace', (12, 2)), ('signaled', (12, 1)), ('continued', (12, 1)), ('generate', (12, 1)), ('times', (12, 1)), ('eclectic', (12, 1)), ('sources', (12, 5)), ('syncretic', (12, 1)), ('combining', (12, 1)), ('concepts', (12, 1)), ('approaches', (12, 2)), ('remained', (12, 1)), ('news', (12, 2)), ('coverage', (12, 1)), ('emphasizes', (12, 1)), ('bloc', (12, 3)), ('demonstrations', (12, 3)), ('reinforced', (12, 2)), ('chaos', (12, 1)), ('publicity', (12, 1)), ('fields', (12, 1)), ('anthropology', (12, 1)), ('engage', (12, 3)), ('actions', (12, 4)), ('academic', (12, 2)), ('today', (12, 1)), ('making', (12, 1)), ('difficult', (12, 1)), ('theorists', (12, 1)), ('relatively', (12, 1)), ('stable', (12, 1)), ('constellations', (12, 1)), ('consensus', (12, 6)), ('core', (12, 1)), ('commentators', (12, 1)), ('multiple', (12, 1)), ('anarchisms', (12, 1)), ('singular', (12, 1)), ('prioritizes', (12, 1)), ('gender', (12, 4)), ('ranks', (12, 1)), ('higher', (12, 1)), ('priority', (12, 1)), ('anarcha-feminists', (12, 1)), ('committed', (12, 1)), ('centralized', (12, 1)), ('representative', (12, 1)), ('etc', (12, 3)), ('systems', (12, 1)), ('bolshevism', (12, 1)), ('feudalism', (12, 1)), ('slavery', (12, 1)), ('autocratic', (12, 1)), ('religions', (12, 1)), ('fundamentalist', (12, 1)), ('islam', (12, 1)), ('roman', (12, 1)), ('catholicism', (12, 1)), ('patriarchy', (12, 1)), ('heterosexism', (12, 1)), ('supremacy', (12, 1)), ('imperialism', (12, 1)), ('disagree', (12, 1)), ('methods', (12, 2)), ('equal', (12, 2)), ('transcends', (12, 1)), ('liberal', (12, 1)), ('entails', (12, 1)), ('implemented', (12, 1)), ('questioning', (12, 1)), ('domination', (12, 3)), ('serve', (12, 2)), ('goals', (12, 2)), ('oppose', (12, 3)), ('secondly', (12, 2)), ('promote', (12, 1)), ('vision', (12, 2)), ('illustrating', (12, 1)), ('broad', (12, 1)), ('categorisation', (12, 1)), ('destroy', (12, 1)), ('oppressive', (12, 1)), ('nonviolence', (12, 2)), ('gradual', (12, 1)), ('approach', (12, 3)), ('shifted', (12, 1)), ('course', (12, 1)), ('focused', (12, 1)), ('strikes', (12, 5)), ('militancy', (12, 1)), ('broader', (12, 2)), ('array', (12, 1)), ('relationship', (12, 1)), ('controversial', (12, 2)), ('subject', (12, 2)), ('shown', (12, 1)), ('leon', (12, 1)), ('czolgosz', (12, 1)), ('assassinating', (12, 1)), ('mckinley', (12, 1)), ('militant', (12, 3)), ('tendency', (12, 3)), ('confront', (12, 1)), ('forces', (12, 1)), ('employed', (12, 2)), ('terrorism', (12, 3)), ('assassination', (12, 1)), ('carried', (12, 1)), ('heads', (12, 1)), ('successful', (12, 2)), ('galleanists', (12, 1)), ('believed', (12, 4)), ('impetus', (12, 1)), ('attacks', (12, 1)), ('done', (12, 1)), ('assailants', (12, 1)), ('majority', (12, 1)), ('place', (12, 1)), ('1880s', (12, 1)), ('occurring', (12, 1)), ('1900s', (12, 1)), ('decrease', (12, 1)), ('prevalence', (12, 1)), ('judicial', (12, 1)), ('targeting', (12, 1)), ('cataloging', (12, 1)), ('perspectives', (12, 2)), ('perplexing', (12, 1)), ('anarcho-pacifists', (12, 1)), ('tactic', (12, 2)), ('sabotage', (12, 2)), ('attitude', (12, 1)), ('quite', (12, 2)), ('ago', (12, 1)), ('tyrant', (12, 1)), ('believing', (12, 3)), ('every', (12, 2)), ('oppression', (12, 2)), ('possible', (12, 3)), ('emma', (12, 2)), ('goldman', (12, 2)), ('errico', (12, 1)), ('malatesta', (12, 1)), ('proponents', (12, 1)), ('argued', (12, 4)), ('necessary', (12, 3)), ('evil', (12, 1)), ('active', (12, 1)), ('strike', (12, 1)), ('tended', (12, 1)), ('antipathetic', (12, 1)), ('reformist', (12, 1)), ('overthrow', (12, 1)), ('arts', (12, 3)), ('practiced', (12, 1)), ('naturism', (12, 1)), ('nudism', (12, 1)), ('communities', (12, 1)), ('friendship', (12, 1)), ('involved', (12, 2)), ('media', (12, 1)), ('protesters', (12, 1)), ('parading', (12, 1)), ('imagery', (12, 1)), ('motto', (12, 1)), ('alfredo', (12, 1)), ('bonanno', (12, 2)), ('reinstated', (12, 1)), ('debate', (12, 1)), ('rejecting', (12, 2)), ('afterwards', (12, 1)), ('invisible', (12, 2)), ('committee', (12, 2)), ('informal', (12, 1)), ('affiliation', (12, 1)), ('responsible', (12, 2)), ('works', (12, 1)), ('together', (12, 2)), ('utilizing', (12, 1)), ('enemies', (12, 1)), ('arrested', (12, 2)), ('2008', (12, 1)), ('charges', (12, 1)), ('included', (12, 2)), ('overall', (12, 1)), ('less', (12, 2)), ('ancestors', (12, 1)), ('mostly', (12, 2)), ('confronting', (12, 1)), ('riots', (12, 1)), ('canada', (12, 1)), ('protest', (12, 1)), ('clashing', (12, 1)), ('clash', (12, 1)), ('operators', (12, 1)), ('fascists', (12, 1)), ('racists', (12, 1)), ('taking', (12, 2)), ('anti-fascist', (12, 1)), ('mobilizing', (12, 1)), ('prevent', (12, 1)), ('hate', (12, 1)), ('rallies', (12, 1)), ('happening', (12, 1)), ('employ', (12, 1)), ('disrupting', (12, 1)), ('protesting', (12, 2)), ('unjust', (12, 1)), ('self-managing', (12, 1)), ('lives', (12, 1)), ('counter-institutions', (12, 1)), ('communes', (12, 1)), ('non-hierarchical', (12, 1)), ('collectives', (12, 1)), ('decision-making', (12, 2)), ('handled', (12, 1)), ('everyone', (12, 1)), ('decision', (12, 1)), ('horizontalism', (12, 2)), ('contemporary-era', (12, 1)), ('engaging', (12, 1)), ('grassroots', (12, 1)), ('explicitly', (12, 4)), ('respecting', (12, 1)), ('participating', (12, 1)), ('mass', (12, 1)), ('activism', (12, 2)), ('contrast', (12, 1)), ('big-a', (12, 1)), ('newly', (12, 1)), ('coined', (12, 1)), ('small-a', (12, 1)), ('signals', (12, 1)), ('base', (12, 2)), ('thoughts', (12, 2)), ('classical-era', (12, 1)), ('justify', (12, 1)), ('opinions', (12, 1)), ('experience', (12, 1)), ('theorize', (12, 1)), ('process', (12, 3)), ('plays', (12, 1)), ('tactical', (12, 1)), ('build', (12, 2)), ('rough', (12, 2)), ('play', (12, 1)), ('facilitator', (12, 1)), ('help', (12, 1)), ('promoting', (12, 1)), ('minorities', (12, 1)), ('accept', (12, 1)), ('feel', (12, 1)), ('proposal', (12, 1)), ('contradicts', (12, 1)), ('individuals', (12, 2)), ('enhance', (12, 1)), ('friendships', (12, 1)), ('interconnect', (12, 1)), ('forming', (12, 1)), ('larger', (12, 1)), ('participate', (12, 2)), ('wildcat', (12, 1)), ('centrally', (12, 1)), ('syndicate', (12, 1)), ('newspapers', (12, 1)), ('journals', (12, 1)), ('gone', (12, 1)), ('online', (12, 2)), ('wide', (12, 1)), ('web', (12, 1)), ('message', (12, 1)), ('easier', (12, 1)), ('websites', (12, 1)), ('distributional', (12, 1)), ('difficulties', (12, 1)), ('hosting', (12, 1)), ('electronic', (12, 1)), ('libraries', (12, 1)), ('portals', (12, 1)), ('developing', (12, 3)), ('software', (12, 1)), ('available', (12, 1)), ('hacktivists', (12, 1)), ('develop', (12, 2)), ('distribute', (12, 1)), ('resembles', (12, 1)), ('ideals', (12, 1)), ('comes', (12, 2)), ('preserving', (12, 1)), ('users', (12, 1)), ('privacy', (12, 1)), ('surveillance', (12, 1)), ('organize', (12, 1)), ('squat', (12, 1)), ('reclaim', (12, 1)), ('public', (12, 1)), ('spaces', (12, 3)), ('important', (12, 1)), ('occupied', (12, 1)), ('temporary', (12, 1)), ('zones', (12, 1)), ('taz', (12, 1)), ('art', (12, 7)), ('poetry', (12, 1)), ('surrealism', (12, 1)), ('blended', (12, 1)), ('display', (12, 1)), ('squatting', (12, 1)), ('regain', (12, 1)), ('urban', (12, 1)), ('space', (12, 2)), ('capitalist', (12, 1)), ('market', (12, 1)), ('serving', (12, 1)), ('pragmatical', (12, 1)), ('exemplary', (12, 1)), ('acquiring', (12, 1)), ('enables', (12, 1)), ('experiment', (12, 1)), ('bonds', (12, 1)), ('adding', (12, 1)), ('mind', (12, 1)), ('share', (12, 1)), ('along', (12, 3)), ('highly', (12, 2)), ('symbolic', (12, 1)), ('make', (12, 1)), ('carnivalesque', (12, 1)), ('atmosphere', (12, 1)), ('vividity', (12, 1)), ('key', (12, 1)), ('issues', (12, 1)), ('embodies', (12, 1)), ('disagreement', (12, 1)), ('questions', (12, 1)), ('uses', (12, 1)), ('identical', (12, 1)), ('created', (12, 1)), ('number', (12, 2)), ('definitional', (12, 1)), ('compatibility', (12, 1)), ('religion', (12, 1)), ('disputed', (12, 1)), ('enjoys', (12, 1)), ('complex', (12, 1)), ('relationships', (12, 1)), ('ideologies', (12, 4)), ('unionism', (12, 1)), ('motivated', (12, 1)), ('divine', (12, 1)), ('enlightened', (12, 1)), ('self-interest', (12, 1)), ('veganism', (12, 1)), ('alternative', (12, 1)), ('ethical', (12, 1)), ('phenomena', (12, 1)), ('civilisation', (12, 1)), ('technology', (12, 1)), ('sharply', (12, 1)), ('criticised', (12, 2)), ('simultaneously', (12, 1)), ('lauded', (12, 1)), ('others', (12, 3)), ('sexuality', (12, 4)), ('love', (12, 9)), ('émile', (12, 1)), ('armand', (12, 1)), ('propounded', (12, 1)), ('virtues', (12, 1)), ('parisian', (12, 1)), ('carry', (12, 1)), ('dynamics', (12, 2)), ('obliged', (12, 1)), ('address', (12, 1)), ('analyse', (12, 1)), ('roles', (12, 1)), ('traditionally', (12, 1)), ('impose', (12, 1)), ('collection', (12, 1)), ('anarcha-feminist', (12, 1)), ('symbols', (12, 1)), ('flags', (12, 1)), ('discussed', (12, 1)), ('felt', (12, 1)), ('lead', (12, 3)), ('naturally', (12, 1)), ('sexual', (12, 4)), ('benjamin', (12, 1)), ('tucker', (12, 1)), ('consent', (12, 1)), ('laws', (12, 1)), ('benefit', (12, 1)), ('predatory', (12, 1)), ('men', (12, 3)), ('1890', (12, 1)), ('1920', (12, 1)), ('survives', (12, 1)), ('polyamory', (12, 1)), ('queer', (12, 1)), ('marriage', (12, 3)), ('imposing', (12, 1)), ('women', (12, 2)), ('greatly', (12, 1)), ('notion', (12, 1)), ('critique', (12, 7)), (\"women's\", (12, 1)), ('pleasure', (12, 1)), ('contributed', (12, 1)), ('houses', (12, 1)), ('travelers', (12, 1)), ('slept', (12, 1)), ('beds', (12, 1)), ('roots', (12, 1)), ('struggled', (12, 1)), ('jealousy', (12, 1)), ('feminists', (12, 3)), ('pro-choice', (12, 1)), ('utilising', (12, 1)), ('similar', (12, 3)), ('agenda', (12, 1)), ('non-anarchist', (12, 1)), ('differed', (12, 1)), ('suffrage', (12, 1)), ('intermingled', (12, 1)), ('radicalising', (12, 1)), ('latest', (12, 1)), ('rights', (12, 1)), ('gays', (12, 1)), ('queers', (12, 1)), ('marginalised', (12, 1)), ('suggesting', (12, 2)), ('fusion', (12, 1)), ('identity', (12, 1)), ('compulsory', (12, 1)), ('heterosexuality', (12, 1)), ('yielding', (12, 1)), ('post-structuralist', (12, 1)), ('normality', (12, 1)), ('line', (12, 3)), ('leaned', (12, 2)), ('dropping', (12, 1)), ('cause', (12, 1)), ('liberation', (12, 1)), ('education', (12, 15)), ('statist', (12, 1)), ('educationruth', (12, 1)), ('kinna', (12, 1)), ('2019', (12, 1)), ('educationstate', (12, 1)), ('educationconcept', (12, 1)), ('self-mastery', (12, 1)), ('servicemanagement', (12, 1)), ('runmethods', (12, 1)), ('practice-based', (12, 1)), ('learning', (12, 2)), ('vocational', (12, 1)), ('trainingaims', (12, 1)), ('productive', (12, 1)), ('stretches', (12, 1)), ('emergence', (12, 1)), ('consider', (12, 3)), ('proper', (12, 1)), ('foundations', (12, 1)), ('writers', (12, 2)), ('justice', (12, 2)), ('false', (12, 1)), ('attacked', (12, 1)), ('private', (12, 1)), ('ruling', (12, 3)), ('replicate', (12, 1)), ('privileges', (12, 1)), ('1901', (12, 1)), ('catalan', (12, 1)), ('thinker', (12, 1)), ('francisco', (12, 1)), ('ferrer', (12, 4)), ('escuela', (12, 1)), ('moderna', (12, 1)), ('system', (12, 4)), ('dictated', (12, 1)), ('catholic', (12, 1)), ('church', (12, 2)), (\"ferrer's\", (12, 1)), ('secular', (12, 1)), ('educational', (12, 2)), ('whilst', (12, 2)), ('giving', (12, 1)), ('pupils', (12, 2)), ('amounts', (12, 1)), ('planning', (12, 1)), ('attendance', (12, 1)), ('aimed', (12, 1)), ('educate', (12, 1)), ('working', (12, 1)), ('foster', (12, 1)), ('consciousness', (12, 1)), ('school', (12, 4)), ('closed', (12, 1)), ('constant', (12, 1)), ('harassment', (12, 1)), ('leo', (12, 2)), ('tolstoy', (12, 2)), ('published', (12, 1)), ('essay', (12, 2)), ('founding', (12, 1)), ('effective', (12, 1)), ('token', (12, 1)), ('neill', (12, 1)), ('summerhill', (12, 1)), ('1921', (12, 1)), ('declaring', (12, 1)), ('idea', (12, 3)), (\"child's\", (12, 1)), ('freely', (12, 1)), ('manipulation', (12, 2)), ('ought', (12, 1)), ('respected', (12, 1)), ('rationality', (12, 1)), ('children', (12, 1)), ('conclusions', (12, 1)), ('little', (12, 1)), ('figures', (12, 1)), ('constitutes', (12, 1)), ('indoctrination', (12, 2)), ('taught', (12, 1)), ('critiques', (12, 2)), ('colin', (12, 2)), ('ward', (12, 3)), ('read', (12, 2)), ('paul', (12, 2)), ('goodman', (12, 1)), ('intensified', (12, 1)), ('focusing', (12, 1)), ('focuses', (12, 1)), (\"children's\", (12, 1)), ('creativity', (12, 1)), ('attain', (12, 1)), ('career', (12, 1)), ('consumerism', (12, 1)), ('consumer', (12, 1)), ('serves', (12, 1)), ('perpetuate', (12, 1)), ('socioeconomic', (12, 1)), ('inequality', (12, 1)), ('survived', (12, 1)), ('modern-day', (12, 1)), ('tenets', (12, 1)), ('respect', (12, 1)), ('child', (12, 1)), ('relying', (12, 2)), ('teaching', (12, 1)), ('method', (12, 1)), ('mainstream', (12, 1)), ('judith', (12, 1)), ('suissa', (12, 1)), ('names', (12, 1)), ('three', (12, 3)), ('skool', (12, 1)), ('santa', (12, 1)), ('cruz', (12, 1)), ('american-canadian', (12, 1)), ('college', (12, 1)), ('brighton', (12, 1)), ('paideia', (12, 1)), ('objection', (12, 1)), ('sine', (12, 1)), ('qua', (12, 1)), ('non', (12, 1)), ('tool', (12, 2)), ('illegitimate', (12, 1)), ('regardless', (12, 2)), ('instead', (12, 1)), ('able', (12, 1)), ('life', (12, 2)), ('decisions', (12, 1)), ('elite', (12, 1)), ('rests', (12, 1)), ('solely', (12, 1)), ('whether', (12, 1)), ('open', (12, 1)), ('transparent', (12, 1)), ('coerce', (12, 1)), ('argument', (12, 4)), ('constituting', (12, 1)), ('altruistic', (12, 1)), ('officials', (12, 1)), ('unavoidably', (12, 1)), ('seek', (12, 1)), ('corruption', (12, 1)), ('unachievable', (12, 1)), ('fiction', (12, 2)), ('due', (12, 1)), ('fact', (12, 1)), ('rest', (12, 1)), ('vary', (12, 1)), ('robert', (12, 1)), ('wolff', (12, 1)), ('tension', (12, 1)), ('mean', (12, 1)), ('could', (12, 5)), ('never', (12, 1)), ('legitimate', (12, 3)), ('camouflaged', (12, 1)), ('unceremonious', (12, 1)), ('overt', (12, 1)), ('simmons', (12, 2)), ('leslie', (12, 1)), ('governed', (12, 1)), ('unlikely', (12, 1)), ('340px', (12, 1)), ('les', (12, 2)), ('chataigniers', (12, 2)), ('osny', (12, 2)), ('1888', (12, 1)), ('painter', (12, 2)), ('camille', (12, 2)), ('pissarro', (12, 2)), ('blending', (12, 2)), ('connection', (12, 1)), ('profound', (12, 1)), ('artistic', (12, 1)), ('futurists', (12, 1)), ('surrealists', (12, 1)), ('literature', (12, 1)), ('apocalyptics', (12, 1)), ('neo-romanticism', (12, 1)), ('music', (12, 2)), ('scenes', (12, 1)), ('border', (12, 1)), ('artist', (12, 1)), ('non-artist', (12, 1)), ('separates', (12, 1)), ('daily', (12, 1)), ('construct', (12, 1)), ('produced', (12, 1)), ('alienation', (12, 1)), ('prevents', (12, 1)), ('living', (12, 1)), ('joyful', (12, 1)), ('book', (12, 2)), ('breaking', (12, 1)), ('spell', (12, 1)), ('filmmakers', (12, 1)), ('videotape', (12, 1)), ('guerrillas', (12, 1)), ('digital', (12, 1)), ('ninjas', (12, 1)), ('chris', (12, 1)), ('robé', (12, 1)), ('anarchist-inflected', (12, 1)), ('practices', (12, 1)), ('increasingly', (12, 1)), ('structured', (12, 1)), ('movement-based', (12, 1)), ('video', (12, 1)), ('gustav', (12, 1)), ('landauer', (12, 1)), ('camillo', (12, 1)), ('berneri', (12, 1)), ('publications', (12, 1)), ('matters', (12, 1)), ('pertaining', (12, 1)), ('overlapping', (12, 1)), ('properties', (12, 1)), ('useful', (12, 1)), ('depict', (12, 1)), ('existing', (12, 1)), ('hierarchies', (12, 1)), ('prefigurative', (12, 1)), ('appeals', (12, 1)), ('emotion', (12, 1)), ('reason', (12, 1)), ('appeal', (12, 1)), ('whole', (12, 1)), ('powerful', (12, 1)), ('effect', (12, 1)), ('19th-century', (12, 1)), ('neo-impressionist', (12, 1)), ('ecological', (12, 1)), ('aesthetic', (12, 2)), ('offered', (12, 1)), ('perception', (12, 2)), ('road', (12, 1)), ('harmony', (12, 1)), ('prefiguring', (12, 1)), ('agrarian', (12, 1)), ('bertrand', (12, 2)), ('russell', (12, 2)), ('unable', (12, 1)), ('provide', (12, 1)), ('services', (12, 1)), ('self-govern', (12, 1)), ('survival', (12, 1)), ('stating', (12, 1)), ('eace', (12, 1)), ('tariffs', (12, 1)), ('regulations', (12, 1)), ('sanitary', (12, 1)), ('conditions', (12, 1)), ('sale', (12, 1)), ('noxious', (12, 1)), ('drugs', (12, 1)), ('preservation', (12, 1)), ('functions', (12, 1)), ('hardly', (12, 1)), ('performed', (12, 1)), ('fits', (12, 1)), ('isolation', (12, 1)), ('enough', (12, 1)), ('self-governing', (12, 1)), ('responds', (12, 1)), ('federalism', (12, 1)), ('lecturer', (12, 1)), ('andrew', (12, 1)), ('fiala', (12, 2)), ('list', (12, 3)), ('innately', (12, 1)), ('related', (12, 1)), ('pragmatic', (12, 1)), ('evaluated', (12, 1)), ('unfeasible', (12, 1)), ('defeated', (12, 1)), ('practically', (12, 1)), ('self-contradictory', (12, 1)), ('no-one', (12, 1)), ('archiei', (12, 1)), ('accepted', (12, 1)), ('self-contradiction', (12, 1)), ('endorsing', (12, 1)), ('lastly', (12, 1)), ('mentions', (12, 1)), ('ineffective', (12, 1)), ('talk', (12, 1)), ('meantime', (12, 1)), ('bourgeois', (12, 1)), ('remains', (12, 1)), ('academia', (12, 1)), ('release', (12, 1)), ('pro-anarchist', (12, 1)), ('books', (12, 2)), ('obligations', (12, 1)), ('professor', (12, 1)), ('edmundson', (12, 2)), ('authored', (12, 1)), ('arguing', (12, 2)), ('fallacious', (12, 1)), ('owe', (12, 1)), ('duty', (12, 1)), ('obedience', (12, 1)), ('imply', (12, 1)), ('inevitable', (12, 1)), ('problem', (12, 1)), ('huemer', (12, 1)), ('defends', (12, 1)), ('claiming', (12, 1)), ('illusion', (12, 1)), ('defies', (12, 1)), ('fails', (12, 1)), ('understand', (12, 1)), ('biological', (12, 1)), ('inclination', (12, 1)), ('1886', (12, 1)), ('article', (12, 1)), ('north', (12, 1)), ('review', (12, 1)), ('frances', (12, 1)), ('ferguson', (12, 1)), ('raz', (12, 2)), ('acceptance', (12, 1)), ('implies', (12, 1)), ('instructions', (12, 1)), ('afford', (12, 1)), ('success', (12, 1)), ('believes', (12, 1)), ('mistaken', (12, 1)), ('instruction', (12, 1)), ('challenging', (12, 1)), ('disobeying', (12, 1)), ('entail', (12, 1)), ('disappearance', (12, 1)), ('advantages', (12, 1)), ('acknowledging', (12, 1)), ('doctors', (12, 1)), ('lawyers', (12, 1)), ('reliable', (12, 1)), ('involve', (12, 1)), ('complete', (12, 1)), ('surrender', (12, 1)), ('independent', (12, 1)), ('judgment', (12, 1)), ('commitment', (12, 1)), ('academics', (12, 1)), ('naive', (12, 1)), ('overly', (12, 1)), ('simplistic', (12, 1)), ('unrealistic', (12, 1)), ('respectively', (12, 1)), ('criticized', (12, 2)), ('heavily', (12, 1)), ('cooperation', (12, 1)), ('prospering', (12, 1)), ('friedrich', (12, 1)), ('engels', (12, 1)), ('principal', (12, 1)), ('founders', (12, 1)), ('inherently', (12, 1)), ('counter-revolutionary', (12, 1)), ('molyneux', (12, 1)), ('writes', (12, 1)), ('win', (12, 1)), ('properly', (12, 1)), ('implement', (12, 1)), ('character', (12, 1)), ('follow', (12, 1)), ('directly', (12, 1)), ('essence', (12, 1)), ('argue', (12, 1)), ('contradiction', (12, 1)), ('inability', (12, 1)), ('resolved', (12, 1)), ('coexistence', (12, 1)), ('intertwining', (12, 1)), ('country', (12, 1)), ('governance', (12, 1)), ('citations', (12, 1)), ('secondary', (12, 1)), ('tertiary', (12, 1)), ('reading', (12, 1)), ('defence', (12, 1)), ('137', (12, 1)), ('popular', (12, 1)), ('novel', (12, 1)), ('archives', (12, 2)), ('research', (12, 1)), ('center', (12, 1)), ('anti-fascism', (12, 1))])]\n",
            "[(12, 4179)]\n",
            "[(12, [('anarchism', 125), ('political', 26), ('philosophy', 6), ('movement', 23), ('sceptical', 1), ('authority', 18), ('rejects', 1), ('involuntary', 1), ('coercive', 2), ('forms', 9), ('hierarchy', 4), ('calls', 3), ('abolition', 3), ('state', 50), ('holds', 2), ('undesirable', 1), ('unnecessary', 1), ('harmful', 1), ('historically', 3), ('far-left', 2), ('usually', 4), ('described', 2), ('alongside', 5), ('libertarian', 14), ('marxism', 6), ('wing', 3), ('socialism', 15), ('socialist', 14), ('strong', 2), ('historical', 4), ('association', 5), ('anti-capitalism', 3), ('history', 5), ('anarchy', 9), ('goes', 1), ('back', 2), ('prehistory', 1), ('humans', 4), ('arguably', 1), ('lived', 1), ('anarchic', 2), ('societies', 2), ('long', 2), ('establishment', 3), ('formal', 3), ('states', 8), ('realms', 1), ('empires', 1), ('rise', 1), ('organised', 2), ('hierarchical', 3), ('bodies', 1), ('scepticism', 1), ('toward', 3), ('rose', 1), ('19th', 6), ('century', 20), ('self-conscious', 1), ('emerged', 3), ('latter', 2), ('half', 2), ('first', 13), ('decades', 3), ('20th', 8), ('anarchist', 89), ('flourished', 2), ('parts', 1), ('world', 13), ('significant', 8), ('role', 6), ('workers', 11), ('struggles', 1), ('emancipation', 1), ('various', 15), ('schools', 13), ('thought', 12), ('formed', 5), ('period', 3), ('anarchists', 70), ('taken', 4), ('part', 8), ('several', 3), ('revolutions', 2), ('notably', 2), ('spanish', 4), ('civil', 5), ('war', 11), ('whose', 6), ('end', 5), ('marked', 1), ('classical', 14), ('era', 12), ('last', 2), ('21st', 3), ('resurgent', 1), ('employs', 1), ('diversity', 2), ('tactics', 15), ('order', 3), ('meet', 1), ('ideal', 8), ('ends', 4), ('broadly', 1), ('separated', 1), ('revolutionary', 10), ('evolutionary', 5), ('overlap', 2), ('two', 7), ('merely', 2), ('descriptive', 1), ('aim', 4), ('bring', 2), ('violent', 6), ('turn', 5), ('past', 2), ('prefigure', 1), ('society', 23), ('would', 14), ('like', 1), ('criticism', 10), ('praxis', 2), ('played', 1), ('diverse', 4), ('areas', 2), ('human', 9), ('criticisms', 1), ('include', 6), ('claims', 4), ('internally', 1), ('inconsistent', 1), ('utopian', 3), ('etymology', 2), ('terminology', 1), ('definition', 4), ('wilhelm', 2), ('weitling', 2), ('example', 3), ('writer', 1), ('added', 1), ('theory', 10), ('without', 10), ('using', 1), ('exact', 1), ('term', 4), ('etymological', 1), ('origin', 1), ('ancient', 2), ('greek', 1), ('anarkhia', 1), ('meaning', 3), ('ruler', 3), ('composed', 2), ('prefix', 1), ('word', 1), ('arkhos', 1), ('leader', 2), ('suffix', 1), ('ism', 1), ('denotes', 1), ('ideological', 2), ('current', 6), ('favours', 2), ('appears', 1), ('english', 2), ('1642', 1), ('anarchisme', 1), ('1539', 1), ('early', 6), ('usages', 1), ('emphasised', 1), ('sense', 3), ('disorder', 1), ('factions', 2), ('within', 12), ('french', 6), ('revolution', 10), ('labelled', 1), ('opponents', 1), ('although', 7), ('accused', 1), ('shared', 2), ('many', 16), ('views', 3), ('later', 6), ('revolutionaries', 2), ('william', 6), ('godwin', 4), ('1756', 1), ('1836', 1), ('1808', 1), ('1871', 2), ('contribute', 1), ('doctrines', 2), ('next', 1), ('generation', 1), ('use', 7), ('describing', 1), ('beliefs', 2), ('philosopher', 3), ('call', 2), ('pierre-joseph', 5), ('proudhon', 6), ('1809', 1), ('1865', 1), ('marking', 1), ('birth', 2), ('mid-19th', 1), ('since', 4), ('1890s', 2), ('beginning', 2), ('france', 3), ('libertarianism', 4), ('often', 6), ('used', 5), ('synonym', 3), ('still', 5), ('common', 8), ('outside', 1), ('united', 4), ('hand', 4), ('refer', 2), ('individualistic', 1), ('free-market', 2), ('referring', 2), ('largely', 6), ('synonymous', 1), ('recently', 1), ('diluted', 1), ('wider', 3), ('adoption', 1), ('ideologically', 3), ('disparate', 2), ('groups', 14), ('including', 3), ('new', 7), ('left', 7), ('marxists', 4), ('associate', 1), ('authoritarian', 2), ('socialists', 3), ('vanguard', 1), ('party', 2), ('well', 4), ('extreme', 2), ('liberals', 3), ('primarily', 2), ('concerned', 1), ('liberties', 1), ('additionally', 1), ('avoid', 1), (\"anarchism's\", 4), ('negative', 2), ('connotations', 1), ('emphasise', 2), ('connections', 1), ('matthew', 1), ('adams', 1), ('carl', 1), ('levy', 1), ('write', 1), ('describe', 3), ('anti-authoritarian', 3), ('noam', 1), ('chomsky', 1), ('describes', 1), ('daniel', 1), ('guérin', 1), ('wrote', 3), ('narchism', 1), ('really', 1), ('abolish', 3), ('exploitation', 1), ('man', 2), ('one', 9), ('streams', 1), ('stream', 1), ('main', 2), ('components', 1), ('concern', 2), ('liberty', 7), ('haste', 1), ('opposition', 3), ('central', 3), ('defining', 1), ('easy', 1), ('task', 1), ('lot', 1), ('discussion', 3), ('among', 17), ('scholars', 2), ('matter', 1), ('currents', 15), ('perceive', 1), ('slightly', 1), ('differently', 2), ('hence', 2), ('might', 1), ('true', 2), ('say', 2), ('cluster', 1), ('philosophies', 2), ('opposing', 2), ('organisation', 2), ('capitalism', 11), ('nationalism', 3), ('associated', 6), ('institutions', 7), ('conduct', 1), ('relations', 2), ('favour', 1), ('based', 9), ('decentralisation', 2), ('freedom', 4), ('voluntary', 3), ('however', 11), ('shortcomings', 1), ('anti-authoritarianism', 2), ('posteriori', 1), ('conclusion', 2), ('anti-statism', 1), ('much', 4), ('simply', 1), ('negation', 1), ('nonetheless', 3), ('major', 8), ('elements', 1), ('non-coercive', 2), ('rejection', 2), ('apparatus', 1), ('belief', 4), ('nature', 4), ('allows', 1), ('exist', 4), ('progress', 2), ('suggestion', 1), ('act', 6), ('pursue', 1), ('herbert', 3), ('osgood', 1), ('claimed', 1), ('antithesis', 1), ('communism', 5), ('peter', 6), ('marshall', 1), ('general', 4), ('closer', 2), ('liberalism', 3), ('finds', 2), ('camp', 1), ('outriders', 1), ('cannot', 4), ('reduced', 1), ('best', 1), ('seen', 4), ('separate', 1), ('distinctive', 1), ('doctrine', 2), ('according', 8), ('jeremy', 1), ('jennings', 2), ('hard', 1), ('conclude', 1), ('ideas', 7), ('anarcho-capitalism', 2), ('basis', 1), ('misunderstanding', 1), ('adds', 1), ('stand', 1), ('untrammelled', 1), ('individual', 13), ('anarcho-capitalists', 1), ('appear', 1), ('believe', 2), ('already', 1), ('extension', 2), ('individuality', 2), ('community', 5), ('nicolas', 1), ('walter', 1), ('derive', 1), ('always', 2), ('remain', 1), ('whenever', 1), ('reject', 3), ('good', 2), ('either', 1), ('betray', 1), ('michael', 2), ('newman', 1), ('includes', 2), ('traditions', 6), ('especially', 7), ('socialist-aligned', 1), ('tradition', 4), ('following', 6), ('mikhail', 4), ('bakunin', 6), ('brian', 1), ('morriss', 1), ('argues', 3), ('conceptually', 1), ('misleading', 1), ('create', 4), ('dichotomy', 1), ('pre-modern', 1), ('upright', 5), ('zeno', 1), ('citium', 1), ('334', 1), ('262', 1), ('republic', 1), ('inspired', 1), ('kropotkin', 6), ('prehistoric', 1), ('mankind', 1), ('established', 8), ('creation', 2), ('towns', 1), ('cities', 1), ('anarchistic', 4), ('espoused', 3), ('reaction', 3), ('notable', 2), ('precursors', 1), ('china', 3), ('greece', 3), ('philosophical', 15), ('legitimacy', 2), ('delineated', 1), ('taoist', 1), ('philosophers', 2), ('zhuang', 1), ('zhou', 1), ('laozi', 1), ('stoicism', 1), ('taoism', 1), ('said', 1), ('anticipations', 1), ('attitudes', 4), ('articulated', 2), ('tragedians', 1), ('aeschylus', 1), ('sophocles', 1), ('myth', 1), ('antigone', 1), ('illustrate', 1), ('conflict', 2), ('rules', 1), ('set', 3), ('personal', 2), ('autonomy', 12), ('socrates', 1), ('questioned', 1), ('athenian', 1), ('authorities', 3), ('constantly', 1), ('insisted', 1), ('right', 4), ('conscience', 1), ('cynics', 1), ('dismissed', 1), ('law', 3), ('nomos', 1), ('trying', 1), ('live', 1), ('physis', 1), ('stoics', 1), ('supportive', 2), ('unofficial', 1), ('friendly', 1), ('citizens', 2), ('presence', 2), ('middle', 1), ('ages', 1), ('activity', 1), ('except', 2), ('ascetic', 1), ('religious', 3), ('movements', 12), ('muslim', 1), ('christian', 2), ('europe', 5), ('kind', 1), ('gave', 1), ('sasanian', 1), ('empire', 1), ('mazdak', 1), ('called', 3), ('egalitarian', 1), ('monarchy', 2), ('soon', 1), ('executed', 1), ('emperor', 1), ('kavad', 1), ('basra', 1), ('sects', 2), ('preached', 1), ('developed', 6), ('anti-state', 2), ('tendencies', 7), ('renaissance', 1), ('spread', 4), ('humanism', 2), ('rationalism', 1), ('reasoning', 2), ('novelists', 1), ('fictionalised', 1), ('voluntarism', 1), ('rather', 7), ('coercion', 4), ('age', 3), ('enlightenment', 1), ('pushed', 1), ('towards', 8), ('optimism', 1), ('social', 15), ('modern', 2), ('partisan', 1), ('enragés', 1), ('saw', 6), ('turning', 1), ('point', 3), ('fermentation', 1), ('federalist', 1), ('sentiments', 1), ('throughout', 2), ('18th', 1), ('england', 2), ('morally', 3), ('delegitimising', 1), ('max', 3), (\"stirner's\", 1), ('thinking', 2), ('paved', 1), ('way', 6), ('individualism', 4), (\"proudhon's\", 2), ('mutualism', 7), ('found', 3), ('fertile', 1), ('soil', 1), ('late', 6), ('1870s', 2), ('become', 2), ('well-defined', 1), ('wave', 4), ('unprecedented', 2), ('globalization', 1), ('occurred', 1), ('1880', 1), ('1914', 1), ('lasted', 1), ('considered', 2), ('golden', 1), ('opposed', 4), ('marxist', 5), ('dictatorship', 2), ('proletariat', 2), ('allied', 2), ('federalists', 1), ('international', 11), ('expulsion', 2), ('drawing', 2), ('founded', 2), ('collectivist', 7), ('entered', 1), (\"workingmen's\", 1), ('class', 8), ('worker', 2), ('union', 2), ('known', 8), ('1864', 1), ('unite', 1), ('became', 8), ('force', 2), ('karl', 1), ('marx', 1), ('leading', 5), ('figure', 1), ('member', 4), ('council', 1), (\"bakunin's\", 1), ('faction', 1), ('jura', 1), ('federation', 4), ('followers', 1), ('mutualists', 1), ('advocating', 2), ('abstentionism', 1), ('small', 8), ('property', 4), ('holdings', 1), ('bitter', 3), ('disputes', 1), ('bakuninists', 1), ('expelled', 2), ('1872', 1), ('hague', 1), ('congress', 1), ('treated', 1), ('similarly', 2), ('second', 4), ('ultimately', 2), ('1896', 1), ('famously', 1), ('predicted', 1), ('gained', 1), ('power', 6), (\"marx's\", 1), ('terms', 2), ('tyrants', 1), ('response', 3), ('imier', 1), ('influence', 2), ('russian', 3), ('scientist', 1), ('anarcho-communism', 5), ('overlapped', 1), ('collectivism', 3), ('anarcho-communists', 2), ('drew', 1), ('inspiration', 2), ('paris', 2), ('commune', 2), ('advocated', 3), ('free', 20), ('distribution', 2), ('goods', 2), (\"one's\", 2), ('needs', 2), ('feature', 1), ('syndicalism', 3), ('students', 2), ('imported', 1), ('humanistic', 1), ('pro-science', 1), ('version', 1), ('tokyo', 1), ('hotspot', 1), ('rebellious', 1), ('youth', 1), ('countries', 3), ('far', 1), ('east', 1), ('travelling', 1), ('japanese', 1), ('capital', 1), ('study', 2), ('latin', 2), ('america', 2), ('argentina', 1), ('stronghold', 1), ('anarcho-syndicalism', 3), ('prominent', 7), ('left-wing', 3), ('ideology', 2), ('time', 6), ('minority', 1), ('adopted', 4), ('violence', 11), ('strategy', 2), ('propaganda', 3), ('deed', 2), ('dismemberment', 1), ('execution', 1), ('exile', 1), ('communards', 1), ('penal', 1), ('colonies', 1), ('suppression', 3), ('favoured', 2), ('individualist', 10), ('expression', 1), ('acts', 4), ('even', 4), ('though', 1), ('distanced', 2), ('terrorist', 1), ('infamy', 1), ('came', 1), ('upon', 4), ('attempts', 3), ('made', 3), ('exclude', 1), ('american', 2), ('immigration', 2), ('1903', 1), ('exclusion', 1), ('illegalism', 2), ('another', 6), ('nestor', 2), ('makhno', 1), ('members', 6), ('insurrectionary', 2), ('army', 2), ('ukraine', 3), ('despite', 3), ('concerns', 2), ('enthusiastically', 1), ('participated', 1), ('white', 2), ('met', 2), ('harsh', 1), ('bolshevik', 1), ('government', 8), ('stabilized', 1), ('petrograd', 1), ('moscow', 1), ('fled', 1), ('kronstadt', 1), ('rebellion', 2), (\"makhno's\", 1), ('struggle', 2), ('territory', 1), ('crushed', 1), ('russia', 1), ('antithetical', 1), ('namely', 4), ('platformism', 1), ('synthesis', 2), ('former', 1), ('sought', 3), ('coherent', 1), ('group', 7), ('push', 1), ('anything', 1), ('resemble', 1), ('seeing', 3), ('victories', 1), ('bolsheviks', 1), ('october', 1), ('resulting', 2), ('activists', 3), ('turned', 1), ('communist', 4), ('parties', 1), ('grew', 2), ('expense', 1), ('syndicalist', 2), ('confederation', 1), ('labour', 2), ('industrial', 1), ('organisations', 1), ('joined', 1), ('1936', 1), ('syndicalists', 1), ('cnt', 1), ('fai', 1), ('leftists', 1), ('led', 3), ('playing', 1), ('pivotal', 1), ('anarchist-inspired', 1), ('peasants', 1), ('supported', 2), ('armed', 2), ('militias', 1), ('took', 4), ('control', 3), ('barcelona', 2), ('large', 3), ('rural', 1), ('spain', 3), ('collectivised', 1), ('land', 1), ('soviet', 1), ('provided', 1), ('limited', 3), ('assistance', 1), ('result', 2), ('fight', 1), ('communists', 1), ('series', 2), ('events', 3), ('named', 1), ('may', 4), ('days', 1), ('joseph', 2), ('stalin', 1), ('tried', 1), ('seize', 1), ('republicans', 1), ('post-war', 1), (\"rojava's\", 1), ('support', 3), ('efforts', 1), ('form', 7), ('cooperatives', 2), ('exemplified', 2), ('sewing', 1), ('cooperative', 1), ('severely', 1), ('weakened', 1), ('1960s', 2), ('witnessed', 1), ('revival', 2), ('likely', 1), ('caused', 2), ('perceived', 1), ('failure', 2), ('leninism', 1), ('tensions', 1), ('built', 2), ('cold', 1), ('critical', 2), ('anti-nuclear', 1), ('environmental', 1), ('peace', 1), ('counterculture', 1), ('transition', 1), ('previous', 1), ('provocative', 1), ('anti-capitalist', 3), ('reformism', 1), ('punk', 2), ('subculture', 1), ('bands', 1), ('crass', 1), ('sex', 1), ('pistols', 1), ('feminist', 3), ('anarcha-feminism', 2), ('returned', 1), ('vigour', 1), ('feminism', 3), ('black', 5), ('began', 1), ('take', 4), ('influenced', 3), ('move', 1), ('eurocentric', 1), ('demographic', 1), ('coincided', 1), ('gain', 2), ('traction', 1), ('northern', 3), ('height', 1), ('around', 2), ('popularity', 1), ('anti-war', 1), ('anti-globalisation', 2), ('involvement', 2), ('protests', 6), ('trade', 2), ('organization', 1), ('wto', 2), ('eight', 1), ('economic', 7), ('forum', 1), ('hoc', 1), ('leaderless', 2), ('anonymous', 1), ('cadres', 1), ('blocs', 1), ('engaged', 1), ('rioting', 1), ('destruction', 2), ('confrontations', 2), ('police', 3), ('organisational', 2), ('pioneered', 1), ('affinity', 2), ('security', 1), ('culture', 3), ('decentralised', 1), ('technologies', 1), ('internet', 1), ('event', 1), ('1999', 1), ('seattle', 1), ('conference', 1), ('influential', 1), ('development', 1), ('zapatistas', 1), ('mexico', 2), ('democratic', 2), ('syria', 2), ('commonly', 3), ('rojava', 1), ('facto', 1), ('autonomous', 2), ('region', 1), ('generally', 2), ('grouped', 1), ('owing', 1), ('different', 3), ('origins', 1), ('values', 4), ('evolution', 1), ('emphasises', 2), ('restraints', 1), ('positive', 1), ('aiming', 1), ('achieve', 3), ('potential', 2), ('equality', 5), ('ownership', 3), ('chronological', 1), ('segmented', 1), ('post-classical', 2), ('green', 2), ('post-anarchism', 1), ('thereafter', 1), ('beyond', 1), ('specific', 4), ('constitute', 1), ('lies', 1), ('lacks', 2), ('moral', 6), ('necessarily', 1), ('accepting', 1), ('imperative', 1), ('eliminate', 1), ('component', 1), ('tolerate', 1), ('existence', 1), ('minimal', 1), ('obligation', 1), ('obey', 1), ('conflicts', 1), ('pays', 1), ('attention', 1), ('arguments', 3), ('ethics', 5), ('emphasis', 1), ('egalitarianism', 1), ('sets', 2), ('apart', 1), ('types', 2), ('placed', 1), ('spectrum', 1), ('economics', 1), ('legal', 1), ('reflect', 3), ('anti-statist', 1), ('radical', 3), ('interpretations', 1), ('politics', 2), ('theories', 2), ('offer', 1), ('fixed', 1), ('body', 1), ('single', 1), ('particular', 1), ('worldview', 1), ('varieties', 1), ('diverge', 1), ('widely', 3), ('sectarianism', 1), ('milieu', 2), ('adjectives', 1), ('toleration', 1), ('unity', 3), ('fernando', 1), ('tarrida', 1), ('del', 1), ('mármol', 1), ('1889', 1), ('debates', 1), ('nihilism', 1), ('separation', 1), ('distinct', 2), ('entities', 2), ('intermingle', 1), ('connected', 1), ('uniform', 1), ('principles', 10), ('local', 1), ('mutual', 2), ('aid', 2), ('network', 3), ('communal', 2), ('democracy', 3), ('justified', 1), ('primary', 2), ('proponent', 2), ('future', 2), ('thinkers', 3), ('inceptive', 1), ('followed', 1), ('differ', 2), ('aspects', 2), ('18th-century', 1), ('aims', 4), ('reciprocity', 1), ('contract', 1), ('monetary', 1), ('reform', 2), ('credit', 1), ('currency', 1), ('regulated', 1), ('bank', 1), ('people', 5), ('retrospectively', 1), ('characterised', 2), ('situated', 1), ('1840', 1), ('goal', 2), ('third', 3), ('advocate', 4), ('collective', 4), ('means', 12), ('production', 3), ('theorised', 1), ('achieved', 1), ('paid', 1), ('worked', 1), ('distributed', 1), ('need', 5), ('arose', 3), ('rejected', 1), ('stated', 1), ('stateless', 1), ('advocates', 4), ('direct', 6), ('horizontal', 1), ('associations', 1), ('councils', 1), ('consumption', 1), ('guiding', 1), ('principle', 5), ('ability', 4), ('formulated', 1), ('italian', 2), ('section', 1), ('expanded', 2), ('theoretical', 1), ('work', 3), ('style', 1), ('onto', 1), ('dominating', 1), ('view', 2), ('branch', 1), ('syndicates', 1), ('change', 2), ('replacing', 1), ('democratically', 1), ('self-managed', 2), ('basic', 1), ('action', 9), ('solidarity', 1), ('self-management', 1), ('kinds', 3), ('external', 2), ('determinants', 1), ('influences', 1), ('stirner', 2), ('henry', 1), ('david', 1), ('thoreau', 1), ('attracted', 1), ('yet', 1), ('bohemian', 1), ('artists', 1), ('intellectuals', 1), ('young', 1), ('outlaws', 1), ('reclamation', 1), ('contemporary', 14), ('lawrence', 1), ('jarach', 2), ('john', 4), ('zerzan', 2), ('authors', 1), ('voice', 1), ('anarcho-primitivism', 2), ('noted', 1), ('post-left', 1), ('undergird', 1), ('interest', 3), ('momentum', 1), ('activist', 1), ('networks', 2), ('orientation', 1), ('shaped', 1), ('radicalism', 1), ('embrace', 2), ('signaled', 1), ('continued', 1), ('generate', 1), ('times', 1), ('eclectic', 1), ('sources', 5), ('syncretic', 1), ('combining', 1), ('concepts', 1), ('approaches', 2), ('remained', 1), ('news', 2), ('coverage', 1), ('emphasizes', 1), ('bloc', 3), ('demonstrations', 3), ('reinforced', 2), ('chaos', 1), ('publicity', 1), ('fields', 1), ('anthropology', 1), ('engage', 3), ('actions', 4), ('academic', 2), ('today', 1), ('making', 1), ('difficult', 1), ('theorists', 1), ('relatively', 1), ('stable', 1), ('constellations', 1), ('consensus', 6), ('core', 1), ('commentators', 1), ('multiple', 1), ('anarchisms', 1), ('singular', 1), ('prioritizes', 1), ('gender', 4), ('ranks', 1), ('higher', 1), ('priority', 1), ('anarcha-feminists', 1), ('committed', 1), ('centralized', 1), ('representative', 1), ('etc', 3), ('systems', 1), ('bolshevism', 1), ('feudalism', 1), ('slavery', 1), ('autocratic', 1), ('religions', 1), ('fundamentalist', 1), ('islam', 1), ('roman', 1), ('catholicism', 1), ('patriarchy', 1), ('heterosexism', 1), ('supremacy', 1), ('imperialism', 1), ('disagree', 1), ('methods', 2), ('equal', 2), ('transcends', 1), ('liberal', 1), ('entails', 1), ('implemented', 1), ('questioning', 1), ('domination', 3), ('serve', 2), ('goals', 2), ('oppose', 3), ('secondly', 2), ('promote', 1), ('vision', 2), ('illustrating', 1), ('broad', 1), ('categorisation', 1), ('destroy', 1), ('oppressive', 1), ('nonviolence', 2), ('gradual', 1), ('approach', 3), ('shifted', 1), ('course', 1), ('focused', 1), ('strikes', 5), ('militancy', 1), ('broader', 2), ('array', 1), ('relationship', 1), ('controversial', 2), ('subject', 2), ('shown', 1), ('leon', 1), ('czolgosz', 1), ('assassinating', 1), ('mckinley', 1), ('militant', 3), ('tendency', 3), ('confront', 1), ('forces', 1), ('employed', 2), ('terrorism', 3), ('assassination', 1), ('carried', 1), ('heads', 1), ('successful', 2), ('galleanists', 1), ('believed', 4), ('impetus', 1), ('attacks', 1), ('done', 1), ('assailants', 1), ('majority', 1), ('place', 1), ('1880s', 1), ('occurring', 1), ('1900s', 1), ('decrease', 1), ('prevalence', 1), ('judicial', 1), ('targeting', 1), ('cataloging', 1), ('perspectives', 2), ('perplexing', 1), ('anarcho-pacifists', 1), ('tactic', 2), ('sabotage', 2), ('attitude', 1), ('quite', 2), ('ago', 1), ('tyrant', 1), ('believing', 3), ('every', 2), ('oppression', 2), ('possible', 3), ('emma', 2), ('goldman', 2), ('errico', 1), ('malatesta', 1), ('proponents', 1), ('argued', 4), ('necessary', 3), ('evil', 1), ('active', 1), ('strike', 1), ('tended', 1), ('antipathetic', 1), ('reformist', 1), ('overthrow', 1), ('arts', 3), ('practiced', 1), ('naturism', 1), ('nudism', 1), ('communities', 1), ('friendship', 1), ('involved', 2), ('media', 1), ('protesters', 1), ('parading', 1), ('imagery', 1), ('motto', 1), ('alfredo', 1), ('bonanno', 2), ('reinstated', 1), ('debate', 1), ('rejecting', 2), ('afterwards', 1), ('invisible', 2), ('committee', 2), ('informal', 1), ('affiliation', 1), ('responsible', 2), ('works', 1), ('together', 2), ('utilizing', 1), ('enemies', 1), ('arrested', 2), ('2008', 1), ('charges', 1), ('included', 2), ('overall', 1), ('less', 2), ('ancestors', 1), ('mostly', 2), ('confronting', 1), ('riots', 1), ('canada', 1), ('protest', 1), ('clashing', 1), ('clash', 1), ('operators', 1), ('fascists', 1), ('racists', 1), ('taking', 2), ('anti-fascist', 1), ('mobilizing', 1), ('prevent', 1), ('hate', 1), ('rallies', 1), ('happening', 1), ('employ', 1), ('disrupting', 1), ('protesting', 2), ('unjust', 1), ('self-managing', 1), ('lives', 1), ('counter-institutions', 1), ('communes', 1), ('non-hierarchical', 1), ('collectives', 1), ('decision-making', 2), ('handled', 1), ('everyone', 1), ('decision', 1), ('horizontalism', 2), ('contemporary-era', 1), ('engaging', 1), ('grassroots', 1), ('explicitly', 4), ('respecting', 1), ('participating', 1), ('mass', 1), ('activism', 2), ('contrast', 1), ('big-a', 1), ('newly', 1), ('coined', 1), ('small-a', 1), ('signals', 1), ('base', 2), ('thoughts', 2), ('classical-era', 1), ('justify', 1), ('opinions', 1), ('experience', 1), ('theorize', 1), ('process', 3), ('plays', 1), ('tactical', 1), ('build', 2), ('rough', 2), ('play', 1), ('facilitator', 1), ('help', 1), ('promoting', 1), ('minorities', 1), ('accept', 1), ('feel', 1), ('proposal', 1), ('contradicts', 1), ('individuals', 2), ('enhance', 1), ('friendships', 1), ('interconnect', 1), ('forming', 1), ('larger', 1), ('participate', 2), ('wildcat', 1), ('centrally', 1), ('syndicate', 1), ('newspapers', 1), ('journals', 1), ('gone', 1), ('online', 2), ('wide', 1), ('web', 1), ('message', 1), ('easier', 1), ('websites', 1), ('distributional', 1), ('difficulties', 1), ('hosting', 1), ('electronic', 1), ('libraries', 1), ('portals', 1), ('developing', 3), ('software', 1), ('available', 1), ('hacktivists', 1), ('develop', 2), ('distribute', 1), ('resembles', 1), ('ideals', 1), ('comes', 2), ('preserving', 1), ('users', 1), ('privacy', 1), ('surveillance', 1), ('organize', 1), ('squat', 1), ('reclaim', 1), ('public', 1), ('spaces', 3), ('important', 1), ('occupied', 1), ('temporary', 1), ('zones', 1), ('taz', 1), ('art', 7), ('poetry', 1), ('surrealism', 1), ('blended', 1), ('display', 1), ('squatting', 1), ('regain', 1), ('urban', 1), ('space', 2), ('capitalist', 1), ('market', 1), ('serving', 1), ('pragmatical', 1), ('exemplary', 1), ('acquiring', 1), ('enables', 1), ('experiment', 1), ('bonds', 1), ('adding', 1), ('mind', 1), ('share', 1), ('along', 3), ('highly', 2), ('symbolic', 1), ('make', 1), ('carnivalesque', 1), ('atmosphere', 1), ('vividity', 1), ('key', 1), ('issues', 1), ('embodies', 1), ('disagreement', 1), ('questions', 1), ('uses', 1), ('identical', 1), ('created', 1), ('number', 2), ('definitional', 1), ('compatibility', 1), ('religion', 1), ('disputed', 1), ('enjoys', 1), ('complex', 1), ('relationships', 1), ('ideologies', 4), ('unionism', 1), ('motivated', 1), ('divine', 1), ('enlightened', 1), ('self-interest', 1), ('veganism', 1), ('alternative', 1), ('ethical', 1), ('phenomena', 1), ('civilisation', 1), ('technology', 1), ('sharply', 1), ('criticised', 2), ('simultaneously', 1), ('lauded', 1), ('others', 3), ('sexuality', 4), ('love', 9), ('émile', 1), ('armand', 1), ('propounded', 1), ('virtues', 1), ('parisian', 1), ('carry', 1), ('dynamics', 2), ('obliged', 1), ('address', 1), ('analyse', 1), ('roles', 1), ('traditionally', 1), ('impose', 1), ('collection', 1), ('anarcha-feminist', 1), ('symbols', 1), ('flags', 1), ('discussed', 1), ('felt', 1), ('lead', 3), ('naturally', 1), ('sexual', 4), ('benjamin', 1), ('tucker', 1), ('consent', 1), ('laws', 1), ('benefit', 1), ('predatory', 1), ('men', 3), ('1890', 1), ('1920', 1), ('survives', 1), ('polyamory', 1), ('queer', 1), ('marriage', 3), ('imposing', 1), ('women', 2), ('greatly', 1), ('notion', 1), ('critique', 7), (\"women's\", 1), ('pleasure', 1), ('contributed', 1), ('houses', 1), ('travelers', 1), ('slept', 1), ('beds', 1), ('roots', 1), ('struggled', 1), ('jealousy', 1), ('feminists', 3), ('pro-choice', 1), ('utilising', 1), ('similar', 3), ('agenda', 1), ('non-anarchist', 1), ('differed', 1), ('suffrage', 1), ('intermingled', 1), ('radicalising', 1), ('latest', 1), ('rights', 1), ('gays', 1), ('queers', 1), ('marginalised', 1), ('suggesting', 2), ('fusion', 1), ('identity', 1), ('compulsory', 1), ('heterosexuality', 1), ('yielding', 1), ('post-structuralist', 1), ('normality', 1), ('line', 3), ('leaned', 2), ('dropping', 1), ('cause', 1), ('liberation', 1), ('education', 15), ('statist', 1), ('educationruth', 1), ('kinna', 1), ('2019', 1), ('educationstate', 1), ('educationconcept', 1), ('self-mastery', 1), ('servicemanagement', 1), ('runmethods', 1), ('practice-based', 1), ('learning', 2), ('vocational', 1), ('trainingaims', 1), ('productive', 1), ('stretches', 1), ('emergence', 1), ('consider', 3), ('proper', 1), ('foundations', 1), ('writers', 2), ('justice', 2), ('false', 1), ('attacked', 1), ('private', 1), ('ruling', 3), ('replicate', 1), ('privileges', 1), ('1901', 1), ('catalan', 1), ('thinker', 1), ('francisco', 1), ('ferrer', 4), ('escuela', 1), ('moderna', 1), ('system', 4), ('dictated', 1), ('catholic', 1), ('church', 2), (\"ferrer's\", 1), ('secular', 1), ('educational', 2), ('whilst', 2), ('giving', 1), ('pupils', 2), ('amounts', 1), ('planning', 1), ('attendance', 1), ('aimed', 1), ('educate', 1), ('working', 1), ('foster', 1), ('consciousness', 1), ('school', 4), ('closed', 1), ('constant', 1), ('harassment', 1), ('leo', 2), ('tolstoy', 2), ('published', 1), ('essay', 2), ('founding', 1), ('effective', 1), ('token', 1), ('neill', 1), ('summerhill', 1), ('1921', 1), ('declaring', 1), ('idea', 3), (\"child's\", 1), ('freely', 1), ('manipulation', 2), ('ought', 1), ('respected', 1), ('rationality', 1), ('children', 1), ('conclusions', 1), ('little', 1), ('figures', 1), ('constitutes', 1), ('indoctrination', 2), ('taught', 1), ('critiques', 2), ('colin', 2), ('ward', 3), ('read', 2), ('paul', 2), ('goodman', 1), ('intensified', 1), ('focusing', 1), ('focuses', 1), (\"children's\", 1), ('creativity', 1), ('attain', 1), ('career', 1), ('consumerism', 1), ('consumer', 1), ('serves', 1), ('perpetuate', 1), ('socioeconomic', 1), ('inequality', 1), ('survived', 1), ('modern-day', 1), ('tenets', 1), ('respect', 1), ('child', 1), ('relying', 2), ('teaching', 1), ('method', 1), ('mainstream', 1), ('judith', 1), ('suissa', 1), ('names', 1), ('three', 3), ('skool', 1), ('santa', 1), ('cruz', 1), ('american-canadian', 1), ('college', 1), ('brighton', 1), ('paideia', 1), ('objection', 1), ('sine', 1), ('qua', 1), ('non', 1), ('tool', 2), ('illegitimate', 1), ('regardless', 2), ('instead', 1), ('able', 1), ('life', 2), ('decisions', 1), ('elite', 1), ('rests', 1), ('solely', 1), ('whether', 1), ('open', 1), ('transparent', 1), ('coerce', 1), ('argument', 4), ('constituting', 1), ('altruistic', 1), ('officials', 1), ('unavoidably', 1), ('seek', 1), ('corruption', 1), ('unachievable', 1), ('fiction', 2), ('due', 1), ('fact', 1), ('rest', 1), ('vary', 1), ('robert', 1), ('wolff', 1), ('tension', 1), ('mean', 1), ('could', 5), ('never', 1), ('legitimate', 3), ('camouflaged', 1), ('unceremonious', 1), ('overt', 1), ('simmons', 2), ('leslie', 1), ('governed', 1), ('unlikely', 1), ('340px', 1), ('les', 2), ('chataigniers', 2), ('osny', 2), ('1888', 1), ('painter', 2), ('camille', 2), ('pissarro', 2), ('blending', 2), ('connection', 1), ('profound', 1), ('artistic', 1), ('futurists', 1), ('surrealists', 1), ('literature', 1), ('apocalyptics', 1), ('neo-romanticism', 1), ('music', 2), ('scenes', 1), ('border', 1), ('artist', 1), ('non-artist', 1), ('separates', 1), ('daily', 1), ('construct', 1), ('produced', 1), ('alienation', 1), ('prevents', 1), ('living', 1), ('joyful', 1), ('book', 2), ('breaking', 1), ('spell', 1), ('filmmakers', 1), ('videotape', 1), ('guerrillas', 1), ('digital', 1), ('ninjas', 1), ('chris', 1), ('robé', 1), ('anarchist-inflected', 1), ('practices', 1), ('increasingly', 1), ('structured', 1), ('movement-based', 1), ('video', 1), ('gustav', 1), ('landauer', 1), ('camillo', 1), ('berneri', 1), ('publications', 1), ('matters', 1), ('pertaining', 1), ('overlapping', 1), ('properties', 1), ('useful', 1), ('depict', 1), ('existing', 1), ('hierarchies', 1), ('prefigurative', 1), ('appeals', 1), ('emotion', 1), ('reason', 1), ('appeal', 1), ('whole', 1), ('powerful', 1), ('effect', 1), ('19th-century', 1), ('neo-impressionist', 1), ('ecological', 1), ('aesthetic', 2), ('offered', 1), ('perception', 2), ('road', 1), ('harmony', 1), ('prefiguring', 1), ('agrarian', 1), ('bertrand', 2), ('russell', 2), ('unable', 1), ('provide', 1), ('services', 1), ('self-govern', 1), ('survival', 1), ('stating', 1), ('eace', 1), ('tariffs', 1), ('regulations', 1), ('sanitary', 1), ('conditions', 1), ('sale', 1), ('noxious', 1), ('drugs', 1), ('preservation', 1), ('functions', 1), ('hardly', 1), ('performed', 1), ('fits', 1), ('isolation', 1), ('enough', 1), ('self-governing', 1), ('responds', 1), ('federalism', 1), ('lecturer', 1), ('andrew', 1), ('fiala', 2), ('list', 3), ('innately', 1), ('related', 1), ('pragmatic', 1), ('evaluated', 1), ('unfeasible', 1), ('defeated', 1), ('practically', 1), ('self-contradictory', 1), ('no-one', 1), ('archiei', 1), ('accepted', 1), ('self-contradiction', 1), ('endorsing', 1), ('lastly', 1), ('mentions', 1), ('ineffective', 1), ('talk', 1), ('meantime', 1), ('bourgeois', 1), ('remains', 1), ('academia', 1), ('release', 1), ('pro-anarchist', 1), ('books', 2), ('obligations', 1), ('professor', 1), ('edmundson', 2), ('authored', 1), ('arguing', 2), ('fallacious', 1), ('owe', 1), ('duty', 1), ('obedience', 1), ('imply', 1), ('inevitable', 1), ('problem', 1), ('huemer', 1), ('defends', 1), ('claiming', 1), ('illusion', 1), ('defies', 1), ('fails', 1), ('understand', 1), ('biological', 1), ('inclination', 1), ('1886', 1), ('article', 1), ('north', 1), ('review', 1), ('frances', 1), ('ferguson', 1), ('raz', 2), ('acceptance', 1), ('implies', 1), ('instructions', 1), ('afford', 1), ('success', 1), ('believes', 1), ('mistaken', 1), ('instruction', 1), ('challenging', 1), ('disobeying', 1), ('entail', 1), ('disappearance', 1), ('advantages', 1), ('acknowledging', 1), ('doctors', 1), ('lawyers', 1), ('reliable', 1), ('involve', 1), ('complete', 1), ('surrender', 1), ('independent', 1), ('judgment', 1), ('commitment', 1), ('academics', 1), ('naive', 1), ('overly', 1), ('simplistic', 1), ('unrealistic', 1), ('respectively', 1), ('criticized', 2), ('heavily', 1), ('cooperation', 1), ('prospering', 1), ('friedrich', 1), ('engels', 1), ('principal', 1), ('founders', 1), ('inherently', 1), ('counter-revolutionary', 1), ('molyneux', 1), ('writes', 1), ('win', 1), ('properly', 1), ('implement', 1), ('character', 1), ('follow', 1), ('directly', 1), ('essence', 1), ('argue', 1), ('contradiction', 1), ('inability', 1), ('resolved', 1), ('coexistence', 1), ('intertwining', 1), ('country', 1), ('governance', 1), ('citations', 1), ('secondary', 1), ('tertiary', 1), ('reading', 1), ('defence', 1), ('137', 1), ('popular', 1), ('novel', 1), ('archives', 2), ('research', 1), ('center', 1), ('anti-fascism', 1)])]\n"
          ]
        }
      ]
    },
    {
      "cell_type": "markdown",
      "metadata": {
        "id": "cwC3pX1ss1en"
      },
      "source": [
        "After `flatMap` is executed, the counts for a given token are likely to be scattered accross multiple machines/workers in the cluster. In order to create the posting lists for each token, we need a reduce operation that collects them into one list and sorts them by the document id (wiki_id). \n",
        "\n",
        "Spark has several ways of reducing or aggergating values, but we will use `groupByKey`, which like Reduce in MapReduce, collects all the values for a given key into an iterable list of the values associated with that key. The result of `groupByKey` is an RDD with (key, value*s*) pairs. Then, we can call `map` to execute a function on each pair in that RDD or call `mapValues` to execute a function only on the values iterable.\n",
        "\n",
        "**YOUR TASK (5 POINTS):** Complete the implementation of `reduce_word_counts`, which operates on the pairs returned by `word_count`. The functions gets a list of values (unsorted posting list) and sorts it."
      ]
    },
    {
      "cell_type": "code",
      "metadata": {
        "deletable": false,
        "id": "1yFhHQBZHIBb",
        "nbgrader": {
          "cell_type": "code",
          "checksum": "b8b3d536f304b848874fd48edd59268c",
          "grade": false,
          "grade_id": "cell-78a1517e2ac6a914",
          "locked": false,
          "schema_version": 3,
          "solution": true,
          "task": false
        }
      },
      "source": [
        "def reduce_word_counts(unsorted_pl):\n",
        "  ''' Returns a sorted posting list by wiki_id.\n",
        "  Parameters:\n",
        "  -----------\n",
        "    unsorted_pl: list of tuples\n",
        "      A list of (wiki_id, tf) tuples \n",
        "  Returns:\n",
        "  --------\n",
        "    list of tuples\n",
        "      A sorted posting list.\n",
        "  '''\n",
        "  # YOUR CODE HERE\n",
        "  return sorted(unsorted_pl, key= lambda t : t[0])\n",
        "  #raise NotImplementedError()"
      ],
      "execution_count": 227,
      "outputs": []
    },
    {
      "cell_type": "code",
      "metadata": {
        "deletable": false,
        "editable": false,
        "id": "-VWkWnUO_QKd",
        "nbgrader": {
          "cell_type": "code",
          "checksum": "dad7c9e7a0150c79ab22b7c91cf1015b",
          "grade": false,
          "grade_id": "cell-a17b5f692abdf5af",
          "locked": true,
          "schema_version": 3,
          "solution": false,
          "task": false
        },
        "colab": {
          "base_uri": "https://localhost:8080/"
        },
        "outputId": "9590c55b-af87-43b3-e944-c8c9e83f228e"
      },
      "source": [
        "postings = word_counts.groupByKey().mapValues(reduce_word_counts)\n",
        "\n",
        "print(postings.take(1))\n",
        "\n",
        "df_for_terms = postings.map(lambda x: (x[0], len(x[1]))) # df # 4\n",
        "\n",
        "print(df_for_terms.take(1))"
      ],
      "execution_count": 228,
      "outputs": [
        {
          "output_type": "stream",
          "name": "stdout",
          "text": [
            "[('anarchism', [(12, 125), (339, 6), (983, 1), (1023, 78)])]\n",
            "[('anarchism', 4)]\n"
          ]
        }
      ]
    },
    {
      "cell_type": "code",
      "metadata": {
        "deletable": false,
        "editable": false,
        "id": "6zbBgNIM46OX",
        "nbgrader": {
          "cell_type": "code",
          "checksum": "e852c4699f374fa118340664637d9d2c",
          "grade": true,
          "grade_id": "cell-2585ebc19d7fb56f",
          "locked": true,
          "points": 5,
          "schema_version": 3,
          "solution": false,
          "task": false
        }
      },
      "source": [
        "## test reduce_word_count\n",
        "token, posting_list = postings.take(1)[0]\n",
        "\n",
        "assert type(token) == str\n",
        "assert type(posting_list) == list\n",
        "doc_id, tf = zip(*posting_list)\n",
        "assert type(doc_id[0]) == int\n",
        "assert type(tf[0]) == int\n",
        "assert np.diff(doc_id).min() > 0 \n",
        "assert np.min(tf) > 0 \n",
        "assert postings.count() == 153014"
      ],
      "execution_count": 229,
      "outputs": []
    },
    {
      "cell_type": "markdown",
      "metadata": {
        "id": "3LiIJMOjWnsB"
      },
      "source": [
        "### Document frequency and filteration"
      ]
    },
    {
      "cell_type": "markdown",
      "metadata": {
        "id": "zrWoS-kHvhmM"
      },
      "source": [
        "Next, we will filter out rare words, words that appear in 10 or fewer documents (when working on the entire corpus, we will increase this threshold to a minimum of 50 documents). "
      ]
    },
    {
      "cell_type": "code",
      "metadata": {
        "deletable": false,
        "editable": false,
        "id": "EnrhMaR0digd",
        "nbgrader": {
          "cell_type": "code",
          "checksum": "e0deadc5799532d013e5f5a8c6cc8cdb",
          "grade": false,
          "grade_id": "cell-6c0501a9eb9b1059",
          "locked": true,
          "schema_version": 3,
          "solution": false,
          "task": false
        }
      },
      "source": [
        "# Remark! change it if needed\n",
        "postings_filtered = postings.filter(lambda x: len(x[1])>10)"
      ],
      "execution_count": 230,
      "outputs": []
    },
    {
      "cell_type": "markdown",
      "metadata": {
        "id": "-bclZ2cmFRjq"
      },
      "source": [
        "Now, we would like to calculate the df for each word.\n",
        "\n",
        "**YOUR TASK (5 POINTS):** Complete the implementation of `calculate_df` that takes a posting list RDD and returns an RDD where each element is a (token, df) pair. "
      ]
    },
    {
      "cell_type": "code",
      "metadata": {
        "deletable": false,
        "id": "J_-UoG2CGj4o",
        "nbgrader": {
          "cell_type": "code",
          "checksum": "795721521242afd06958773d307bc60a",
          "grade": false,
          "grade_id": "cell-6c7774baf403e8e7",
          "locked": false,
          "schema_version": 3,
          "solution": true,
          "task": false
        }
      },
      "source": [
        "def calculate_df(postings):\n",
        "  ''' Takes a posting list RDD and calculate the df for each token.\n",
        "  Parameters:\n",
        "  -----------\n",
        "    postings: RDD\n",
        "      An RDD where each element is a (token, posting_list) pair.\n",
        "  Returns:\n",
        "  --------\n",
        "    RDD\n",
        "      An RDD where each element is a (token, df) pair.\n",
        "  '''\n",
        "  # YOUR CODE HERE\n",
        "  return postings.map(lambda t : (t[0], len(t[1])))\n",
        "  #raise NotImplementedError()"
      ],
      "execution_count": 231,
      "outputs": []
    },
    {
      "cell_type": "code",
      "metadata": {
        "deletable": false,
        "editable": false,
        "id": "ddVcByPLCaP_",
        "nbgrader": {
          "cell_type": "code",
          "checksum": "c720fdbf8b2eabc0e6f82d7a7ef48b8d",
          "grade": true,
          "grade_id": "cell-abfcf7244829f520",
          "locked": true,
          "points": 5,
          "schema_version": 3,
          "solution": false,
          "task": false
        }
      },
      "source": [
        "# global statistics\n",
        "w2df = calculate_df(postings_filtered)\n",
        "\n",
        "# test calculate_df types\n",
        "token, df = w2df.take(1)[0]\n",
        "assert type(token) == str\n",
        "assert type(df) == int\n",
        "# test min/max df values\n",
        "# collectAsMap collects the results to the master node's memory as a dictionary.\n",
        "# we know it's not so big so this is okay.\n",
        "w2df_dict = w2df.collectAsMap()\n",
        "assert np.min(list(w2df_dict.values())) == 11\n",
        "assert np.max(list(w2df_dict.values())) == 819\n",
        "# test select words\n",
        "assert w2df_dict['first'] == 805\n",
        "assert w2df_dict['many'] == 670\n",
        "assert w2df_dict['used'] == 648"
      ],
      "execution_count": 232,
      "outputs": []
    },
    {
      "cell_type": "markdown",
      "metadata": {
        "id": "5z1wMOiFTyGJ"
      },
      "source": [
        "## Partitioning and writing the index"
      ]
    },
    {
      "cell_type": "markdown",
      "metadata": {
        "id": "q3a2sC0WytzO"
      },
      "source": [
        "Now that we have the postings information we need to write it to disk. We would like to partition the tokens and posting lists into buckets so when we get a query, we know exactly in which bucket to look for its posting list. This can also help parallelize retrieval from the index if we have multiple machines answering queries. \n",
        "\n",
        "Here, you are asked to do this partitioning/bucketing through another round of map and reduce operations, where the last step should be to write out each bucket into a separate inverted index on disk. Use the staff-provided function of  `write_a_posting_list` implemented in inverted_index_colab.py for the InvertedIndex class. Eventually, this partitioning and writing process needs to return information about where each posting list is located (file name and offset) for a token. \n",
        "\n",
        "**YOUR TASK (20 POINTS):** Complete the implementation of `partition_postings_and_write` that partitions the posting list, writes out each bucket, and returns information about the location on disk of each posting list."
      ]
    },
    {
      "cell_type": "code",
      "metadata": {
        "deletable": false,
        "id": "MvZDJk0bu9V9",
        "nbgrader": {
          "cell_type": "code",
          "checksum": "a3aaab30238939a14be6a58056ed3000",
          "grade": false,
          "grade_id": "cell-e85a52ed1c96897a",
          "locked": false,
          "schema_version": 3,
          "solution": true,
          "task": false
        },
        "colab": {
          "base_uri": "https://localhost:8080/",
          "height": 1000
        },
        "outputId": "12b7e3da-a11b-44f9-d68a-d9dd4e354aa3"
      },
      "source": [
        "# Remark! starting to create the index.. what do we need?\n",
        "print(\"what we need to create the full index: \")\n",
        "print(\"postings_filtered\")\n",
        "print(postings_filtered.take(1)) ## posting list after filtering out rare words || key: term, value: [(<docId, tf>), (<docId, tf), ...] || In disk!\n",
        "print(\"df_for_terms\")\n",
        "print(df_for_terms.take(1)) ## each word how many times it appeared || key: term, value: in how many documents it appeared || In memory!\n",
        "print(\"doc_len\")\n",
        "print(doc_len.take(1)) ## each document, it's length || key: doc id, value: document length || In memory!\n",
        "print(\"doc_tf_unnormalized\")\n",
        "print(doc_tf_unnormalized.take(1)) ## each document it's tf vector for terms in document|| key: doc id, value: [(<term>, tf),(<term>, tf),..] || In disk!\n",
        "print(\"total_number_of_docs_N\")\n",
        "print(total_number_of_docs_N)\n",
        "###\n",
        "import math\n",
        "def tf_idf_generator(term, freq, doc_len, N):\n",
        "  df = df_for_terms.filter(lambda x: x[0] == term).take(1)[0][1]\n",
        "  return (freq/doc_len) * math.log(N/df ,2)\n",
        "def vec_size(term_lst, doc_len):\n",
        "  sum = 0\n",
        "  for term, freq in term_lst:\n",
        "    sum += tf_idf_generator(term, freq, doc_len, total_number_of_docs_N)**2\n",
        "  return sum**0.5\n",
        "\n",
        "def vector_size(docid_to_freq): #(12, [('anarchism', 125), ('political', 26), ('philosophy', 6), ('movement', 23), ('sceptical', 1), ('authority', 18), ('rejects', 1), ('involuntary', 1), ('coercive', 2), ('forms', 9), ('hierarchy', 4), ('calls', 3), ('abolition', 3), ('state', 50), ('holds', 2), ('undesirable', 1), ('unnecessary', 1), ('harmful', 1), ('historically', 3), ('far-left', 2), ('usually', 4), ('described', 2), ('alongside', 5), ('libertarian', 14), ('marxism', 6), ('wing', 3), ('socialism', 15), ('socialist', 14), ('strong', 2), ('historical', 4), ('association', 5), ('anti-capitalism', 3), ('history', 5), ('anarchy', 9), ('goes', 1), ('back', 2), ('prehistory', 1), ('humans', 4), ('arguably', 1), ('lived', 1), ('anarchic', 2), ('societies', 2), ('long', 2), ('establishment', 3), ('formal', 3), ('states', 8), ('realms', 1), ('empires', 1), ('rise', 1), ('organised', 2), ('hierarchical', 3), ('bodies', 1), ('scepticism', 1), ('toward', 3), ('rose', 1), ('19th', 6), ('century', 20), ('self-conscious', 1), ('emerged', 3), ('latter', 2), ('half', 2), ('first', 13), ('decades', 3), ('20th', 8), ('anarchist', 89), ('flourished', 2), ('parts', 1), ('world', 13), ('significant', 8), ('role', 6), ('workers', 11), ('struggles', 1), ('emancipation', 1), ('various', 15), ('schools', 13), ('thought', 12), ('formed', 5), ('period', 3), ('anarchists', 70), ('taken', 4), ('part', 8), ('several', 3), ('revolutions', 2), ('notably', 2), ('spanish', 4), ('civil', 5), ('war', 11), ('whose', 6), ('end', 5), ('marked', 1), ('classical', 14), ('era', 12), ('last', 2), ('21st', 3), ('resurgent', 1), ('employs', 1), ('diversity', 2), ('tactics', 15), ('order', 3), ('meet', 1), ('ideal', 8), ('ends', 4), ('broadly', 1), ('separated', 1), ('revolutionary', 10), ('evolutionary', 5), ('overlap', 2), ('two', 7), ('merely', 2), ('descriptive', 1), ('aim', 4), ('bring', 2), ('violent', 6), ('turn', 5), ('past', 2), ('prefigure', 1), ('society', 23), ('would', 14), ('like', 1), ('criticism', 10), ('praxis', 2), ('played', 1), ('diverse', 4), ('areas', 2), ('human', 9), ('criticisms', 1), ('include', 6), ('claims', 4), ('internally', 1), ('inconsistent', 1), ('utopian', 3), ('etymology', 2), ('terminology', 1), ('definition', 4), ('wilhelm', 2), ('weitling', 2), ('example', 3), ('writer', 1), ('added', 1), ('theory', 10), ('without', 10), ('using', 1), ('exact', 1), ('term', 4), ('etymological', 1), ('origin', 1), ('ancient', 2), ('greek', 1), ('anarkhia', 1), ('meaning', 3), ('ruler', 3), ('composed', 2), ('prefix', 1), ('word', 1), ('arkhos', 1), ('leader', 2), ('suffix', 1), ('ism', 1), ('denotes', 1), ('ideological', 2), ('current', 6), ('favours', 2), ('appears', 1), ('english', 2), ('1642', 1), ('anarchisme', 1), ('1539', 1), ('early', 6), ('usages', 1), ('emphasised', 1), ('sense', 3), ('disorder', 1), ('factions', 2), ('within', 12), ('french', 6), ('revolution', 10), ('labelled', 1), ('opponents', 1), ('although', 7), ('accused', 1), ('shared', 2), ('many', 16), ('views', 3), ('later', 6), ('revolutionaries', 2), ('william', 6), ('godwin', 4), ('1756', 1), ('1836', 1), ('1808', 1), ('1871', 2), ('contribute', 1), ('doctrines', 2), ('next', 1), ('generation', 1), ('use', 7), ('describing', 1), ('beliefs', 2), ('philosopher', 3), ('call', 2), ('pierre-joseph', 5), ('proudhon', 6), ('1809', 1), ('1865', 1), ('marking', 1), ('birth', 2), ('mid-19th', 1), ('since', 4), ('1890s', 2), ('beginning', 2), ('france', 3), ('libertarianism', 4), ('often', 6), ('used', 5), ('synonym', 3), ('still', 5), ('common', 8), ('outside', 1), ('united', 4), ('hand', 4), ('refer', 2), ('individualistic', 1), ('free-market', 2), ('referring', 2), ('largely', 6), ('synonymous', 1), ('recently', 1), ('diluted', 1), ('wider', 3), ('adoption', 1), ('ideologically', 3), ('disparate', 2), ('groups', 14), ('including', 3), ('new', 7), ('left', 7), ('marxists', 4), ('associate', 1), ('authoritarian', 2), ('socialists', 3), ('vanguard', 1), ('party', 2), ('well', 4), ('extreme', 2), ('liber\n",
        "  freq_list = docid_to_freq[1] # list of tuples\n",
        "  lst_tf_idf = []\n",
        "  doc_size = our_sum([i[1] for i in freq_list])\n",
        "  for freq in freq_list:\n",
        "    term = freq[0]\n",
        "    num = freq[1]\n",
        "    df = df_for_terms.filter(lambda x: x[0] == term).take(1)[0][1]\n",
        "    lst_tf_idf.append(((num/doc_size) * math.log(total_number_of_docs_N/df ,2))**2)\n",
        "  return (docid_to_freq[0], our_sum(lst_tf_idf)**0.5)\n",
        "\n",
        "doc_vector_size = doc_tf_unnormalized.map(lambda x : vector_size(x))\n",
        "print(doc_vector_size.take(1))\n",
        "\n",
        "raise Exception\n",
        "NUM_BUCKETS = 124\n",
        "def token2bucket_id(token):\n",
        "  return int(_hash(token),16) % NUM_BUCKETS\n",
        "\n",
        "def partition_postings_and_write(postings):\n",
        "  ''' A function that partitions the posting lists into buckets, writes out \n",
        "  all posting lists in a bucket to disk, and returns the posting locations for \n",
        "  each bucket. Partitioning should be done through the use of `token2bucket` \n",
        "  above. Writing to disk should use the function  `write_a_posting_list`, a \n",
        "  static method implemented in inverted_index_colab.py under the InvertedIndex \n",
        "  class. \n",
        "  Parameters:\n",
        "  -----------\n",
        "    postings: RDD\n",
        "      An RDD where each item is a (w, posting_list) pair.\n",
        "  Returns:\n",
        "  --------\n",
        "    RDD\n",
        "      An RDD where each item is a posting locations dictionary for a bucket. The\n",
        "      posting locations maintain a list for each word of file locations and \n",
        "      offsets its posting list was written to. See `write_a_posting_list` for \n",
        "      more details.\n",
        "  '''\n",
        "  # YOUR CODE HERE\n",
        "  post = postings.take(1)\n",
        "  by_bucket = postings.map(lambda t : (token2bucket_id(t[0]), [t])).reduceByKey(lambda a, b: a + b) # assuming a and b are lists then combining them\n",
        "  posting_locs = by_bucket.map(lambda t : InvertedIndex.write_a_posting_list(t))\n",
        "  return posting_locs\n",
        "  #raise NotImplementedError()"
      ],
      "execution_count": 252,
      "outputs": [
        {
          "output_type": "stream",
          "name": "stdout",
          "text": [
            "what we need to create the full index: \n",
            "postings_filtered\n",
            "[('political', [(12, 26), (303, 5), (307, 24), (308, 10), (336, 1), (339, 20), (358, 15), (359, 2), (569, 20), (594, 1), (600, 8), (620, 11), (624, 5), (627, 3), (643, 2), (663, 2), (665, 2), (676, 1), (677, 1), (689, 4), (690, 2), (691, 9), (700, 6), (701, 22), (705, 3), (706, 1), (717, 4), (736, 3), (737, 9), (738, 9), (740, 1), (746, 10), (751, 1), (752, 8), (771, 13), (783, 2), (802, 3), (803, 3), (808, 1), (825, 1), (841, 1), (842, 3), (846, 6), (854, 1), (857, 2), (863, 18), (872, 5), (874, 6), (880, 1), (881, 2), (888, 1), (905, 7), (911, 1), (930, 2), (931, 1), (933, 1), (951, 4), (954, 10), (974, 1), (981, 1), (983, 4), (1008, 1), (1016, 1), (1017, 7), (1023, 17), (1028, 11), (1030, 11), (1036, 1), (1051, 1), (1057, 2), (1058, 2), (1070, 2), (1078, 29), (1087, 2), (1093, 7), (1094, 5), (1096, 1), (1097, 2), (1098, 2), (1111, 2), (1129, 1), (1130, 2), (1141, 2), (1148, 2), (1164, 2), (1167, 3), (1168, 2), (1169, 1), (1171, 1), (1174, 1), (1175, 3), (1177, 3), (1182, 1), (1192, 2), (1193, 12), (1203, 2), (1214, 3), (1216, 3), (1217, 1), (1227, 1), (1235, 5), (1239, 4), (1241, 4), (1252, 1), (1254, 1), (1256, 1), (1259, 2), (1261, 1), (1270, 3), (1273, 30), (1274, 1), (1285, 1), (1286, 1), (1288, 1), (1298, 2), (1305, 1), (1306, 1), (1316, 10), (1324, 4), (1332, 1), (1334, 1), (1348, 1), (1363, 1), (1370, 6), (1376, 3), (1395, 4), (1397, 1), (1409, 2), (1417, 2), (1438, 1), (1442, 3), (1461, 3), (1486, 1), (1490, 1), (1491, 1), (1494, 3), (1495, 11), (1499, 2), (1500, 1), (1513, 1), (1514, 4), (1519, 1), (1520, 2), (1527, 1), (1530, 5), (1537, 1), (1541, 1), (1546, 6), (1550, 2), (1556, 2), (1557, 3), (1560, 1), (1566, 6), (1570, 3), (1571, 2), (1575, 3), (1576, 1), (1577, 11), (1583, 1), (1592, 4), (1595, 3), (1613, 2), (1616, 1), (1617, 2), (1623, 25), (1624, 24), (1625, 11), (1627, 1), (1640, 1), (1644, 5), (1649, 4), (1655, 1), (1657, 3), (1659, 1), (1660, 1), (1661, 1), (1676, 2), (1677, 5), (1683, 1), (1686, 3), (1687, 1), (1688, 1), (1710, 1), (1711, 1), (1715, 5), (1719, 1), (1734, 1), (1737, 2), (1750, 1), (1752, 1), (1762, 1), (1767, 1), (1770, 1), (1781, 1), (1787, 1), (1791, 2), (1806, 16), (1812, 12), (1814, 5), (1822, 2), (1826, 1), (1828, 3), (1837, 3), (1841, 1), (1842, 4), (1845, 1), (1854, 1), (1857, 3), (1859, 2), (1874, 2), (1880, 1), (1881, 1), (1921, 8), (1930, 7), (1934, 1), (1938, 5), (1942, 2), (1943, 11), (1950, 24), (1955, 1), (1965, 2), (1973, 24), (1990, 2), (1994, 1), (1998, 5), (2006, 11), (2007, 1), (2009, 1), (2011, 1), (2018, 1), (2030, 11), (2042, 5), (2047, 3), (2053, 1), (2067, 2), (2070, 5), (2075, 7), (2076, 1), (2084, 2), (2085, 3), (2101, 1), (2104, 5), (2108, 1), (2122, 5), (2126, 5), (2130, 5), (2140, 1), (2148, 1), (2151, 7), (2152, 1), (2154, 18), (2162, 1), (2166, 6), (2167, 1), (2176, 17), (2178, 1), (2180, 1), (2185, 6), (2187, 5), (2194, 2), (2210, 2), (2216, 4), (2224, 1), (2226, 2), (2235, 1), (2236, 2), (2238, 2), (2241, 7), (2299, 3), (2303, 2), (2310, 2), (2314, 2), (2321, 1), (2326, 1), (2331, 1), (2332, 2), (2338, 1), (2345, 1), (2371, 4), (2376, 8), (2377, 1), (2384, 1), (2398, 1), (2406, 1), (2417, 1), (2418, 1), (2422, 3), (2425, 9), (2439, 1), (2447, 1)])]\n",
            "df_for_terms\n",
            "[('anarchism', 4)]\n",
            "doc_len\n",
            "[(12, 4179)]\n",
            "doc_tf_unnormalized\n",
            "[(12, [('anarchism', 125), ('political', 26), ('philosophy', 6), ('movement', 23), ('sceptical', 1), ('authority', 18), ('rejects', 1), ('involuntary', 1), ('coercive', 2), ('forms', 9), ('hierarchy', 4), ('calls', 3), ('abolition', 3), ('state', 50), ('holds', 2), ('undesirable', 1), ('unnecessary', 1), ('harmful', 1), ('historically', 3), ('far-left', 2), ('usually', 4), ('described', 2), ('alongside', 5), ('libertarian', 14), ('marxism', 6), ('wing', 3), ('socialism', 15), ('socialist', 14), ('strong', 2), ('historical', 4), ('association', 5), ('anti-capitalism', 3), ('history', 5), ('anarchy', 9), ('goes', 1), ('back', 2), ('prehistory', 1), ('humans', 4), ('arguably', 1), ('lived', 1), ('anarchic', 2), ('societies', 2), ('long', 2), ('establishment', 3), ('formal', 3), ('states', 8), ('realms', 1), ('empires', 1), ('rise', 1), ('organised', 2), ('hierarchical', 3), ('bodies', 1), ('scepticism', 1), ('toward', 3), ('rose', 1), ('19th', 6), ('century', 20), ('self-conscious', 1), ('emerged', 3), ('latter', 2), ('half', 2), ('first', 13), ('decades', 3), ('20th', 8), ('anarchist', 89), ('flourished', 2), ('parts', 1), ('world', 13), ('significant', 8), ('role', 6), ('workers', 11), ('struggles', 1), ('emancipation', 1), ('various', 15), ('schools', 13), ('thought', 12), ('formed', 5), ('period', 3), ('anarchists', 70), ('taken', 4), ('part', 8), ('several', 3), ('revolutions', 2), ('notably', 2), ('spanish', 4), ('civil', 5), ('war', 11), ('whose', 6), ('end', 5), ('marked', 1), ('classical', 14), ('era', 12), ('last', 2), ('21st', 3), ('resurgent', 1), ('employs', 1), ('diversity', 2), ('tactics', 15), ('order', 3), ('meet', 1), ('ideal', 8), ('ends', 4), ('broadly', 1), ('separated', 1), ('revolutionary', 10), ('evolutionary', 5), ('overlap', 2), ('two', 7), ('merely', 2), ('descriptive', 1), ('aim', 4), ('bring', 2), ('violent', 6), ('turn', 5), ('past', 2), ('prefigure', 1), ('society', 23), ('would', 14), ('like', 1), ('criticism', 10), ('praxis', 2), ('played', 1), ('diverse', 4), ('areas', 2), ('human', 9), ('criticisms', 1), ('include', 6), ('claims', 4), ('internally', 1), ('inconsistent', 1), ('utopian', 3), ('etymology', 2), ('terminology', 1), ('definition', 4), ('wilhelm', 2), ('weitling', 2), ('example', 3), ('writer', 1), ('added', 1), ('theory', 10), ('without', 10), ('using', 1), ('exact', 1), ('term', 4), ('etymological', 1), ('origin', 1), ('ancient', 2), ('greek', 1), ('anarkhia', 1), ('meaning', 3), ('ruler', 3), ('composed', 2), ('prefix', 1), ('word', 1), ('arkhos', 1), ('leader', 2), ('suffix', 1), ('ism', 1), ('denotes', 1), ('ideological', 2), ('current', 6), ('favours', 2), ('appears', 1), ('english', 2), ('1642', 1), ('anarchisme', 1), ('1539', 1), ('early', 6), ('usages', 1), ('emphasised', 1), ('sense', 3), ('disorder', 1), ('factions', 2), ('within', 12), ('french', 6), ('revolution', 10), ('labelled', 1), ('opponents', 1), ('although', 7), ('accused', 1), ('shared', 2), ('many', 16), ('views', 3), ('later', 6), ('revolutionaries', 2), ('william', 6), ('godwin', 4), ('1756', 1), ('1836', 1), ('1808', 1), ('1871', 2), ('contribute', 1), ('doctrines', 2), ('next', 1), ('generation', 1), ('use', 7), ('describing', 1), ('beliefs', 2), ('philosopher', 3), ('call', 2), ('pierre-joseph', 5), ('proudhon', 6), ('1809', 1), ('1865', 1), ('marking', 1), ('birth', 2), ('mid-19th', 1), ('since', 4), ('1890s', 2), ('beginning', 2), ('france', 3), ('libertarianism', 4), ('often', 6), ('used', 5), ('synonym', 3), ('still', 5), ('common', 8), ('outside', 1), ('united', 4), ('hand', 4), ('refer', 2), ('individualistic', 1), ('free-market', 2), ('referring', 2), ('largely', 6), ('synonymous', 1), ('recently', 1), ('diluted', 1), ('wider', 3), ('adoption', 1), ('ideologically', 3), ('disparate', 2), ('groups', 14), ('including', 3), ('new', 7), ('left', 7), ('marxists', 4), ('associate', 1), ('authoritarian', 2), ('socialists', 3), ('vanguard', 1), ('party', 2), ('well', 4), ('extreme', 2), ('liberals', 3), ('primarily', 2), ('concerned', 1), ('liberties', 1), ('additionally', 1), ('avoid', 1), (\"anarchism's\", 4), ('negative', 2), ('connotations', 1), ('emphasise', 2), ('connections', 1), ('matthew', 1), ('adams', 1), ('carl', 1), ('levy', 1), ('write', 1), ('describe', 3), ('anti-authoritarian', 3), ('noam', 1), ('chomsky', 1), ('describes', 1), ('daniel', 1), ('guérin', 1), ('wrote', 3), ('narchism', 1), ('really', 1), ('abolish', 3), ('exploitation', 1), ('man', 2), ('one', 9), ('streams', 1), ('stream', 1), ('main', 2), ('components', 1), ('concern', 2), ('liberty', 7), ('haste', 1), ('opposition', 3), ('central', 3), ('defining', 1), ('easy', 1), ('task', 1), ('lot', 1), ('discussion', 3), ('among', 17), ('scholars', 2), ('matter', 1), ('currents', 15), ('perceive', 1), ('slightly', 1), ('differently', 2), ('hence', 2), ('might', 1), ('true', 2), ('say', 2), ('cluster', 1), ('philosophies', 2), ('opposing', 2), ('organisation', 2), ('capitalism', 11), ('nationalism', 3), ('associated', 6), ('institutions', 7), ('conduct', 1), ('relations', 2), ('favour', 1), ('based', 9), ('decentralisation', 2), ('freedom', 4), ('voluntary', 3), ('however', 11), ('shortcomings', 1), ('anti-authoritarianism', 2), ('posteriori', 1), ('conclusion', 2), ('anti-statism', 1), ('much', 4), ('simply', 1), ('negation', 1), ('nonetheless', 3), ('major', 8), ('elements', 1), ('non-coercive', 2), ('rejection', 2), ('apparatus', 1), ('belief', 4), ('nature', 4), ('allows', 1), ('exist', 4), ('progress', 2), ('suggestion', 1), ('act', 6), ('pursue', 1), ('herbert', 3), ('osgood', 1), ('claimed', 1), ('antithesis', 1), ('communism', 5), ('peter', 6), ('marshall', 1), ('general', 4), ('closer', 2), ('liberalism', 3), ('finds', 2), ('camp', 1), ('outriders', 1), ('cannot', 4), ('reduced', 1), ('best', 1), ('seen', 4), ('separate', 1), ('distinctive', 1), ('doctrine', 2), ('according', 8), ('jeremy', 1), ('jennings', 2), ('hard', 1), ('conclude', 1), ('ideas', 7), ('anarcho-capitalism', 2), ('basis', 1), ('misunderstanding', 1), ('adds', 1), ('stand', 1), ('untrammelled', 1), ('individual', 13), ('anarcho-capitalists', 1), ('appear', 1), ('believe', 2), ('already', 1), ('extension', 2), ('individuality', 2), ('community', 5), ('nicolas', 1), ('walter', 1), ('derive', 1), ('always', 2), ('remain', 1), ('whenever', 1), ('reject', 3), ('good', 2), ('either', 1), ('betray', 1), ('michael', 2), ('newman', 1), ('includes', 2), ('traditions', 6), ('especially', 7), ('socialist-aligned', 1), ('tradition', 4), ('following', 6), ('mikhail', 4), ('bakunin', 6), ('brian', 1), ('morriss', 1), ('argues', 3), ('conceptually', 1), ('misleading', 1), ('create', 4), ('dichotomy', 1), ('pre-modern', 1), ('upright', 5), ('zeno', 1), ('citium', 1), ('334', 1), ('262', 1), ('republic', 1), ('inspired', 1), ('kropotkin', 6), ('prehistoric', 1), ('mankind', 1), ('established', 8), ('creation', 2), ('towns', 1), ('cities', 1), ('anarchistic', 4), ('espoused', 3), ('reaction', 3), ('notable', 2), ('precursors', 1), ('china', 3), ('greece', 3), ('philosophical', 15), ('legitimacy', 2), ('delineated', 1), ('taoist', 1), ('philosophers', 2), ('zhuang', 1), ('zhou', 1), ('laozi', 1), ('stoicism', 1), ('taoism', 1), ('said', 1), ('anticipations', 1), ('attitudes', 4), ('articulated', 2), ('tragedians', 1), ('aeschylus', 1), ('sophocles', 1), ('myth', 1), ('antigone', 1), ('illustrate', 1), ('conflict', 2), ('rules', 1), ('set', 3), ('personal', 2), ('autonomy', 12), ('socrates', 1), ('questioned', 1), ('athenian', 1), ('authorities', 3), ('constantly', 1), ('insisted', 1), ('right', 4), ('conscience', 1), ('cynics', 1), ('dismissed', 1), ('law', 3), ('nomos', 1), ('trying', 1), ('live', 1), ('physis', 1), ('stoics', 1), ('supportive', 2), ('unofficial', 1), ('friendly', 1), ('citizens', 2), ('presence', 2), ('middle', 1), ('ages', 1), ('activity', 1), ('except', 2), ('ascetic', 1), ('religious', 3), ('movements', 12), ('muslim', 1), ('christian', 2), ('europe', 5), ('kind', 1), ('gave', 1), ('sasanian', 1), ('empire', 1), ('mazdak', 1), ('called', 3), ('egalitarian', 1), ('monarchy', 2), ('soon', 1), ('executed', 1), ('emperor', 1), ('kavad', 1), ('basra', 1), ('sects', 2), ('preached', 1), ('developed', 6), ('anti-state', 2), ('tendencies', 7), ('renaissance', 1), ('spread', 4), ('humanism', 2), ('rationalism', 1), ('reasoning', 2), ('novelists', 1), ('fictionalised', 1), ('voluntarism', 1), ('rather', 7), ('coercion', 4), ('age', 3), ('enlightenment', 1), ('pushed', 1), ('towards', 8), ('optimism', 1), ('social', 15), ('modern', 2), ('partisan', 1), ('enragés', 1), ('saw', 6), ('turning', 1), ('point', 3), ('fermentation', 1), ('federalist', 1), ('sentiments', 1), ('throughout', 2), ('18th', 1), ('england', 2), ('morally', 3), ('delegitimising', 1), ('max', 3), (\"stirner's\", 1), ('thinking', 2), ('paved', 1), ('way', 6), ('individualism', 4), (\"proudhon's\", 2), ('mutualism', 7), ('found', 3), ('fertile', 1), ('soil', 1), ('late', 6), ('1870s', 2), ('become', 2), ('well-defined', 1), ('wave', 4), ('unprecedented', 2), ('globalization', 1), ('occurred', 1), ('1880', 1), ('1914', 1), ('lasted', 1), ('considered', 2), ('golden', 1), ('opposed', 4), ('marxist', 5), ('dictatorship', 2), ('proletariat', 2), ('allied', 2), ('federalists', 1), ('international', 11), ('expulsion', 2), ('drawing', 2), ('founded', 2), ('collectivist', 7), ('entered', 1), (\"workingmen's\", 1), ('class', 8), ('worker', 2), ('union', 2), ('known', 8), ('1864', 1), ('unite', 1), ('became', 8), ('force', 2), ('karl', 1), ('marx', 1), ('leading', 5), ('figure', 1), ('member', 4), ('council', 1), (\"bakunin's\", 1), ('faction', 1), ('jura', 1), ('federation', 4), ('followers', 1), ('mutualists', 1), ('advocating', 2), ('abstentionism', 1), ('small', 8), ('property', 4), ('holdings', 1), ('bitter', 3), ('disputes', 1), ('bakuninists', 1), ('expelled', 2), ('1872', 1), ('hague', 1), ('congress', 1), ('treated', 1), ('similarly', 2), ('second', 4), ('ultimately', 2), ('1896', 1), ('famously', 1), ('predicted', 1), ('gained', 1), ('power', 6), (\"marx's\", 1), ('terms', 2), ('tyrants', 1), ('response', 3), ('imier', 1), ('influence', 2), ('russian', 3), ('scientist', 1), ('anarcho-communism', 5), ('overlapped', 1), ('collectivism', 3), ('anarcho-communists', 2), ('drew', 1), ('inspiration', 2), ('paris', 2), ('commune', 2), ('advocated', 3), ('free', 20), ('distribution', 2), ('goods', 2), (\"one's\", 2), ('needs', 2), ('feature', 1), ('syndicalism', 3), ('students', 2), ('imported', 1), ('humanistic', 1), ('pro-science', 1), ('version', 1), ('tokyo', 1), ('hotspot', 1), ('rebellious', 1), ('youth', 1), ('countries', 3), ('far', 1), ('east', 1), ('travelling', 1), ('japanese', 1), ('capital', 1), ('study', 2), ('latin', 2), ('america', 2), ('argentina', 1), ('stronghold', 1), ('anarcho-syndicalism', 3), ('prominent', 7), ('left-wing', 3), ('ideology', 2), ('time', 6), ('minority', 1), ('adopted', 4), ('violence', 11), ('strategy', 2), ('propaganda', 3), ('deed', 2), ('dismemberment', 1), ('execution', 1), ('exile', 1), ('communards', 1), ('penal', 1), ('colonies', 1), ('suppression', 3), ('favoured', 2), ('individualist', 10), ('expression', 1), ('acts', 4), ('even', 4), ('though', 1), ('distanced', 2), ('terrorist', 1), ('infamy', 1), ('came', 1), ('upon', 4), ('attempts', 3), ('made', 3), ('exclude', 1), ('american', 2), ('immigration', 2), ('1903', 1), ('exclusion', 1), ('illegalism', 2), ('another', 6), ('nestor', 2), ('makhno', 1), ('members', 6), ('insurrectionary', 2), ('army', 2), ('ukraine', 3), ('despite', 3), ('concerns', 2), ('enthusiastically', 1), ('participated', 1), ('white', 2), ('met', 2), ('harsh', 1), ('bolshevik', 1), ('government', 8), ('stabilized', 1), ('petrograd', 1), ('moscow', 1), ('fled', 1), ('kronstadt', 1), ('rebellion', 2), (\"makhno's\", 1), ('struggle', 2), ('territory', 1), ('crushed', 1), ('russia', 1), ('antithetical', 1), ('namely', 4), ('platformism', 1), ('synthesis', 2), ('former', 1), ('sought', 3), ('coherent', 1), ('group', 7), ('push', 1), ('anything', 1), ('resemble', 1), ('seeing', 3), ('victories', 1), ('bolsheviks', 1), ('october', 1), ('resulting', 2), ('activists', 3), ('turned', 1), ('communist', 4), ('parties', 1), ('grew', 2), ('expense', 1), ('syndicalist', 2), ('confederation', 1), ('labour', 2), ('industrial', 1), ('organisations', 1), ('joined', 1), ('1936', 1), ('syndicalists', 1), ('cnt', 1), ('fai', 1), ('leftists', 1), ('led', 3), ('playing', 1), ('pivotal', 1), ('anarchist-inspired', 1), ('peasants', 1), ('supported', 2), ('armed', 2), ('militias', 1), ('took', 4), ('control', 3), ('barcelona', 2), ('large', 3), ('rural', 1), ('spain', 3), ('collectivised', 1), ('land', 1), ('soviet', 1), ('provided', 1), ('limited', 3), ('assistance', 1), ('result', 2), ('fight', 1), ('communists', 1), ('series', 2), ('events', 3), ('named', 1), ('may', 4), ('days', 1), ('joseph', 2), ('stalin', 1), ('tried', 1), ('seize', 1), ('republicans', 1), ('post-war', 1), (\"rojava's\", 1), ('support', 3), ('efforts', 1), ('form', 7), ('cooperatives', 2), ('exemplified', 2), ('sewing', 1), ('cooperative', 1), ('severely', 1), ('weakened', 1), ('1960s', 2), ('witnessed', 1), ('revival', 2), ('likely', 1), ('caused', 2), ('perceived', 1), ('failure', 2), ('leninism', 1), ('tensions', 1), ('built', 2), ('cold', 1), ('critical', 2), ('anti-nuclear', 1), ('environmental', 1), ('peace', 1), ('counterculture', 1), ('transition', 1), ('previous', 1), ('provocative', 1), ('anti-capitalist', 3), ('reformism', 1), ('punk', 2), ('subculture', 1), ('bands', 1), ('crass', 1), ('sex', 1), ('pistols', 1), ('feminist', 3), ('anarcha-feminism', 2), ('returned', 1), ('vigour', 1), ('feminism', 3), ('black', 5), ('began', 1), ('take', 4), ('influenced', 3), ('move', 1), ('eurocentric', 1), ('demographic', 1), ('coincided', 1), ('gain', 2), ('traction', 1), ('northern', 3), ('height', 1), ('around', 2), ('popularity', 1), ('anti-war', 1), ('anti-globalisation', 2), ('involvement', 2), ('protests', 6), ('trade', 2), ('organization', 1), ('wto', 2), ('eight', 1), ('economic', 7), ('forum', 1), ('hoc', 1), ('leaderless', 2), ('anonymous', 1), ('cadres', 1), ('blocs', 1), ('engaged', 1), ('rioting', 1), ('destruction', 2), ('confrontations', 2), ('police', 3), ('organisational', 2), ('pioneered', 1), ('affinity', 2), ('security', 1), ('culture', 3), ('decentralised', 1), ('technologies', 1), ('internet', 1), ('event', 1), ('1999', 1), ('seattle', 1), ('conference', 1), ('influential', 1), ('development', 1), ('zapatistas', 1), ('mexico', 2), ('democratic', 2), ('syria', 2), ('commonly', 3), ('rojava', 1), ('facto', 1), ('autonomous', 2), ('region', 1), ('generally', 2), ('grouped', 1), ('owing', 1), ('different', 3), ('origins', 1), ('values', 4), ('evolution', 1), ('emphasises', 2), ('restraints', 1), ('positive', 1), ('aiming', 1), ('achieve', 3), ('potential', 2), ('equality', 5), ('ownership', 3), ('chronological', 1), ('segmented', 1), ('post-classical', 2), ('green', 2), ('post-anarchism', 1), ('thereafter', 1), ('beyond', 1), ('specific', 4), ('constitute', 1), ('lies', 1), ('lacks', 2), ('moral', 6), ('necessarily', 1), ('accepting', 1), ('imperative', 1), ('eliminate', 1), ('component', 1), ('tolerate', 1), ('existence', 1), ('minimal', 1), ('obligation', 1), ('obey', 1), ('conflicts', 1), ('pays', 1), ('attention', 1), ('arguments', 3), ('ethics', 5), ('emphasis', 1), ('egalitarianism', 1), ('sets', 2), ('apart', 1), ('types', 2), ('placed', 1), ('spectrum', 1), ('economics', 1), ('legal', 1), ('reflect', 3), ('anti-statist', 1), ('radical', 3), ('interpretations', 1), ('politics', 2), ('theories', 2), ('offer', 1), ('fixed', 1), ('body', 1), ('single', 1), ('particular', 1), ('worldview', 1), ('varieties', 1), ('diverge', 1), ('widely', 3), ('sectarianism', 1), ('milieu', 2), ('adjectives', 1), ('toleration', 1), ('unity', 3), ('fernando', 1), ('tarrida', 1), ('del', 1), ('mármol', 1), ('1889', 1), ('debates', 1), ('nihilism', 1), ('separation', 1), ('distinct', 2), ('entities', 2), ('intermingle', 1), ('connected', 1), ('uniform', 1), ('principles', 10), ('local', 1), ('mutual', 2), ('aid', 2), ('network', 3), ('communal', 2), ('democracy', 3), ('justified', 1), ('primary', 2), ('proponent', 2), ('future', 2), ('thinkers', 3), ('inceptive', 1), ('followed', 1), ('differ', 2), ('aspects', 2), ('18th-century', 1), ('aims', 4), ('reciprocity', 1), ('contract', 1), ('monetary', 1), ('reform', 2), ('credit', 1), ('currency', 1), ('regulated', 1), ('bank', 1), ('people', 5), ('retrospectively', 1), ('characterised', 2), ('situated', 1), ('1840', 1), ('goal', 2), ('third', 3), ('advocate', 4), ('collective', 4), ('means', 12), ('production', 3), ('theorised', 1), ('achieved', 1), ('paid', 1), ('worked', 1), ('distributed', 1), ('need', 5), ('arose', 3), ('rejected', 1), ('stated', 1), ('stateless', 1), ('advocates', 4), ('direct', 6), ('horizontal', 1), ('associations', 1), ('councils', 1), ('consumption', 1), ('guiding', 1), ('principle', 5), ('ability', 4), ('formulated', 1), ('italian', 2), ('section', 1), ('expanded', 2), ('theoretical', 1), ('work', 3), ('style', 1), ('onto', 1), ('dominating', 1), ('view', 2), ('branch', 1), ('syndicates', 1), ('change', 2), ('replacing', 1), ('democratically', 1), ('self-managed', 2), ('basic', 1), ('action', 9), ('solidarity', 1), ('self-management', 1), ('kinds', 3), ('external', 2), ('determinants', 1), ('influences', 1), ('stirner', 2), ('henry', 1), ('david', 1), ('thoreau', 1), ('attracted', 1), ('yet', 1), ('bohemian', 1), ('artists', 1), ('intellectuals', 1), ('young', 1), ('outlaws', 1), ('reclamation', 1), ('contemporary', 14), ('lawrence', 1), ('jarach', 2), ('john', 4), ('zerzan', 2), ('authors', 1), ('voice', 1), ('anarcho-primitivism', 2), ('noted', 1), ('post-left', 1), ('undergird', 1), ('interest', 3), ('momentum', 1), ('activist', 1), ('networks', 2), ('orientation', 1), ('shaped', 1), ('radicalism', 1), ('embrace', 2), ('signaled', 1), ('continued', 1), ('generate', 1), ('times', 1), ('eclectic', 1), ('sources', 5), ('syncretic', 1), ('combining', 1), ('concepts', 1), ('approaches', 2), ('remained', 1), ('news', 2), ('coverage', 1), ('emphasizes', 1), ('bloc', 3), ('demonstrations', 3), ('reinforced', 2), ('chaos', 1), ('publicity', 1), ('fields', 1), ('anthropology', 1), ('engage', 3), ('actions', 4), ('academic', 2), ('today', 1), ('making', 1), ('difficult', 1), ('theorists', 1), ('relatively', 1), ('stable', 1), ('constellations', 1), ('consensus', 6), ('core', 1), ('commentators', 1), ('multiple', 1), ('anarchisms', 1), ('singular', 1), ('prioritizes', 1), ('gender', 4), ('ranks', 1), ('higher', 1), ('priority', 1), ('anarcha-feminists', 1), ('committed', 1), ('centralized', 1), ('representative', 1), ('etc', 3), ('systems', 1), ('bolshevism', 1), ('feudalism', 1), ('slavery', 1), ('autocratic', 1), ('religions', 1), ('fundamentalist', 1), ('islam', 1), ('roman', 1), ('catholicism', 1), ('patriarchy', 1), ('heterosexism', 1), ('supremacy', 1), ('imperialism', 1), ('disagree', 1), ('methods', 2), ('equal', 2), ('transcends', 1), ('liberal', 1), ('entails', 1), ('implemented', 1), ('questioning', 1), ('domination', 3), ('serve', 2), ('goals', 2), ('oppose', 3), ('secondly', 2), ('promote', 1), ('vision', 2), ('illustrating', 1), ('broad', 1), ('categorisation', 1), ('destroy', 1), ('oppressive', 1), ('nonviolence', 2), ('gradual', 1), ('approach', 3), ('shifted', 1), ('course', 1), ('focused', 1), ('strikes', 5), ('militancy', 1), ('broader', 2), ('array', 1), ('relationship', 1), ('controversial', 2), ('subject', 2), ('shown', 1), ('leon', 1), ('czolgosz', 1), ('assassinating', 1), ('mckinley', 1), ('militant', 3), ('tendency', 3), ('confront', 1), ('forces', 1), ('employed', 2), ('terrorism', 3), ('assassination', 1), ('carried', 1), ('heads', 1), ('successful', 2), ('galleanists', 1), ('believed', 4), ('impetus', 1), ('attacks', 1), ('done', 1), ('assailants', 1), ('majority', 1), ('place', 1), ('1880s', 1), ('occurring', 1), ('1900s', 1), ('decrease', 1), ('prevalence', 1), ('judicial', 1), ('targeting', 1), ('cataloging', 1), ('perspectives', 2), ('perplexing', 1), ('anarcho-pacifists', 1), ('tactic', 2), ('sabotage', 2), ('attitude', 1), ('quite', 2), ('ago', 1), ('tyrant', 1), ('believing', 3), ('every', 2), ('oppression', 2), ('possible', 3), ('emma', 2), ('goldman', 2), ('errico', 1), ('malatesta', 1), ('proponents', 1), ('argued', 4), ('necessary', 3), ('evil', 1), ('active', 1), ('strike', 1), ('tended', 1), ('antipathetic', 1), ('reformist', 1), ('overthrow', 1), ('arts', 3), ('practiced', 1), ('naturism', 1), ('nudism', 1), ('communities', 1), ('friendship', 1), ('involved', 2), ('media', 1), ('protesters', 1), ('parading', 1), ('imagery', 1), ('motto', 1), ('alfredo', 1), ('bonanno', 2), ('reinstated', 1), ('debate', 1), ('rejecting', 2), ('afterwards', 1), ('invisible', 2), ('committee', 2), ('informal', 1), ('affiliation', 1), ('responsible', 2), ('works', 1), ('together', 2), ('utilizing', 1), ('enemies', 1), ('arrested', 2), ('2008', 1), ('charges', 1), ('included', 2), ('overall', 1), ('less', 2), ('ancestors', 1), ('mostly', 2), ('confronting', 1), ('riots', 1), ('canada', 1), ('protest', 1), ('clashing', 1), ('clash', 1), ('operators', 1), ('fascists', 1), ('racists', 1), ('taking', 2), ('anti-fascist', 1), ('mobilizing', 1), ('prevent', 1), ('hate', 1), ('rallies', 1), ('happening', 1), ('employ', 1), ('disrupting', 1), ('protesting', 2), ('unjust', 1), ('self-managing', 1), ('lives', 1), ('counter-institutions', 1), ('communes', 1), ('non-hierarchical', 1), ('collectives', 1), ('decision-making', 2), ('handled', 1), ('everyone', 1), ('decision', 1), ('horizontalism', 2), ('contemporary-era', 1), ('engaging', 1), ('grassroots', 1), ('explicitly', 4), ('respecting', 1), ('participating', 1), ('mass', 1), ('activism', 2), ('contrast', 1), ('big-a', 1), ('newly', 1), ('coined', 1), ('small-a', 1), ('signals', 1), ('base', 2), ('thoughts', 2), ('classical-era', 1), ('justify', 1), ('opinions', 1), ('experience', 1), ('theorize', 1), ('process', 3), ('plays', 1), ('tactical', 1), ('build', 2), ('rough', 2), ('play', 1), ('facilitator', 1), ('help', 1), ('promoting', 1), ('minorities', 1), ('accept', 1), ('feel', 1), ('proposal', 1), ('contradicts', 1), ('individuals', 2), ('enhance', 1), ('friendships', 1), ('interconnect', 1), ('forming', 1), ('larger', 1), ('participate', 2), ('wildcat', 1), ('centrally', 1), ('syndicate', 1), ('newspapers', 1), ('journals', 1), ('gone', 1), ('online', 2), ('wide', 1), ('web', 1), ('message', 1), ('easier', 1), ('websites', 1), ('distributional', 1), ('difficulties', 1), ('hosting', 1), ('electronic', 1), ('libraries', 1), ('portals', 1), ('developing', 3), ('software', 1), ('available', 1), ('hacktivists', 1), ('develop', 2), ('distribute', 1), ('resembles', 1), ('ideals', 1), ('comes', 2), ('preserving', 1), ('users', 1), ('privacy', 1), ('surveillance', 1), ('organize', 1), ('squat', 1), ('reclaim', 1), ('public', 1), ('spaces', 3), ('important', 1), ('occupied', 1), ('temporary', 1), ('zones', 1), ('taz', 1), ('art', 7), ('poetry', 1), ('surrealism', 1), ('blended', 1), ('display', 1), ('squatting', 1), ('regain', 1), ('urban', 1), ('space', 2), ('capitalist', 1), ('market', 1), ('serving', 1), ('pragmatical', 1), ('exemplary', 1), ('acquiring', 1), ('enables', 1), ('experiment', 1), ('bonds', 1), ('adding', 1), ('mind', 1), ('share', 1), ('along', 3), ('highly', 2), ('symbolic', 1), ('make', 1), ('carnivalesque', 1), ('atmosphere', 1), ('vividity', 1), ('key', 1), ('issues', 1), ('embodies', 1), ('disagreement', 1), ('questions', 1), ('uses', 1), ('identical', 1), ('created', 1), ('number', 2), ('definitional', 1), ('compatibility', 1), ('religion', 1), ('disputed', 1), ('enjoys', 1), ('complex', 1), ('relationships', 1), ('ideologies', 4), ('unionism', 1), ('motivated', 1), ('divine', 1), ('enlightened', 1), ('self-interest', 1), ('veganism', 1), ('alternative', 1), ('ethical', 1), ('phenomena', 1), ('civilisation', 1), ('technology', 1), ('sharply', 1), ('criticised', 2), ('simultaneously', 1), ('lauded', 1), ('others', 3), ('sexuality', 4), ('love', 9), ('émile', 1), ('armand', 1), ('propounded', 1), ('virtues', 1), ('parisian', 1), ('carry', 1), ('dynamics', 2), ('obliged', 1), ('address', 1), ('analyse', 1), ('roles', 1), ('traditionally', 1), ('impose', 1), ('collection', 1), ('anarcha-feminist', 1), ('symbols', 1), ('flags', 1), ('discussed', 1), ('felt', 1), ('lead', 3), ('naturally', 1), ('sexual', 4), ('benjamin', 1), ('tucker', 1), ('consent', 1), ('laws', 1), ('benefit', 1), ('predatory', 1), ('men', 3), ('1890', 1), ('1920', 1), ('survives', 1), ('polyamory', 1), ('queer', 1), ('marriage', 3), ('imposing', 1), ('women', 2), ('greatly', 1), ('notion', 1), ('critique', 7), (\"women's\", 1), ('pleasure', 1), ('contributed', 1), ('houses', 1), ('travelers', 1), ('slept', 1), ('beds', 1), ('roots', 1), ('struggled', 1), ('jealousy', 1), ('feminists', 3), ('pro-choice', 1), ('utilising', 1), ('similar', 3), ('agenda', 1), ('non-anarchist', 1), ('differed', 1), ('suffrage', 1), ('intermingled', 1), ('radicalising', 1), ('latest', 1), ('rights', 1), ('gays', 1), ('queers', 1), ('marginalised', 1), ('suggesting', 2), ('fusion', 1), ('identity', 1), ('compulsory', 1), ('heterosexuality', 1), ('yielding', 1), ('post-structuralist', 1), ('normality', 1), ('line', 3), ('leaned', 2), ('dropping', 1), ('cause', 1), ('liberation', 1), ('education', 15), ('statist', 1), ('educationruth', 1), ('kinna', 1), ('2019', 1), ('educationstate', 1), ('educationconcept', 1), ('self-mastery', 1), ('servicemanagement', 1), ('runmethods', 1), ('practice-based', 1), ('learning', 2), ('vocational', 1), ('trainingaims', 1), ('productive', 1), ('stretches', 1), ('emergence', 1), ('consider', 3), ('proper', 1), ('foundations', 1), ('writers', 2), ('justice', 2), ('false', 1), ('attacked', 1), ('private', 1), ('ruling', 3), ('replicate', 1), ('privileges', 1), ('1901', 1), ('catalan', 1), ('thinker', 1), ('francisco', 1), ('ferrer', 4), ('escuela', 1), ('moderna', 1), ('system', 4), ('dictated', 1), ('catholic', 1), ('church', 2), (\"ferrer's\", 1), ('secular', 1), ('educational', 2), ('whilst', 2), ('giving', 1), ('pupils', 2), ('amounts', 1), ('planning', 1), ('attendance', 1), ('aimed', 1), ('educate', 1), ('working', 1), ('foster', 1), ('consciousness', 1), ('school', 4), ('closed', 1), ('constant', 1), ('harassment', 1), ('leo', 2), ('tolstoy', 2), ('published', 1), ('essay', 2), ('founding', 1), ('effective', 1), ('token', 1), ('neill', 1), ('summerhill', 1), ('1921', 1), ('declaring', 1), ('idea', 3), (\"child's\", 1), ('freely', 1), ('manipulation', 2), ('ought', 1), ('respected', 1), ('rationality', 1), ('children', 1), ('conclusions', 1), ('little', 1), ('figures', 1), ('constitutes', 1), ('indoctrination', 2), ('taught', 1), ('critiques', 2), ('colin', 2), ('ward', 3), ('read', 2), ('paul', 2), ('goodman', 1), ('intensified', 1), ('focusing', 1), ('focuses', 1), (\"children's\", 1), ('creativity', 1), ('attain', 1), ('career', 1), ('consumerism', 1), ('consumer', 1), ('serves', 1), ('perpetuate', 1), ('socioeconomic', 1), ('inequality', 1), ('survived', 1), ('modern-day', 1), ('tenets', 1), ('respect', 1), ('child', 1), ('relying', 2), ('teaching', 1), ('method', 1), ('mainstream', 1), ('judith', 1), ('suissa', 1), ('names', 1), ('three', 3), ('skool', 1), ('santa', 1), ('cruz', 1), ('american-canadian', 1), ('college', 1), ('brighton', 1), ('paideia', 1), ('objection', 1), ('sine', 1), ('qua', 1), ('non', 1), ('tool', 2), ('illegitimate', 1), ('regardless', 2), ('instead', 1), ('able', 1), ('life', 2), ('decisions', 1), ('elite', 1), ('rests', 1), ('solely', 1), ('whether', 1), ('open', 1), ('transparent', 1), ('coerce', 1), ('argument', 4), ('constituting', 1), ('altruistic', 1), ('officials', 1), ('unavoidably', 1), ('seek', 1), ('corruption', 1), ('unachievable', 1), ('fiction', 2), ('due', 1), ('fact', 1), ('rest', 1), ('vary', 1), ('robert', 1), ('wolff', 1), ('tension', 1), ('mean', 1), ('could', 5), ('never', 1), ('legitimate', 3), ('camouflaged', 1), ('unceremonious', 1), ('overt', 1), ('simmons', 2), ('leslie', 1), ('governed', 1), ('unlikely', 1), ('340px', 1), ('les', 2), ('chataigniers', 2), ('osny', 2), ('1888', 1), ('painter', 2), ('camille', 2), ('pissarro', 2), ('blending', 2), ('connection', 1), ('profound', 1), ('artistic', 1), ('futurists', 1), ('surrealists', 1), ('literature', 1), ('apocalyptics', 1), ('neo-romanticism', 1), ('music', 2), ('scenes', 1), ('border', 1), ('artist', 1), ('non-artist', 1), ('separates', 1), ('daily', 1), ('construct', 1), ('produced', 1), ('alienation', 1), ('prevents', 1), ('living', 1), ('joyful', 1), ('book', 2), ('breaking', 1), ('spell', 1), ('filmmakers', 1), ('videotape', 1), ('guerrillas', 1), ('digital', 1), ('ninjas', 1), ('chris', 1), ('robé', 1), ('anarchist-inflected', 1), ('practices', 1), ('increasingly', 1), ('structured', 1), ('movement-based', 1), ('video', 1), ('gustav', 1), ('landauer', 1), ('camillo', 1), ('berneri', 1), ('publications', 1), ('matters', 1), ('pertaining', 1), ('overlapping', 1), ('properties', 1), ('useful', 1), ('depict', 1), ('existing', 1), ('hierarchies', 1), ('prefigurative', 1), ('appeals', 1), ('emotion', 1), ('reason', 1), ('appeal', 1), ('whole', 1), ('powerful', 1), ('effect', 1), ('19th-century', 1), ('neo-impressionist', 1), ('ecological', 1), ('aesthetic', 2), ('offered', 1), ('perception', 2), ('road', 1), ('harmony', 1), ('prefiguring', 1), ('agrarian', 1), ('bertrand', 2), ('russell', 2), ('unable', 1), ('provide', 1), ('services', 1), ('self-govern', 1), ('survival', 1), ('stating', 1), ('eace', 1), ('tariffs', 1), ('regulations', 1), ('sanitary', 1), ('conditions', 1), ('sale', 1), ('noxious', 1), ('drugs', 1), ('preservation', 1), ('functions', 1), ('hardly', 1), ('performed', 1), ('fits', 1), ('isolation', 1), ('enough', 1), ('self-governing', 1), ('responds', 1), ('federalism', 1), ('lecturer', 1), ('andrew', 1), ('fiala', 2), ('list', 3), ('innately', 1), ('related', 1), ('pragmatic', 1), ('evaluated', 1), ('unfeasible', 1), ('defeated', 1), ('practically', 1), ('self-contradictory', 1), ('no-one', 1), ('archiei', 1), ('accepted', 1), ('self-contradiction', 1), ('endorsing', 1), ('lastly', 1), ('mentions', 1), ('ineffective', 1), ('talk', 1), ('meantime', 1), ('bourgeois', 1), ('remains', 1), ('academia', 1), ('release', 1), ('pro-anarchist', 1), ('books', 2), ('obligations', 1), ('professor', 1), ('edmundson', 2), ('authored', 1), ('arguing', 2), ('fallacious', 1), ('owe', 1), ('duty', 1), ('obedience', 1), ('imply', 1), ('inevitable', 1), ('problem', 1), ('huemer', 1), ('defends', 1), ('claiming', 1), ('illusion', 1), ('defies', 1), ('fails', 1), ('understand', 1), ('biological', 1), ('inclination', 1), ('1886', 1), ('article', 1), ('north', 1), ('review', 1), ('frances', 1), ('ferguson', 1), ('raz', 2), ('acceptance', 1), ('implies', 1), ('instructions', 1), ('afford', 1), ('success', 1), ('believes', 1), ('mistaken', 1), ('instruction', 1), ('challenging', 1), ('disobeying', 1), ('entail', 1), ('disappearance', 1), ('advantages', 1), ('acknowledging', 1), ('doctors', 1), ('lawyers', 1), ('reliable', 1), ('involve', 1), ('complete', 1), ('surrender', 1), ('independent', 1), ('judgment', 1), ('commitment', 1), ('academics', 1), ('naive', 1), ('overly', 1), ('simplistic', 1), ('unrealistic', 1), ('respectively', 1), ('criticized', 2), ('heavily', 1), ('cooperation', 1), ('prospering', 1), ('friedrich', 1), ('engels', 1), ('principal', 1), ('founders', 1), ('inherently', 1), ('counter-revolutionary', 1), ('molyneux', 1), ('writes', 1), ('win', 1), ('properly', 1), ('implement', 1), ('character', 1), ('follow', 1), ('directly', 1), ('essence', 1), ('argue', 1), ('contradiction', 1), ('inability', 1), ('resolved', 1), ('coexistence', 1), ('intertwining', 1), ('country', 1), ('governance', 1), ('citations', 1), ('secondary', 1), ('tertiary', 1), ('reading', 1), ('defence', 1), ('137', 1), ('popular', 1), ('novel', 1), ('archives', 2), ('research', 1), ('center', 1), ('anti-fascism', 1)])]\n",
            "total_number_of_docs_N\n",
            "21084\n"
          ]
        },
        {
          "output_type": "stream",
          "name": "stderr",
          "text": [
            "Traceback (most recent call last):\n",
            "  File \"/usr/local/lib/python3.7/dist-packages/pyspark/serializers.py\", line 437, in dumps\n",
            "    return cloudpickle.dumps(obj, pickle_protocol)\n",
            "  File \"/usr/local/lib/python3.7/dist-packages/pyspark/cloudpickle/cloudpickle_fast.py\", line 102, in dumps\n",
            "    cp.dump(obj)\n",
            "  File \"/usr/local/lib/python3.7/dist-packages/pyspark/cloudpickle/cloudpickle_fast.py\", line 563, in dump\n",
            "    return Pickler.dump(self, obj)\n",
            "  File \"/usr/lib/python3.7/pickle.py\", line 437, in dump\n",
            "    self.save(obj)\n",
            "  File \"/usr/lib/python3.7/pickle.py\", line 504, in save\n",
            "    f(self, obj) # Call unbound method with explicit self\n",
            "  File \"/usr/lib/python3.7/pickle.py\", line 789, in save_tuple\n",
            "    save(element)\n",
            "  File \"/usr/lib/python3.7/pickle.py\", line 504, in save\n",
            "    f(self, obj) # Call unbound method with explicit self\n",
            "  File \"/usr/local/lib/python3.7/dist-packages/pyspark/cloudpickle/cloudpickle_fast.py\", line 745, in save_function\n",
            "    *self._dynamic_function_reduce(obj), obj=obj\n",
            "  File \"/usr/local/lib/python3.7/dist-packages/pyspark/cloudpickle/cloudpickle_fast.py\", line 687, in _save_reduce_pickle5\n",
            "    save(state)\n",
            "  File \"/usr/lib/python3.7/pickle.py\", line 504, in save\n",
            "    f(self, obj) # Call unbound method with explicit self\n",
            "  File \"/usr/lib/python3.7/pickle.py\", line 774, in save_tuple\n",
            "    save(element)\n",
            "  File \"/usr/lib/python3.7/pickle.py\", line 504, in save\n",
            "    f(self, obj) # Call unbound method with explicit self\n",
            "  File \"/usr/lib/python3.7/pickle.py\", line 859, in save_dict\n",
            "    self._batch_setitems(obj.items())\n",
            "  File \"/usr/lib/python3.7/pickle.py\", line 885, in _batch_setitems\n",
            "    save(v)\n",
            "  File \"/usr/lib/python3.7/pickle.py\", line 504, in save\n",
            "    f(self, obj) # Call unbound method with explicit self\n",
            "  File \"/usr/lib/python3.7/pickle.py\", line 774, in save_tuple\n",
            "    save(element)\n",
            "  File \"/usr/lib/python3.7/pickle.py\", line 549, in save\n",
            "    self.save_reduce(obj=obj, *rv)\n",
            "  File \"/usr/lib/python3.7/pickle.py\", line 638, in save_reduce\n",
            "    save(args)\n",
            "  File \"/usr/lib/python3.7/pickle.py\", line 504, in save\n",
            "    f(self, obj) # Call unbound method with explicit self\n",
            "  File \"/usr/lib/python3.7/pickle.py\", line 774, in save_tuple\n",
            "    save(element)\n",
            "  File \"/usr/lib/python3.7/pickle.py\", line 504, in save\n",
            "    f(self, obj) # Call unbound method with explicit self\n",
            "  File \"/usr/local/lib/python3.7/dist-packages/pyspark/cloudpickle/cloudpickle_fast.py\", line 745, in save_function\n",
            "    *self._dynamic_function_reduce(obj), obj=obj\n",
            "  File \"/usr/local/lib/python3.7/dist-packages/pyspark/cloudpickle/cloudpickle_fast.py\", line 687, in _save_reduce_pickle5\n",
            "    save(state)\n",
            "  File \"/usr/lib/python3.7/pickle.py\", line 504, in save\n",
            "    f(self, obj) # Call unbound method with explicit self\n",
            "  File \"/usr/lib/python3.7/pickle.py\", line 774, in save_tuple\n",
            "    save(element)\n",
            "  File \"/usr/lib/python3.7/pickle.py\", line 504, in save\n",
            "    f(self, obj) # Call unbound method with explicit self\n",
            "  File \"/usr/lib/python3.7/pickle.py\", line 859, in save_dict\n",
            "    self._batch_setitems(obj.items())\n",
            "  File \"/usr/lib/python3.7/pickle.py\", line 885, in _batch_setitems\n",
            "    save(v)\n",
            "  File \"/usr/lib/python3.7/pickle.py\", line 504, in save\n",
            "    f(self, obj) # Call unbound method with explicit self\n",
            "  File \"/usr/lib/python3.7/pickle.py\", line 774, in save_tuple\n",
            "    save(element)\n",
            "  File \"/usr/lib/python3.7/pickle.py\", line 549, in save\n",
            "    self.save_reduce(obj=obj, *rv)\n",
            "  File \"/usr/lib/python3.7/pickle.py\", line 638, in save_reduce\n",
            "    save(args)\n",
            "  File \"/usr/lib/python3.7/pickle.py\", line 504, in save\n",
            "    f(self, obj) # Call unbound method with explicit self\n",
            "  File \"/usr/lib/python3.7/pickle.py\", line 774, in save_tuple\n",
            "    save(element)\n",
            "  File \"/usr/lib/python3.7/pickle.py\", line 504, in save\n",
            "    f(self, obj) # Call unbound method with explicit self\n",
            "  File \"/usr/local/lib/python3.7/dist-packages/pyspark/cloudpickle/cloudpickle_fast.py\", line 745, in save_function\n",
            "    *self._dynamic_function_reduce(obj), obj=obj\n",
            "  File \"/usr/local/lib/python3.7/dist-packages/pyspark/cloudpickle/cloudpickle_fast.py\", line 687, in _save_reduce_pickle5\n",
            "    save(state)\n",
            "  File \"/usr/lib/python3.7/pickle.py\", line 504, in save\n",
            "    f(self, obj) # Call unbound method with explicit self\n",
            "  File \"/usr/lib/python3.7/pickle.py\", line 774, in save_tuple\n",
            "    save(element)\n",
            "  File \"/usr/lib/python3.7/pickle.py\", line 504, in save\n",
            "    f(self, obj) # Call unbound method with explicit self\n",
            "  File \"/usr/lib/python3.7/pickle.py\", line 859, in save_dict\n",
            "    self._batch_setitems(obj.items())\n",
            "  File \"/usr/lib/python3.7/pickle.py\", line 885, in _batch_setitems\n",
            "    save(v)\n",
            "  File \"/usr/lib/python3.7/pickle.py\", line 504, in save\n",
            "    f(self, obj) # Call unbound method with explicit self\n",
            "  File \"/usr/lib/python3.7/pickle.py\", line 774, in save_tuple\n",
            "    save(element)\n",
            "  File \"/usr/lib/python3.7/pickle.py\", line 549, in save\n",
            "    self.save_reduce(obj=obj, *rv)\n",
            "  File \"/usr/lib/python3.7/pickle.py\", line 638, in save_reduce\n",
            "    save(args)\n",
            "  File \"/usr/lib/python3.7/pickle.py\", line 504, in save\n",
            "    f(self, obj) # Call unbound method with explicit self\n",
            "  File \"/usr/lib/python3.7/pickle.py\", line 774, in save_tuple\n",
            "    save(element)\n",
            "  File \"/usr/lib/python3.7/pickle.py\", line 504, in save\n",
            "    f(self, obj) # Call unbound method with explicit self\n",
            "  File \"/usr/local/lib/python3.7/dist-packages/pyspark/cloudpickle/cloudpickle_fast.py\", line 745, in save_function\n",
            "    *self._dynamic_function_reduce(obj), obj=obj\n",
            "  File \"/usr/local/lib/python3.7/dist-packages/pyspark/cloudpickle/cloudpickle_fast.py\", line 687, in _save_reduce_pickle5\n",
            "    save(state)\n",
            "  File \"/usr/lib/python3.7/pickle.py\", line 504, in save\n",
            "    f(self, obj) # Call unbound method with explicit self\n",
            "  File \"/usr/lib/python3.7/pickle.py\", line 774, in save_tuple\n",
            "    save(element)\n",
            "  File \"/usr/lib/python3.7/pickle.py\", line 504, in save\n",
            "    f(self, obj) # Call unbound method with explicit self\n",
            "  File \"/usr/lib/python3.7/pickle.py\", line 859, in save_dict\n",
            "    self._batch_setitems(obj.items())\n",
            "  File \"/usr/lib/python3.7/pickle.py\", line 885, in _batch_setitems\n",
            "    save(v)\n",
            "  File \"/usr/lib/python3.7/pickle.py\", line 504, in save\n",
            "    f(self, obj) # Call unbound method with explicit self\n",
            "  File \"/usr/lib/python3.7/pickle.py\", line 859, in save_dict\n",
            "    self._batch_setitems(obj.items())\n",
            "  File \"/usr/lib/python3.7/pickle.py\", line 890, in _batch_setitems\n",
            "    save(v)\n",
            "  File \"/usr/lib/python3.7/pickle.py\", line 504, in save\n",
            "    f(self, obj) # Call unbound method with explicit self\n",
            "  File \"/usr/local/lib/python3.7/dist-packages/pyspark/cloudpickle/cloudpickle_fast.py\", line 745, in save_function\n",
            "    *self._dynamic_function_reduce(obj), obj=obj\n",
            "  File \"/usr/local/lib/python3.7/dist-packages/pyspark/cloudpickle/cloudpickle_fast.py\", line 687, in _save_reduce_pickle5\n",
            "    save(state)\n",
            "  File \"/usr/lib/python3.7/pickle.py\", line 504, in save\n",
            "    f(self, obj) # Call unbound method with explicit self\n",
            "  File \"/usr/lib/python3.7/pickle.py\", line 774, in save_tuple\n",
            "    save(element)\n",
            "  File \"/usr/lib/python3.7/pickle.py\", line 504, in save\n",
            "    f(self, obj) # Call unbound method with explicit self\n",
            "  File \"/usr/lib/python3.7/pickle.py\", line 859, in save_dict\n",
            "    self._batch_setitems(obj.items())\n",
            "  File \"/usr/lib/python3.7/pickle.py\", line 885, in _batch_setitems\n",
            "    save(v)\n",
            "  File \"/usr/lib/python3.7/pickle.py\", line 504, in save\n",
            "    f(self, obj) # Call unbound method with explicit self\n",
            "  File \"/usr/lib/python3.7/pickle.py\", line 859, in save_dict\n",
            "    self._batch_setitems(obj.items())\n",
            "  File \"/usr/lib/python3.7/pickle.py\", line 885, in _batch_setitems\n",
            "    save(v)\n",
            "  File \"/usr/lib/python3.7/pickle.py\", line 524, in save\n",
            "    rv = reduce(self.proto)\n",
            "  File \"/usr/local/lib/python3.7/dist-packages/pyspark/rdd.py\", line 263, in __getnewargs__\n",
            "    \"It appears that you are attempting to broadcast an RDD or reference an RDD from an \"\n",
            "RuntimeError: It appears that you are attempting to broadcast an RDD or reference an RDD from an action or transformation. RDD transformations and actions can only be invoked by the driver, not inside of other transformations; for example, rdd1.map(lambda x: rdd2.values.count() * x) is invalid because the values transformation and count action cannot be performed inside of the rdd1.map transformation. For more information, see SPARK-5063.\n"
          ]
        },
        {
          "output_type": "error",
          "ename": "PicklingError",
          "evalue": "ignored",
          "traceback": [
            "\u001b[0;31m---------------------------------------------------------------------------\u001b[0m",
            "\u001b[0;31mRuntimeError\u001b[0m                              Traceback (most recent call last)",
            "\u001b[0;32m/usr/local/lib/python3.7/dist-packages/pyspark/serializers.py\u001b[0m in \u001b[0;36mdumps\u001b[0;34m(self, obj)\u001b[0m\n\u001b[1;32m    436\u001b[0m         \u001b[0;32mtry\u001b[0m\u001b[0;34m:\u001b[0m\u001b[0;34m\u001b[0m\u001b[0;34m\u001b[0m\u001b[0m\n\u001b[0;32m--> 437\u001b[0;31m             \u001b[0;32mreturn\u001b[0m \u001b[0mcloudpickle\u001b[0m\u001b[0;34m.\u001b[0m\u001b[0mdumps\u001b[0m\u001b[0;34m(\u001b[0m\u001b[0mobj\u001b[0m\u001b[0;34m,\u001b[0m \u001b[0mpickle_protocol\u001b[0m\u001b[0;34m)\u001b[0m\u001b[0;34m\u001b[0m\u001b[0;34m\u001b[0m\u001b[0m\n\u001b[0m\u001b[1;32m    438\u001b[0m         \u001b[0;32mexcept\u001b[0m \u001b[0mpickle\u001b[0m\u001b[0;34m.\u001b[0m\u001b[0mPickleError\u001b[0m\u001b[0;34m:\u001b[0m\u001b[0;34m\u001b[0m\u001b[0;34m\u001b[0m\u001b[0m\n",
            "\u001b[0;32m/usr/local/lib/python3.7/dist-packages/pyspark/cloudpickle/cloudpickle_fast.py\u001b[0m in \u001b[0;36mdumps\u001b[0;34m(obj, protocol)\u001b[0m\n\u001b[1;32m    101\u001b[0m             \u001b[0mcp\u001b[0m \u001b[0;34m=\u001b[0m \u001b[0mCloudPickler\u001b[0m\u001b[0;34m(\u001b[0m\u001b[0mfile\u001b[0m\u001b[0;34m,\u001b[0m \u001b[0mprotocol\u001b[0m\u001b[0;34m=\u001b[0m\u001b[0mprotocol\u001b[0m\u001b[0;34m)\u001b[0m\u001b[0;34m\u001b[0m\u001b[0;34m\u001b[0m\u001b[0m\n\u001b[0;32m--> 102\u001b[0;31m             \u001b[0mcp\u001b[0m\u001b[0;34m.\u001b[0m\u001b[0mdump\u001b[0m\u001b[0;34m(\u001b[0m\u001b[0mobj\u001b[0m\u001b[0;34m)\u001b[0m\u001b[0;34m\u001b[0m\u001b[0;34m\u001b[0m\u001b[0m\n\u001b[0m\u001b[1;32m    103\u001b[0m             \u001b[0;32mreturn\u001b[0m \u001b[0mfile\u001b[0m\u001b[0;34m.\u001b[0m\u001b[0mgetvalue\u001b[0m\u001b[0;34m(\u001b[0m\u001b[0;34m)\u001b[0m\u001b[0;34m\u001b[0m\u001b[0;34m\u001b[0m\u001b[0m\n",
            "\u001b[0;32m/usr/local/lib/python3.7/dist-packages/pyspark/cloudpickle/cloudpickle_fast.py\u001b[0m in \u001b[0;36mdump\u001b[0;34m(self, obj)\u001b[0m\n\u001b[1;32m    562\u001b[0m         \u001b[0;32mtry\u001b[0m\u001b[0;34m:\u001b[0m\u001b[0;34m\u001b[0m\u001b[0;34m\u001b[0m\u001b[0m\n\u001b[0;32m--> 563\u001b[0;31m             \u001b[0;32mreturn\u001b[0m \u001b[0mPickler\u001b[0m\u001b[0;34m.\u001b[0m\u001b[0mdump\u001b[0m\u001b[0;34m(\u001b[0m\u001b[0mself\u001b[0m\u001b[0;34m,\u001b[0m \u001b[0mobj\u001b[0m\u001b[0;34m)\u001b[0m\u001b[0;34m\u001b[0m\u001b[0;34m\u001b[0m\u001b[0m\n\u001b[0m\u001b[1;32m    564\u001b[0m         \u001b[0;32mexcept\u001b[0m \u001b[0mRuntimeError\u001b[0m \u001b[0;32mas\u001b[0m \u001b[0me\u001b[0m\u001b[0;34m:\u001b[0m\u001b[0;34m\u001b[0m\u001b[0;34m\u001b[0m\u001b[0m\n",
            "\u001b[0;32m/usr/lib/python3.7/pickle.py\u001b[0m in \u001b[0;36mdump\u001b[0;34m(self, obj)\u001b[0m\n\u001b[1;32m    436\u001b[0m             \u001b[0mself\u001b[0m\u001b[0;34m.\u001b[0m\u001b[0mframer\u001b[0m\u001b[0;34m.\u001b[0m\u001b[0mstart_framing\u001b[0m\u001b[0;34m(\u001b[0m\u001b[0;34m)\u001b[0m\u001b[0;34m\u001b[0m\u001b[0;34m\u001b[0m\u001b[0m\n\u001b[0;32m--> 437\u001b[0;31m         \u001b[0mself\u001b[0m\u001b[0;34m.\u001b[0m\u001b[0msave\u001b[0m\u001b[0;34m(\u001b[0m\u001b[0mobj\u001b[0m\u001b[0;34m)\u001b[0m\u001b[0;34m\u001b[0m\u001b[0;34m\u001b[0m\u001b[0m\n\u001b[0m\u001b[1;32m    438\u001b[0m         \u001b[0mself\u001b[0m\u001b[0;34m.\u001b[0m\u001b[0mwrite\u001b[0m\u001b[0;34m(\u001b[0m\u001b[0mSTOP\u001b[0m\u001b[0;34m)\u001b[0m\u001b[0;34m\u001b[0m\u001b[0;34m\u001b[0m\u001b[0m\n",
            "\u001b[0;32m/usr/lib/python3.7/pickle.py\u001b[0m in \u001b[0;36msave\u001b[0;34m(self, obj, save_persistent_id)\u001b[0m\n\u001b[1;32m    503\u001b[0m         \u001b[0;32mif\u001b[0m \u001b[0mf\u001b[0m \u001b[0;32mis\u001b[0m \u001b[0;32mnot\u001b[0m \u001b[0;32mNone\u001b[0m\u001b[0;34m:\u001b[0m\u001b[0;34m\u001b[0m\u001b[0;34m\u001b[0m\u001b[0m\n\u001b[0;32m--> 504\u001b[0;31m             \u001b[0mf\u001b[0m\u001b[0;34m(\u001b[0m\u001b[0mself\u001b[0m\u001b[0;34m,\u001b[0m \u001b[0mobj\u001b[0m\u001b[0;34m)\u001b[0m \u001b[0;31m# Call unbound method with explicit self\u001b[0m\u001b[0;34m\u001b[0m\u001b[0;34m\u001b[0m\u001b[0m\n\u001b[0m\u001b[1;32m    505\u001b[0m             \u001b[0;32mreturn\u001b[0m\u001b[0;34m\u001b[0m\u001b[0;34m\u001b[0m\u001b[0m\n",
            "\u001b[0;32m/usr/lib/python3.7/pickle.py\u001b[0m in \u001b[0;36msave_tuple\u001b[0;34m(self, obj)\u001b[0m\n\u001b[1;32m    788\u001b[0m         \u001b[0;32mfor\u001b[0m \u001b[0melement\u001b[0m \u001b[0;32min\u001b[0m \u001b[0mobj\u001b[0m\u001b[0;34m:\u001b[0m\u001b[0;34m\u001b[0m\u001b[0;34m\u001b[0m\u001b[0m\n\u001b[0;32m--> 789\u001b[0;31m             \u001b[0msave\u001b[0m\u001b[0;34m(\u001b[0m\u001b[0melement\u001b[0m\u001b[0;34m)\u001b[0m\u001b[0;34m\u001b[0m\u001b[0;34m\u001b[0m\u001b[0m\n\u001b[0m\u001b[1;32m    790\u001b[0m \u001b[0;34m\u001b[0m\u001b[0m\n",
            "\u001b[0;32m/usr/lib/python3.7/pickle.py\u001b[0m in \u001b[0;36msave\u001b[0;34m(self, obj, save_persistent_id)\u001b[0m\n\u001b[1;32m    503\u001b[0m         \u001b[0;32mif\u001b[0m \u001b[0mf\u001b[0m \u001b[0;32mis\u001b[0m \u001b[0;32mnot\u001b[0m \u001b[0;32mNone\u001b[0m\u001b[0;34m:\u001b[0m\u001b[0;34m\u001b[0m\u001b[0;34m\u001b[0m\u001b[0m\n\u001b[0;32m--> 504\u001b[0;31m             \u001b[0mf\u001b[0m\u001b[0;34m(\u001b[0m\u001b[0mself\u001b[0m\u001b[0;34m,\u001b[0m \u001b[0mobj\u001b[0m\u001b[0;34m)\u001b[0m \u001b[0;31m# Call unbound method with explicit self\u001b[0m\u001b[0;34m\u001b[0m\u001b[0;34m\u001b[0m\u001b[0m\n\u001b[0m\u001b[1;32m    505\u001b[0m             \u001b[0;32mreturn\u001b[0m\u001b[0;34m\u001b[0m\u001b[0;34m\u001b[0m\u001b[0m\n",
            "\u001b[0;32m/usr/local/lib/python3.7/dist-packages/pyspark/cloudpickle/cloudpickle_fast.py\u001b[0m in \u001b[0;36msave_function\u001b[0;34m(self, obj, name)\u001b[0m\n\u001b[1;32m    744\u001b[0m                 return self._save_reduce_pickle5(\n\u001b[0;32m--> 745\u001b[0;31m                     \u001b[0;34m*\u001b[0m\u001b[0mself\u001b[0m\u001b[0;34m.\u001b[0m\u001b[0m_dynamic_function_reduce\u001b[0m\u001b[0;34m(\u001b[0m\u001b[0mobj\u001b[0m\u001b[0;34m)\u001b[0m\u001b[0;34m,\u001b[0m \u001b[0mobj\u001b[0m\u001b[0;34m=\u001b[0m\u001b[0mobj\u001b[0m\u001b[0;34m\u001b[0m\u001b[0;34m\u001b[0m\u001b[0m\n\u001b[0m\u001b[1;32m    746\u001b[0m                 )\n",
            "\u001b[0;32m/usr/local/lib/python3.7/dist-packages/pyspark/cloudpickle/cloudpickle_fast.py\u001b[0m in \u001b[0;36m_save_reduce_pickle5\u001b[0;34m(self, func, args, state, listitems, dictitems, state_setter, obj)\u001b[0m\n\u001b[1;32m    686\u001b[0m             \u001b[0msave\u001b[0m\u001b[0;34m(\u001b[0m\u001b[0mobj\u001b[0m\u001b[0;34m)\u001b[0m  \u001b[0;31m# simple BINGET opcode as obj is already memoized.\u001b[0m\u001b[0;34m\u001b[0m\u001b[0;34m\u001b[0m\u001b[0m\n\u001b[0;32m--> 687\u001b[0;31m             \u001b[0msave\u001b[0m\u001b[0;34m(\u001b[0m\u001b[0mstate\u001b[0m\u001b[0;34m)\u001b[0m\u001b[0;34m\u001b[0m\u001b[0;34m\u001b[0m\u001b[0m\n\u001b[0m\u001b[1;32m    688\u001b[0m             \u001b[0mwrite\u001b[0m\u001b[0;34m(\u001b[0m\u001b[0mpickle\u001b[0m\u001b[0;34m.\u001b[0m\u001b[0mTUPLE2\u001b[0m\u001b[0;34m)\u001b[0m\u001b[0;34m\u001b[0m\u001b[0;34m\u001b[0m\u001b[0m\n",
            "\u001b[0;32m/usr/lib/python3.7/pickle.py\u001b[0m in \u001b[0;36msave\u001b[0;34m(self, obj, save_persistent_id)\u001b[0m\n\u001b[1;32m    503\u001b[0m         \u001b[0;32mif\u001b[0m \u001b[0mf\u001b[0m \u001b[0;32mis\u001b[0m \u001b[0;32mnot\u001b[0m \u001b[0;32mNone\u001b[0m\u001b[0;34m:\u001b[0m\u001b[0;34m\u001b[0m\u001b[0;34m\u001b[0m\u001b[0m\n\u001b[0;32m--> 504\u001b[0;31m             \u001b[0mf\u001b[0m\u001b[0;34m(\u001b[0m\u001b[0mself\u001b[0m\u001b[0;34m,\u001b[0m \u001b[0mobj\u001b[0m\u001b[0;34m)\u001b[0m \u001b[0;31m# Call unbound method with explicit self\u001b[0m\u001b[0;34m\u001b[0m\u001b[0;34m\u001b[0m\u001b[0m\n\u001b[0m\u001b[1;32m    505\u001b[0m             \u001b[0;32mreturn\u001b[0m\u001b[0;34m\u001b[0m\u001b[0;34m\u001b[0m\u001b[0m\n",
            "\u001b[0;32m/usr/lib/python3.7/pickle.py\u001b[0m in \u001b[0;36msave_tuple\u001b[0;34m(self, obj)\u001b[0m\n\u001b[1;32m    773\u001b[0m             \u001b[0;32mfor\u001b[0m \u001b[0melement\u001b[0m \u001b[0;32min\u001b[0m \u001b[0mobj\u001b[0m\u001b[0;34m:\u001b[0m\u001b[0;34m\u001b[0m\u001b[0;34m\u001b[0m\u001b[0m\n\u001b[0;32m--> 774\u001b[0;31m                 \u001b[0msave\u001b[0m\u001b[0;34m(\u001b[0m\u001b[0melement\u001b[0m\u001b[0;34m)\u001b[0m\u001b[0;34m\u001b[0m\u001b[0;34m\u001b[0m\u001b[0m\n\u001b[0m\u001b[1;32m    775\u001b[0m             \u001b[0;31m# Subtle.  Same as in the big comment below.\u001b[0m\u001b[0;34m\u001b[0m\u001b[0;34m\u001b[0m\u001b[0;34m\u001b[0m\u001b[0m\n",
            "\u001b[0;32m/usr/lib/python3.7/pickle.py\u001b[0m in \u001b[0;36msave\u001b[0;34m(self, obj, save_persistent_id)\u001b[0m\n\u001b[1;32m    503\u001b[0m         \u001b[0;32mif\u001b[0m \u001b[0mf\u001b[0m \u001b[0;32mis\u001b[0m \u001b[0;32mnot\u001b[0m \u001b[0;32mNone\u001b[0m\u001b[0;34m:\u001b[0m\u001b[0;34m\u001b[0m\u001b[0;34m\u001b[0m\u001b[0m\n\u001b[0;32m--> 504\u001b[0;31m             \u001b[0mf\u001b[0m\u001b[0;34m(\u001b[0m\u001b[0mself\u001b[0m\u001b[0;34m,\u001b[0m \u001b[0mobj\u001b[0m\u001b[0;34m)\u001b[0m \u001b[0;31m# Call unbound method with explicit self\u001b[0m\u001b[0;34m\u001b[0m\u001b[0;34m\u001b[0m\u001b[0m\n\u001b[0m\u001b[1;32m    505\u001b[0m             \u001b[0;32mreturn\u001b[0m\u001b[0;34m\u001b[0m\u001b[0;34m\u001b[0m\u001b[0m\n",
            "\u001b[0;32m/usr/lib/python3.7/pickle.py\u001b[0m in \u001b[0;36msave_dict\u001b[0;34m(self, obj)\u001b[0m\n\u001b[1;32m    858\u001b[0m         \u001b[0mself\u001b[0m\u001b[0;34m.\u001b[0m\u001b[0mmemoize\u001b[0m\u001b[0;34m(\u001b[0m\u001b[0mobj\u001b[0m\u001b[0;34m)\u001b[0m\u001b[0;34m\u001b[0m\u001b[0;34m\u001b[0m\u001b[0m\n\u001b[0;32m--> 859\u001b[0;31m         \u001b[0mself\u001b[0m\u001b[0;34m.\u001b[0m\u001b[0m_batch_setitems\u001b[0m\u001b[0;34m(\u001b[0m\u001b[0mobj\u001b[0m\u001b[0;34m.\u001b[0m\u001b[0mitems\u001b[0m\u001b[0;34m(\u001b[0m\u001b[0;34m)\u001b[0m\u001b[0;34m)\u001b[0m\u001b[0;34m\u001b[0m\u001b[0;34m\u001b[0m\u001b[0m\n\u001b[0m\u001b[1;32m    860\u001b[0m \u001b[0;34m\u001b[0m\u001b[0m\n",
            "\u001b[0;32m/usr/lib/python3.7/pickle.py\u001b[0m in \u001b[0;36m_batch_setitems\u001b[0;34m(self, items)\u001b[0m\n\u001b[1;32m    884\u001b[0m                     \u001b[0msave\u001b[0m\u001b[0;34m(\u001b[0m\u001b[0mk\u001b[0m\u001b[0;34m)\u001b[0m\u001b[0;34m\u001b[0m\u001b[0;34m\u001b[0m\u001b[0m\n\u001b[0;32m--> 885\u001b[0;31m                     \u001b[0msave\u001b[0m\u001b[0;34m(\u001b[0m\u001b[0mv\u001b[0m\u001b[0;34m)\u001b[0m\u001b[0;34m\u001b[0m\u001b[0;34m\u001b[0m\u001b[0m\n\u001b[0m\u001b[1;32m    886\u001b[0m                 \u001b[0mwrite\u001b[0m\u001b[0;34m(\u001b[0m\u001b[0mSETITEMS\u001b[0m\u001b[0;34m)\u001b[0m\u001b[0;34m\u001b[0m\u001b[0;34m\u001b[0m\u001b[0m\n",
            "\u001b[0;32m/usr/lib/python3.7/pickle.py\u001b[0m in \u001b[0;36msave\u001b[0;34m(self, obj, save_persistent_id)\u001b[0m\n\u001b[1;32m    503\u001b[0m         \u001b[0;32mif\u001b[0m \u001b[0mf\u001b[0m \u001b[0;32mis\u001b[0m \u001b[0;32mnot\u001b[0m \u001b[0;32mNone\u001b[0m\u001b[0;34m:\u001b[0m\u001b[0;34m\u001b[0m\u001b[0;34m\u001b[0m\u001b[0m\n\u001b[0;32m--> 504\u001b[0;31m             \u001b[0mf\u001b[0m\u001b[0;34m(\u001b[0m\u001b[0mself\u001b[0m\u001b[0;34m,\u001b[0m \u001b[0mobj\u001b[0m\u001b[0;34m)\u001b[0m \u001b[0;31m# Call unbound method with explicit self\u001b[0m\u001b[0;34m\u001b[0m\u001b[0;34m\u001b[0m\u001b[0m\n\u001b[0m\u001b[1;32m    505\u001b[0m             \u001b[0;32mreturn\u001b[0m\u001b[0;34m\u001b[0m\u001b[0;34m\u001b[0m\u001b[0m\n",
            "\u001b[0;32m/usr/lib/python3.7/pickle.py\u001b[0m in \u001b[0;36msave_tuple\u001b[0;34m(self, obj)\u001b[0m\n\u001b[1;32m    773\u001b[0m             \u001b[0;32mfor\u001b[0m \u001b[0melement\u001b[0m \u001b[0;32min\u001b[0m \u001b[0mobj\u001b[0m\u001b[0;34m:\u001b[0m\u001b[0;34m\u001b[0m\u001b[0;34m\u001b[0m\u001b[0m\n\u001b[0;32m--> 774\u001b[0;31m                 \u001b[0msave\u001b[0m\u001b[0;34m(\u001b[0m\u001b[0melement\u001b[0m\u001b[0;34m)\u001b[0m\u001b[0;34m\u001b[0m\u001b[0;34m\u001b[0m\u001b[0m\n\u001b[0m\u001b[1;32m    775\u001b[0m             \u001b[0;31m# Subtle.  Same as in the big comment below.\u001b[0m\u001b[0;34m\u001b[0m\u001b[0;34m\u001b[0m\u001b[0;34m\u001b[0m\u001b[0m\n",
            "\u001b[0;32m/usr/lib/python3.7/pickle.py\u001b[0m in \u001b[0;36msave\u001b[0;34m(self, obj, save_persistent_id)\u001b[0m\n\u001b[1;32m    548\u001b[0m         \u001b[0;31m# Save the reduce() output and finally memoize the object\u001b[0m\u001b[0;34m\u001b[0m\u001b[0;34m\u001b[0m\u001b[0;34m\u001b[0m\u001b[0m\n\u001b[0;32m--> 549\u001b[0;31m         \u001b[0mself\u001b[0m\u001b[0;34m.\u001b[0m\u001b[0msave_reduce\u001b[0m\u001b[0;34m(\u001b[0m\u001b[0mobj\u001b[0m\u001b[0;34m=\u001b[0m\u001b[0mobj\u001b[0m\u001b[0;34m,\u001b[0m \u001b[0;34m*\u001b[0m\u001b[0mrv\u001b[0m\u001b[0;34m)\u001b[0m\u001b[0;34m\u001b[0m\u001b[0;34m\u001b[0m\u001b[0m\n\u001b[0m\u001b[1;32m    550\u001b[0m \u001b[0;34m\u001b[0m\u001b[0m\n",
            "\u001b[0;32m/usr/lib/python3.7/pickle.py\u001b[0m in \u001b[0;36msave_reduce\u001b[0;34m(self, func, args, state, listitems, dictitems, obj)\u001b[0m\n\u001b[1;32m    637\u001b[0m             \u001b[0msave\u001b[0m\u001b[0;34m(\u001b[0m\u001b[0mfunc\u001b[0m\u001b[0;34m)\u001b[0m\u001b[0;34m\u001b[0m\u001b[0;34m\u001b[0m\u001b[0m\n\u001b[0;32m--> 638\u001b[0;31m             \u001b[0msave\u001b[0m\u001b[0;34m(\u001b[0m\u001b[0margs\u001b[0m\u001b[0;34m)\u001b[0m\u001b[0;34m\u001b[0m\u001b[0;34m\u001b[0m\u001b[0m\n\u001b[0m\u001b[1;32m    639\u001b[0m             \u001b[0mwrite\u001b[0m\u001b[0;34m(\u001b[0m\u001b[0mREDUCE\u001b[0m\u001b[0;34m)\u001b[0m\u001b[0;34m\u001b[0m\u001b[0;34m\u001b[0m\u001b[0m\n",
            "\u001b[0;32m/usr/lib/python3.7/pickle.py\u001b[0m in \u001b[0;36msave\u001b[0;34m(self, obj, save_persistent_id)\u001b[0m\n\u001b[1;32m    503\u001b[0m         \u001b[0;32mif\u001b[0m \u001b[0mf\u001b[0m \u001b[0;32mis\u001b[0m \u001b[0;32mnot\u001b[0m \u001b[0;32mNone\u001b[0m\u001b[0;34m:\u001b[0m\u001b[0;34m\u001b[0m\u001b[0;34m\u001b[0m\u001b[0m\n\u001b[0;32m--> 504\u001b[0;31m             \u001b[0mf\u001b[0m\u001b[0;34m(\u001b[0m\u001b[0mself\u001b[0m\u001b[0;34m,\u001b[0m \u001b[0mobj\u001b[0m\u001b[0;34m)\u001b[0m \u001b[0;31m# Call unbound method with explicit self\u001b[0m\u001b[0;34m\u001b[0m\u001b[0;34m\u001b[0m\u001b[0m\n\u001b[0m\u001b[1;32m    505\u001b[0m             \u001b[0;32mreturn\u001b[0m\u001b[0;34m\u001b[0m\u001b[0;34m\u001b[0m\u001b[0m\n",
            "\u001b[0;32m/usr/lib/python3.7/pickle.py\u001b[0m in \u001b[0;36msave_tuple\u001b[0;34m(self, obj)\u001b[0m\n\u001b[1;32m    773\u001b[0m             \u001b[0;32mfor\u001b[0m \u001b[0melement\u001b[0m \u001b[0;32min\u001b[0m \u001b[0mobj\u001b[0m\u001b[0;34m:\u001b[0m\u001b[0;34m\u001b[0m\u001b[0;34m\u001b[0m\u001b[0m\n\u001b[0;32m--> 774\u001b[0;31m                 \u001b[0msave\u001b[0m\u001b[0;34m(\u001b[0m\u001b[0melement\u001b[0m\u001b[0;34m)\u001b[0m\u001b[0;34m\u001b[0m\u001b[0;34m\u001b[0m\u001b[0m\n\u001b[0m\u001b[1;32m    775\u001b[0m             \u001b[0;31m# Subtle.  Same as in the big comment below.\u001b[0m\u001b[0;34m\u001b[0m\u001b[0;34m\u001b[0m\u001b[0;34m\u001b[0m\u001b[0m\n",
            "\u001b[0;32m/usr/lib/python3.7/pickle.py\u001b[0m in \u001b[0;36msave\u001b[0;34m(self, obj, save_persistent_id)\u001b[0m\n\u001b[1;32m    503\u001b[0m         \u001b[0;32mif\u001b[0m \u001b[0mf\u001b[0m \u001b[0;32mis\u001b[0m \u001b[0;32mnot\u001b[0m \u001b[0;32mNone\u001b[0m\u001b[0;34m:\u001b[0m\u001b[0;34m\u001b[0m\u001b[0;34m\u001b[0m\u001b[0m\n\u001b[0;32m--> 504\u001b[0;31m             \u001b[0mf\u001b[0m\u001b[0;34m(\u001b[0m\u001b[0mself\u001b[0m\u001b[0;34m,\u001b[0m \u001b[0mobj\u001b[0m\u001b[0;34m)\u001b[0m \u001b[0;31m# Call unbound method with explicit self\u001b[0m\u001b[0;34m\u001b[0m\u001b[0;34m\u001b[0m\u001b[0m\n\u001b[0m\u001b[1;32m    505\u001b[0m             \u001b[0;32mreturn\u001b[0m\u001b[0;34m\u001b[0m\u001b[0;34m\u001b[0m\u001b[0m\n",
            "\u001b[0;32m/usr/local/lib/python3.7/dist-packages/pyspark/cloudpickle/cloudpickle_fast.py\u001b[0m in \u001b[0;36msave_function\u001b[0;34m(self, obj, name)\u001b[0m\n\u001b[1;32m    744\u001b[0m                 return self._save_reduce_pickle5(\n\u001b[0;32m--> 745\u001b[0;31m                     \u001b[0;34m*\u001b[0m\u001b[0mself\u001b[0m\u001b[0;34m.\u001b[0m\u001b[0m_dynamic_function_reduce\u001b[0m\u001b[0;34m(\u001b[0m\u001b[0mobj\u001b[0m\u001b[0;34m)\u001b[0m\u001b[0;34m,\u001b[0m \u001b[0mobj\u001b[0m\u001b[0;34m=\u001b[0m\u001b[0mobj\u001b[0m\u001b[0;34m\u001b[0m\u001b[0;34m\u001b[0m\u001b[0m\n\u001b[0m\u001b[1;32m    746\u001b[0m                 )\n",
            "\u001b[0;32m/usr/local/lib/python3.7/dist-packages/pyspark/cloudpickle/cloudpickle_fast.py\u001b[0m in \u001b[0;36m_save_reduce_pickle5\u001b[0;34m(self, func, args, state, listitems, dictitems, state_setter, obj)\u001b[0m\n\u001b[1;32m    686\u001b[0m             \u001b[0msave\u001b[0m\u001b[0;34m(\u001b[0m\u001b[0mobj\u001b[0m\u001b[0;34m)\u001b[0m  \u001b[0;31m# simple BINGET opcode as obj is already memoized.\u001b[0m\u001b[0;34m\u001b[0m\u001b[0;34m\u001b[0m\u001b[0m\n\u001b[0;32m--> 687\u001b[0;31m             \u001b[0msave\u001b[0m\u001b[0;34m(\u001b[0m\u001b[0mstate\u001b[0m\u001b[0;34m)\u001b[0m\u001b[0;34m\u001b[0m\u001b[0;34m\u001b[0m\u001b[0m\n\u001b[0m\u001b[1;32m    688\u001b[0m             \u001b[0mwrite\u001b[0m\u001b[0;34m(\u001b[0m\u001b[0mpickle\u001b[0m\u001b[0;34m.\u001b[0m\u001b[0mTUPLE2\u001b[0m\u001b[0;34m)\u001b[0m\u001b[0;34m\u001b[0m\u001b[0;34m\u001b[0m\u001b[0m\n",
            "\u001b[0;32m/usr/lib/python3.7/pickle.py\u001b[0m in \u001b[0;36msave\u001b[0;34m(self, obj, save_persistent_id)\u001b[0m\n\u001b[1;32m    503\u001b[0m         \u001b[0;32mif\u001b[0m \u001b[0mf\u001b[0m \u001b[0;32mis\u001b[0m \u001b[0;32mnot\u001b[0m \u001b[0;32mNone\u001b[0m\u001b[0;34m:\u001b[0m\u001b[0;34m\u001b[0m\u001b[0;34m\u001b[0m\u001b[0m\n\u001b[0;32m--> 504\u001b[0;31m             \u001b[0mf\u001b[0m\u001b[0;34m(\u001b[0m\u001b[0mself\u001b[0m\u001b[0;34m,\u001b[0m \u001b[0mobj\u001b[0m\u001b[0;34m)\u001b[0m \u001b[0;31m# Call unbound method with explicit self\u001b[0m\u001b[0;34m\u001b[0m\u001b[0;34m\u001b[0m\u001b[0m\n\u001b[0m\u001b[1;32m    505\u001b[0m             \u001b[0;32mreturn\u001b[0m\u001b[0;34m\u001b[0m\u001b[0;34m\u001b[0m\u001b[0m\n",
            "\u001b[0;32m/usr/lib/python3.7/pickle.py\u001b[0m in \u001b[0;36msave_tuple\u001b[0;34m(self, obj)\u001b[0m\n\u001b[1;32m    773\u001b[0m             \u001b[0;32mfor\u001b[0m \u001b[0melement\u001b[0m \u001b[0;32min\u001b[0m \u001b[0mobj\u001b[0m\u001b[0;34m:\u001b[0m\u001b[0;34m\u001b[0m\u001b[0;34m\u001b[0m\u001b[0m\n\u001b[0;32m--> 774\u001b[0;31m                 \u001b[0msave\u001b[0m\u001b[0;34m(\u001b[0m\u001b[0melement\u001b[0m\u001b[0;34m)\u001b[0m\u001b[0;34m\u001b[0m\u001b[0;34m\u001b[0m\u001b[0m\n\u001b[0m\u001b[1;32m    775\u001b[0m             \u001b[0;31m# Subtle.  Same as in the big comment below.\u001b[0m\u001b[0;34m\u001b[0m\u001b[0;34m\u001b[0m\u001b[0;34m\u001b[0m\u001b[0m\n",
            "\u001b[0;32m/usr/lib/python3.7/pickle.py\u001b[0m in \u001b[0;36msave\u001b[0;34m(self, obj, save_persistent_id)\u001b[0m\n\u001b[1;32m    503\u001b[0m         \u001b[0;32mif\u001b[0m \u001b[0mf\u001b[0m \u001b[0;32mis\u001b[0m \u001b[0;32mnot\u001b[0m \u001b[0;32mNone\u001b[0m\u001b[0;34m:\u001b[0m\u001b[0;34m\u001b[0m\u001b[0;34m\u001b[0m\u001b[0m\n\u001b[0;32m--> 504\u001b[0;31m             \u001b[0mf\u001b[0m\u001b[0;34m(\u001b[0m\u001b[0mself\u001b[0m\u001b[0;34m,\u001b[0m \u001b[0mobj\u001b[0m\u001b[0;34m)\u001b[0m \u001b[0;31m# Call unbound method with explicit self\u001b[0m\u001b[0;34m\u001b[0m\u001b[0;34m\u001b[0m\u001b[0m\n\u001b[0m\u001b[1;32m    505\u001b[0m             \u001b[0;32mreturn\u001b[0m\u001b[0;34m\u001b[0m\u001b[0;34m\u001b[0m\u001b[0m\n",
            "\u001b[0;32m/usr/lib/python3.7/pickle.py\u001b[0m in \u001b[0;36msave_dict\u001b[0;34m(self, obj)\u001b[0m\n\u001b[1;32m    858\u001b[0m         \u001b[0mself\u001b[0m\u001b[0;34m.\u001b[0m\u001b[0mmemoize\u001b[0m\u001b[0;34m(\u001b[0m\u001b[0mobj\u001b[0m\u001b[0;34m)\u001b[0m\u001b[0;34m\u001b[0m\u001b[0;34m\u001b[0m\u001b[0m\n\u001b[0;32m--> 859\u001b[0;31m         \u001b[0mself\u001b[0m\u001b[0;34m.\u001b[0m\u001b[0m_batch_setitems\u001b[0m\u001b[0;34m(\u001b[0m\u001b[0mobj\u001b[0m\u001b[0;34m.\u001b[0m\u001b[0mitems\u001b[0m\u001b[0;34m(\u001b[0m\u001b[0;34m)\u001b[0m\u001b[0;34m)\u001b[0m\u001b[0;34m\u001b[0m\u001b[0;34m\u001b[0m\u001b[0m\n\u001b[0m\u001b[1;32m    860\u001b[0m \u001b[0;34m\u001b[0m\u001b[0m\n",
            "\u001b[0;32m/usr/lib/python3.7/pickle.py\u001b[0m in \u001b[0;36m_batch_setitems\u001b[0;34m(self, items)\u001b[0m\n\u001b[1;32m    884\u001b[0m                     \u001b[0msave\u001b[0m\u001b[0;34m(\u001b[0m\u001b[0mk\u001b[0m\u001b[0;34m)\u001b[0m\u001b[0;34m\u001b[0m\u001b[0;34m\u001b[0m\u001b[0m\n\u001b[0;32m--> 885\u001b[0;31m                     \u001b[0msave\u001b[0m\u001b[0;34m(\u001b[0m\u001b[0mv\u001b[0m\u001b[0;34m)\u001b[0m\u001b[0;34m\u001b[0m\u001b[0;34m\u001b[0m\u001b[0m\n\u001b[0m\u001b[1;32m    886\u001b[0m                 \u001b[0mwrite\u001b[0m\u001b[0;34m(\u001b[0m\u001b[0mSETITEMS\u001b[0m\u001b[0;34m)\u001b[0m\u001b[0;34m\u001b[0m\u001b[0;34m\u001b[0m\u001b[0m\n",
            "\u001b[0;32m/usr/lib/python3.7/pickle.py\u001b[0m in \u001b[0;36msave\u001b[0;34m(self, obj, save_persistent_id)\u001b[0m\n\u001b[1;32m    503\u001b[0m         \u001b[0;32mif\u001b[0m \u001b[0mf\u001b[0m \u001b[0;32mis\u001b[0m \u001b[0;32mnot\u001b[0m \u001b[0;32mNone\u001b[0m\u001b[0;34m:\u001b[0m\u001b[0;34m\u001b[0m\u001b[0;34m\u001b[0m\u001b[0m\n\u001b[0;32m--> 504\u001b[0;31m             \u001b[0mf\u001b[0m\u001b[0;34m(\u001b[0m\u001b[0mself\u001b[0m\u001b[0;34m,\u001b[0m \u001b[0mobj\u001b[0m\u001b[0;34m)\u001b[0m \u001b[0;31m# Call unbound method with explicit self\u001b[0m\u001b[0;34m\u001b[0m\u001b[0;34m\u001b[0m\u001b[0m\n\u001b[0m\u001b[1;32m    505\u001b[0m             \u001b[0;32mreturn\u001b[0m\u001b[0;34m\u001b[0m\u001b[0;34m\u001b[0m\u001b[0m\n",
            "\u001b[0;32m/usr/lib/python3.7/pickle.py\u001b[0m in \u001b[0;36msave_tuple\u001b[0;34m(self, obj)\u001b[0m\n\u001b[1;32m    773\u001b[0m             \u001b[0;32mfor\u001b[0m \u001b[0melement\u001b[0m \u001b[0;32min\u001b[0m \u001b[0mobj\u001b[0m\u001b[0;34m:\u001b[0m\u001b[0;34m\u001b[0m\u001b[0;34m\u001b[0m\u001b[0m\n\u001b[0;32m--> 774\u001b[0;31m                 \u001b[0msave\u001b[0m\u001b[0;34m(\u001b[0m\u001b[0melement\u001b[0m\u001b[0;34m)\u001b[0m\u001b[0;34m\u001b[0m\u001b[0;34m\u001b[0m\u001b[0m\n\u001b[0m\u001b[1;32m    775\u001b[0m             \u001b[0;31m# Subtle.  Same as in the big comment below.\u001b[0m\u001b[0;34m\u001b[0m\u001b[0;34m\u001b[0m\u001b[0;34m\u001b[0m\u001b[0m\n",
            "\u001b[0;32m/usr/lib/python3.7/pickle.py\u001b[0m in \u001b[0;36msave\u001b[0;34m(self, obj, save_persistent_id)\u001b[0m\n\u001b[1;32m    548\u001b[0m         \u001b[0;31m# Save the reduce() output and finally memoize the object\u001b[0m\u001b[0;34m\u001b[0m\u001b[0;34m\u001b[0m\u001b[0;34m\u001b[0m\u001b[0m\n\u001b[0;32m--> 549\u001b[0;31m         \u001b[0mself\u001b[0m\u001b[0;34m.\u001b[0m\u001b[0msave_reduce\u001b[0m\u001b[0;34m(\u001b[0m\u001b[0mobj\u001b[0m\u001b[0;34m=\u001b[0m\u001b[0mobj\u001b[0m\u001b[0;34m,\u001b[0m \u001b[0;34m*\u001b[0m\u001b[0mrv\u001b[0m\u001b[0;34m)\u001b[0m\u001b[0;34m\u001b[0m\u001b[0;34m\u001b[0m\u001b[0m\n\u001b[0m\u001b[1;32m    550\u001b[0m \u001b[0;34m\u001b[0m\u001b[0m\n",
            "\u001b[0;32m/usr/lib/python3.7/pickle.py\u001b[0m in \u001b[0;36msave_reduce\u001b[0;34m(self, func, args, state, listitems, dictitems, obj)\u001b[0m\n\u001b[1;32m    637\u001b[0m             \u001b[0msave\u001b[0m\u001b[0;34m(\u001b[0m\u001b[0mfunc\u001b[0m\u001b[0;34m)\u001b[0m\u001b[0;34m\u001b[0m\u001b[0;34m\u001b[0m\u001b[0m\n\u001b[0;32m--> 638\u001b[0;31m             \u001b[0msave\u001b[0m\u001b[0;34m(\u001b[0m\u001b[0margs\u001b[0m\u001b[0;34m)\u001b[0m\u001b[0;34m\u001b[0m\u001b[0;34m\u001b[0m\u001b[0m\n\u001b[0m\u001b[1;32m    639\u001b[0m             \u001b[0mwrite\u001b[0m\u001b[0;34m(\u001b[0m\u001b[0mREDUCE\u001b[0m\u001b[0;34m)\u001b[0m\u001b[0;34m\u001b[0m\u001b[0;34m\u001b[0m\u001b[0m\n",
            "\u001b[0;32m/usr/lib/python3.7/pickle.py\u001b[0m in \u001b[0;36msave\u001b[0;34m(self, obj, save_persistent_id)\u001b[0m\n\u001b[1;32m    503\u001b[0m         \u001b[0;32mif\u001b[0m \u001b[0mf\u001b[0m \u001b[0;32mis\u001b[0m \u001b[0;32mnot\u001b[0m \u001b[0;32mNone\u001b[0m\u001b[0;34m:\u001b[0m\u001b[0;34m\u001b[0m\u001b[0;34m\u001b[0m\u001b[0m\n\u001b[0;32m--> 504\u001b[0;31m             \u001b[0mf\u001b[0m\u001b[0;34m(\u001b[0m\u001b[0mself\u001b[0m\u001b[0;34m,\u001b[0m \u001b[0mobj\u001b[0m\u001b[0;34m)\u001b[0m \u001b[0;31m# Call unbound method with explicit self\u001b[0m\u001b[0;34m\u001b[0m\u001b[0;34m\u001b[0m\u001b[0m\n\u001b[0m\u001b[1;32m    505\u001b[0m             \u001b[0;32mreturn\u001b[0m\u001b[0;34m\u001b[0m\u001b[0;34m\u001b[0m\u001b[0m\n",
            "\u001b[0;32m/usr/lib/python3.7/pickle.py\u001b[0m in \u001b[0;36msave_tuple\u001b[0;34m(self, obj)\u001b[0m\n\u001b[1;32m    773\u001b[0m             \u001b[0;32mfor\u001b[0m \u001b[0melement\u001b[0m \u001b[0;32min\u001b[0m \u001b[0mobj\u001b[0m\u001b[0;34m:\u001b[0m\u001b[0;34m\u001b[0m\u001b[0;34m\u001b[0m\u001b[0m\n\u001b[0;32m--> 774\u001b[0;31m                 \u001b[0msave\u001b[0m\u001b[0;34m(\u001b[0m\u001b[0melement\u001b[0m\u001b[0;34m)\u001b[0m\u001b[0;34m\u001b[0m\u001b[0;34m\u001b[0m\u001b[0m\n\u001b[0m\u001b[1;32m    775\u001b[0m             \u001b[0;31m# Subtle.  Same as in the big comment below.\u001b[0m\u001b[0;34m\u001b[0m\u001b[0;34m\u001b[0m\u001b[0;34m\u001b[0m\u001b[0m\n",
            "\u001b[0;32m/usr/lib/python3.7/pickle.py\u001b[0m in \u001b[0;36msave\u001b[0;34m(self, obj, save_persistent_id)\u001b[0m\n\u001b[1;32m    503\u001b[0m         \u001b[0;32mif\u001b[0m \u001b[0mf\u001b[0m \u001b[0;32mis\u001b[0m \u001b[0;32mnot\u001b[0m \u001b[0;32mNone\u001b[0m\u001b[0;34m:\u001b[0m\u001b[0;34m\u001b[0m\u001b[0;34m\u001b[0m\u001b[0m\n\u001b[0;32m--> 504\u001b[0;31m             \u001b[0mf\u001b[0m\u001b[0;34m(\u001b[0m\u001b[0mself\u001b[0m\u001b[0;34m,\u001b[0m \u001b[0mobj\u001b[0m\u001b[0;34m)\u001b[0m \u001b[0;31m# Call unbound method with explicit self\u001b[0m\u001b[0;34m\u001b[0m\u001b[0;34m\u001b[0m\u001b[0m\n\u001b[0m\u001b[1;32m    505\u001b[0m             \u001b[0;32mreturn\u001b[0m\u001b[0;34m\u001b[0m\u001b[0;34m\u001b[0m\u001b[0m\n",
            "\u001b[0;32m/usr/local/lib/python3.7/dist-packages/pyspark/cloudpickle/cloudpickle_fast.py\u001b[0m in \u001b[0;36msave_function\u001b[0;34m(self, obj, name)\u001b[0m\n\u001b[1;32m    744\u001b[0m                 return self._save_reduce_pickle5(\n\u001b[0;32m--> 745\u001b[0;31m                     \u001b[0;34m*\u001b[0m\u001b[0mself\u001b[0m\u001b[0;34m.\u001b[0m\u001b[0m_dynamic_function_reduce\u001b[0m\u001b[0;34m(\u001b[0m\u001b[0mobj\u001b[0m\u001b[0;34m)\u001b[0m\u001b[0;34m,\u001b[0m \u001b[0mobj\u001b[0m\u001b[0;34m=\u001b[0m\u001b[0mobj\u001b[0m\u001b[0;34m\u001b[0m\u001b[0;34m\u001b[0m\u001b[0m\n\u001b[0m\u001b[1;32m    746\u001b[0m                 )\n",
            "\u001b[0;32m/usr/local/lib/python3.7/dist-packages/pyspark/cloudpickle/cloudpickle_fast.py\u001b[0m in \u001b[0;36m_save_reduce_pickle5\u001b[0;34m(self, func, args, state, listitems, dictitems, state_setter, obj)\u001b[0m\n\u001b[1;32m    686\u001b[0m             \u001b[0msave\u001b[0m\u001b[0;34m(\u001b[0m\u001b[0mobj\u001b[0m\u001b[0;34m)\u001b[0m  \u001b[0;31m# simple BINGET opcode as obj is already memoized.\u001b[0m\u001b[0;34m\u001b[0m\u001b[0;34m\u001b[0m\u001b[0m\n\u001b[0;32m--> 687\u001b[0;31m             \u001b[0msave\u001b[0m\u001b[0;34m(\u001b[0m\u001b[0mstate\u001b[0m\u001b[0;34m)\u001b[0m\u001b[0;34m\u001b[0m\u001b[0;34m\u001b[0m\u001b[0m\n\u001b[0m\u001b[1;32m    688\u001b[0m             \u001b[0mwrite\u001b[0m\u001b[0;34m(\u001b[0m\u001b[0mpickle\u001b[0m\u001b[0;34m.\u001b[0m\u001b[0mTUPLE2\u001b[0m\u001b[0;34m)\u001b[0m\u001b[0;34m\u001b[0m\u001b[0;34m\u001b[0m\u001b[0m\n",
            "\u001b[0;32m/usr/lib/python3.7/pickle.py\u001b[0m in \u001b[0;36msave\u001b[0;34m(self, obj, save_persistent_id)\u001b[0m\n\u001b[1;32m    503\u001b[0m         \u001b[0;32mif\u001b[0m \u001b[0mf\u001b[0m \u001b[0;32mis\u001b[0m \u001b[0;32mnot\u001b[0m \u001b[0;32mNone\u001b[0m\u001b[0;34m:\u001b[0m\u001b[0;34m\u001b[0m\u001b[0;34m\u001b[0m\u001b[0m\n\u001b[0;32m--> 504\u001b[0;31m             \u001b[0mf\u001b[0m\u001b[0;34m(\u001b[0m\u001b[0mself\u001b[0m\u001b[0;34m,\u001b[0m \u001b[0mobj\u001b[0m\u001b[0;34m)\u001b[0m \u001b[0;31m# Call unbound method with explicit self\u001b[0m\u001b[0;34m\u001b[0m\u001b[0;34m\u001b[0m\u001b[0m\n\u001b[0m\u001b[1;32m    505\u001b[0m             \u001b[0;32mreturn\u001b[0m\u001b[0;34m\u001b[0m\u001b[0;34m\u001b[0m\u001b[0m\n",
            "\u001b[0;32m/usr/lib/python3.7/pickle.py\u001b[0m in \u001b[0;36msave_tuple\u001b[0;34m(self, obj)\u001b[0m\n\u001b[1;32m    773\u001b[0m             \u001b[0;32mfor\u001b[0m \u001b[0melement\u001b[0m \u001b[0;32min\u001b[0m \u001b[0mobj\u001b[0m\u001b[0;34m:\u001b[0m\u001b[0;34m\u001b[0m\u001b[0;34m\u001b[0m\u001b[0m\n\u001b[0;32m--> 774\u001b[0;31m                 \u001b[0msave\u001b[0m\u001b[0;34m(\u001b[0m\u001b[0melement\u001b[0m\u001b[0;34m)\u001b[0m\u001b[0;34m\u001b[0m\u001b[0;34m\u001b[0m\u001b[0m\n\u001b[0m\u001b[1;32m    775\u001b[0m             \u001b[0;31m# Subtle.  Same as in the big comment below.\u001b[0m\u001b[0;34m\u001b[0m\u001b[0;34m\u001b[0m\u001b[0;34m\u001b[0m\u001b[0m\n",
            "\u001b[0;32m/usr/lib/python3.7/pickle.py\u001b[0m in \u001b[0;36msave\u001b[0;34m(self, obj, save_persistent_id)\u001b[0m\n\u001b[1;32m    503\u001b[0m         \u001b[0;32mif\u001b[0m \u001b[0mf\u001b[0m \u001b[0;32mis\u001b[0m \u001b[0;32mnot\u001b[0m \u001b[0;32mNone\u001b[0m\u001b[0;34m:\u001b[0m\u001b[0;34m\u001b[0m\u001b[0;34m\u001b[0m\u001b[0m\n\u001b[0;32m--> 504\u001b[0;31m             \u001b[0mf\u001b[0m\u001b[0;34m(\u001b[0m\u001b[0mself\u001b[0m\u001b[0;34m,\u001b[0m \u001b[0mobj\u001b[0m\u001b[0;34m)\u001b[0m \u001b[0;31m# Call unbound method with explicit self\u001b[0m\u001b[0;34m\u001b[0m\u001b[0;34m\u001b[0m\u001b[0m\n\u001b[0m\u001b[1;32m    505\u001b[0m             \u001b[0;32mreturn\u001b[0m\u001b[0;34m\u001b[0m\u001b[0;34m\u001b[0m\u001b[0m\n",
            "\u001b[0;32m/usr/lib/python3.7/pickle.py\u001b[0m in \u001b[0;36msave_dict\u001b[0;34m(self, obj)\u001b[0m\n\u001b[1;32m    858\u001b[0m         \u001b[0mself\u001b[0m\u001b[0;34m.\u001b[0m\u001b[0mmemoize\u001b[0m\u001b[0;34m(\u001b[0m\u001b[0mobj\u001b[0m\u001b[0;34m)\u001b[0m\u001b[0;34m\u001b[0m\u001b[0;34m\u001b[0m\u001b[0m\n\u001b[0;32m--> 859\u001b[0;31m         \u001b[0mself\u001b[0m\u001b[0;34m.\u001b[0m\u001b[0m_batch_setitems\u001b[0m\u001b[0;34m(\u001b[0m\u001b[0mobj\u001b[0m\u001b[0;34m.\u001b[0m\u001b[0mitems\u001b[0m\u001b[0;34m(\u001b[0m\u001b[0;34m)\u001b[0m\u001b[0;34m)\u001b[0m\u001b[0;34m\u001b[0m\u001b[0;34m\u001b[0m\u001b[0m\n\u001b[0m\u001b[1;32m    860\u001b[0m \u001b[0;34m\u001b[0m\u001b[0m\n",
            "\u001b[0;32m/usr/lib/python3.7/pickle.py\u001b[0m in \u001b[0;36m_batch_setitems\u001b[0;34m(self, items)\u001b[0m\n\u001b[1;32m    884\u001b[0m                     \u001b[0msave\u001b[0m\u001b[0;34m(\u001b[0m\u001b[0mk\u001b[0m\u001b[0;34m)\u001b[0m\u001b[0;34m\u001b[0m\u001b[0;34m\u001b[0m\u001b[0m\n\u001b[0;32m--> 885\u001b[0;31m                     \u001b[0msave\u001b[0m\u001b[0;34m(\u001b[0m\u001b[0mv\u001b[0m\u001b[0;34m)\u001b[0m\u001b[0;34m\u001b[0m\u001b[0;34m\u001b[0m\u001b[0m\n\u001b[0m\u001b[1;32m    886\u001b[0m                 \u001b[0mwrite\u001b[0m\u001b[0;34m(\u001b[0m\u001b[0mSETITEMS\u001b[0m\u001b[0;34m)\u001b[0m\u001b[0;34m\u001b[0m\u001b[0;34m\u001b[0m\u001b[0m\n",
            "\u001b[0;32m/usr/lib/python3.7/pickle.py\u001b[0m in \u001b[0;36msave\u001b[0;34m(self, obj, save_persistent_id)\u001b[0m\n\u001b[1;32m    503\u001b[0m         \u001b[0;32mif\u001b[0m \u001b[0mf\u001b[0m \u001b[0;32mis\u001b[0m \u001b[0;32mnot\u001b[0m \u001b[0;32mNone\u001b[0m\u001b[0;34m:\u001b[0m\u001b[0;34m\u001b[0m\u001b[0;34m\u001b[0m\u001b[0m\n\u001b[0;32m--> 504\u001b[0;31m             \u001b[0mf\u001b[0m\u001b[0;34m(\u001b[0m\u001b[0mself\u001b[0m\u001b[0;34m,\u001b[0m \u001b[0mobj\u001b[0m\u001b[0;34m)\u001b[0m \u001b[0;31m# Call unbound method with explicit self\u001b[0m\u001b[0;34m\u001b[0m\u001b[0;34m\u001b[0m\u001b[0m\n\u001b[0m\u001b[1;32m    505\u001b[0m             \u001b[0;32mreturn\u001b[0m\u001b[0;34m\u001b[0m\u001b[0;34m\u001b[0m\u001b[0m\n",
            "\u001b[0;32m/usr/lib/python3.7/pickle.py\u001b[0m in \u001b[0;36msave_tuple\u001b[0;34m(self, obj)\u001b[0m\n\u001b[1;32m    773\u001b[0m             \u001b[0;32mfor\u001b[0m \u001b[0melement\u001b[0m \u001b[0;32min\u001b[0m \u001b[0mobj\u001b[0m\u001b[0;34m:\u001b[0m\u001b[0;34m\u001b[0m\u001b[0;34m\u001b[0m\u001b[0m\n\u001b[0;32m--> 774\u001b[0;31m                 \u001b[0msave\u001b[0m\u001b[0;34m(\u001b[0m\u001b[0melement\u001b[0m\u001b[0;34m)\u001b[0m\u001b[0;34m\u001b[0m\u001b[0;34m\u001b[0m\u001b[0m\n\u001b[0m\u001b[1;32m    775\u001b[0m             \u001b[0;31m# Subtle.  Same as in the big comment below.\u001b[0m\u001b[0;34m\u001b[0m\u001b[0;34m\u001b[0m\u001b[0;34m\u001b[0m\u001b[0m\n",
            "\u001b[0;32m/usr/lib/python3.7/pickle.py\u001b[0m in \u001b[0;36msave\u001b[0;34m(self, obj, save_persistent_id)\u001b[0m\n\u001b[1;32m    548\u001b[0m         \u001b[0;31m# Save the reduce() output and finally memoize the object\u001b[0m\u001b[0;34m\u001b[0m\u001b[0;34m\u001b[0m\u001b[0;34m\u001b[0m\u001b[0m\n\u001b[0;32m--> 549\u001b[0;31m         \u001b[0mself\u001b[0m\u001b[0;34m.\u001b[0m\u001b[0msave_reduce\u001b[0m\u001b[0;34m(\u001b[0m\u001b[0mobj\u001b[0m\u001b[0;34m=\u001b[0m\u001b[0mobj\u001b[0m\u001b[0;34m,\u001b[0m \u001b[0;34m*\u001b[0m\u001b[0mrv\u001b[0m\u001b[0;34m)\u001b[0m\u001b[0;34m\u001b[0m\u001b[0;34m\u001b[0m\u001b[0m\n\u001b[0m\u001b[1;32m    550\u001b[0m \u001b[0;34m\u001b[0m\u001b[0m\n",
            "\u001b[0;32m/usr/lib/python3.7/pickle.py\u001b[0m in \u001b[0;36msave_reduce\u001b[0;34m(self, func, args, state, listitems, dictitems, obj)\u001b[0m\n\u001b[1;32m    637\u001b[0m             \u001b[0msave\u001b[0m\u001b[0;34m(\u001b[0m\u001b[0mfunc\u001b[0m\u001b[0;34m)\u001b[0m\u001b[0;34m\u001b[0m\u001b[0;34m\u001b[0m\u001b[0m\n\u001b[0;32m--> 638\u001b[0;31m             \u001b[0msave\u001b[0m\u001b[0;34m(\u001b[0m\u001b[0margs\u001b[0m\u001b[0;34m)\u001b[0m\u001b[0;34m\u001b[0m\u001b[0;34m\u001b[0m\u001b[0m\n\u001b[0m\u001b[1;32m    639\u001b[0m             \u001b[0mwrite\u001b[0m\u001b[0;34m(\u001b[0m\u001b[0mREDUCE\u001b[0m\u001b[0;34m)\u001b[0m\u001b[0;34m\u001b[0m\u001b[0;34m\u001b[0m\u001b[0m\n",
            "\u001b[0;32m/usr/lib/python3.7/pickle.py\u001b[0m in \u001b[0;36msave\u001b[0;34m(self, obj, save_persistent_id)\u001b[0m\n\u001b[1;32m    503\u001b[0m         \u001b[0;32mif\u001b[0m \u001b[0mf\u001b[0m \u001b[0;32mis\u001b[0m \u001b[0;32mnot\u001b[0m \u001b[0;32mNone\u001b[0m\u001b[0;34m:\u001b[0m\u001b[0;34m\u001b[0m\u001b[0;34m\u001b[0m\u001b[0m\n\u001b[0;32m--> 504\u001b[0;31m             \u001b[0mf\u001b[0m\u001b[0;34m(\u001b[0m\u001b[0mself\u001b[0m\u001b[0;34m,\u001b[0m \u001b[0mobj\u001b[0m\u001b[0;34m)\u001b[0m \u001b[0;31m# Call unbound method with explicit self\u001b[0m\u001b[0;34m\u001b[0m\u001b[0;34m\u001b[0m\u001b[0m\n\u001b[0m\u001b[1;32m    505\u001b[0m             \u001b[0;32mreturn\u001b[0m\u001b[0;34m\u001b[0m\u001b[0;34m\u001b[0m\u001b[0m\n",
            "\u001b[0;32m/usr/lib/python3.7/pickle.py\u001b[0m in \u001b[0;36msave_tuple\u001b[0;34m(self, obj)\u001b[0m\n\u001b[1;32m    773\u001b[0m             \u001b[0;32mfor\u001b[0m \u001b[0melement\u001b[0m \u001b[0;32min\u001b[0m \u001b[0mobj\u001b[0m\u001b[0;34m:\u001b[0m\u001b[0;34m\u001b[0m\u001b[0;34m\u001b[0m\u001b[0m\n\u001b[0;32m--> 774\u001b[0;31m                 \u001b[0msave\u001b[0m\u001b[0;34m(\u001b[0m\u001b[0melement\u001b[0m\u001b[0;34m)\u001b[0m\u001b[0;34m\u001b[0m\u001b[0;34m\u001b[0m\u001b[0m\n\u001b[0m\u001b[1;32m    775\u001b[0m             \u001b[0;31m# Subtle.  Same as in the big comment below.\u001b[0m\u001b[0;34m\u001b[0m\u001b[0;34m\u001b[0m\u001b[0;34m\u001b[0m\u001b[0m\n",
            "\u001b[0;32m/usr/lib/python3.7/pickle.py\u001b[0m in \u001b[0;36msave\u001b[0;34m(self, obj, save_persistent_id)\u001b[0m\n\u001b[1;32m    503\u001b[0m         \u001b[0;32mif\u001b[0m \u001b[0mf\u001b[0m \u001b[0;32mis\u001b[0m \u001b[0;32mnot\u001b[0m \u001b[0;32mNone\u001b[0m\u001b[0;34m:\u001b[0m\u001b[0;34m\u001b[0m\u001b[0;34m\u001b[0m\u001b[0m\n\u001b[0;32m--> 504\u001b[0;31m             \u001b[0mf\u001b[0m\u001b[0;34m(\u001b[0m\u001b[0mself\u001b[0m\u001b[0;34m,\u001b[0m \u001b[0mobj\u001b[0m\u001b[0;34m)\u001b[0m \u001b[0;31m# Call unbound method with explicit self\u001b[0m\u001b[0;34m\u001b[0m\u001b[0;34m\u001b[0m\u001b[0m\n\u001b[0m\u001b[1;32m    505\u001b[0m             \u001b[0;32mreturn\u001b[0m\u001b[0;34m\u001b[0m\u001b[0;34m\u001b[0m\u001b[0m\n",
            "\u001b[0;32m/usr/local/lib/python3.7/dist-packages/pyspark/cloudpickle/cloudpickle_fast.py\u001b[0m in \u001b[0;36msave_function\u001b[0;34m(self, obj, name)\u001b[0m\n\u001b[1;32m    744\u001b[0m                 return self._save_reduce_pickle5(\n\u001b[0;32m--> 745\u001b[0;31m                     \u001b[0;34m*\u001b[0m\u001b[0mself\u001b[0m\u001b[0;34m.\u001b[0m\u001b[0m_dynamic_function_reduce\u001b[0m\u001b[0;34m(\u001b[0m\u001b[0mobj\u001b[0m\u001b[0;34m)\u001b[0m\u001b[0;34m,\u001b[0m \u001b[0mobj\u001b[0m\u001b[0;34m=\u001b[0m\u001b[0mobj\u001b[0m\u001b[0;34m\u001b[0m\u001b[0;34m\u001b[0m\u001b[0m\n\u001b[0m\u001b[1;32m    746\u001b[0m                 )\n",
            "\u001b[0;32m/usr/local/lib/python3.7/dist-packages/pyspark/cloudpickle/cloudpickle_fast.py\u001b[0m in \u001b[0;36m_save_reduce_pickle5\u001b[0;34m(self, func, args, state, listitems, dictitems, state_setter, obj)\u001b[0m\n\u001b[1;32m    686\u001b[0m             \u001b[0msave\u001b[0m\u001b[0;34m(\u001b[0m\u001b[0mobj\u001b[0m\u001b[0;34m)\u001b[0m  \u001b[0;31m# simple BINGET opcode as obj is already memoized.\u001b[0m\u001b[0;34m\u001b[0m\u001b[0;34m\u001b[0m\u001b[0m\n\u001b[0;32m--> 687\u001b[0;31m             \u001b[0msave\u001b[0m\u001b[0;34m(\u001b[0m\u001b[0mstate\u001b[0m\u001b[0;34m)\u001b[0m\u001b[0;34m\u001b[0m\u001b[0;34m\u001b[0m\u001b[0m\n\u001b[0m\u001b[1;32m    688\u001b[0m             \u001b[0mwrite\u001b[0m\u001b[0;34m(\u001b[0m\u001b[0mpickle\u001b[0m\u001b[0;34m.\u001b[0m\u001b[0mTUPLE2\u001b[0m\u001b[0;34m)\u001b[0m\u001b[0;34m\u001b[0m\u001b[0;34m\u001b[0m\u001b[0m\n",
            "\u001b[0;32m/usr/lib/python3.7/pickle.py\u001b[0m in \u001b[0;36msave\u001b[0;34m(self, obj, save_persistent_id)\u001b[0m\n\u001b[1;32m    503\u001b[0m         \u001b[0;32mif\u001b[0m \u001b[0mf\u001b[0m \u001b[0;32mis\u001b[0m \u001b[0;32mnot\u001b[0m \u001b[0;32mNone\u001b[0m\u001b[0;34m:\u001b[0m\u001b[0;34m\u001b[0m\u001b[0;34m\u001b[0m\u001b[0m\n\u001b[0;32m--> 504\u001b[0;31m             \u001b[0mf\u001b[0m\u001b[0;34m(\u001b[0m\u001b[0mself\u001b[0m\u001b[0;34m,\u001b[0m \u001b[0mobj\u001b[0m\u001b[0;34m)\u001b[0m \u001b[0;31m# Call unbound method with explicit self\u001b[0m\u001b[0;34m\u001b[0m\u001b[0;34m\u001b[0m\u001b[0m\n\u001b[0m\u001b[1;32m    505\u001b[0m             \u001b[0;32mreturn\u001b[0m\u001b[0;34m\u001b[0m\u001b[0;34m\u001b[0m\u001b[0m\n",
            "\u001b[0;32m/usr/lib/python3.7/pickle.py\u001b[0m in \u001b[0;36msave_tuple\u001b[0;34m(self, obj)\u001b[0m\n\u001b[1;32m    773\u001b[0m             \u001b[0;32mfor\u001b[0m \u001b[0melement\u001b[0m \u001b[0;32min\u001b[0m \u001b[0mobj\u001b[0m\u001b[0;34m:\u001b[0m\u001b[0;34m\u001b[0m\u001b[0;34m\u001b[0m\u001b[0m\n\u001b[0;32m--> 774\u001b[0;31m                 \u001b[0msave\u001b[0m\u001b[0;34m(\u001b[0m\u001b[0melement\u001b[0m\u001b[0;34m)\u001b[0m\u001b[0;34m\u001b[0m\u001b[0;34m\u001b[0m\u001b[0m\n\u001b[0m\u001b[1;32m    775\u001b[0m             \u001b[0;31m# Subtle.  Same as in the big comment below.\u001b[0m\u001b[0;34m\u001b[0m\u001b[0;34m\u001b[0m\u001b[0;34m\u001b[0m\u001b[0m\n",
            "\u001b[0;32m/usr/lib/python3.7/pickle.py\u001b[0m in \u001b[0;36msave\u001b[0;34m(self, obj, save_persistent_id)\u001b[0m\n\u001b[1;32m    503\u001b[0m         \u001b[0;32mif\u001b[0m \u001b[0mf\u001b[0m \u001b[0;32mis\u001b[0m \u001b[0;32mnot\u001b[0m \u001b[0;32mNone\u001b[0m\u001b[0;34m:\u001b[0m\u001b[0;34m\u001b[0m\u001b[0;34m\u001b[0m\u001b[0m\n\u001b[0;32m--> 504\u001b[0;31m             \u001b[0mf\u001b[0m\u001b[0;34m(\u001b[0m\u001b[0mself\u001b[0m\u001b[0;34m,\u001b[0m \u001b[0mobj\u001b[0m\u001b[0;34m)\u001b[0m \u001b[0;31m# Call unbound method with explicit self\u001b[0m\u001b[0;34m\u001b[0m\u001b[0;34m\u001b[0m\u001b[0m\n\u001b[0m\u001b[1;32m    505\u001b[0m             \u001b[0;32mreturn\u001b[0m\u001b[0;34m\u001b[0m\u001b[0;34m\u001b[0m\u001b[0m\n",
            "\u001b[0;32m/usr/lib/python3.7/pickle.py\u001b[0m in \u001b[0;36msave_dict\u001b[0;34m(self, obj)\u001b[0m\n\u001b[1;32m    858\u001b[0m         \u001b[0mself\u001b[0m\u001b[0;34m.\u001b[0m\u001b[0mmemoize\u001b[0m\u001b[0;34m(\u001b[0m\u001b[0mobj\u001b[0m\u001b[0;34m)\u001b[0m\u001b[0;34m\u001b[0m\u001b[0;34m\u001b[0m\u001b[0m\n\u001b[0;32m--> 859\u001b[0;31m         \u001b[0mself\u001b[0m\u001b[0;34m.\u001b[0m\u001b[0m_batch_setitems\u001b[0m\u001b[0;34m(\u001b[0m\u001b[0mobj\u001b[0m\u001b[0;34m.\u001b[0m\u001b[0mitems\u001b[0m\u001b[0;34m(\u001b[0m\u001b[0;34m)\u001b[0m\u001b[0;34m)\u001b[0m\u001b[0;34m\u001b[0m\u001b[0;34m\u001b[0m\u001b[0m\n\u001b[0m\u001b[1;32m    860\u001b[0m \u001b[0;34m\u001b[0m\u001b[0m\n",
            "\u001b[0;32m/usr/lib/python3.7/pickle.py\u001b[0m in \u001b[0;36m_batch_setitems\u001b[0;34m(self, items)\u001b[0m\n\u001b[1;32m    884\u001b[0m                     \u001b[0msave\u001b[0m\u001b[0;34m(\u001b[0m\u001b[0mk\u001b[0m\u001b[0;34m)\u001b[0m\u001b[0;34m\u001b[0m\u001b[0;34m\u001b[0m\u001b[0m\n\u001b[0;32m--> 885\u001b[0;31m                     \u001b[0msave\u001b[0m\u001b[0;34m(\u001b[0m\u001b[0mv\u001b[0m\u001b[0;34m)\u001b[0m\u001b[0;34m\u001b[0m\u001b[0;34m\u001b[0m\u001b[0m\n\u001b[0m\u001b[1;32m    886\u001b[0m                 \u001b[0mwrite\u001b[0m\u001b[0;34m(\u001b[0m\u001b[0mSETITEMS\u001b[0m\u001b[0;34m)\u001b[0m\u001b[0;34m\u001b[0m\u001b[0;34m\u001b[0m\u001b[0m\n",
            "\u001b[0;32m/usr/lib/python3.7/pickle.py\u001b[0m in \u001b[0;36msave\u001b[0;34m(self, obj, save_persistent_id)\u001b[0m\n\u001b[1;32m    503\u001b[0m         \u001b[0;32mif\u001b[0m \u001b[0mf\u001b[0m \u001b[0;32mis\u001b[0m \u001b[0;32mnot\u001b[0m \u001b[0;32mNone\u001b[0m\u001b[0;34m:\u001b[0m\u001b[0;34m\u001b[0m\u001b[0;34m\u001b[0m\u001b[0m\n\u001b[0;32m--> 504\u001b[0;31m             \u001b[0mf\u001b[0m\u001b[0;34m(\u001b[0m\u001b[0mself\u001b[0m\u001b[0;34m,\u001b[0m \u001b[0mobj\u001b[0m\u001b[0;34m)\u001b[0m \u001b[0;31m# Call unbound method with explicit self\u001b[0m\u001b[0;34m\u001b[0m\u001b[0;34m\u001b[0m\u001b[0m\n\u001b[0m\u001b[1;32m    505\u001b[0m             \u001b[0;32mreturn\u001b[0m\u001b[0;34m\u001b[0m\u001b[0;34m\u001b[0m\u001b[0m\n",
            "\u001b[0;32m/usr/lib/python3.7/pickle.py\u001b[0m in \u001b[0;36msave_dict\u001b[0;34m(self, obj)\u001b[0m\n\u001b[1;32m    858\u001b[0m         \u001b[0mself\u001b[0m\u001b[0;34m.\u001b[0m\u001b[0mmemoize\u001b[0m\u001b[0;34m(\u001b[0m\u001b[0mobj\u001b[0m\u001b[0;34m)\u001b[0m\u001b[0;34m\u001b[0m\u001b[0;34m\u001b[0m\u001b[0m\n\u001b[0;32m--> 859\u001b[0;31m         \u001b[0mself\u001b[0m\u001b[0;34m.\u001b[0m\u001b[0m_batch_setitems\u001b[0m\u001b[0;34m(\u001b[0m\u001b[0mobj\u001b[0m\u001b[0;34m.\u001b[0m\u001b[0mitems\u001b[0m\u001b[0;34m(\u001b[0m\u001b[0;34m)\u001b[0m\u001b[0;34m)\u001b[0m\u001b[0;34m\u001b[0m\u001b[0;34m\u001b[0m\u001b[0m\n\u001b[0m\u001b[1;32m    860\u001b[0m \u001b[0;34m\u001b[0m\u001b[0m\n",
            "\u001b[0;32m/usr/lib/python3.7/pickle.py\u001b[0m in \u001b[0;36m_batch_setitems\u001b[0;34m(self, items)\u001b[0m\n\u001b[1;32m    889\u001b[0m                 \u001b[0msave\u001b[0m\u001b[0;34m(\u001b[0m\u001b[0mk\u001b[0m\u001b[0;34m)\u001b[0m\u001b[0;34m\u001b[0m\u001b[0;34m\u001b[0m\u001b[0m\n\u001b[0;32m--> 890\u001b[0;31m                 \u001b[0msave\u001b[0m\u001b[0;34m(\u001b[0m\u001b[0mv\u001b[0m\u001b[0;34m)\u001b[0m\u001b[0;34m\u001b[0m\u001b[0;34m\u001b[0m\u001b[0m\n\u001b[0m\u001b[1;32m    891\u001b[0m                 \u001b[0mwrite\u001b[0m\u001b[0;34m(\u001b[0m\u001b[0mSETITEM\u001b[0m\u001b[0;34m)\u001b[0m\u001b[0;34m\u001b[0m\u001b[0;34m\u001b[0m\u001b[0m\n",
            "\u001b[0;32m/usr/lib/python3.7/pickle.py\u001b[0m in \u001b[0;36msave\u001b[0;34m(self, obj, save_persistent_id)\u001b[0m\n\u001b[1;32m    503\u001b[0m         \u001b[0;32mif\u001b[0m \u001b[0mf\u001b[0m \u001b[0;32mis\u001b[0m \u001b[0;32mnot\u001b[0m \u001b[0;32mNone\u001b[0m\u001b[0;34m:\u001b[0m\u001b[0;34m\u001b[0m\u001b[0;34m\u001b[0m\u001b[0m\n\u001b[0;32m--> 504\u001b[0;31m             \u001b[0mf\u001b[0m\u001b[0;34m(\u001b[0m\u001b[0mself\u001b[0m\u001b[0;34m,\u001b[0m \u001b[0mobj\u001b[0m\u001b[0;34m)\u001b[0m \u001b[0;31m# Call unbound method with explicit self\u001b[0m\u001b[0;34m\u001b[0m\u001b[0;34m\u001b[0m\u001b[0m\n\u001b[0m\u001b[1;32m    505\u001b[0m             \u001b[0;32mreturn\u001b[0m\u001b[0;34m\u001b[0m\u001b[0;34m\u001b[0m\u001b[0m\n",
            "\u001b[0;32m/usr/local/lib/python3.7/dist-packages/pyspark/cloudpickle/cloudpickle_fast.py\u001b[0m in \u001b[0;36msave_function\u001b[0;34m(self, obj, name)\u001b[0m\n\u001b[1;32m    744\u001b[0m                 return self._save_reduce_pickle5(\n\u001b[0;32m--> 745\u001b[0;31m                     \u001b[0;34m*\u001b[0m\u001b[0mself\u001b[0m\u001b[0;34m.\u001b[0m\u001b[0m_dynamic_function_reduce\u001b[0m\u001b[0;34m(\u001b[0m\u001b[0mobj\u001b[0m\u001b[0;34m)\u001b[0m\u001b[0;34m,\u001b[0m \u001b[0mobj\u001b[0m\u001b[0;34m=\u001b[0m\u001b[0mobj\u001b[0m\u001b[0;34m\u001b[0m\u001b[0;34m\u001b[0m\u001b[0m\n\u001b[0m\u001b[1;32m    746\u001b[0m                 )\n",
            "\u001b[0;32m/usr/local/lib/python3.7/dist-packages/pyspark/cloudpickle/cloudpickle_fast.py\u001b[0m in \u001b[0;36m_save_reduce_pickle5\u001b[0;34m(self, func, args, state, listitems, dictitems, state_setter, obj)\u001b[0m\n\u001b[1;32m    686\u001b[0m             \u001b[0msave\u001b[0m\u001b[0;34m(\u001b[0m\u001b[0mobj\u001b[0m\u001b[0;34m)\u001b[0m  \u001b[0;31m# simple BINGET opcode as obj is already memoized.\u001b[0m\u001b[0;34m\u001b[0m\u001b[0;34m\u001b[0m\u001b[0m\n\u001b[0;32m--> 687\u001b[0;31m             \u001b[0msave\u001b[0m\u001b[0;34m(\u001b[0m\u001b[0mstate\u001b[0m\u001b[0;34m)\u001b[0m\u001b[0;34m\u001b[0m\u001b[0;34m\u001b[0m\u001b[0m\n\u001b[0m\u001b[1;32m    688\u001b[0m             \u001b[0mwrite\u001b[0m\u001b[0;34m(\u001b[0m\u001b[0mpickle\u001b[0m\u001b[0;34m.\u001b[0m\u001b[0mTUPLE2\u001b[0m\u001b[0;34m)\u001b[0m\u001b[0;34m\u001b[0m\u001b[0;34m\u001b[0m\u001b[0m\n",
            "\u001b[0;32m/usr/lib/python3.7/pickle.py\u001b[0m in \u001b[0;36msave\u001b[0;34m(self, obj, save_persistent_id)\u001b[0m\n\u001b[1;32m    503\u001b[0m         \u001b[0;32mif\u001b[0m \u001b[0mf\u001b[0m \u001b[0;32mis\u001b[0m \u001b[0;32mnot\u001b[0m \u001b[0;32mNone\u001b[0m\u001b[0;34m:\u001b[0m\u001b[0;34m\u001b[0m\u001b[0;34m\u001b[0m\u001b[0m\n\u001b[0;32m--> 504\u001b[0;31m             \u001b[0mf\u001b[0m\u001b[0;34m(\u001b[0m\u001b[0mself\u001b[0m\u001b[0;34m,\u001b[0m \u001b[0mobj\u001b[0m\u001b[0;34m)\u001b[0m \u001b[0;31m# Call unbound method with explicit self\u001b[0m\u001b[0;34m\u001b[0m\u001b[0;34m\u001b[0m\u001b[0m\n\u001b[0m\u001b[1;32m    505\u001b[0m             \u001b[0;32mreturn\u001b[0m\u001b[0;34m\u001b[0m\u001b[0;34m\u001b[0m\u001b[0m\n",
            "\u001b[0;32m/usr/lib/python3.7/pickle.py\u001b[0m in \u001b[0;36msave_tuple\u001b[0;34m(self, obj)\u001b[0m\n\u001b[1;32m    773\u001b[0m             \u001b[0;32mfor\u001b[0m \u001b[0melement\u001b[0m \u001b[0;32min\u001b[0m \u001b[0mobj\u001b[0m\u001b[0;34m:\u001b[0m\u001b[0;34m\u001b[0m\u001b[0;34m\u001b[0m\u001b[0m\n\u001b[0;32m--> 774\u001b[0;31m                 \u001b[0msave\u001b[0m\u001b[0;34m(\u001b[0m\u001b[0melement\u001b[0m\u001b[0;34m)\u001b[0m\u001b[0;34m\u001b[0m\u001b[0;34m\u001b[0m\u001b[0m\n\u001b[0m\u001b[1;32m    775\u001b[0m             \u001b[0;31m# Subtle.  Same as in the big comment below.\u001b[0m\u001b[0;34m\u001b[0m\u001b[0;34m\u001b[0m\u001b[0;34m\u001b[0m\u001b[0m\n",
            "\u001b[0;32m/usr/lib/python3.7/pickle.py\u001b[0m in \u001b[0;36msave\u001b[0;34m(self, obj, save_persistent_id)\u001b[0m\n\u001b[1;32m    503\u001b[0m         \u001b[0;32mif\u001b[0m \u001b[0mf\u001b[0m \u001b[0;32mis\u001b[0m \u001b[0;32mnot\u001b[0m \u001b[0;32mNone\u001b[0m\u001b[0;34m:\u001b[0m\u001b[0;34m\u001b[0m\u001b[0;34m\u001b[0m\u001b[0m\n\u001b[0;32m--> 504\u001b[0;31m             \u001b[0mf\u001b[0m\u001b[0;34m(\u001b[0m\u001b[0mself\u001b[0m\u001b[0;34m,\u001b[0m \u001b[0mobj\u001b[0m\u001b[0;34m)\u001b[0m \u001b[0;31m# Call unbound method with explicit self\u001b[0m\u001b[0;34m\u001b[0m\u001b[0;34m\u001b[0m\u001b[0m\n\u001b[0m\u001b[1;32m    505\u001b[0m             \u001b[0;32mreturn\u001b[0m\u001b[0;34m\u001b[0m\u001b[0;34m\u001b[0m\u001b[0m\n",
            "\u001b[0;32m/usr/lib/python3.7/pickle.py\u001b[0m in \u001b[0;36msave_dict\u001b[0;34m(self, obj)\u001b[0m\n\u001b[1;32m    858\u001b[0m         \u001b[0mself\u001b[0m\u001b[0;34m.\u001b[0m\u001b[0mmemoize\u001b[0m\u001b[0;34m(\u001b[0m\u001b[0mobj\u001b[0m\u001b[0;34m)\u001b[0m\u001b[0;34m\u001b[0m\u001b[0;34m\u001b[0m\u001b[0m\n\u001b[0;32m--> 859\u001b[0;31m         \u001b[0mself\u001b[0m\u001b[0;34m.\u001b[0m\u001b[0m_batch_setitems\u001b[0m\u001b[0;34m(\u001b[0m\u001b[0mobj\u001b[0m\u001b[0;34m.\u001b[0m\u001b[0mitems\u001b[0m\u001b[0;34m(\u001b[0m\u001b[0;34m)\u001b[0m\u001b[0;34m)\u001b[0m\u001b[0;34m\u001b[0m\u001b[0;34m\u001b[0m\u001b[0m\n\u001b[0m\u001b[1;32m    860\u001b[0m \u001b[0;34m\u001b[0m\u001b[0m\n",
            "\u001b[0;32m/usr/lib/python3.7/pickle.py\u001b[0m in \u001b[0;36m_batch_setitems\u001b[0;34m(self, items)\u001b[0m\n\u001b[1;32m    884\u001b[0m                     \u001b[0msave\u001b[0m\u001b[0;34m(\u001b[0m\u001b[0mk\u001b[0m\u001b[0;34m)\u001b[0m\u001b[0;34m\u001b[0m\u001b[0;34m\u001b[0m\u001b[0m\n\u001b[0;32m--> 885\u001b[0;31m                     \u001b[0msave\u001b[0m\u001b[0;34m(\u001b[0m\u001b[0mv\u001b[0m\u001b[0;34m)\u001b[0m\u001b[0;34m\u001b[0m\u001b[0;34m\u001b[0m\u001b[0m\n\u001b[0m\u001b[1;32m    886\u001b[0m                 \u001b[0mwrite\u001b[0m\u001b[0;34m(\u001b[0m\u001b[0mSETITEMS\u001b[0m\u001b[0;34m)\u001b[0m\u001b[0;34m\u001b[0m\u001b[0;34m\u001b[0m\u001b[0m\n",
            "\u001b[0;32m/usr/lib/python3.7/pickle.py\u001b[0m in \u001b[0;36msave\u001b[0;34m(self, obj, save_persistent_id)\u001b[0m\n\u001b[1;32m    503\u001b[0m         \u001b[0;32mif\u001b[0m \u001b[0mf\u001b[0m \u001b[0;32mis\u001b[0m \u001b[0;32mnot\u001b[0m \u001b[0;32mNone\u001b[0m\u001b[0;34m:\u001b[0m\u001b[0;34m\u001b[0m\u001b[0;34m\u001b[0m\u001b[0m\n\u001b[0;32m--> 504\u001b[0;31m             \u001b[0mf\u001b[0m\u001b[0;34m(\u001b[0m\u001b[0mself\u001b[0m\u001b[0;34m,\u001b[0m \u001b[0mobj\u001b[0m\u001b[0;34m)\u001b[0m \u001b[0;31m# Call unbound method with explicit self\u001b[0m\u001b[0;34m\u001b[0m\u001b[0;34m\u001b[0m\u001b[0m\n\u001b[0m\u001b[1;32m    505\u001b[0m             \u001b[0;32mreturn\u001b[0m\u001b[0;34m\u001b[0m\u001b[0;34m\u001b[0m\u001b[0m\n",
            "\u001b[0;32m/usr/lib/python3.7/pickle.py\u001b[0m in \u001b[0;36msave_dict\u001b[0;34m(self, obj)\u001b[0m\n\u001b[1;32m    858\u001b[0m         \u001b[0mself\u001b[0m\u001b[0;34m.\u001b[0m\u001b[0mmemoize\u001b[0m\u001b[0;34m(\u001b[0m\u001b[0mobj\u001b[0m\u001b[0;34m)\u001b[0m\u001b[0;34m\u001b[0m\u001b[0;34m\u001b[0m\u001b[0m\n\u001b[0;32m--> 859\u001b[0;31m         \u001b[0mself\u001b[0m\u001b[0;34m.\u001b[0m\u001b[0m_batch_setitems\u001b[0m\u001b[0;34m(\u001b[0m\u001b[0mobj\u001b[0m\u001b[0;34m.\u001b[0m\u001b[0mitems\u001b[0m\u001b[0;34m(\u001b[0m\u001b[0;34m)\u001b[0m\u001b[0;34m)\u001b[0m\u001b[0;34m\u001b[0m\u001b[0;34m\u001b[0m\u001b[0m\n\u001b[0m\u001b[1;32m    860\u001b[0m \u001b[0;34m\u001b[0m\u001b[0m\n",
            "\u001b[0;32m/usr/lib/python3.7/pickle.py\u001b[0m in \u001b[0;36m_batch_setitems\u001b[0;34m(self, items)\u001b[0m\n\u001b[1;32m    884\u001b[0m                     \u001b[0msave\u001b[0m\u001b[0;34m(\u001b[0m\u001b[0mk\u001b[0m\u001b[0;34m)\u001b[0m\u001b[0;34m\u001b[0m\u001b[0;34m\u001b[0m\u001b[0m\n\u001b[0;32m--> 885\u001b[0;31m                     \u001b[0msave\u001b[0m\u001b[0;34m(\u001b[0m\u001b[0mv\u001b[0m\u001b[0;34m)\u001b[0m\u001b[0;34m\u001b[0m\u001b[0;34m\u001b[0m\u001b[0m\n\u001b[0m\u001b[1;32m    886\u001b[0m                 \u001b[0mwrite\u001b[0m\u001b[0;34m(\u001b[0m\u001b[0mSETITEMS\u001b[0m\u001b[0;34m)\u001b[0m\u001b[0;34m\u001b[0m\u001b[0;34m\u001b[0m\u001b[0m\n",
            "\u001b[0;32m/usr/lib/python3.7/pickle.py\u001b[0m in \u001b[0;36msave\u001b[0;34m(self, obj, save_persistent_id)\u001b[0m\n\u001b[1;32m    523\u001b[0m             \u001b[0;32mif\u001b[0m \u001b[0mreduce\u001b[0m \u001b[0;32mis\u001b[0m \u001b[0;32mnot\u001b[0m \u001b[0;32mNone\u001b[0m\u001b[0;34m:\u001b[0m\u001b[0;34m\u001b[0m\u001b[0;34m\u001b[0m\u001b[0m\n\u001b[0;32m--> 524\u001b[0;31m                 \u001b[0mrv\u001b[0m \u001b[0;34m=\u001b[0m \u001b[0mreduce\u001b[0m\u001b[0;34m(\u001b[0m\u001b[0mself\u001b[0m\u001b[0;34m.\u001b[0m\u001b[0mproto\u001b[0m\u001b[0;34m)\u001b[0m\u001b[0;34m\u001b[0m\u001b[0;34m\u001b[0m\u001b[0m\n\u001b[0m\u001b[1;32m    525\u001b[0m             \u001b[0;32melse\u001b[0m\u001b[0;34m:\u001b[0m\u001b[0;34m\u001b[0m\u001b[0;34m\u001b[0m\u001b[0m\n",
            "\u001b[0;32m/usr/local/lib/python3.7/dist-packages/pyspark/rdd.py\u001b[0m in \u001b[0;36m__getnewargs__\u001b[0;34m(self)\u001b[0m\n\u001b[1;32m    262\u001b[0m         raise RuntimeError(\n\u001b[0;32m--> 263\u001b[0;31m             \u001b[0;34m\"It appears that you are attempting to broadcast an RDD or reference an RDD from an \"\u001b[0m\u001b[0;34m\u001b[0m\u001b[0;34m\u001b[0m\u001b[0m\n\u001b[0m\u001b[1;32m    264\u001b[0m             \u001b[0;34m\"action or transformation. RDD transformations and actions can only be invoked by the \"\u001b[0m\u001b[0;34m\u001b[0m\u001b[0;34m\u001b[0m\u001b[0m\n",
            "\u001b[0;31mRuntimeError\u001b[0m: It appears that you are attempting to broadcast an RDD or reference an RDD from an action or transformation. RDD transformations and actions can only be invoked by the driver, not inside of other transformations; for example, rdd1.map(lambda x: rdd2.values.count() * x) is invalid because the values transformation and count action cannot be performed inside of the rdd1.map transformation. For more information, see SPARK-5063.",
            "\nDuring handling of the above exception, another exception occurred:\n",
            "\u001b[0;31mPicklingError\u001b[0m                             Traceback (most recent call last)",
            "\u001b[0;32m<ipython-input-252-21d85c444d58>\u001b[0m in \u001b[0;36m<module>\u001b[0;34m()\u001b[0m\n\u001b[1;32m     35\u001b[0m \u001b[0;34m\u001b[0m\u001b[0m\n\u001b[1;32m     36\u001b[0m \u001b[0mdoc_vector_size\u001b[0m \u001b[0;34m=\u001b[0m \u001b[0mdoc_tf_unnormalized\u001b[0m\u001b[0;34m.\u001b[0m\u001b[0mmap\u001b[0m\u001b[0;34m(\u001b[0m\u001b[0;32mlambda\u001b[0m \u001b[0mx\u001b[0m \u001b[0;34m:\u001b[0m \u001b[0mvector_size\u001b[0m\u001b[0;34m(\u001b[0m\u001b[0mx\u001b[0m\u001b[0;34m)\u001b[0m\u001b[0;34m)\u001b[0m\u001b[0;34m\u001b[0m\u001b[0;34m\u001b[0m\u001b[0m\n\u001b[0;32m---> 37\u001b[0;31m \u001b[0mprint\u001b[0m\u001b[0;34m(\u001b[0m\u001b[0mdoc_vector_size\u001b[0m\u001b[0;34m.\u001b[0m\u001b[0mtake\u001b[0m\u001b[0;34m(\u001b[0m\u001b[0;36m1\u001b[0m\u001b[0;34m)\u001b[0m\u001b[0;34m)\u001b[0m\u001b[0;34m\u001b[0m\u001b[0;34m\u001b[0m\u001b[0m\n\u001b[0m\u001b[1;32m     38\u001b[0m \u001b[0;34m\u001b[0m\u001b[0m\n\u001b[1;32m     39\u001b[0m \u001b[0;32mraise\u001b[0m \u001b[0mException\u001b[0m\u001b[0;34m\u001b[0m\u001b[0;34m\u001b[0m\u001b[0m\n",
            "\u001b[0;32m/usr/local/lib/python3.7/dist-packages/pyspark/rdd.py\u001b[0m in \u001b[0;36mtake\u001b[0;34m(self, num)\u001b[0m\n\u001b[1;32m   1566\u001b[0m \u001b[0;34m\u001b[0m\u001b[0m\n\u001b[1;32m   1567\u001b[0m             \u001b[0mp\u001b[0m \u001b[0;34m=\u001b[0m \u001b[0mrange\u001b[0m\u001b[0;34m(\u001b[0m\u001b[0mpartsScanned\u001b[0m\u001b[0;34m,\u001b[0m \u001b[0mmin\u001b[0m\u001b[0;34m(\u001b[0m\u001b[0mpartsScanned\u001b[0m \u001b[0;34m+\u001b[0m \u001b[0mnumPartsToTry\u001b[0m\u001b[0;34m,\u001b[0m \u001b[0mtotalParts\u001b[0m\u001b[0;34m)\u001b[0m\u001b[0;34m)\u001b[0m\u001b[0;34m\u001b[0m\u001b[0;34m\u001b[0m\u001b[0m\n\u001b[0;32m-> 1568\u001b[0;31m             \u001b[0mres\u001b[0m \u001b[0;34m=\u001b[0m \u001b[0mself\u001b[0m\u001b[0;34m.\u001b[0m\u001b[0mcontext\u001b[0m\u001b[0;34m.\u001b[0m\u001b[0mrunJob\u001b[0m\u001b[0;34m(\u001b[0m\u001b[0mself\u001b[0m\u001b[0;34m,\u001b[0m \u001b[0mtakeUpToNumLeft\u001b[0m\u001b[0;34m,\u001b[0m \u001b[0mp\u001b[0m\u001b[0;34m)\u001b[0m\u001b[0;34m\u001b[0m\u001b[0;34m\u001b[0m\u001b[0m\n\u001b[0m\u001b[1;32m   1569\u001b[0m \u001b[0;34m\u001b[0m\u001b[0m\n\u001b[1;32m   1570\u001b[0m             \u001b[0mitems\u001b[0m \u001b[0;34m+=\u001b[0m \u001b[0mres\u001b[0m\u001b[0;34m\u001b[0m\u001b[0;34m\u001b[0m\u001b[0m\n",
            "\u001b[0;32m/usr/local/lib/python3.7/dist-packages/pyspark/context.py\u001b[0m in \u001b[0;36mrunJob\u001b[0;34m(self, rdd, partitionFunc, partitions, allowLocal)\u001b[0m\n\u001b[1;32m   1225\u001b[0m         \u001b[0;31m# SparkContext#runJob.\u001b[0m\u001b[0;34m\u001b[0m\u001b[0;34m\u001b[0m\u001b[0;34m\u001b[0m\u001b[0m\n\u001b[1;32m   1226\u001b[0m         \u001b[0mmappedRDD\u001b[0m \u001b[0;34m=\u001b[0m \u001b[0mrdd\u001b[0m\u001b[0;34m.\u001b[0m\u001b[0mmapPartitions\u001b[0m\u001b[0;34m(\u001b[0m\u001b[0mpartitionFunc\u001b[0m\u001b[0;34m)\u001b[0m\u001b[0;34m\u001b[0m\u001b[0;34m\u001b[0m\u001b[0m\n\u001b[0;32m-> 1227\u001b[0;31m         \u001b[0msock_info\u001b[0m \u001b[0;34m=\u001b[0m \u001b[0mself\u001b[0m\u001b[0;34m.\u001b[0m\u001b[0m_jvm\u001b[0m\u001b[0;34m.\u001b[0m\u001b[0mPythonRDD\u001b[0m\u001b[0;34m.\u001b[0m\u001b[0mrunJob\u001b[0m\u001b[0;34m(\u001b[0m\u001b[0mself\u001b[0m\u001b[0;34m.\u001b[0m\u001b[0m_jsc\u001b[0m\u001b[0;34m.\u001b[0m\u001b[0msc\u001b[0m\u001b[0;34m(\u001b[0m\u001b[0;34m)\u001b[0m\u001b[0;34m,\u001b[0m \u001b[0mmappedRDD\u001b[0m\u001b[0;34m.\u001b[0m\u001b[0m_jrdd\u001b[0m\u001b[0;34m,\u001b[0m \u001b[0mpartitions\u001b[0m\u001b[0;34m)\u001b[0m\u001b[0;34m\u001b[0m\u001b[0;34m\u001b[0m\u001b[0m\n\u001b[0m\u001b[1;32m   1228\u001b[0m         \u001b[0;32mreturn\u001b[0m \u001b[0mlist\u001b[0m\u001b[0;34m(\u001b[0m\u001b[0m_load_from_socket\u001b[0m\u001b[0;34m(\u001b[0m\u001b[0msock_info\u001b[0m\u001b[0;34m,\u001b[0m \u001b[0mmappedRDD\u001b[0m\u001b[0;34m.\u001b[0m\u001b[0m_jrdd_deserializer\u001b[0m\u001b[0;34m)\u001b[0m\u001b[0;34m)\u001b[0m\u001b[0;34m\u001b[0m\u001b[0;34m\u001b[0m\u001b[0m\n\u001b[1;32m   1229\u001b[0m \u001b[0;34m\u001b[0m\u001b[0m\n",
            "\u001b[0;32m/usr/local/lib/python3.7/dist-packages/pyspark/rdd.py\u001b[0m in \u001b[0;36m_jrdd\u001b[0;34m(self)\u001b[0m\n\u001b[1;32m   2950\u001b[0m \u001b[0;34m\u001b[0m\u001b[0m\n\u001b[1;32m   2951\u001b[0m         wrapped_func = _wrap_function(self.ctx, self.func, self._prev_jrdd_deserializer,\n\u001b[0;32m-> 2952\u001b[0;31m                                       self._jrdd_deserializer, profiler)\n\u001b[0m\u001b[1;32m   2953\u001b[0m         python_rdd = self.ctx._jvm.PythonRDD(self._prev_jrdd.rdd(), wrapped_func,\n\u001b[1;32m   2954\u001b[0m                                              self.preservesPartitioning, self.is_barrier)\n",
            "\u001b[0;32m/usr/local/lib/python3.7/dist-packages/pyspark/rdd.py\u001b[0m in \u001b[0;36m_wrap_function\u001b[0;34m(sc, func, deserializer, serializer, profiler)\u001b[0m\n\u001b[1;32m   2828\u001b[0m     \u001b[0;32massert\u001b[0m \u001b[0mserializer\u001b[0m\u001b[0;34m,\u001b[0m \u001b[0;34m\"serializer should not be empty\"\u001b[0m\u001b[0;34m\u001b[0m\u001b[0;34m\u001b[0m\u001b[0m\n\u001b[1;32m   2829\u001b[0m     \u001b[0mcommand\u001b[0m \u001b[0;34m=\u001b[0m \u001b[0;34m(\u001b[0m\u001b[0mfunc\u001b[0m\u001b[0;34m,\u001b[0m \u001b[0mprofiler\u001b[0m\u001b[0;34m,\u001b[0m \u001b[0mdeserializer\u001b[0m\u001b[0;34m,\u001b[0m \u001b[0mserializer\u001b[0m\u001b[0;34m)\u001b[0m\u001b[0;34m\u001b[0m\u001b[0;34m\u001b[0m\u001b[0m\n\u001b[0;32m-> 2830\u001b[0;31m     \u001b[0mpickled_command\u001b[0m\u001b[0;34m,\u001b[0m \u001b[0mbroadcast_vars\u001b[0m\u001b[0;34m,\u001b[0m \u001b[0menv\u001b[0m\u001b[0;34m,\u001b[0m \u001b[0mincludes\u001b[0m \u001b[0;34m=\u001b[0m \u001b[0m_prepare_for_python_RDD\u001b[0m\u001b[0;34m(\u001b[0m\u001b[0msc\u001b[0m\u001b[0;34m,\u001b[0m \u001b[0mcommand\u001b[0m\u001b[0;34m)\u001b[0m\u001b[0;34m\u001b[0m\u001b[0;34m\u001b[0m\u001b[0m\n\u001b[0m\u001b[1;32m   2831\u001b[0m     return sc._jvm.PythonFunction(bytearray(pickled_command), env, includes, sc.pythonExec,\n\u001b[1;32m   2832\u001b[0m                                   sc.pythonVer, broadcast_vars, sc._javaAccumulator)\n",
            "\u001b[0;32m/usr/local/lib/python3.7/dist-packages/pyspark/rdd.py\u001b[0m in \u001b[0;36m_prepare_for_python_RDD\u001b[0;34m(sc, command)\u001b[0m\n\u001b[1;32m   2814\u001b[0m     \u001b[0;31m# the serialized command will be compressed by broadcast\u001b[0m\u001b[0;34m\u001b[0m\u001b[0;34m\u001b[0m\u001b[0;34m\u001b[0m\u001b[0m\n\u001b[1;32m   2815\u001b[0m     \u001b[0mser\u001b[0m \u001b[0;34m=\u001b[0m \u001b[0mCloudPickleSerializer\u001b[0m\u001b[0;34m(\u001b[0m\u001b[0;34m)\u001b[0m\u001b[0;34m\u001b[0m\u001b[0;34m\u001b[0m\u001b[0m\n\u001b[0;32m-> 2816\u001b[0;31m     \u001b[0mpickled_command\u001b[0m \u001b[0;34m=\u001b[0m \u001b[0mser\u001b[0m\u001b[0;34m.\u001b[0m\u001b[0mdumps\u001b[0m\u001b[0;34m(\u001b[0m\u001b[0mcommand\u001b[0m\u001b[0;34m)\u001b[0m\u001b[0;34m\u001b[0m\u001b[0;34m\u001b[0m\u001b[0m\n\u001b[0m\u001b[1;32m   2817\u001b[0m     \u001b[0;32mif\u001b[0m \u001b[0mlen\u001b[0m\u001b[0;34m(\u001b[0m\u001b[0mpickled_command\u001b[0m\u001b[0;34m)\u001b[0m \u001b[0;34m>\u001b[0m \u001b[0msc\u001b[0m\u001b[0;34m.\u001b[0m\u001b[0m_jvm\u001b[0m\u001b[0;34m.\u001b[0m\u001b[0mPythonUtils\u001b[0m\u001b[0;34m.\u001b[0m\u001b[0mgetBroadcastThreshold\u001b[0m\u001b[0;34m(\u001b[0m\u001b[0msc\u001b[0m\u001b[0;34m.\u001b[0m\u001b[0m_jsc\u001b[0m\u001b[0;34m)\u001b[0m\u001b[0;34m:\u001b[0m  \u001b[0;31m# Default 1M\u001b[0m\u001b[0;34m\u001b[0m\u001b[0;34m\u001b[0m\u001b[0m\n\u001b[1;32m   2818\u001b[0m         \u001b[0;31m# The broadcast will have same life cycle as created PythonRDD\u001b[0m\u001b[0;34m\u001b[0m\u001b[0;34m\u001b[0m\u001b[0;34m\u001b[0m\u001b[0m\n",
            "\u001b[0;32m/usr/local/lib/python3.7/dist-packages/pyspark/serializers.py\u001b[0m in \u001b[0;36mdumps\u001b[0;34m(self, obj)\u001b[0m\n\u001b[1;32m    445\u001b[0m                 \u001b[0mmsg\u001b[0m \u001b[0;34m=\u001b[0m \u001b[0;34m\"Could not serialize object: %s: %s\"\u001b[0m \u001b[0;34m%\u001b[0m \u001b[0;34m(\u001b[0m\u001b[0me\u001b[0m\u001b[0;34m.\u001b[0m\u001b[0m__class__\u001b[0m\u001b[0;34m.\u001b[0m\u001b[0m__name__\u001b[0m\u001b[0;34m,\u001b[0m \u001b[0memsg\u001b[0m\u001b[0;34m)\u001b[0m\u001b[0;34m\u001b[0m\u001b[0;34m\u001b[0m\u001b[0m\n\u001b[1;32m    446\u001b[0m             \u001b[0mprint_exec\u001b[0m\u001b[0;34m(\u001b[0m\u001b[0msys\u001b[0m\u001b[0;34m.\u001b[0m\u001b[0mstderr\u001b[0m\u001b[0;34m)\u001b[0m\u001b[0;34m\u001b[0m\u001b[0;34m\u001b[0m\u001b[0m\n\u001b[0;32m--> 447\u001b[0;31m             \u001b[0;32mraise\u001b[0m \u001b[0mpickle\u001b[0m\u001b[0;34m.\u001b[0m\u001b[0mPicklingError\u001b[0m\u001b[0;34m(\u001b[0m\u001b[0mmsg\u001b[0m\u001b[0;34m)\u001b[0m\u001b[0;34m\u001b[0m\u001b[0;34m\u001b[0m\u001b[0m\n\u001b[0m\u001b[1;32m    448\u001b[0m \u001b[0;34m\u001b[0m\u001b[0m\n\u001b[1;32m    449\u001b[0m \u001b[0;34m\u001b[0m\u001b[0m\n",
            "\u001b[0;31mPicklingError\u001b[0m: Could not serialize object: RuntimeError: It appears that you are attempting to broadcast an RDD or reference an RDD from an action or transformation. RDD transformations and actions can only be invoked by the driver, not inside of other transformations; for example, rdd1.map(lambda x: rdd2.values.count() * x) is invalid because the values transformation and count action cannot be performed inside of the rdd1.map transformation. For more information, see SPARK-5063."
          ]
        }
      ]
    },
    {
      "cell_type": "markdown",
      "metadata": {
        "id": "fohEJFfR3QiE"
      },
      "source": [
        "The next cell uses the `collect` operator to aggregate the posting location information from the multiple buckets/indices into a single dictionary. We know in this case that the posting locations info is relatively small so this is not going to crash our master node. "
      ]
    },
    {
      "cell_type": "code",
      "metadata": {
        "deletable": false,
        "editable": false,
        "id": "vxCMgAlRDIac",
        "nbgrader": {
          "cell_type": "code",
          "checksum": "a22f7669520fe9435380b4226b14665e",
          "grade": true,
          "grade_id": "cell-708dc83ae80344eb",
          "locked": true,
          "points": 10,
          "schema_version": 3,
          "solution": false,
          "task": false
        }
      },
      "source": [
        "# test partitioning for the different buckets (10 points)\n",
        "posting_locs_list = partition_postings_and_write(postings_filtered).collect()\n",
        "assert len(posting_locs_list) == 124\n",
        "assert len(list(Path('.').glob('*.bin'))) == 124\n",
        "pl_lens = [len(pl) for pl in posting_locs_list]\n",
        "assert np.max(pl_lens) == 141\n",
        "assert np.min(pl_lens) == 91 \n",
        "assert int(np.median(pl_lens)) == 116"
      ],
      "execution_count": null,
      "outputs": []
    },
    {
      "cell_type": "code",
      "metadata": {
        "deletable": false,
        "editable": false,
        "id": "C-h5dgtF-TeL",
        "nbgrader": {
          "cell_type": "code",
          "checksum": "99fd63277bc98ff17fdeff467d07b5dd",
          "grade": true,
          "grade_id": "cell-67eccca53a3c689c",
          "locked": true,
          "points": 5,
          "schema_version": 3,
          "solution": false,
          "task": false
        }
      },
      "source": [
        "# merge the posting locations into a single dict and run more tests (5 points)\n",
        "super_posting_locs = defaultdict(list)\n",
        "for posting_loc in posting_locs_list:\n",
        "  for k, v in posting_loc.items():\n",
        "    super_posting_locs[k].extend(v)\n",
        "\n",
        "assert super_posting_locs['try'][0][0][:3] == '105'\n",
        "assert super_posting_locs['political'][0][0][:2] == '83'\n",
        "assert 'hi' not in super_posting_locs\n",
        "assert len(super_posting_locs) == 14524"
      ],
      "execution_count": null,
      "outputs": []
    },
    {
      "cell_type": "markdown",
      "metadata": {
        "id": "xBpxtFW7HeAT"
      },
      "source": [
        "Putting everything together (posting locations, df) and test that the resulting index is correct. "
      ]
    },
    {
      "cell_type": "code",
      "metadata": {
        "id": "VKrew8cUAyTz"
      },
      "source": [
        "# Create inverted index instance\n",
        "inverted = InvertedIndex()\n",
        "# Adding the posting locations dictionary to the inverted index\n",
        "inverted.posting_locs = super_posting_locs\n",
        "# Add the token - df dictionary to the inverted index\n",
        "inverted.df = w2df_dict\n",
        "# write the global stats out\n",
        "inverted.write_index('.', 'index')"
      ],
      "execution_count": null,
      "outputs": []
    },
    {
      "cell_type": "code",
      "metadata": {
        "deletable": false,
        "editable": false,
        "id": "j2_qt2IPkxqz",
        "nbgrader": {
          "cell_type": "code",
          "checksum": "4cb2f6508a6447d5732697ca263194c6",
          "grade": false,
          "grade_id": "cell-2580b6e6179c1c3f",
          "locked": true,
          "schema_version": 3,
          "solution": false,
          "task": false
        }
      },
      "source": [
        "TUPLE_SIZE = 6       \n",
        "TF_MASK = 2 ** 16 - 1 # Masking the 16 low bits of an integer\n",
        "from contextlib import closing\n",
        "\n",
        "def read_posting_list(inverted, w):\n",
        "  with closing(MultiFileReader()) as reader:\n",
        "    locs = inverted.posting_locs[w]\n",
        "    b = reader.read(locs, inverted.df[w] * TUPLE_SIZE)\n",
        "    posting_list = []\n",
        "    for i in range(inverted.df[w]):\n",
        "      doc_id = int.from_bytes(b[i*TUPLE_SIZE:i*TUPLE_SIZE+4], 'big')\n",
        "      tf = int.from_bytes(b[i*TUPLE_SIZE+4:(i+1)*TUPLE_SIZE], 'big')\n",
        "      posting_list.append((doc_id, tf))\n",
        "    return posting_list"
      ],
      "execution_count": null,
      "outputs": []
    },
    {
      "cell_type": "code",
      "metadata": {
        "deletable": false,
        "editable": false,
        "id": "VF6gfVFSIzM6",
        "nbgrader": {
          "cell_type": "code",
          "checksum": "c2a9d41d94ca9a2214a24f6794c23db7",
          "grade": true,
          "grade_id": "cell-7c94f4d8b12a93b5",
          "locked": true,
          "points": 5,
          "schema_version": 3,
          "solution": false,
          "task": false
        }
      },
      "source": [
        "## test the final index\n",
        "pl = read_posting_list(inverted, 'clarity')\n",
        "assert pl[-3] == (2204, 2)\n",
        "assert len(pl) == 18"
      ],
      "execution_count": null,
      "outputs": []
    },
    {
      "cell_type": "markdown",
      "metadata": {
        "id": "I2oCcQwP5zS_"
      },
      "source": [
        "## PageRank"
      ]
    },
    {
      "cell_type": "markdown",
      "metadata": {
        "id": "U9gMGQIohFOz"
      },
      "source": [
        "In this section, your task is to compute PageRank for wiki articles using the anchor text we extracted from the MediaWiki markdown. Let's select the 'id' and 'anchor_text' fields into a new RDD:"
      ]
    },
    {
      "cell_type": "code",
      "metadata": {
        "id": "pUUdHGbCOr3C"
      },
      "source": [
        "pages_links = spark.read.parquet(path).limit(1000).select(\"id\", \"anchor_text\").rdd"
      ],
      "execution_count": null,
      "outputs": []
    },
    {
      "cell_type": "markdown",
      "metadata": {
        "id": "IVhmHraRIHec"
      },
      "source": [
        "**YOUR TASK (20 POINTS):** Complete the implementation of `generate_graph`, which generates the graph of internal wikipedia links (wiki articles pointing to other wiki articles). Use PySpark to compute the vertices (pages) and edges (links) of the graph. Multiple links from page A to page B need to be represented by a single edge (edges are not weighted). You may use the built-in function `distinct` of the RDD object to identify distinct elements, but be mindful of its impact on computation time. "
      ]
    },
    {
      "cell_type": "code",
      "metadata": {
        "deletable": false,
        "id": "YFRogCnlHIGR",
        "nbgrader": {
          "cell_type": "code",
          "checksum": "69c22317d1ad51b321d3ef4f86a4cb4f",
          "grade": false,
          "grade_id": "cell-d0d3cd0a8e67f3d5",
          "locked": false,
          "schema_version": 3,
          "solution": true,
          "task": false
        }
      },
      "source": [
        "def generate_graph(pages):\n",
        "  ''' Compute the directed graph generated by wiki links.\n",
        "  Parameters:\n",
        "  -----------\n",
        "    pages: RDD\n",
        "      An RDD where each row consists of one wikipedia articles with 'id' and \n",
        "      'anchor_text'.\n",
        "  Returns:\n",
        "  --------\n",
        "    edges: RDD\n",
        "      An RDD where each row represents an edge in the directed graph created by\n",
        "      the wikipedia links. The first entry should the source page id and the \n",
        "      second entry is the destination page id. No duplicates should be present. \n",
        "    vertices: RDD\n",
        "      An RDD where each row represents a vetrix (node) in the directed graph \n",
        "      created by the wikipedia links. No duplicates should be present. \n",
        "  '''\n",
        "  # YOUR CODE HERE\n",
        "  def edges_func(t):\n",
        "    t_ids = [kv[0] for kv in t]\n",
        "    t_ids = list(set(t_ids))\n",
        "    return t_ids\n",
        "  def vertices_func(t):\n",
        "    return t[1]\n",
        "  edges = pages.flatMapValues(edges_func)\n",
        "  vertices = pages.map(lambda t: [t[0]] + [kv[0] for kv in t[1]]).flatMap(lambda t : t).distinct().map(lambda t: [t])\n",
        "  # raise NotImplementedError()\n",
        "  return edges, vertices"
      ],
      "execution_count": null,
      "outputs": []
    },
    {
      "cell_type": "code",
      "metadata": {
        "deletable": false,
        "editable": false,
        "id": "ajIiUP8CCY51",
        "nbgrader": {
          "cell_type": "code",
          "checksum": "d6f4f7646555fa5aed797d8eae7af96c",
          "grade": true,
          "grade_id": "cell-bc0fda19ef37c287",
          "locked": true,
          "points": 10,
          "schema_version": 3,
          "solution": false,
          "task": false
        }
      },
      "source": [
        "# test graph construction efficiency (10 points)\n",
        "t_start = time()\n",
        "# construct the graph for a small sample of (1000) pages\n",
        "edges, vertices = generate_graph(pages_links)\n",
        "# time the actual execution\n",
        "v_cnt, e_cnt = vertices.count(), edges.count()\n",
        "graph_const_time = time() - t_start\n",
        "# test that the implementation is efficient (<20 seconds)\n",
        "assert graph_const_time < 20"
      ],
      "execution_count": null,
      "outputs": []
    },
    {
      "cell_type": "code",
      "metadata": {
        "deletable": false,
        "editable": false,
        "id": "tb6ainuknU6z",
        "nbgrader": {
          "cell_type": "code",
          "checksum": "305f9d3d9c543fa6e4727ed281347252",
          "grade": true,
          "grade_id": "cell-c36cec1a8efaf00b",
          "locked": true,
          "points": 5,
          "schema_version": 3,
          "solution": false,
          "task": false
        }
      },
      "source": [
        "# test that we get the right number of vertices (5 points)\n",
        "assert v_cnt == 114966"
      ],
      "execution_count": null,
      "outputs": []
    },
    {
      "cell_type": "code",
      "metadata": {
        "deletable": false,
        "editable": false,
        "id": "ruKfLiFXnqcY",
        "nbgrader": {
          "cell_type": "code",
          "checksum": "91440d59c7f00895e79477cac7fed8f0",
          "grade": true,
          "grade_id": "cell-3d7fccf8d029f0ff",
          "locked": true,
          "points": 5,
          "schema_version": 3,
          "solution": false,
          "task": false
        }
      },
      "source": [
        "# test that we get the right number of edges (5 points)\n",
        "assert e_cnt == 183727"
      ],
      "execution_count": null,
      "outputs": []
    },
    {
      "cell_type": "markdown",
      "metadata": {
        "id": "yAx3CmIqOcLn"
      },
      "source": [
        "Let's compute PageRank in a distributed fashion (using PySpark's GraphFrame package) and show the top 20 pages."
      ]
    },
    {
      "cell_type": "code",
      "metadata": {
        "id": "XQl-tJSFNV_g"
      },
      "source": [
        "edgesDF = edges.toDF(['src', 'dst']).repartition(4, 'src')\n",
        "verticesDF = vertices.toDF(['id']).repartition(4, 'id')\n",
        "g = GraphFrame(verticesDF, edgesDF)\n",
        "pr_results = g.pageRank(resetProbability=0.15, maxIter=10)\n",
        "pr = pr_results.vertices.select(\"id\", \"pagerank\")\n",
        "pr = pr.sort(col('pagerank').desc())\n",
        "pr.repartition(1).write.csv('pr', compression=\"gzip\")\n",
        "pr.show()"
      ],
      "execution_count": null,
      "outputs": []
    },
    {
      "cell_type": "markdown",
      "metadata": {
        "id": "x0iXbQIstzvW"
      },
      "source": [
        "**YOUR TASK (5 POINTS)**: Complete the implmentation of `get_top_pr_page_titles` to return the titles a few of the top pages as ranked by PageRank and printed above. To get the title for each page id listed above, navigate to the url https://en.wikipedia.org/?curid=wiki_id_here by replacing the `wiki_id_here` part with the page id. For example, if you navigate to https://en.wikipedia.org/?curid=25507 for the page with id 25507 you'd see that its title is 'Roman Empire'."
      ]
    },
    {
      "cell_type": "code",
      "metadata": {
        "deletable": false,
        "id": "vhZVTSpnxQaj",
        "nbgrader": {
          "cell_type": "code",
          "checksum": "f1bccebc72f575bb4d959d9d0a0103f0",
          "grade": false,
          "grade_id": "cell-dd6c6763a00243fb",
          "locked": false,
          "schema_version": 3,
          "solution": true,
          "task": false
        }
      },
      "source": [
        "def get_top_pr_page_titles():\n",
        "  ''' Returns the title of the first, fourth, and fifth pages as ranked about \n",
        "      by PageRank.\n",
        "  Returns:\n",
        "  --------\n",
        "    list of three strings.\n",
        "  '''\n",
        "  # YOUR CODE HERE\n",
        "  return [\"Catholic Church\", \"Ancient Greek\", \"Aristotle\"]\n",
        "  #raise NotImplementedError()"
      ],
      "execution_count": null,
      "outputs": []
    },
    {
      "cell_type": "code",
      "metadata": {
        "deletable": false,
        "editable": false,
        "id": "nli6ETKzyPn6",
        "nbgrader": {
          "cell_type": "code",
          "checksum": "1436932508342f05c9317545700b8757",
          "grade": true,
          "grade_id": "cell-cbb125817c8a2b61",
          "locked": true,
          "points": 5,
          "schema_version": 3,
          "solution": false,
          "task": false
        }
      },
      "source": [
        "assert [_hash(x.lower()) for x in get_top_pr_page_titles()] == \\\n",
        "  ['52bb7dbc02', '3e920ea944', '3d007b19ee']"
      ],
      "execution_count": null,
      "outputs": []
    },
    {
      "cell_type": "markdown",
      "metadata": {
        "id": "d4V85PGkP3We"
      },
      "source": [
        "Do the top ranked pages make sense to you? Why do you think these pages received such a high scores from PageRank?"
      ]
    },
    {
      "cell_type": "markdown",
      "metadata": {
        "id": "OkDnmqAur3Ph"
      },
      "source": [
        "# GCP\n",
        "\n",
        "The second part of the assignment involves running index creation in GCP and reporting results in this notebook. Follow [this](https://docs.google.com/document/d/1HTZVDMQ1gyeq8dlyzmomOkxjSo1Td76PsCGlFkQohps/edit?usp=sharing) step-by-step guide in order to set up your cluster environment on GCP so you can execute pyspark code on a cluster of machines. "
      ]
    },
    {
      "cell_type": "markdown",
      "metadata": {
        "id": "Tq-ilXaFLFVh"
      },
      "source": [
        "The code to the GCP notebook is in the moodle under assignment 3. You will have to copy the code you completed here in the relevant sections.\n",
        "\n",
        "In the current notebook we used MapReduce to create the index for only one wiki dump. Using GCP, we will be able to create the index on the entire english wikipedia. The GCP part of this assignment will be the first time we will work with the entire corpus. You will need to follow the notebook, complete the code as you did here (the same code you completed in this notebook can be used in the GCP notebook). \n",
        "At the end of the GCP assignment you will have questions that you will need to answer - this are not the tests we used so far, so you should follow the instructions in the notebook."
      ]
    }
  ]
}