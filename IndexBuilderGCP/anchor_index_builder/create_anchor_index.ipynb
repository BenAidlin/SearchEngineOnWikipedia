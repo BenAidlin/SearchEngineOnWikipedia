{
 "cells": [
  {
   "cell_type": "markdown",
   "id": "7bd1b3db",
   "metadata": {
    "id": "7bd1b3db"
   },
   "source": [
    "***Important*** DO NOT CLEAR THE OUTPUT OF THIS NOTEBOOK AFTER EXECUTION!!!"
   ]
  },
  {
   "cell_type": "code",
   "execution_count": 1,
   "id": "99217fa4",
   "metadata": {
    "id": "99217fa4",
    "nbgrader": {
     "grade": false,
     "grade_id": "cell-Worker_Count",
     "locked": true,
     "schema_version": 3,
     "solution": false,
     "task": false
    },
    "outputId": "cf88b954-f39a-412a-d87e-660833e735b6"
   },
   "outputs": [
    {
     "name": "stdout",
     "output_type": "stream",
     "text": [
      "NAME          PLATFORM  WORKER_COUNT  PREEMPTIBLE_WORKER_COUNT  STATUS   ZONE           SCHEDULED_DELETE\r\n",
      "cluster-895b  GCE       4                                       RUNNING  us-central1-a\r\n"
     ]
    }
   ],
   "source": [
    "# if the following command generates an error, you probably didn't enable \n",
    "# the cluster security option \"Allow API access to all Google Cloud services\"\n",
    "# under Manage Security → Project Access when setting up the cluster\n",
    "!gcloud dataproc clusters list --region us-central1"
   ]
  },
  {
   "cell_type": "markdown",
   "id": "c2c49573",
   "metadata": {
    "id": "c2c49573"
   },
   "source": [
    "# Imports & Setup"
   ]
  },
  {
   "cell_type": "code",
   "execution_count": 2,
   "id": "061fb10e",
   "metadata": {
    "id": "061fb10e",
    "nbgrader": {
     "grade": false,
     "grade_id": "cell-Setup",
     "locked": true,
     "schema_version": 3,
     "solution": false,
     "task": false
    },
    "outputId": "fc0e315d-21e9-411d-d69c-5b97e4e5d629"
   },
   "outputs": [
    {
     "name": "stdout",
     "output_type": "stream",
     "text": [
      "\u001b[33mWARNING: Running pip as the 'root' user can result in broken permissions and conflicting behaviour with the system package manager. It is recommended to use a virtual environment instead: https://pip.pypa.io/warnings/venv\u001b[0m\n",
      "\u001b[33mWARNING: Running pip as the 'root' user can result in broken permissions and conflicting behaviour with the system package manager. It is recommended to use a virtual environment instead: https://pip.pypa.io/warnings/venv\u001b[0m\n"
     ]
    }
   ],
   "source": [
    "!pip install -q google-cloud-storage==1.43.0\n",
    "!pip install -q graphframes"
   ]
  },
  {
   "cell_type": "code",
   "execution_count": 3,
   "id": "3a6810d7",
   "metadata": {
    "id": "3a6810d7",
    "nbgrader": {
     "grade": false,
     "grade_id": "cell-Imports",
     "locked": true,
     "schema_version": 3,
     "solution": false,
     "task": false
    },
    "outputId": "a24aa24b-aa75-4823-83ca-1d7deef0f0de"
   },
   "outputs": [
    {
     "name": "stderr",
     "output_type": "stream",
     "text": [
      "[nltk_data] Downloading package stopwords to /root/nltk_data...\n",
      "[nltk_data]   Package stopwords is already up-to-date!\n"
     ]
    },
    {
     "data": {
      "text/plain": [
       "True"
      ]
     },
     "execution_count": 3,
     "metadata": {},
     "output_type": "execute_result"
    }
   ],
   "source": [
    "import pyspark\n",
    "import sys\n",
    "from collections import Counter, OrderedDict, defaultdict\n",
    "import itertools\n",
    "from itertools import islice, count, groupby\n",
    "import pandas as pd\n",
    "import os\n",
    "import re\n",
    "from operator import itemgetter\n",
    "import nltk\n",
    "from nltk.stem.porter import *\n",
    "from nltk.corpus import stopwords\n",
    "from time import time\n",
    "from pathlib import Path\n",
    "import pickle\n",
    "import pandas as pd\n",
    "from google.cloud import storage\n",
    "import math\n",
    "import hashlib\n",
    "import json\n",
    "\n",
    "def _hash(s):\n",
    "    return hashlib.blake2b(bytes(s, encoding='utf8'), digest_size=5).hexdigest()\n",
    "\n",
    "nltk.download('stopwords')"
   ]
  },
  {
   "cell_type": "code",
   "execution_count": 4,
   "id": "2fdd2267",
   "metadata": {
    "id": "2fdd2267",
    "nbgrader": {
     "grade": false,
     "grade_id": "cell-jar",
     "locked": true,
     "schema_version": 3,
     "solution": false,
     "task": false
    },
    "outputId": "8f93a7ec-71e0-49c1-fc81-9af385849a90"
   },
   "outputs": [
    {
     "name": "stdout",
     "output_type": "stream",
     "text": [
      "-rw-r--r-- 1 root root 247882 Jan  7 11:57 /usr/lib/spark/jars/graphframes-0.8.2-spark3.1-s_2.12.jar\r\n"
     ]
    }
   ],
   "source": [
    "# if nothing prints here you forgot to include the initialization script when starting the cluster\n",
    "!ls -l /usr/lib/spark/jars/graph*"
   ]
  },
  {
   "cell_type": "code",
   "execution_count": 5,
   "id": "79a84160",
   "metadata": {
    "id": "79a84160",
    "nbgrader": {
     "grade": false,
     "grade_id": "cell-pyspark-import",
     "locked": true,
     "schema_version": 3,
     "solution": false,
     "task": false
    }
   },
   "outputs": [],
   "source": [
    "from pyspark.sql import *\n",
    "from pyspark.sql.functions import *\n",
    "from pyspark import SparkContext, SparkConf, SparkFiles\n",
    "from pyspark.sql import SQLContext\n",
    "from graphframes import *"
   ]
  },
  {
   "cell_type": "code",
   "execution_count": 6,
   "id": "5876f9a7",
   "metadata": {
    "id": "5876f9a7",
    "nbgrader": {
     "grade": false,
     "grade_id": "cell-spark-version",
     "locked": true,
     "schema_version": 3,
     "solution": false,
     "task": false
    },
    "outputId": "07b4e22b-a252-42fb-fe46-d9050e4e7ca8",
    "scrolled": true
   },
   "outputs": [
    {
     "data": {
      "text/html": [
       "\n",
       "            <div>\n",
       "                <p><b>SparkSession - hive</b></p>\n",
       "                \n",
       "        <div>\n",
       "            <p><b>SparkContext</b></p>\n",
       "\n",
       "            <p><a href=\"http://cluster-895b-m.us-central1-a.c.ir-project-313191645-206013310.internal:35339\">Spark UI</a></p>\n",
       "\n",
       "            <dl>\n",
       "              <dt>Version</dt>\n",
       "                <dd><code>v3.1.2</code></dd>\n",
       "              <dt>Master</dt>\n",
       "                <dd><code>yarn</code></dd>\n",
       "              <dt>AppName</dt>\n",
       "                <dd><code>PySparkShell</code></dd>\n",
       "            </dl>\n",
       "        </div>\n",
       "        \n",
       "            </div>\n",
       "        "
      ],
      "text/plain": [
       "<pyspark.sql.session.SparkSession at 0x7f27c8b8f400>"
      ]
     },
     "execution_count": 6,
     "metadata": {},
     "output_type": "execute_result"
    }
   ],
   "source": [
    "spark"
   ]
  },
  {
   "cell_type": "code",
   "execution_count": 7,
   "id": "bd617124",
   "metadata": {
    "id": "bd617124",
    "nbgrader": {
     "grade": false,
     "grade_id": "cell-bucket_name",
     "locked": false,
     "schema_version": 3,
     "solution": true,
     "task": false
    },
    "outputId": "a91307e6-9d27-48e9-b943-173a240857f3"
   },
   "outputs": [],
   "source": [
    "# Put your bucket name below and make sure you can access it without an error\n",
    "bucket_name = 'ir-project-bucket-313191645-201013310' \n",
    "client = storage.Client()\n",
    "blobs = client.list_blobs(bucket_name)\n",
    "#for b in blobs:\n",
    "    #print(b.name)"
   ]
  },
  {
   "cell_type": "markdown",
   "id": "6bdb01de",
   "metadata": {
    "id": "6bdb01de"
   },
   "source": [
    "***GCP setup is complete!*** If you got here without any errors you've earned 10 out of the 35 points of this part."
   ]
  },
  {
   "cell_type": "markdown",
   "id": "c08c1a11",
   "metadata": {
    "id": "c08c1a11"
   },
   "source": [
    "# Building an inverted index"
   ]
  },
  {
   "cell_type": "markdown",
   "id": "a0264c9f",
   "metadata": {
    "id": "a0264c9f"
   },
   "source": [
    "Here, we read the entire corpus to an rdd, directly from Google Storage Bucket and use your code from Colab to construct an inverted index."
   ]
  },
  {
   "cell_type": "code",
   "execution_count": 8,
   "id": "1592f189",
   "metadata": {
    "id": "1592f189",
    "outputId": "dcaee7d8-89e8-48e3-9529-dd70f3d8574e",
    "scrolled": false
   },
   "outputs": [
    {
     "name": "stderr",
     "output_type": "stream",
     "text": [
      "                                                                                \r"
     ]
    }
   ],
   "source": [
    "full_path = \"gs://wikidata_preprocessed/*\"\n",
    "parquetFile = spark.read.parquet(full_path)\n",
    "title_anchor_pairs = parquetFile.select(\"anchor_text\", \"id\").rdd.map(lambda x: (x[1], x[0])).mapValues(lambda x: [r['text'] for r in x])\n",
    "doc_anchor_pairs = title_anchor_pairs.map(lambda x: (' '.join(x[1]), x[0]))"
   ]
  },
  {
   "cell_type": "code",
   "execution_count": 9,
   "id": "de9d4cf5",
   "metadata": {
    "id": "de9d4cf5",
    "outputId": "025cab04-229c-4ad0-90e9-040d98c46b40"
   },
   "outputs": [
    {
     "name": "stderr",
     "output_type": "stream",
     "text": [
      "                                                                                \r"
     ]
    }
   ],
   "source": [
    "# Count number of wiki pages\n",
    "total_number_of_docs_N = parquetFile.count()"
   ]
  },
  {
   "cell_type": "code",
   "execution_count": 10,
   "id": "d19acac7",
   "metadata": {
    "id": "d19acac7",
    "outputId": "327fe81b-80f4-4b3a-8894-e74720d92e35"
   },
   "outputs": [
    {
     "name": "stdout",
     "output_type": "stream",
     "text": [
      "inverted_index_gcp.py\r\n"
     ]
    }
   ],
   "source": [
    "# if nothing prints here you forgot to upload the file inverted_index_gcp.py to the home dir\n",
    "%cd -q /home/dataproc\n",
    "!ls inverted_index_gcp.py"
   ]
  },
  {
   "cell_type": "code",
   "execution_count": 11,
   "id": "33ee80db",
   "metadata": {
    "id": "33ee80db",
    "scrolled": true
   },
   "outputs": [],
   "source": [
    "# adding our python module to the cluster\n",
    "sc.addFile(\"/home/dataproc/inverted_index_gcp.py\")\n",
    "sys.path.insert(0,SparkFiles.getRootDirectory())"
   ]
  },
  {
   "cell_type": "code",
   "execution_count": 12,
   "id": "87fbc12e",
   "metadata": {
    "id": "87fbc12e"
   },
   "outputs": [],
   "source": [
    "from inverted_index_gcp import InvertedIndex\n",
    "InvertedIndex.DIR_NAME = 'anchor_index/postings_gcp_anchor_index'"
   ]
  },
  {
   "cell_type": "markdown",
   "id": "2ecdfd6f",
   "metadata": {
    "id": "2ecdfd6f"
   },
   "source": [
    "**YOUR TASK (10 POINTS)**: Use your implementation of `word_count`, `reduce_word_counts`, `calculate_df`, and `partition_postings_and_write` functions from Colab to build an inverted index for all of English Wikipedia in under 2 hours.\n",
    "\n",
    "A few notes: \n",
    "1. The number of corpus stopwords below is a bit bigger than the colab version since we are working on the whole corpus and not just on one file.\n",
    "2. You need to slightly modify your implementation of  `partition_postings_and_write` because the signature of `InvertedIndex.write_a_posting_list` has changed and now includes an additional argument called `bucket_name` for the target bucket. See the module for more details.\n",
    "3. You are not allowed to change any of the code not coming from Colab. "
   ]
  },
  {
   "cell_type": "code",
   "execution_count": 13,
   "id": "4b5a2e40",
   "metadata": {
    "id": "4b5a2e40",
    "nbgrader": {
     "grade": false,
     "grade_id": "cell-token2bucket",
     "locked": false,
     "schema_version": 3,
     "solution": true,
     "task": false
    }
   },
   "outputs": [],
   "source": [
    "english_stopwords = frozenset(stopwords.words('english'))\n",
    "corpus_stopwords = [\"category\", \"references\", \"also\", \"external\", \"links\", \n",
    "                    \"may\", \"first\", \"see\", \"history\", \"people\", \"one\", \"two\", \n",
    "                    \"part\", \"thumb\", \"including\", \"second\", \"following\", \n",
    "                    \"many\", \"however\", \"would\", \"became\"]\n",
    "FILTERED = False\n",
    "POSTING_LEN_THRESH = 300\n",
    "TFIDF_ROUND_THRESH = 4\n",
    "TFIDF_MUL = 10**TFIDF_ROUND_THRESH # 10000\n",
    "DIR_NAME = \"anchor_index/postings_gcp_anchor_index\"\n",
    "\n",
    "all_stopwords = english_stopwords.union(corpus_stopwords)\n",
    "RE_WORD = re.compile(r\"\"\"[\\#\\@\\w](['\\-]?\\w){2,24}\"\"\", re.UNICODE)\n",
    "\n",
    "from functools import total_ordering\n",
    "\n",
    "NUM_BUCKETS = 124\n",
    "def token2bucket_id(token):\n",
    "  return int(_hash(token),16) % NUM_BUCKETS\n",
    "\n",
    "def word_count(text, id):\n",
    "  tokens = [token.group() for token in RE_WORD.finditer(text.lower())]\n",
    "  if FILTERED:\n",
    "      set_of_toks = set(tokens)\n",
    "      len_before = len(set_of_toks)\n",
    "      len_after = len(set_of_toks - test_set_terms)\n",
    "      if len_after == len_before:\n",
    "        return []\n",
    "  tf_counter = Counter()\n",
    "  for tok in tokens:\n",
    "    if tok not in all_stopwords:\n",
    "      tf_counter[tok] += 1\n",
    "  to_ret = []\n",
    "  for item in tf_counter.items():\n",
    "    to_ret.append((item[0],(id,item[1])))\n",
    "  return to_ret\n",
    "\n",
    "def reduce_word_counts(unsorted_pl):\n",
    "  return sorted(unsorted_pl,key=lambda x: x[0])\n",
    "\n",
    "#start addition-------------------------\n",
    "def get_posting_size(n):\n",
    "    if POSTING_LEN_THRESH > n:\n",
    "        return n\n",
    "    return POSTING_LEN_THRESH\n",
    "\n",
    "def our_sum(lst):\n",
    "  summ = 0\n",
    "  for i in lst:\n",
    "    summ+=i\n",
    "  return summ\n",
    "#end addition------------------------------\n",
    "\n",
    "def partition_postings_and_write(postings):\n",
    "  temp = postings.map(lambda x: (token2bucket_id(x[0]),(x[0],x[1])))\n",
    "  temp = temp.groupByKey()\n",
    "  return temp.map(lambda x: InvertedIndex.write_a_posting_list(x,bucket_name))\n"
   ]
  },
  {
   "cell_type": "code",
   "execution_count": 14,
   "id": "7e36a929",
   "metadata": {
    "id": "7e36a929",
    "nbgrader": {
     "grade": false,
     "grade_id": "cell-index_construction",
     "locked": false,
     "schema_version": 3,
     "solution": true,
     "task": false
    },
    "outputId": "d8b74c9c-d531-4d2c-9f66-5ed154ae11d1"
   },
   "outputs": [],
   "source": [
    "#start addition-------------------------\n",
    "doc_tf_vector = doc_anchor_pairs.map(lambda x: (x[1], word_count(x[0], x[1]))).filter(lambda x: len(x[1]) > 0)\n",
    "doc_tf_vector_with_doc_len = doc_tf_vector.map(lambda x: (x[0], our_sum([i[1][1] for i in x[1]]),x[1]))\n",
    "doc_tf_div_by_doc_len = doc_tf_vector_with_doc_len.map(lambda x: (x[0],[(term,(tup[0],tup[1]/x[1])) for term, tup in x[2]]))\n",
    "\n",
    "flating = doc_tf_div_by_doc_len.map(lambda x: x[1]).flatMap(lambda x: x).groupByKey().mapValues(list)\n",
    "\n",
    "add_df_for_value = flating.mapValues(lambda x: (len(x),x)).filter(lambda x: x[1][0] > 10)\n",
    "\n",
    "posting_list_befor_trans = add_df_for_value.mapValues(lambda x: [(doc_id, tf*math.log(total_number_of_docs_N/x[0],2)) for doc_id, tf in x[1]])\n",
    "\n",
    "doc_to_vec =  posting_list_befor_trans.map(lambda x: x[1]).flatMap(lambda x: x).groupByKey().mapValues(list)\n",
    "doc_vec_size_rdd = doc_to_vec.mapValues(lambda x: our_sum([i**2 for i in x])**0.5)\n",
    "#end addition------------------------------"
   ]
  },
  {
   "cell_type": "code",
   "execution_count": 15,
   "id": "5464627c",
   "metadata": {},
   "outputs": [
    {
     "name": "stderr",
     "output_type": "stream",
     "text": [
      "                                                                                \r"
     ]
    }
   ],
   "source": [
    "doc_vec_size_dict  = dict(doc_vec_size_rdd.collect())"
   ]
  },
  {
   "cell_type": "code",
   "execution_count": 16,
   "id": "e4cb023e",
   "metadata": {},
   "outputs": [],
   "source": [
    "posting_list_div_by_doc_vec_size = posting_list_befor_trans.mapValues(lambda x: [(doc_id, tfidf/doc_vec_size_dict[doc_id]) for doc_id, tfidf in x])"
   ]
  },
  {
   "cell_type": "code",
   "execution_count": 17,
   "id": "ccefd82e",
   "metadata": {},
   "outputs": [
    {
     "name": "stdout",
     "output_type": "stream",
     "text": [
      "finish\n"
     ]
    }
   ],
   "source": [
    "rounded_posting_lists = posting_list_div_by_doc_vec_size.mapValues(lambda x: [(doc_id, int(tf_idf*10000)) for doc_id, tf_idf in x])\n",
    "\n",
    "sorted_posting_list = rounded_posting_lists.mapValues(lambda x: sorted(x, key=lambda y: y[1], reverse=True))\n",
    "\n",
    "# slicing posting list to POSTING_LEN_THRESH size (if posting list len is bigger)\n",
    "final_posting_lists = sorted_posting_list.map(lambda x: (x[0], x[1][:get_posting_size(len(x[1]))]))\n",
    "print('finish')"
   ]
  },
  {
   "cell_type": "code",
   "execution_count": 18,
   "id": "5fb529db",
   "metadata": {
    "scrolled": true
   },
   "outputs": [
    {
     "name": "stderr",
     "output_type": "stream",
     "text": [
      "                                                                                \r"
     ]
    }
   ],
   "source": [
    "_ = partition_postings_and_write(final_posting_lists).collect()"
   ]
  },
  {
   "cell_type": "code",
   "execution_count": 19,
   "id": "06c7e410",
   "metadata": {
    "id": "06c7e410",
    "nbgrader": {
     "grade": true,
     "grade_id": "collect-posting",
     "locked": true,
     "points": 0,
     "schema_version": 3,
     "solution": false,
     "task": false
    }
   },
   "outputs": [
    {
     "name": "stdout",
     "output_type": "stream",
     "text": [
      "found anchor_index/postings_gcp_anchor_index/0_posting_locs.pickle\n",
      "wrote anchor_index/postings_gcp_anchor_index/0_posting_locs.pickle\n",
      "found anchor_index/postings_gcp_anchor_index/100_posting_locs.pickle\n",
      "wrote anchor_index/postings_gcp_anchor_index/100_posting_locs.pickle\n",
      "found anchor_index/postings_gcp_anchor_index/101_posting_locs.pickle\n",
      "wrote anchor_index/postings_gcp_anchor_index/101_posting_locs.pickle\n",
      "found anchor_index/postings_gcp_anchor_index/102_posting_locs.pickle\n",
      "wrote anchor_index/postings_gcp_anchor_index/102_posting_locs.pickle\n",
      "found anchor_index/postings_gcp_anchor_index/103_posting_locs.pickle\n",
      "wrote anchor_index/postings_gcp_anchor_index/103_posting_locs.pickle\n",
      "found anchor_index/postings_gcp_anchor_index/104_posting_locs.pickle\n",
      "wrote anchor_index/postings_gcp_anchor_index/104_posting_locs.pickle\n",
      "found anchor_index/postings_gcp_anchor_index/105_posting_locs.pickle\n",
      "wrote anchor_index/postings_gcp_anchor_index/105_posting_locs.pickle\n",
      "found anchor_index/postings_gcp_anchor_index/106_posting_locs.pickle\n",
      "wrote anchor_index/postings_gcp_anchor_index/106_posting_locs.pickle\n",
      "found anchor_index/postings_gcp_anchor_index/107_posting_locs.pickle\n",
      "wrote anchor_index/postings_gcp_anchor_index/107_posting_locs.pickle\n",
      "found anchor_index/postings_gcp_anchor_index/108_posting_locs.pickle\n",
      "wrote anchor_index/postings_gcp_anchor_index/108_posting_locs.pickle\n",
      "found anchor_index/postings_gcp_anchor_index/109_posting_locs.pickle\n",
      "wrote anchor_index/postings_gcp_anchor_index/109_posting_locs.pickle\n",
      "found anchor_index/postings_gcp_anchor_index/10_posting_locs.pickle\n",
      "wrote anchor_index/postings_gcp_anchor_index/10_posting_locs.pickle\n",
      "found anchor_index/postings_gcp_anchor_index/110_posting_locs.pickle\n",
      "wrote anchor_index/postings_gcp_anchor_index/110_posting_locs.pickle\n",
      "found anchor_index/postings_gcp_anchor_index/111_posting_locs.pickle\n",
      "wrote anchor_index/postings_gcp_anchor_index/111_posting_locs.pickle\n",
      "found anchor_index/postings_gcp_anchor_index/112_posting_locs.pickle\n",
      "wrote anchor_index/postings_gcp_anchor_index/112_posting_locs.pickle\n",
      "found anchor_index/postings_gcp_anchor_index/113_posting_locs.pickle\n",
      "wrote anchor_index/postings_gcp_anchor_index/113_posting_locs.pickle\n",
      "found anchor_index/postings_gcp_anchor_index/114_posting_locs.pickle\n",
      "wrote anchor_index/postings_gcp_anchor_index/114_posting_locs.pickle\n",
      "found anchor_index/postings_gcp_anchor_index/115_posting_locs.pickle\n",
      "wrote anchor_index/postings_gcp_anchor_index/115_posting_locs.pickle\n",
      "found anchor_index/postings_gcp_anchor_index/116_posting_locs.pickle\n",
      "wrote anchor_index/postings_gcp_anchor_index/116_posting_locs.pickle\n",
      "found anchor_index/postings_gcp_anchor_index/117_posting_locs.pickle\n",
      "wrote anchor_index/postings_gcp_anchor_index/117_posting_locs.pickle\n",
      "found anchor_index/postings_gcp_anchor_index/118_posting_locs.pickle\n",
      "wrote anchor_index/postings_gcp_anchor_index/118_posting_locs.pickle\n",
      "found anchor_index/postings_gcp_anchor_index/119_posting_locs.pickle\n",
      "wrote anchor_index/postings_gcp_anchor_index/119_posting_locs.pickle\n",
      "found anchor_index/postings_gcp_anchor_index/11_posting_locs.pickle\n",
      "wrote anchor_index/postings_gcp_anchor_index/11_posting_locs.pickle\n",
      "found anchor_index/postings_gcp_anchor_index/120_posting_locs.pickle\n",
      "wrote anchor_index/postings_gcp_anchor_index/120_posting_locs.pickle\n",
      "found anchor_index/postings_gcp_anchor_index/121_posting_locs.pickle\n",
      "wrote anchor_index/postings_gcp_anchor_index/121_posting_locs.pickle\n",
      "found anchor_index/postings_gcp_anchor_index/122_posting_locs.pickle\n",
      "wrote anchor_index/postings_gcp_anchor_index/122_posting_locs.pickle\n",
      "found anchor_index/postings_gcp_anchor_index/123_posting_locs.pickle\n",
      "wrote anchor_index/postings_gcp_anchor_index/123_posting_locs.pickle\n",
      "found anchor_index/postings_gcp_anchor_index/12_posting_locs.pickle\n",
      "wrote anchor_index/postings_gcp_anchor_index/12_posting_locs.pickle\n",
      "found anchor_index/postings_gcp_anchor_index/13_posting_locs.pickle\n",
      "wrote anchor_index/postings_gcp_anchor_index/13_posting_locs.pickle\n",
      "found anchor_index/postings_gcp_anchor_index/14_posting_locs.pickle\n",
      "wrote anchor_index/postings_gcp_anchor_index/14_posting_locs.pickle\n",
      "found anchor_index/postings_gcp_anchor_index/15_posting_locs.pickle\n",
      "wrote anchor_index/postings_gcp_anchor_index/15_posting_locs.pickle\n",
      "found anchor_index/postings_gcp_anchor_index/16_posting_locs.pickle\n",
      "wrote anchor_index/postings_gcp_anchor_index/16_posting_locs.pickle\n",
      "found anchor_index/postings_gcp_anchor_index/17_posting_locs.pickle\n",
      "wrote anchor_index/postings_gcp_anchor_index/17_posting_locs.pickle\n",
      "found anchor_index/postings_gcp_anchor_index/18_posting_locs.pickle\n",
      "wrote anchor_index/postings_gcp_anchor_index/18_posting_locs.pickle\n",
      "found anchor_index/postings_gcp_anchor_index/19_posting_locs.pickle\n",
      "wrote anchor_index/postings_gcp_anchor_index/19_posting_locs.pickle\n",
      "found anchor_index/postings_gcp_anchor_index/1_posting_locs.pickle\n",
      "wrote anchor_index/postings_gcp_anchor_index/1_posting_locs.pickle\n",
      "found anchor_index/postings_gcp_anchor_index/20_posting_locs.pickle\n",
      "wrote anchor_index/postings_gcp_anchor_index/20_posting_locs.pickle\n",
      "found anchor_index/postings_gcp_anchor_index/21_posting_locs.pickle\n",
      "wrote anchor_index/postings_gcp_anchor_index/21_posting_locs.pickle\n",
      "found anchor_index/postings_gcp_anchor_index/22_posting_locs.pickle\n",
      "wrote anchor_index/postings_gcp_anchor_index/22_posting_locs.pickle\n",
      "found anchor_index/postings_gcp_anchor_index/23_posting_locs.pickle\n",
      "wrote anchor_index/postings_gcp_anchor_index/23_posting_locs.pickle\n",
      "found anchor_index/postings_gcp_anchor_index/24_posting_locs.pickle\n",
      "wrote anchor_index/postings_gcp_anchor_index/24_posting_locs.pickle\n",
      "found anchor_index/postings_gcp_anchor_index/25_posting_locs.pickle\n",
      "wrote anchor_index/postings_gcp_anchor_index/25_posting_locs.pickle\n",
      "found anchor_index/postings_gcp_anchor_index/26_posting_locs.pickle\n",
      "wrote anchor_index/postings_gcp_anchor_index/26_posting_locs.pickle\n",
      "found anchor_index/postings_gcp_anchor_index/27_posting_locs.pickle\n",
      "wrote anchor_index/postings_gcp_anchor_index/27_posting_locs.pickle\n",
      "found anchor_index/postings_gcp_anchor_index/28_posting_locs.pickle\n",
      "wrote anchor_index/postings_gcp_anchor_index/28_posting_locs.pickle\n",
      "found anchor_index/postings_gcp_anchor_index/29_posting_locs.pickle\n",
      "wrote anchor_index/postings_gcp_anchor_index/29_posting_locs.pickle\n",
      "found anchor_index/postings_gcp_anchor_index/2_posting_locs.pickle\n",
      "wrote anchor_index/postings_gcp_anchor_index/2_posting_locs.pickle\n",
      "found anchor_index/postings_gcp_anchor_index/30_posting_locs.pickle\n",
      "wrote anchor_index/postings_gcp_anchor_index/30_posting_locs.pickle\n",
      "found anchor_index/postings_gcp_anchor_index/31_posting_locs.pickle\n",
      "wrote anchor_index/postings_gcp_anchor_index/31_posting_locs.pickle\n",
      "found anchor_index/postings_gcp_anchor_index/32_posting_locs.pickle\n",
      "wrote anchor_index/postings_gcp_anchor_index/32_posting_locs.pickle\n",
      "found anchor_index/postings_gcp_anchor_index/33_posting_locs.pickle\n",
      "wrote anchor_index/postings_gcp_anchor_index/33_posting_locs.pickle\n",
      "found anchor_index/postings_gcp_anchor_index/34_posting_locs.pickle\n",
      "wrote anchor_index/postings_gcp_anchor_index/34_posting_locs.pickle\n",
      "found anchor_index/postings_gcp_anchor_index/35_posting_locs.pickle\n",
      "wrote anchor_index/postings_gcp_anchor_index/35_posting_locs.pickle\n",
      "found anchor_index/postings_gcp_anchor_index/36_posting_locs.pickle\n",
      "wrote anchor_index/postings_gcp_anchor_index/36_posting_locs.pickle\n",
      "found anchor_index/postings_gcp_anchor_index/37_posting_locs.pickle\n",
      "wrote anchor_index/postings_gcp_anchor_index/37_posting_locs.pickle\n",
      "found anchor_index/postings_gcp_anchor_index/38_posting_locs.pickle\n",
      "wrote anchor_index/postings_gcp_anchor_index/38_posting_locs.pickle\n",
      "found anchor_index/postings_gcp_anchor_index/39_posting_locs.pickle\n",
      "wrote anchor_index/postings_gcp_anchor_index/39_posting_locs.pickle\n",
      "found anchor_index/postings_gcp_anchor_index/3_posting_locs.pickle\n",
      "wrote anchor_index/postings_gcp_anchor_index/3_posting_locs.pickle\n",
      "found anchor_index/postings_gcp_anchor_index/40_posting_locs.pickle\n",
      "wrote anchor_index/postings_gcp_anchor_index/40_posting_locs.pickle\n",
      "found anchor_index/postings_gcp_anchor_index/41_posting_locs.pickle\n",
      "wrote anchor_index/postings_gcp_anchor_index/41_posting_locs.pickle\n",
      "found anchor_index/postings_gcp_anchor_index/42_posting_locs.pickle\n",
      "wrote anchor_index/postings_gcp_anchor_index/42_posting_locs.pickle\n",
      "found anchor_index/postings_gcp_anchor_index/43_posting_locs.pickle\n",
      "wrote anchor_index/postings_gcp_anchor_index/43_posting_locs.pickle\n",
      "found anchor_index/postings_gcp_anchor_index/44_posting_locs.pickle\n",
      "wrote anchor_index/postings_gcp_anchor_index/44_posting_locs.pickle\n",
      "found anchor_index/postings_gcp_anchor_index/45_posting_locs.pickle\n",
      "wrote anchor_index/postings_gcp_anchor_index/45_posting_locs.pickle\n",
      "found anchor_index/postings_gcp_anchor_index/46_posting_locs.pickle\n",
      "wrote anchor_index/postings_gcp_anchor_index/46_posting_locs.pickle\n",
      "found anchor_index/postings_gcp_anchor_index/47_posting_locs.pickle\n"
     ]
    },
    {
     "name": "stdout",
     "output_type": "stream",
     "text": [
      "wrote anchor_index/postings_gcp_anchor_index/47_posting_locs.pickle\n",
      "found anchor_index/postings_gcp_anchor_index/48_posting_locs.pickle\n",
      "wrote anchor_index/postings_gcp_anchor_index/48_posting_locs.pickle\n",
      "found anchor_index/postings_gcp_anchor_index/49_posting_locs.pickle\n",
      "wrote anchor_index/postings_gcp_anchor_index/49_posting_locs.pickle\n",
      "found anchor_index/postings_gcp_anchor_index/4_posting_locs.pickle\n",
      "wrote anchor_index/postings_gcp_anchor_index/4_posting_locs.pickle\n",
      "found anchor_index/postings_gcp_anchor_index/50_posting_locs.pickle\n",
      "wrote anchor_index/postings_gcp_anchor_index/50_posting_locs.pickle\n",
      "found anchor_index/postings_gcp_anchor_index/51_posting_locs.pickle\n",
      "wrote anchor_index/postings_gcp_anchor_index/51_posting_locs.pickle\n",
      "found anchor_index/postings_gcp_anchor_index/52_posting_locs.pickle\n",
      "wrote anchor_index/postings_gcp_anchor_index/52_posting_locs.pickle\n",
      "found anchor_index/postings_gcp_anchor_index/53_posting_locs.pickle\n",
      "wrote anchor_index/postings_gcp_anchor_index/53_posting_locs.pickle\n",
      "found anchor_index/postings_gcp_anchor_index/54_posting_locs.pickle\n",
      "wrote anchor_index/postings_gcp_anchor_index/54_posting_locs.pickle\n",
      "found anchor_index/postings_gcp_anchor_index/55_posting_locs.pickle\n",
      "wrote anchor_index/postings_gcp_anchor_index/55_posting_locs.pickle\n",
      "found anchor_index/postings_gcp_anchor_index/56_posting_locs.pickle\n",
      "wrote anchor_index/postings_gcp_anchor_index/56_posting_locs.pickle\n",
      "found anchor_index/postings_gcp_anchor_index/57_posting_locs.pickle\n",
      "wrote anchor_index/postings_gcp_anchor_index/57_posting_locs.pickle\n",
      "found anchor_index/postings_gcp_anchor_index/58_posting_locs.pickle\n",
      "wrote anchor_index/postings_gcp_anchor_index/58_posting_locs.pickle\n",
      "found anchor_index/postings_gcp_anchor_index/59_posting_locs.pickle\n",
      "wrote anchor_index/postings_gcp_anchor_index/59_posting_locs.pickle\n",
      "found anchor_index/postings_gcp_anchor_index/5_posting_locs.pickle\n",
      "wrote anchor_index/postings_gcp_anchor_index/5_posting_locs.pickle\n",
      "found anchor_index/postings_gcp_anchor_index/60_posting_locs.pickle\n",
      "wrote anchor_index/postings_gcp_anchor_index/60_posting_locs.pickle\n",
      "found anchor_index/postings_gcp_anchor_index/61_posting_locs.pickle\n",
      "wrote anchor_index/postings_gcp_anchor_index/61_posting_locs.pickle\n",
      "found anchor_index/postings_gcp_anchor_index/62_posting_locs.pickle\n",
      "wrote anchor_index/postings_gcp_anchor_index/62_posting_locs.pickle\n",
      "found anchor_index/postings_gcp_anchor_index/63_posting_locs.pickle\n",
      "wrote anchor_index/postings_gcp_anchor_index/63_posting_locs.pickle\n",
      "found anchor_index/postings_gcp_anchor_index/64_posting_locs.pickle\n",
      "wrote anchor_index/postings_gcp_anchor_index/64_posting_locs.pickle\n",
      "found anchor_index/postings_gcp_anchor_index/65_posting_locs.pickle\n",
      "wrote anchor_index/postings_gcp_anchor_index/65_posting_locs.pickle\n",
      "found anchor_index/postings_gcp_anchor_index/66_posting_locs.pickle\n",
      "wrote anchor_index/postings_gcp_anchor_index/66_posting_locs.pickle\n",
      "found anchor_index/postings_gcp_anchor_index/67_posting_locs.pickle\n",
      "wrote anchor_index/postings_gcp_anchor_index/67_posting_locs.pickle\n",
      "found anchor_index/postings_gcp_anchor_index/68_posting_locs.pickle\n",
      "wrote anchor_index/postings_gcp_anchor_index/68_posting_locs.pickle\n",
      "found anchor_index/postings_gcp_anchor_index/69_posting_locs.pickle\n",
      "wrote anchor_index/postings_gcp_anchor_index/69_posting_locs.pickle\n",
      "found anchor_index/postings_gcp_anchor_index/6_posting_locs.pickle\n",
      "wrote anchor_index/postings_gcp_anchor_index/6_posting_locs.pickle\n",
      "found anchor_index/postings_gcp_anchor_index/70_posting_locs.pickle\n",
      "wrote anchor_index/postings_gcp_anchor_index/70_posting_locs.pickle\n",
      "found anchor_index/postings_gcp_anchor_index/71_posting_locs.pickle\n",
      "wrote anchor_index/postings_gcp_anchor_index/71_posting_locs.pickle\n",
      "found anchor_index/postings_gcp_anchor_index/72_posting_locs.pickle\n",
      "wrote anchor_index/postings_gcp_anchor_index/72_posting_locs.pickle\n",
      "found anchor_index/postings_gcp_anchor_index/73_posting_locs.pickle\n",
      "wrote anchor_index/postings_gcp_anchor_index/73_posting_locs.pickle\n",
      "found anchor_index/postings_gcp_anchor_index/74_posting_locs.pickle\n",
      "wrote anchor_index/postings_gcp_anchor_index/74_posting_locs.pickle\n",
      "found anchor_index/postings_gcp_anchor_index/75_posting_locs.pickle\n",
      "wrote anchor_index/postings_gcp_anchor_index/75_posting_locs.pickle\n",
      "found anchor_index/postings_gcp_anchor_index/76_posting_locs.pickle\n",
      "wrote anchor_index/postings_gcp_anchor_index/76_posting_locs.pickle\n",
      "found anchor_index/postings_gcp_anchor_index/77_posting_locs.pickle\n",
      "wrote anchor_index/postings_gcp_anchor_index/77_posting_locs.pickle\n",
      "found anchor_index/postings_gcp_anchor_index/78_posting_locs.pickle\n",
      "wrote anchor_index/postings_gcp_anchor_index/78_posting_locs.pickle\n",
      "found anchor_index/postings_gcp_anchor_index/79_posting_locs.pickle\n",
      "wrote anchor_index/postings_gcp_anchor_index/79_posting_locs.pickle\n",
      "found anchor_index/postings_gcp_anchor_index/7_posting_locs.pickle\n",
      "wrote anchor_index/postings_gcp_anchor_index/7_posting_locs.pickle\n",
      "found anchor_index/postings_gcp_anchor_index/80_posting_locs.pickle\n",
      "wrote anchor_index/postings_gcp_anchor_index/80_posting_locs.pickle\n",
      "found anchor_index/postings_gcp_anchor_index/81_posting_locs.pickle\n",
      "wrote anchor_index/postings_gcp_anchor_index/81_posting_locs.pickle\n",
      "found anchor_index/postings_gcp_anchor_index/82_posting_locs.pickle\n",
      "wrote anchor_index/postings_gcp_anchor_index/82_posting_locs.pickle\n",
      "found anchor_index/postings_gcp_anchor_index/83_posting_locs.pickle\n",
      "wrote anchor_index/postings_gcp_anchor_index/83_posting_locs.pickle\n",
      "found anchor_index/postings_gcp_anchor_index/84_posting_locs.pickle\n",
      "wrote anchor_index/postings_gcp_anchor_index/84_posting_locs.pickle\n",
      "found anchor_index/postings_gcp_anchor_index/85_posting_locs.pickle\n",
      "wrote anchor_index/postings_gcp_anchor_index/85_posting_locs.pickle\n",
      "found anchor_index/postings_gcp_anchor_index/86_posting_locs.pickle\n",
      "wrote anchor_index/postings_gcp_anchor_index/86_posting_locs.pickle\n",
      "found anchor_index/postings_gcp_anchor_index/87_posting_locs.pickle\n",
      "wrote anchor_index/postings_gcp_anchor_index/87_posting_locs.pickle\n",
      "found anchor_index/postings_gcp_anchor_index/88_posting_locs.pickle\n",
      "wrote anchor_index/postings_gcp_anchor_index/88_posting_locs.pickle\n",
      "found anchor_index/postings_gcp_anchor_index/89_posting_locs.pickle\n",
      "wrote anchor_index/postings_gcp_anchor_index/89_posting_locs.pickle\n",
      "found anchor_index/postings_gcp_anchor_index/8_posting_locs.pickle\n",
      "wrote anchor_index/postings_gcp_anchor_index/8_posting_locs.pickle\n",
      "found anchor_index/postings_gcp_anchor_index/90_posting_locs.pickle\n",
      "wrote anchor_index/postings_gcp_anchor_index/90_posting_locs.pickle\n",
      "found anchor_index/postings_gcp_anchor_index/91_posting_locs.pickle\n",
      "wrote anchor_index/postings_gcp_anchor_index/91_posting_locs.pickle\n",
      "found anchor_index/postings_gcp_anchor_index/92_posting_locs.pickle\n",
      "wrote anchor_index/postings_gcp_anchor_index/92_posting_locs.pickle\n",
      "found anchor_index/postings_gcp_anchor_index/93_posting_locs.pickle\n",
      "wrote anchor_index/postings_gcp_anchor_index/93_posting_locs.pickle\n",
      "found anchor_index/postings_gcp_anchor_index/94_posting_locs.pickle\n",
      "wrote anchor_index/postings_gcp_anchor_index/94_posting_locs.pickle\n",
      "found anchor_index/postings_gcp_anchor_index/95_posting_locs.pickle\n",
      "wrote anchor_index/postings_gcp_anchor_index/95_posting_locs.pickle\n",
      "found anchor_index/postings_gcp_anchor_index/96_posting_locs.pickle\n",
      "wrote anchor_index/postings_gcp_anchor_index/96_posting_locs.pickle\n",
      "found anchor_index/postings_gcp_anchor_index/97_posting_locs.pickle\n",
      "wrote anchor_index/postings_gcp_anchor_index/97_posting_locs.pickle\n",
      "found anchor_index/postings_gcp_anchor_index/98_posting_locs.pickle\n",
      "wrote anchor_index/postings_gcp_anchor_index/98_posting_locs.pickle\n",
      "found anchor_index/postings_gcp_anchor_index/99_posting_locs.pickle\n",
      "wrote anchor_index/postings_gcp_anchor_index/99_posting_locs.pickle\n",
      "found anchor_index/postings_gcp_anchor_index/9_posting_locs.pickle\n",
      "wrote anchor_index/postings_gcp_anchor_index/9_posting_locs.pickle\n",
      "finish2\n"
     ]
    }
   ],
   "source": [
    "super_posting_locs = defaultdict(list)\n",
    "for blob in client.list_blobs(bucket_name, prefix=DIR_NAME):\n",
    "  if not blob.name.endswith(\"pickle\"):\n",
    "    continue\n",
    "  print(\"found \" + blob.name)\n",
    "  with blob.open(\"rb\") as f:\n",
    "    posting_locs = pickle.load(f)\n",
    "    for k, v in posting_locs.items():\n",
    "      super_posting_locs[k].extend(v)\n",
    "    print(\"wrote \" + blob.name)\n",
    "print(\"finish2\")"
   ]
  },
  {
   "cell_type": "code",
   "execution_count": 20,
   "id": "85a93ce1",
   "metadata": {},
   "outputs": [
    {
     "name": "stderr",
     "output_type": "stream",
     "text": [
      "                                                                                \r"
     ]
    }
   ],
   "source": [
    "df_dict_rdd = final_posting_lists.mapValues(lambda x: len(x))\n",
    "df_dict = dict(df_dict_rdd.collect())"
   ]
  },
  {
   "cell_type": "code",
   "execution_count": 21,
   "id": "f093dd3e",
   "metadata": {
    "id": "f093dd3e"
   },
   "outputs": [],
   "source": [
    "anchor_index = InvertedIndex()\n",
    "anchor_index.df = df_dict\n",
    "anchor_index.posting_locs = super_posting_locs"
   ]
  },
  {
   "cell_type": "code",
   "execution_count": 22,
   "id": "156e9f81",
   "metadata": {},
   "outputs": [
    {
     "name": "stdout",
     "output_type": "stream",
     "text": [
      "Copying file://anchor_index.pkl [Content-Type=application/octet-stream]...\n",
      "/ [1 files][ 22.4 MiB/ 22.4 MiB]                                                \n",
      "Operation completed over 1 objects/22.4 MiB.                                     \n"
     ]
    }
   ],
   "source": [
    "# write the global stats out\n",
    "anchor_index.write_index('.', 'anchor_index')\n",
    "# upload to gs\n",
    "index_src = \"anchor_index.pkl\"\n",
    "index_dst = f'gs://{bucket_name}/anchor_index/postings_tfidf_gcp/{index_src}'\n",
    "!gsutil cp $index_src $index_dst"
   ]
  },
  {
   "cell_type": "code",
   "execution_count": 23,
   "id": "cce3fcd1",
   "metadata": {},
   "outputs": [
    {
     "name": "stdout",
     "output_type": "stream",
     "text": [
      " 22.35 MiB  2022-01-07T19:28:22Z  gs://ir-project-bucket-313191645-201013310/anchor_index/postings_tfidf_gcp/anchor_index.pkl\r\n",
      "TOTAL: 1 objects, 23431906 bytes (22.35 MiB)\r\n"
     ]
    }
   ],
   "source": [
    "!gsutil ls -lh $index_dst"
   ]
  },
  {
   "cell_type": "code",
   "execution_count": 24,
   "id": "0d0e7164",
   "metadata": {},
   "outputs": [
    {
     "ename": "NameError",
     "evalue": "name 'title_index' is not defined",
     "output_type": "error",
     "traceback": [
      "\u001b[0;31m---------------------------------------------------------------------------\u001b[0m",
      "\u001b[0;31mNameError\u001b[0m                                 Traceback (most recent call last)",
      "\u001b[0;32m/tmp/ipykernel_1422/3841811500.py\u001b[0m in \u001b[0;36m<module>\u001b[0;34m\u001b[0m\n\u001b[0;32m----> 1\u001b[0;31m \u001b[0mtitle_index\u001b[0m\u001b[0;34m.\u001b[0m\u001b[0mposting_locs\u001b[0m\u001b[0;34m[\u001b[0m\u001b[0;34m'silicon'\u001b[0m\u001b[0;34m]\u001b[0m\u001b[0;34m\u001b[0m\u001b[0;34m\u001b[0m\u001b[0m\n\u001b[0m",
      "\u001b[0;31mNameError\u001b[0m: name 'title_index' is not defined"
     ]
    }
   ],
   "source": [
    "title_index.posting_locs['silicon']"
   ]
  }
 ],
 "metadata": {
  "celltoolbar": "Create Assignment",
  "colab": {
   "collapsed_sections": [],
   "name": "final_queries_terms_index_builder_gcp.ipynb",
   "provenance": []
  },
  "kernelspec": {
   "display_name": "PySpark",
   "language": "python",
   "name": "pyspark"
  },
  "language_info": {
   "codemirror_mode": {
    "name": "ipython",
    "version": 3
   },
   "file_extension": ".py",
   "mimetype": "text/x-python",
   "name": "python",
   "nbconvert_exporter": "python",
   "pygments_lexer": "ipython3",
   "version": "3.8.12"
  }
 },
 "nbformat": 4,
 "nbformat_minor": 5
}
