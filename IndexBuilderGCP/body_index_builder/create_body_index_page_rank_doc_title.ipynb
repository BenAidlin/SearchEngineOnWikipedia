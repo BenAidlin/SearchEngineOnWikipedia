{
 "cells": [
  {
   "cell_type": "markdown",
   "id": "7bd1b3db",
   "metadata": {
    "id": "7bd1b3db"
   },
   "source": [
    "***Important*** DO NOT CLEAR THE OUTPUT OF THIS NOTEBOOK AFTER EXECUTION!!!"
   ]
  },
  {
   "cell_type": "code",
   "execution_count": 1,
   "id": "99217fa4",
   "metadata": {
    "id": "99217fa4",
    "nbgrader": {
     "grade": false,
     "grade_id": "cell-Worker_Count",
     "locked": true,
     "schema_version": 3,
     "solution": false,
     "task": false
    },
    "outputId": "cf88b954-f39a-412a-d87e-660833e735b6"
   },
   "outputs": [
    {
     "name": "stdout",
     "output_type": "stream",
     "text": [
      "NAME          PLATFORM  WORKER_COUNT  PREEMPTIBLE_WORKER_COUNT  STATUS   ZONE           SCHEDULED_DELETE\r\n",
      "cluster-895b  GCE       4                                       RUNNING  us-central1-a\r\n"
     ]
    }
   ],
   "source": [
    "# if the following command generates an error, you probably didn't enable \n",
    "# the cluster security option \"Allow API access to all Google Cloud services\"\n",
    "# under Manage Security → Project Access when setting up the cluster\n",
    "!gcloud dataproc clusters list --region us-central1"
   ]
  },
  {
   "cell_type": "markdown",
   "id": "c2c49573",
   "metadata": {
    "id": "c2c49573"
   },
   "source": [
    "# Imports & Setup"
   ]
  },
  {
   "cell_type": "code",
   "execution_count": 2,
   "id": "061fb10e",
   "metadata": {
    "id": "061fb10e",
    "nbgrader": {
     "grade": false,
     "grade_id": "cell-Setup",
     "locked": true,
     "schema_version": 3,
     "solution": false,
     "task": false
    },
    "outputId": "fc0e315d-21e9-411d-d69c-5b97e4e5d629"
   },
   "outputs": [
    {
     "name": "stdout",
     "output_type": "stream",
     "text": [
      "\u001b[33mWARNING: Running pip as the 'root' user can result in broken permissions and conflicting behaviour with the system package manager. It is recommended to use a virtual environment instead: https://pip.pypa.io/warnings/venv\u001b[0m\n",
      "\u001b[33mWARNING: Running pip as the 'root' user can result in broken permissions and conflicting behaviour with the system package manager. It is recommended to use a virtual environment instead: https://pip.pypa.io/warnings/venv\u001b[0m\n"
     ]
    }
   ],
   "source": [
    "!pip install -q google-cloud-storage==1.43.0\n",
    "!pip install -q graphframes"
   ]
  },
  {
   "cell_type": "code",
   "execution_count": 3,
   "id": "3a6810d7",
   "metadata": {
    "id": "3a6810d7",
    "nbgrader": {
     "grade": false,
     "grade_id": "cell-Imports",
     "locked": true,
     "schema_version": 3,
     "solution": false,
     "task": false
    },
    "outputId": "a24aa24b-aa75-4823-83ca-1d7deef0f0de"
   },
   "outputs": [
    {
     "name": "stderr",
     "output_type": "stream",
     "text": [
      "[nltk_data] Downloading package stopwords to /root/nltk_data...\n",
      "[nltk_data]   Package stopwords is already up-to-date!\n"
     ]
    },
    {
     "data": {
      "text/plain": [
       "True"
      ]
     },
     "execution_count": 3,
     "metadata": {},
     "output_type": "execute_result"
    }
   ],
   "source": [
    "import pyspark\n",
    "import sys\n",
    "from collections import Counter, OrderedDict, defaultdict\n",
    "import itertools\n",
    "from itertools import islice, count, groupby\n",
    "import pandas as pd\n",
    "import os\n",
    "import re\n",
    "from operator import itemgetter\n",
    "import nltk\n",
    "from nltk.stem.porter import *\n",
    "from nltk.corpus import stopwords\n",
    "from time import time\n",
    "from pathlib import Path\n",
    "import pickle\n",
    "import pandas as pd\n",
    "from google.cloud import storage\n",
    "import math\n",
    "import hashlib\n",
    "import json\n",
    "\n",
    "def _hash(s):\n",
    "    return hashlib.blake2b(bytes(s, encoding='utf8'), digest_size=5).hexdigest()\n",
    "\n",
    "nltk.download('stopwords')"
   ]
  },
  {
   "cell_type": "code",
   "execution_count": 4,
   "id": "2fdd2267",
   "metadata": {
    "id": "2fdd2267",
    "nbgrader": {
     "grade": false,
     "grade_id": "cell-jar",
     "locked": true,
     "schema_version": 3,
     "solution": false,
     "task": false
    },
    "outputId": "8f93a7ec-71e0-49c1-fc81-9af385849a90"
   },
   "outputs": [
    {
     "name": "stdout",
     "output_type": "stream",
     "text": [
      "-rw-r--r-- 1 root root 247882 Jan  7 11:57 /usr/lib/spark/jars/graphframes-0.8.2-spark3.1-s_2.12.jar\r\n"
     ]
    }
   ],
   "source": [
    "# if nothing prints here you forgot to include the initialization script when starting the cluster\n",
    "!ls -l /usr/lib/spark/jars/graph*"
   ]
  },
  {
   "cell_type": "code",
   "execution_count": 5,
   "id": "79a84160",
   "metadata": {
    "id": "79a84160",
    "nbgrader": {
     "grade": false,
     "grade_id": "cell-pyspark-import",
     "locked": true,
     "schema_version": 3,
     "solution": false,
     "task": false
    }
   },
   "outputs": [],
   "source": [
    "from pyspark.sql import *\n",
    "from pyspark.sql.functions import *\n",
    "from pyspark import SparkContext, SparkConf, SparkFiles\n",
    "from pyspark.sql import SQLContext\n",
    "from graphframes import *"
   ]
  },
  {
   "cell_type": "code",
   "execution_count": 6,
   "id": "5876f9a7",
   "metadata": {
    "id": "5876f9a7",
    "nbgrader": {
     "grade": false,
     "grade_id": "cell-spark-version",
     "locked": true,
     "schema_version": 3,
     "solution": false,
     "task": false
    },
    "outputId": "07b4e22b-a252-42fb-fe46-d9050e4e7ca8",
    "scrolled": true
   },
   "outputs": [
    {
     "data": {
      "text/html": [
       "\n",
       "            <div>\n",
       "                <p><b>SparkSession - hive</b></p>\n",
       "                \n",
       "        <div>\n",
       "            <p><b>SparkContext</b></p>\n",
       "\n",
       "            <p><a href=\"http://cluster-895b-m.us-central1-a.c.ir-project-313191645-206013310.internal:38165\">Spark UI</a></p>\n",
       "\n",
       "            <dl>\n",
       "              <dt>Version</dt>\n",
       "                <dd><code>v3.1.2</code></dd>\n",
       "              <dt>Master</dt>\n",
       "                <dd><code>yarn</code></dd>\n",
       "              <dt>AppName</dt>\n",
       "                <dd><code>PySparkShell</code></dd>\n",
       "            </dl>\n",
       "        </div>\n",
       "        \n",
       "            </div>\n",
       "        "
      ],
      "text/plain": [
       "<pyspark.sql.session.SparkSession at 0x7feff5dce400>"
      ]
     },
     "execution_count": 6,
     "metadata": {},
     "output_type": "execute_result"
    }
   ],
   "source": [
    "spark"
   ]
  },
  {
   "cell_type": "code",
   "execution_count": 7,
   "id": "bd617124",
   "metadata": {
    "id": "bd617124",
    "nbgrader": {
     "grade": false,
     "grade_id": "cell-bucket_name",
     "locked": false,
     "schema_version": 3,
     "solution": true,
     "task": false
    },
    "outputId": "a91307e6-9d27-48e9-b943-173a240857f3"
   },
   "outputs": [],
   "source": [
    "# Put your bucket name below and make sure you can access it without an error\n",
    "bucket_name = 'ir-project-bucket-313191645-201013310' \n",
    "client = storage.Client()\n",
    "blobs = client.list_blobs(bucket_name)\n",
    "#for b in blobs:\n",
    "    #print(b.name)"
   ]
  },
  {
   "cell_type": "markdown",
   "id": "6bdb01de",
   "metadata": {
    "id": "6bdb01de"
   },
   "source": [
    "***GCP setup is complete!*** If you got here without any errors you've earned 10 out of the 35 points of this part."
   ]
  },
  {
   "cell_type": "markdown",
   "id": "c08c1a11",
   "metadata": {
    "id": "c08c1a11"
   },
   "source": [
    "# Building an inverted index"
   ]
  },
  {
   "cell_type": "markdown",
   "id": "a0264c9f",
   "metadata": {
    "id": "a0264c9f"
   },
   "source": [
    "Here, we read the entire corpus to an rdd, directly from Google Storage Bucket and use your code from Colab to construct an inverted index."
   ]
  },
  {
   "cell_type": "code",
   "execution_count": 8,
   "id": "1592f189",
   "metadata": {
    "id": "1592f189",
    "outputId": "dcaee7d8-89e8-48e3-9529-dd70f3d8574e",
    "scrolled": false
   },
   "outputs": [
    {
     "name": "stderr",
     "output_type": "stream",
     "text": [
      "                                                                                \r"
     ]
    }
   ],
   "source": [
    "full_path = \"gs://wikidata_preprocessed/*\"\n",
    "parquetFile = spark.read.parquet(full_path)\n",
    "doc_text_pairs = parquetFile.select(\"text\", \"id\").rdd\n",
    "#RETURN\n",
    "# create a doc - title dictionary and write as json\n",
    "# title_doc_pairs = parquetFile.select(\"title\", \"id\").rdd# Remark!! when we want to index the title and anchor, add here!!\n",
    "# doc_title_pairs = title_doc_pairs.map(lambda x: (x[1],x[0]))\n",
    "# doc_title_dict = dict(doc_title_pairs.collect()) # TODO: write as json\n",
    "# print(doc_title_dict[12])"
   ]
  },
  {
   "cell_type": "code",
   "execution_count": 9,
   "id": "4919b2d6",
   "metadata": {},
   "outputs": [],
   "source": [
    "# RETURN\n",
    "# # write titles\n",
    "# blob_titles = client.get_bucket(bucket_name).blob('json_files/doc_titles.json')\n",
    "# blob_titles.upload_from_string(data=json.dumps(doc_title_dict),content_type='application/json')  \n",
    "# del doc_title_dict"
   ]
  },
  {
   "cell_type": "markdown",
   "id": "3e95289f",
   "metadata": {
    "id": "3e95289f"
   },
   "source": [
    "We will count the number of pages to make sure we are looking at the entire corpus. The number of pages should be more than 6M"
   ]
  },
  {
   "cell_type": "code",
   "execution_count": 10,
   "id": "de9d4cf5",
   "metadata": {
    "id": "de9d4cf5",
    "outputId": "025cab04-229c-4ad0-90e9-040d98c46b40"
   },
   "outputs": [
    {
     "name": "stderr",
     "output_type": "stream",
     "text": [
      "                                                                                \r"
     ]
    }
   ],
   "source": [
    "# Count number of wiki pages\n",
    "total_number_of_docs_N = parquetFile.count()"
   ]
  },
  {
   "cell_type": "markdown",
   "id": "68584391",
   "metadata": {
    "id": "68584391"
   },
   "source": [
    "Let's import the inverted index module. Note that you need to use the staff-provided version called `inverted_index_gcp.py`, which contains helper functions to writing and reading the posting files similar to the Colab version, but with writing done to a Google Cloud Storage bucket."
   ]
  },
  {
   "cell_type": "code",
   "execution_count": 11,
   "id": "d19acac7",
   "metadata": {
    "id": "d19acac7",
    "outputId": "327fe81b-80f4-4b3a-8894-e74720d92e35"
   },
   "outputs": [
    {
     "name": "stdout",
     "output_type": "stream",
     "text": [
      "inverted_index_gcp.py\r\n"
     ]
    }
   ],
   "source": [
    "# if nothing prints here you forgot to upload the file inverted_index_gcp.py to the home dir\n",
    "%cd -q /home/dataproc\n",
    "!ls inverted_index_gcp.py"
   ]
  },
  {
   "cell_type": "code",
   "execution_count": 12,
   "id": "33ee80db",
   "metadata": {
    "id": "33ee80db",
    "scrolled": true
   },
   "outputs": [],
   "source": [
    "# adding our python module to the cluster\n",
    "sc.addFile(\"/home/dataproc/inverted_index_gcp.py\")\n",
    "sys.path.insert(0,SparkFiles.getRootDirectory())"
   ]
  },
  {
   "cell_type": "code",
   "execution_count": 13,
   "id": "87fbc12e",
   "metadata": {
    "id": "87fbc12e"
   },
   "outputs": [],
   "source": [
    "from inverted_index_gcp import InvertedIndex\n",
    "InvertedIndex.DIR_NAME = 'body_index/postings_gcp_body_index'"
   ]
  },
  {
   "cell_type": "markdown",
   "id": "2ecdfd6f",
   "metadata": {
    "id": "2ecdfd6f"
   },
   "source": [
    "**YOUR TASK (10 POINTS)**: Use your implementation of `word_count`, `reduce_word_counts`, `calculate_df`, and `partition_postings_and_write` functions from Colab to build an inverted index for all of English Wikipedia in under 2 hours.\n",
    "\n",
    "A few notes: \n",
    "1. The number of corpus stopwords below is a bit bigger than the colab version since we are working on the whole corpus and not just on one file.\n",
    "2. You need to slightly modify your implementation of  `partition_postings_and_write` because the signature of `InvertedIndex.write_a_posting_list` has changed and now includes an additional argument called `bucket_name` for the target bucket. See the module for more details.\n",
    "3. You are not allowed to change any of the code not coming from Colab. "
   ]
  },
  {
   "cell_type": "code",
   "execution_count": 14,
   "id": "4b5a2e40",
   "metadata": {
    "id": "4b5a2e40",
    "nbgrader": {
     "grade": false,
     "grade_id": "cell-token2bucket",
     "locked": false,
     "schema_version": 3,
     "solution": true,
     "task": false
    }
   },
   "outputs": [],
   "source": [
    "english_stopwords = frozenset(stopwords.words('english'))\n",
    "corpus_stopwords = [\"category\", \"references\", \"also\", \"external\", \"links\", \n",
    "                    \"may\", \"first\", \"see\", \"history\", \"people\", \"one\", \"two\", \n",
    "                    \"part\", \"thumb\", \"including\", \"second\", \"following\", \n",
    "                    \"many\", \"however\", \"would\", \"became\"]\n",
    "\n",
    "FILTERED = False\n",
    "POSTING_LEN_THRESH = 300\n",
    "TFIDF_ROUND_THRESH = 4\n",
    "TFIDF_MUL = 10**TFIDF_ROUND_THRESH # 10000\n",
    "DIR_NAME = \"body_index/postings_gcp_body_index\"\n",
    "\n",
    "all_stopwords = english_stopwords.union(corpus_stopwords)\n",
    "RE_WORD = re.compile(r\"\"\"[\\#\\@\\w](['\\-]?\\w){2,24}\"\"\", re.UNICODE)\n",
    "\n",
    "from functools import total_ordering\n",
    "\n",
    "NUM_BUCKETS = 124\n",
    "def token2bucket_id(token):\n",
    "  return int(_hash(token),16) % NUM_BUCKETS\n",
    "\n",
    "def word_count(text, id):\n",
    "  tokens = [token.group() for token in RE_WORD.finditer(text.lower())]\n",
    "  if FILTERED:\n",
    "      set_of_toks = set(tokens)\n",
    "      len_before = len(set_of_toks)\n",
    "      len_after = len(set_of_toks - test_set_terms)\n",
    "      if len_after == len_before:\n",
    "        return []\n",
    "  tf_counter = Counter()\n",
    "  for tok in tokens:\n",
    "    if tok not in all_stopwords:\n",
    "      tf_counter[tok] += 1\n",
    "  to_ret = []\n",
    "  for item in tf_counter.items():\n",
    "    to_ret.append((item[0],(id,item[1])))\n",
    "  return to_ret\n",
    "\n",
    "def reduce_word_counts(unsorted_pl):\n",
    "  return sorted(unsorted_pl,key=lambda x: x[0])\n",
    "\n",
    "#start addition-------------------------\n",
    "def get_posting_size(n):\n",
    "    if POSTING_LEN_THRESH > n:\n",
    "        return n\n",
    "    return POSTING_LEN_THRESH\n",
    "\n",
    "def our_sum(lst):\n",
    "  summ = 0\n",
    "  for i in lst:\n",
    "    summ+=i\n",
    "  return summ\n",
    "#end addition------------------------------\n",
    "\n",
    "def partition_postings_and_write(postings):\n",
    "  temp = postings.map(lambda x: (token2bucket_id(x[0]),(x[0],x[1])))\n",
    "  temp = temp.groupByKey()\n",
    "  return temp.map(lambda x: InvertedIndex.write_a_posting_list(x,bucket_name))\n"
   ]
  },
  {
   "cell_type": "code",
   "execution_count": 15,
   "id": "7e36a929",
   "metadata": {
    "id": "7e36a929",
    "nbgrader": {
     "grade": false,
     "grade_id": "cell-index_construction",
     "locked": false,
     "schema_version": 3,
     "solution": true,
     "task": false
    },
    "outputId": "d8b74c9c-d531-4d2c-9f66-5ed154ae11d1"
   },
   "outputs": [],
   "source": [
    "#start addition-------------------------\n",
    "doc_tf_vector = doc_text_pairs.map(lambda x: (x[1], word_count(x[0], x[1]))).filter(lambda x: len(x[1]) > 0)\n",
    "doc_tf_vector_with_doc_len = doc_tf_vector.map(lambda x: (x[0], our_sum([i[1][1] for i in x[1]]),x[1]))\n",
    "doc_tf_div_by_doc_len = doc_tf_vector_with_doc_len.map(lambda x: (x[0],[(term,(tup[0],tup[1]/x[1])) for term, tup in x[2]]))\n",
    "\n",
    "flating = doc_tf_div_by_doc_len.map(lambda x: x[1]).flatMap(lambda x: x).groupByKey().mapValues(list)\n",
    "\n",
    "add_df_for_value = flating.mapValues(lambda x: (len(x),x)).filter(lambda x: x[1][0] > 10)\n",
    "\n",
    "posting_list_befor_trans = add_df_for_value.mapValues(lambda x: [(doc_id, tf*math.log(total_number_of_docs_N/x[0],2)) for doc_id, tf in x[1]])\n",
    "\n",
    "doc_to_vec =  posting_list_befor_trans.map(lambda x: x[1]).flatMap(lambda x: x).groupByKey().mapValues(list)\n",
    "doc_vec_size_rdd = doc_to_vec.mapValues(lambda x: our_sum([i**2 for i in x])**0.5)\n",
    "#end addition------------------------------"
   ]
  },
  {
   "cell_type": "code",
   "execution_count": null,
   "id": "5464627c",
   "metadata": {},
   "outputs": [
    {
     "name": "stderr",
     "output_type": "stream",
     "text": [
      "                                                                                \r"
     ]
    }
   ],
   "source": [
    "doc_vec_size_dict  = dict(doc_vec_size_rdd.collect())"
   ]
  },
  {
   "cell_type": "code",
   "execution_count": null,
   "id": "e4cb023e",
   "metadata": {},
   "outputs": [],
   "source": [
    "posting_list_div_by_doc_vec_size = posting_list_befor_trans.mapValues(lambda x: [(doc_id, tfidf/doc_vec_size_dict[doc_id]) for doc_id, tfidf in x])"
   ]
  },
  {
   "cell_type": "code",
   "execution_count": null,
   "id": "ccefd82e",
   "metadata": {},
   "outputs": [
    {
     "name": "stdout",
     "output_type": "stream",
     "text": [
      "finish\n"
     ]
    }
   ],
   "source": [
    "rounded_posting_lists = posting_list_div_by_doc_vec_size.mapValues(lambda x: [(doc_id, int(tf_idf*10000)) for doc_id, tf_idf in x])\n",
    "\n",
    "sorted_posting_list = rounded_posting_lists.mapValues(lambda x: sorted(x, key=lambda y: y[1], reverse=True))\n",
    "\n",
    "# slicing posting list to POSTING_LEN_THRESH size (if posting list len is bigger)\n",
    "final_posting_lists = sorted_posting_list.map(lambda x: (x[0], x[1][:get_posting_size(len(x[1]))]))\n",
    "print('finish')"
   ]
  },
  {
   "cell_type": "code",
   "execution_count": null,
   "id": "5fb529db",
   "metadata": {
    "scrolled": true
   },
   "outputs": [
    {
     "name": "stderr",
     "output_type": "stream",
     "text": [
      "                                                                                \r"
     ]
    }
   ],
   "source": [
    "_ = partition_postings_and_write(final_posting_lists).collect()"
   ]
  },
  {
   "cell_type": "code",
   "execution_count": null,
   "id": "06c7e410",
   "metadata": {
    "id": "06c7e410",
    "nbgrader": {
     "grade": true,
     "grade_id": "collect-posting",
     "locked": true,
     "points": 0,
     "schema_version": 3,
     "solution": false,
     "task": false
    }
   },
   "outputs": [
    {
     "name": "stdout",
     "output_type": "stream",
     "text": [
      "found body_index/postings_gcp_body_index/0_posting_locs.pickle\n",
      "wrote body_index/postings_gcp_body_index/0_posting_locs.pickle\n",
      "found body_index/postings_gcp_body_index/100_posting_locs.pickle\n",
      "wrote body_index/postings_gcp_body_index/100_posting_locs.pickle\n",
      "found body_index/postings_gcp_body_index/101_posting_locs.pickle\n",
      "wrote body_index/postings_gcp_body_index/101_posting_locs.pickle\n",
      "found body_index/postings_gcp_body_index/102_posting_locs.pickle\n",
      "wrote body_index/postings_gcp_body_index/102_posting_locs.pickle\n",
      "found body_index/postings_gcp_body_index/103_posting_locs.pickle\n",
      "wrote body_index/postings_gcp_body_index/103_posting_locs.pickle\n",
      "found body_index/postings_gcp_body_index/104_posting_locs.pickle\n",
      "wrote body_index/postings_gcp_body_index/104_posting_locs.pickle\n",
      "found body_index/postings_gcp_body_index/105_posting_locs.pickle\n",
      "wrote body_index/postings_gcp_body_index/105_posting_locs.pickle\n",
      "found body_index/postings_gcp_body_index/106_posting_locs.pickle\n",
      "wrote body_index/postings_gcp_body_index/106_posting_locs.pickle\n",
      "found body_index/postings_gcp_body_index/107_posting_locs.pickle\n",
      "wrote body_index/postings_gcp_body_index/107_posting_locs.pickle\n",
      "found body_index/postings_gcp_body_index/108_posting_locs.pickle\n",
      "wrote body_index/postings_gcp_body_index/108_posting_locs.pickle\n",
      "found body_index/postings_gcp_body_index/109_posting_locs.pickle\n",
      "wrote body_index/postings_gcp_body_index/109_posting_locs.pickle\n",
      "found body_index/postings_gcp_body_index/10_posting_locs.pickle\n",
      "wrote body_index/postings_gcp_body_index/10_posting_locs.pickle\n",
      "found body_index/postings_gcp_body_index/110_posting_locs.pickle\n",
      "wrote body_index/postings_gcp_body_index/110_posting_locs.pickle\n",
      "found body_index/postings_gcp_body_index/111_posting_locs.pickle\n",
      "wrote body_index/postings_gcp_body_index/111_posting_locs.pickle\n",
      "found body_index/postings_gcp_body_index/112_posting_locs.pickle\n",
      "wrote body_index/postings_gcp_body_index/112_posting_locs.pickle\n",
      "found body_index/postings_gcp_body_index/113_posting_locs.pickle\n",
      "wrote body_index/postings_gcp_body_index/113_posting_locs.pickle\n",
      "found body_index/postings_gcp_body_index/114_posting_locs.pickle\n",
      "wrote body_index/postings_gcp_body_index/114_posting_locs.pickle\n",
      "found body_index/postings_gcp_body_index/115_posting_locs.pickle\n",
      "wrote body_index/postings_gcp_body_index/115_posting_locs.pickle\n",
      "found body_index/postings_gcp_body_index/116_posting_locs.pickle\n",
      "wrote body_index/postings_gcp_body_index/116_posting_locs.pickle\n",
      "found body_index/postings_gcp_body_index/117_posting_locs.pickle\n",
      "wrote body_index/postings_gcp_body_index/117_posting_locs.pickle\n",
      "found body_index/postings_gcp_body_index/118_posting_locs.pickle\n",
      "wrote body_index/postings_gcp_body_index/118_posting_locs.pickle\n",
      "found body_index/postings_gcp_body_index/119_posting_locs.pickle\n",
      "wrote body_index/postings_gcp_body_index/119_posting_locs.pickle\n",
      "found body_index/postings_gcp_body_index/11_posting_locs.pickle\n",
      "wrote body_index/postings_gcp_body_index/11_posting_locs.pickle\n",
      "found body_index/postings_gcp_body_index/120_posting_locs.pickle\n",
      "wrote body_index/postings_gcp_body_index/120_posting_locs.pickle\n",
      "found body_index/postings_gcp_body_index/121_posting_locs.pickle\n",
      "wrote body_index/postings_gcp_body_index/121_posting_locs.pickle\n",
      "found body_index/postings_gcp_body_index/122_posting_locs.pickle\n",
      "wrote body_index/postings_gcp_body_index/122_posting_locs.pickle\n",
      "found body_index/postings_gcp_body_index/123_posting_locs.pickle\n",
      "wrote body_index/postings_gcp_body_index/123_posting_locs.pickle\n",
      "found body_index/postings_gcp_body_index/12_posting_locs.pickle\n",
      "wrote body_index/postings_gcp_body_index/12_posting_locs.pickle\n",
      "found body_index/postings_gcp_body_index/13_posting_locs.pickle\n",
      "wrote body_index/postings_gcp_body_index/13_posting_locs.pickle\n",
      "found body_index/postings_gcp_body_index/14_posting_locs.pickle\n",
      "wrote body_index/postings_gcp_body_index/14_posting_locs.pickle\n",
      "found body_index/postings_gcp_body_index/15_posting_locs.pickle\n",
      "wrote body_index/postings_gcp_body_index/15_posting_locs.pickle\n",
      "found body_index/postings_gcp_body_index/16_posting_locs.pickle\n",
      "wrote body_index/postings_gcp_body_index/16_posting_locs.pickle\n",
      "found body_index/postings_gcp_body_index/17_posting_locs.pickle\n",
      "wrote body_index/postings_gcp_body_index/17_posting_locs.pickle\n",
      "found body_index/postings_gcp_body_index/18_posting_locs.pickle\n",
      "wrote body_index/postings_gcp_body_index/18_posting_locs.pickle\n",
      "found body_index/postings_gcp_body_index/19_posting_locs.pickle\n",
      "wrote body_index/postings_gcp_body_index/19_posting_locs.pickle\n",
      "found body_index/postings_gcp_body_index/1_posting_locs.pickle\n",
      "wrote body_index/postings_gcp_body_index/1_posting_locs.pickle\n",
      "found body_index/postings_gcp_body_index/20_posting_locs.pickle\n",
      "wrote body_index/postings_gcp_body_index/20_posting_locs.pickle\n",
      "found body_index/postings_gcp_body_index/21_posting_locs.pickle\n",
      "wrote body_index/postings_gcp_body_index/21_posting_locs.pickle\n",
      "found body_index/postings_gcp_body_index/22_posting_locs.pickle\n",
      "wrote body_index/postings_gcp_body_index/22_posting_locs.pickle\n",
      "found body_index/postings_gcp_body_index/23_posting_locs.pickle\n",
      "wrote body_index/postings_gcp_body_index/23_posting_locs.pickle\n",
      "found body_index/postings_gcp_body_index/24_posting_locs.pickle\n",
      "wrote body_index/postings_gcp_body_index/24_posting_locs.pickle\n",
      "found body_index/postings_gcp_body_index/25_posting_locs.pickle\n",
      "wrote body_index/postings_gcp_body_index/25_posting_locs.pickle\n",
      "found body_index/postings_gcp_body_index/26_posting_locs.pickle\n",
      "wrote body_index/postings_gcp_body_index/26_posting_locs.pickle\n",
      "found body_index/postings_gcp_body_index/27_posting_locs.pickle\n",
      "wrote body_index/postings_gcp_body_index/27_posting_locs.pickle\n",
      "found body_index/postings_gcp_body_index/28_posting_locs.pickle\n",
      "wrote body_index/postings_gcp_body_index/28_posting_locs.pickle\n",
      "found body_index/postings_gcp_body_index/29_posting_locs.pickle\n",
      "wrote body_index/postings_gcp_body_index/29_posting_locs.pickle\n",
      "found body_index/postings_gcp_body_index/2_posting_locs.pickle\n",
      "wrote body_index/postings_gcp_body_index/2_posting_locs.pickle\n",
      "found body_index/postings_gcp_body_index/30_posting_locs.pickle\n",
      "wrote body_index/postings_gcp_body_index/30_posting_locs.pickle\n",
      "found body_index/postings_gcp_body_index/31_posting_locs.pickle\n",
      "wrote body_index/postings_gcp_body_index/31_posting_locs.pickle\n",
      "found body_index/postings_gcp_body_index/32_posting_locs.pickle\n",
      "wrote body_index/postings_gcp_body_index/32_posting_locs.pickle\n",
      "found body_index/postings_gcp_body_index/33_posting_locs.pickle\n",
      "wrote body_index/postings_gcp_body_index/33_posting_locs.pickle\n",
      "found body_index/postings_gcp_body_index/34_posting_locs.pickle\n",
      "wrote body_index/postings_gcp_body_index/34_posting_locs.pickle\n",
      "found body_index/postings_gcp_body_index/35_posting_locs.pickle\n",
      "wrote body_index/postings_gcp_body_index/35_posting_locs.pickle\n",
      "found body_index/postings_gcp_body_index/36_posting_locs.pickle\n",
      "wrote body_index/postings_gcp_body_index/36_posting_locs.pickle\n",
      "found body_index/postings_gcp_body_index/37_posting_locs.pickle\n",
      "wrote body_index/postings_gcp_body_index/37_posting_locs.pickle\n",
      "found body_index/postings_gcp_body_index/38_posting_locs.pickle\n",
      "wrote body_index/postings_gcp_body_index/38_posting_locs.pickle\n",
      "found body_index/postings_gcp_body_index/39_posting_locs.pickle\n",
      "wrote body_index/postings_gcp_body_index/39_posting_locs.pickle\n",
      "found body_index/postings_gcp_body_index/3_posting_locs.pickle\n",
      "wrote body_index/postings_gcp_body_index/3_posting_locs.pickle\n",
      "found body_index/postings_gcp_body_index/40_posting_locs.pickle\n",
      "wrote body_index/postings_gcp_body_index/40_posting_locs.pickle\n",
      "found body_index/postings_gcp_body_index/41_posting_locs.pickle\n",
      "wrote body_index/postings_gcp_body_index/41_posting_locs.pickle\n",
      "found body_index/postings_gcp_body_index/42_posting_locs.pickle\n",
      "wrote body_index/postings_gcp_body_index/42_posting_locs.pickle\n",
      "found body_index/postings_gcp_body_index/43_posting_locs.pickle\n",
      "wrote body_index/postings_gcp_body_index/43_posting_locs.pickle\n",
      "found body_index/postings_gcp_body_index/44_posting_locs.pickle\n",
      "wrote body_index/postings_gcp_body_index/44_posting_locs.pickle\n",
      "found body_index/postings_gcp_body_index/45_posting_locs.pickle\n",
      "wrote body_index/postings_gcp_body_index/45_posting_locs.pickle\n",
      "found body_index/postings_gcp_body_index/46_posting_locs.pickle\n",
      "wrote body_index/postings_gcp_body_index/46_posting_locs.pickle\n",
      "found body_index/postings_gcp_body_index/47_posting_locs.pickle\n"
     ]
    },
    {
     "name": "stdout",
     "output_type": "stream",
     "text": [
      "wrote body_index/postings_gcp_body_index/47_posting_locs.pickle\n",
      "found body_index/postings_gcp_body_index/48_posting_locs.pickle\n",
      "wrote body_index/postings_gcp_body_index/48_posting_locs.pickle\n",
      "found body_index/postings_gcp_body_index/49_posting_locs.pickle\n",
      "wrote body_index/postings_gcp_body_index/49_posting_locs.pickle\n",
      "found body_index/postings_gcp_body_index/4_posting_locs.pickle\n",
      "wrote body_index/postings_gcp_body_index/4_posting_locs.pickle\n",
      "found body_index/postings_gcp_body_index/50_posting_locs.pickle\n",
      "wrote body_index/postings_gcp_body_index/50_posting_locs.pickle\n",
      "found body_index/postings_gcp_body_index/51_posting_locs.pickle\n",
      "wrote body_index/postings_gcp_body_index/51_posting_locs.pickle\n",
      "found body_index/postings_gcp_body_index/52_posting_locs.pickle\n",
      "wrote body_index/postings_gcp_body_index/52_posting_locs.pickle\n",
      "found body_index/postings_gcp_body_index/53_posting_locs.pickle\n",
      "wrote body_index/postings_gcp_body_index/53_posting_locs.pickle\n",
      "found body_index/postings_gcp_body_index/54_posting_locs.pickle\n",
      "wrote body_index/postings_gcp_body_index/54_posting_locs.pickle\n",
      "found body_index/postings_gcp_body_index/55_posting_locs.pickle\n",
      "wrote body_index/postings_gcp_body_index/55_posting_locs.pickle\n",
      "found body_index/postings_gcp_body_index/56_posting_locs.pickle\n",
      "wrote body_index/postings_gcp_body_index/56_posting_locs.pickle\n",
      "found body_index/postings_gcp_body_index/57_posting_locs.pickle\n",
      "wrote body_index/postings_gcp_body_index/57_posting_locs.pickle\n",
      "found body_index/postings_gcp_body_index/58_posting_locs.pickle\n",
      "wrote body_index/postings_gcp_body_index/58_posting_locs.pickle\n",
      "found body_index/postings_gcp_body_index/59_posting_locs.pickle\n",
      "wrote body_index/postings_gcp_body_index/59_posting_locs.pickle\n",
      "found body_index/postings_gcp_body_index/5_posting_locs.pickle\n",
      "wrote body_index/postings_gcp_body_index/5_posting_locs.pickle\n",
      "found body_index/postings_gcp_body_index/60_posting_locs.pickle\n",
      "wrote body_index/postings_gcp_body_index/60_posting_locs.pickle\n",
      "found body_index/postings_gcp_body_index/61_posting_locs.pickle\n",
      "wrote body_index/postings_gcp_body_index/61_posting_locs.pickle\n",
      "found body_index/postings_gcp_body_index/62_posting_locs.pickle\n",
      "wrote body_index/postings_gcp_body_index/62_posting_locs.pickle\n",
      "found body_index/postings_gcp_body_index/63_posting_locs.pickle\n",
      "wrote body_index/postings_gcp_body_index/63_posting_locs.pickle\n",
      "found body_index/postings_gcp_body_index/64_posting_locs.pickle\n",
      "wrote body_index/postings_gcp_body_index/64_posting_locs.pickle\n",
      "found body_index/postings_gcp_body_index/65_posting_locs.pickle\n",
      "wrote body_index/postings_gcp_body_index/65_posting_locs.pickle\n",
      "found body_index/postings_gcp_body_index/66_posting_locs.pickle\n",
      "wrote body_index/postings_gcp_body_index/66_posting_locs.pickle\n",
      "found body_index/postings_gcp_body_index/67_posting_locs.pickle\n",
      "wrote body_index/postings_gcp_body_index/67_posting_locs.pickle\n",
      "found body_index/postings_gcp_body_index/68_posting_locs.pickle\n",
      "wrote body_index/postings_gcp_body_index/68_posting_locs.pickle\n",
      "found body_index/postings_gcp_body_index/69_posting_locs.pickle\n",
      "wrote body_index/postings_gcp_body_index/69_posting_locs.pickle\n",
      "found body_index/postings_gcp_body_index/6_posting_locs.pickle\n",
      "wrote body_index/postings_gcp_body_index/6_posting_locs.pickle\n",
      "found body_index/postings_gcp_body_index/70_posting_locs.pickle\n",
      "wrote body_index/postings_gcp_body_index/70_posting_locs.pickle\n",
      "found body_index/postings_gcp_body_index/71_posting_locs.pickle\n",
      "wrote body_index/postings_gcp_body_index/71_posting_locs.pickle\n",
      "found body_index/postings_gcp_body_index/72_posting_locs.pickle\n",
      "wrote body_index/postings_gcp_body_index/72_posting_locs.pickle\n",
      "found body_index/postings_gcp_body_index/73_posting_locs.pickle\n",
      "wrote body_index/postings_gcp_body_index/73_posting_locs.pickle\n",
      "found body_index/postings_gcp_body_index/74_posting_locs.pickle\n",
      "wrote body_index/postings_gcp_body_index/74_posting_locs.pickle\n",
      "found body_index/postings_gcp_body_index/75_posting_locs.pickle\n",
      "wrote body_index/postings_gcp_body_index/75_posting_locs.pickle\n",
      "found body_index/postings_gcp_body_index/76_posting_locs.pickle\n",
      "wrote body_index/postings_gcp_body_index/76_posting_locs.pickle\n",
      "found body_index/postings_gcp_body_index/77_posting_locs.pickle\n",
      "wrote body_index/postings_gcp_body_index/77_posting_locs.pickle\n",
      "found body_index/postings_gcp_body_index/78_posting_locs.pickle\n",
      "wrote body_index/postings_gcp_body_index/78_posting_locs.pickle\n",
      "found body_index/postings_gcp_body_index/79_posting_locs.pickle\n",
      "wrote body_index/postings_gcp_body_index/79_posting_locs.pickle\n",
      "found body_index/postings_gcp_body_index/7_posting_locs.pickle\n",
      "wrote body_index/postings_gcp_body_index/7_posting_locs.pickle\n",
      "found body_index/postings_gcp_body_index/80_posting_locs.pickle\n",
      "wrote body_index/postings_gcp_body_index/80_posting_locs.pickle\n",
      "found body_index/postings_gcp_body_index/81_posting_locs.pickle\n",
      "wrote body_index/postings_gcp_body_index/81_posting_locs.pickle\n",
      "found body_index/postings_gcp_body_index/82_posting_locs.pickle\n",
      "wrote body_index/postings_gcp_body_index/82_posting_locs.pickle\n",
      "found body_index/postings_gcp_body_index/83_posting_locs.pickle\n",
      "wrote body_index/postings_gcp_body_index/83_posting_locs.pickle\n",
      "found body_index/postings_gcp_body_index/84_posting_locs.pickle\n",
      "wrote body_index/postings_gcp_body_index/84_posting_locs.pickle\n",
      "found body_index/postings_gcp_body_index/85_posting_locs.pickle\n",
      "wrote body_index/postings_gcp_body_index/85_posting_locs.pickle\n",
      "found body_index/postings_gcp_body_index/86_posting_locs.pickle\n",
      "wrote body_index/postings_gcp_body_index/86_posting_locs.pickle\n",
      "found body_index/postings_gcp_body_index/87_posting_locs.pickle\n",
      "wrote body_index/postings_gcp_body_index/87_posting_locs.pickle\n",
      "found body_index/postings_gcp_body_index/88_posting_locs.pickle\n",
      "wrote body_index/postings_gcp_body_index/88_posting_locs.pickle\n",
      "found body_index/postings_gcp_body_index/89_posting_locs.pickle\n",
      "wrote body_index/postings_gcp_body_index/89_posting_locs.pickle\n",
      "found body_index/postings_gcp_body_index/8_posting_locs.pickle\n",
      "wrote body_index/postings_gcp_body_index/8_posting_locs.pickle\n",
      "found body_index/postings_gcp_body_index/90_posting_locs.pickle\n",
      "wrote body_index/postings_gcp_body_index/90_posting_locs.pickle\n",
      "found body_index/postings_gcp_body_index/91_posting_locs.pickle\n",
      "wrote body_index/postings_gcp_body_index/91_posting_locs.pickle\n",
      "found body_index/postings_gcp_body_index/92_posting_locs.pickle\n",
      "wrote body_index/postings_gcp_body_index/92_posting_locs.pickle\n",
      "found body_index/postings_gcp_body_index/93_posting_locs.pickle\n",
      "wrote body_index/postings_gcp_body_index/93_posting_locs.pickle\n",
      "found body_index/postings_gcp_body_index/94_posting_locs.pickle\n",
      "wrote body_index/postings_gcp_body_index/94_posting_locs.pickle\n",
      "found body_index/postings_gcp_body_index/95_posting_locs.pickle\n",
      "wrote body_index/postings_gcp_body_index/95_posting_locs.pickle\n",
      "found body_index/postings_gcp_body_index/96_posting_locs.pickle\n",
      "wrote body_index/postings_gcp_body_index/96_posting_locs.pickle\n",
      "found body_index/postings_gcp_body_index/97_posting_locs.pickle\n",
      "wrote body_index/postings_gcp_body_index/97_posting_locs.pickle\n",
      "found body_index/postings_gcp_body_index/98_posting_locs.pickle\n",
      "wrote body_index/postings_gcp_body_index/98_posting_locs.pickle\n",
      "found body_index/postings_gcp_body_index/99_posting_locs.pickle\n",
      "wrote body_index/postings_gcp_body_index/99_posting_locs.pickle\n",
      "found body_index/postings_gcp_body_index/9_posting_locs.pickle\n",
      "wrote body_index/postings_gcp_body_index/9_posting_locs.pickle\n",
      "finish2\n"
     ]
    }
   ],
   "source": [
    "super_posting_locs = defaultdict(list)\n",
    "for blob in client.list_blobs(bucket_name, prefix=DIR_NAME):\n",
    "  if not blob.name.endswith(\"pickle\"):\n",
    "    continue\n",
    "  print(\"found \" + blob.name)\n",
    "  with blob.open(\"rb\") as f:\n",
    "    posting_locs = pickle.load(f)\n",
    "    for k, v in posting_locs.items():\n",
    "      super_posting_locs[k].extend(v)\n",
    "    print(\"wrote \" + blob.name)\n",
    "print(\"finish2\")"
   ]
  },
  {
   "cell_type": "code",
   "execution_count": null,
   "id": "995955bc",
   "metadata": {},
   "outputs": [
    {
     "name": "stderr",
     "output_type": "stream",
     "text": [
      "                                                                                \r"
     ]
    },
    {
     "name": "stdout",
     "output_type": "stream",
     "text": [
      "300\n",
      "1618932\n"
     ]
    }
   ],
   "source": [
    "df_dict_rdd = final_posting_lists.mapValues(lambda x: len(x))\n",
    "df_dict = dict(df_dict_rdd.collect())\n",
    "print(df_dict[\"door\"])\n",
    "print(len(df_dict))"
   ]
  },
  {
   "cell_type": "code",
   "execution_count": null,
   "id": "f093dd3e",
   "metadata": {
    "id": "f093dd3e"
   },
   "outputs": [],
   "source": [
    "body_index = InvertedIndex()\n",
    "body_index.df = df_dict\n",
    "body_index.posting_locs = super_posting_locs"
   ]
  },
  {
   "cell_type": "code",
   "execution_count": null,
   "id": "156e9f81",
   "metadata": {},
   "outputs": [
    {
     "name": "stdout",
     "output_type": "stream",
     "text": [
      "Copying file://body_index.pkl [Content-Type=application/octet-stream]...\n",
      "- [1 files][ 61.3 MiB/ 61.3 MiB]                                                \n",
      "Operation completed over 1 objects/61.3 MiB.                                     \n"
     ]
    }
   ],
   "source": [
    "# write the global stats out\n",
    "body_index.write_index('.', 'body_index')\n",
    "# upload to gs\n",
    "index_src = \"body_index.pkl\"\n",
    "index_dst = f'gs://{bucket_name}/body_index/postings_tfidf_gcp/{index_src}'\n",
    "!gsutil cp $index_src $index_dst"
   ]
  },
  {
   "cell_type": "code",
   "execution_count": null,
   "id": "cce3fcd1",
   "metadata": {},
   "outputs": [
    {
     "name": "stdout",
     "output_type": "stream",
     "text": [
      " 61.27 MiB  2022-01-07T20:35:41Z  gs://ir-project-bucket-313191645-201013310/body_index/postings_tfidf_gcp/body_index.pkl\r\n",
      "TOTAL: 1 objects, 64246153 bytes (61.27 MiB)\r\n"
     ]
    }
   ],
   "source": [
    "!gsutil ls -lh $index_dst"
   ]
  },
  {
   "cell_type": "code",
   "execution_count": null,
   "id": "0dfa4972",
   "metadata": {},
   "outputs": [
    {
     "data": {
      "text/plain": [
       "[('56_001.bin', 1313214)]"
      ]
     },
     "execution_count": 25,
     "metadata": {},
     "output_type": "execute_result"
    }
   ],
   "source": [
    "body_index.posting_locs['silicon']"
   ]
  },
  {
   "cell_type": "code",
   "execution_count": null,
   "id": "105382b7",
   "metadata": {},
   "outputs": [],
   "source": [
    "# write locs as json\n",
    "blob_posting_locs = client.get_bucket(bucket_name).blob('json_files/posting_locs.json')\n",
    "blob_posting_locs.upload_from_string(data=json.dumps(super_posting_locs),content_type='application/json') \n",
    "print(\"finish\")"
   ]
  },
  {
   "cell_type": "markdown",
   "id": "aa3a93ff",
   "metadata": {
    "id": "aa3a93ff",
    "nbgrader": {
     "grade": false,
     "grade_id": "cell-2a6d655c112e79c5",
     "locked": true,
     "schema_version": 3,
     "solution": false,
     "task": false
    }
   },
   "source": [
    "# PageRank"
   ]
  },
  {
   "cell_type": "markdown",
   "id": "e850f822",
   "metadata": {
    "id": "e850f822",
    "nbgrader": {
     "grade": false,
     "grade_id": "cell-2fee4bc8d83c1e2a",
     "locked": true,
     "schema_version": 3,
     "solution": false,
     "task": false
    }
   },
   "source": [
    "**YOUR TASK (10 POINTS):** Compute PageRank for the entire English Wikipedia. Use your implementation for `generate_graph` function from Colab below."
   ]
  },
  {
   "cell_type": "code",
   "execution_count": null,
   "id": "822b3839",
   "metadata": {
    "id": "822b3839"
   },
   "outputs": [],
   "source": [
    "raise Exception() # TODO: lehorid et ze...\n",
    "\n",
    "# Put your `generate_graph` function here\n",
    "def generate_graph(pages):\n",
    "  edges = pages.flatMapValues(lambda x: x).map(lambda x: ((x[0],x[1][0]),None)).combineByKey(lambda x: x, lambda x, _: x, lambda x, _: x).map(lambda x: x[0])\n",
    "  vertices = edges.flatMap(lambda x: x).distinct().map(lambda x: (x,))\n",
    "  return edges, vertices"
   ]
  },
  {
   "cell_type": "code",
   "execution_count": null,
   "id": "32a3c27e",
   "metadata": {
    "scrolled": true
   },
   "outputs": [],
   "source": [
    "t_start = time()\n",
    "pages_links = spark.read.parquet(\"gs://wikidata_preprocessed/*\").select(\"id\", \"anchor_text\").rdd\n",
    "# construct the graph \n",
    "edges, vertices = generate_graph(pages_links)\n",
    "# compute PageRank\n",
    "edgesDF = edges.toDF(['src', 'dst']).repartition(124, 'src')\n",
    "verticesDF = vertices.toDF(['id']).repartition(124, 'id')\n",
    "g = GraphFrame(verticesDF, edgesDF)\n",
    "pr_results = g.pageRank(resetProbability=0.15, maxIter=6)\n",
    "print(type(pr_results))\n",
    "print(pr_results)\n",
    "# name = \"pr_results\"\n",
    "# with open(Path(f'gs://{bucket_name}/body_index/page_rank') / f'{name}.pkl', 'wb') as f:\n",
    "#     pickle.dump(self, f)\n",
    "pr = pr_results.vertices.select(\"id\", \"pagerank\")\n",
    "pr = pr.sort(col('pagerank').desc())\n",
    "# pr.repartition(1).write.csv(f'gs://{bucket_name}/pr', compression=\"gzip\")\n",
    "print(type(pr))\n",
    "pr_time = time() - t_start\n",
    "pr.show()"
   ]
  },
  {
   "cell_type": "code",
   "execution_count": null,
   "id": "2fb9e234",
   "metadata": {},
   "outputs": [],
   "source": [
    "pr_rdd = pr.rdd.mapValues(lambda x: int(x*1000) / 1000.0)\n",
    "pr_dict = dict(pr_rdd.collect())\n",
    "# write page rank\n",
    "blob_page_rank = client.get_bucket(bucket_name).blob('json_files/page_rank.json')\n",
    "blob_page_rank.upload_from_string(data=json.dumps(pr_dict),content_type='application/json')  \n",
    "print(\"blabla\")"
   ]
  }
 ],
 "metadata": {
  "celltoolbar": "Create Assignment",
  "colab": {
   "collapsed_sections": [],
   "name": "final_queries_terms_index_builder_gcp.ipynb",
   "provenance": []
  },
  "kernelspec": {
   "display_name": "PySpark",
   "language": "python",
   "name": "pyspark"
  },
  "language_info": {
   "codemirror_mode": {
    "name": "ipython",
    "version": 3
   },
   "file_extension": ".py",
   "mimetype": "text/x-python",
   "name": "python",
   "nbconvert_exporter": "python",
   "pygments_lexer": "ipython3",
   "version": "3.8.12"
  }
 },
 "nbformat": 4,
 "nbformat_minor": 5
}
