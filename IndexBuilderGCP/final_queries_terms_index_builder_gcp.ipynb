{
  "cells": [
    {
      "cell_type": "markdown",
      "id": "7bd1b3db",
      "metadata": {
        "id": "7bd1b3db"
      },
      "source": [
        "***Important*** DO NOT CLEAR THE OUTPUT OF THIS NOTEBOOK AFTER EXECUTION!!!"
      ]
    },
    {
      "cell_type": "code",
      "execution_count": null,
      "id": "99217fa4",
      "metadata": {
        "id": "99217fa4",
        "nbgrader": {
          "grade": false,
          "grade_id": "cell-Worker_Count",
          "locked": true,
          "schema_version": 3,
          "solution": false,
          "task": false
        },
        "outputId": "cf88b954-f39a-412a-d87e-660833e735b6"
      },
      "outputs": [
        {
          "name": "stdout",
          "output_type": "stream",
          "text": [
            "NAME          PLATFORM  WORKER_COUNT  PREEMPTIBLE_WORKER_COUNT  STATUS   ZONE           SCHEDULED_DELETE\r\n",
            "cluster-8898  GCE       4                                       RUNNING  us-central1-a\r\n"
          ]
        }
      ],
      "source": [
        "# if the following command generates an error, you probably didn't enable \n",
        "# the cluster security option \"Allow API access to all Google Cloud services\"\n",
        "# under Manage Security → Project Access when setting up the cluster\n",
        "!gcloud dataproc clusters list --region us-central1"
      ]
    },
    {
      "cell_type": "markdown",
      "id": "c2c49573",
      "metadata": {
        "id": "c2c49573"
      },
      "source": [
        "# Imports & Setup"
      ]
    },
    {
      "cell_type": "code",
      "execution_count": null,
      "id": "061fb10e",
      "metadata": {
        "id": "061fb10e",
        "nbgrader": {
          "grade": false,
          "grade_id": "cell-Setup",
          "locked": true,
          "schema_version": 3,
          "solution": false,
          "task": false
        },
        "outputId": "fc0e315d-21e9-411d-d69c-5b97e4e5d629"
      },
      "outputs": [
        {
          "name": "stdout",
          "output_type": "stream",
          "text": [
            "\u001b[33mWARNING: Running pip as the 'root' user can result in broken permissions and conflicting behaviour with the system package manager. It is recommended to use a virtual environment instead: https://pip.pypa.io/warnings/venv\u001b[0m\n",
            "\u001b[33mWARNING: Running pip as the 'root' user can result in broken permissions and conflicting behaviour with the system package manager. It is recommended to use a virtual environment instead: https://pip.pypa.io/warnings/venv\u001b[0m\n"
          ]
        }
      ],
      "source": [
        "!pip install -q google-cloud-storage==1.43.0\n",
        "!pip install -q graphframes"
      ]
    },
    {
      "cell_type": "code",
      "execution_count": null,
      "id": "3a6810d7",
      "metadata": {
        "id": "3a6810d7",
        "nbgrader": {
          "grade": false,
          "grade_id": "cell-Imports",
          "locked": true,
          "schema_version": 3,
          "solution": false,
          "task": false
        },
        "outputId": "a24aa24b-aa75-4823-83ca-1d7deef0f0de"
      },
      "outputs": [
        {
          "name": "stderr",
          "output_type": "stream",
          "text": [
            "[nltk_data] Downloading package stopwords to /root/nltk_data...\n",
            "[nltk_data]   Package stopwords is already up-to-date!\n"
          ]
        },
        {
          "data": {
            "text/plain": [
              "True"
            ]
          },
          "execution_count": 3,
          "metadata": {},
          "output_type": "execute_result"
        }
      ],
      "source": [
        "import pyspark\n",
        "import sys\n",
        "from collections import Counter, OrderedDict, defaultdict\n",
        "import itertools\n",
        "from itertools import islice, count, groupby\n",
        "import pandas as pd\n",
        "import os\n",
        "import re\n",
        "from operator import itemgetter\n",
        "import nltk\n",
        "from nltk.stem.porter import *\n",
        "from nltk.corpus import stopwords\n",
        "from time import time\n",
        "from pathlib import Path\n",
        "import pickle\n",
        "import pandas as pd\n",
        "from google.cloud import storage\n",
        "import math\n",
        "import hashlib\n",
        "def _hash(s):\n",
        "    return hashlib.blake2b(bytes(s, encoding='utf8'), digest_size=5).hexdigest()\n",
        "\n",
        "nltk.download('stopwords')"
      ]
    },
    {
      "cell_type": "code",
      "execution_count": null,
      "id": "2fdd2267",
      "metadata": {
        "id": "2fdd2267",
        "nbgrader": {
          "grade": false,
          "grade_id": "cell-jar",
          "locked": true,
          "schema_version": 3,
          "solution": false,
          "task": false
        },
        "outputId": "8f93a7ec-71e0-49c1-fc81-9af385849a90"
      },
      "outputs": [
        {
          "name": "stdout",
          "output_type": "stream",
          "text": [
            "-rw-r--r-- 1 root root 247882 Dec  4 11:31 /usr/lib/spark/jars/graphframes-0.8.2-spark3.1-s_2.12.jar\r\n"
          ]
        }
      ],
      "source": [
        "# if nothing prints here you forgot to include the initialization script when starting the cluster\n",
        "!ls -l /usr/lib/spark/jars/graph*"
      ]
    },
    {
      "cell_type": "code",
      "execution_count": null,
      "id": "79a84160",
      "metadata": {
        "id": "79a84160",
        "nbgrader": {
          "grade": false,
          "grade_id": "cell-pyspark-import",
          "locked": true,
          "schema_version": 3,
          "solution": false,
          "task": false
        }
      },
      "outputs": [],
      "source": [
        "from pyspark.sql import *\n",
        "from pyspark.sql.functions import *\n",
        "from pyspark import SparkContext, SparkConf, SparkFiles\n",
        "from pyspark.sql import SQLContext\n",
        "from graphframes import *"
      ]
    },
    {
      "cell_type": "code",
      "execution_count": null,
      "id": "5876f9a7",
      "metadata": {
        "id": "5876f9a7",
        "nbgrader": {
          "grade": false,
          "grade_id": "cell-spark-version",
          "locked": true,
          "schema_version": 3,
          "solution": false,
          "task": false
        },
        "outputId": "07b4e22b-a252-42fb-fe46-d9050e4e7ca8",
        "scrolled": true
      },
      "outputs": [
        {
          "data": {
            "text/html": [
              "\n",
              "            <div>\n",
              "                <p><b>SparkSession - hive</b></p>\n",
              "                \n",
              "        <div>\n",
              "            <p><b>SparkContext</b></p>\n",
              "\n",
              "            <p><a href=\"http://cluster-8898-m.c.assignment3-334014.internal:45385\">Spark UI</a></p>\n",
              "\n",
              "            <dl>\n",
              "              <dt>Version</dt>\n",
              "                <dd><code>v3.1.2</code></dd>\n",
              "              <dt>Master</dt>\n",
              "                <dd><code>yarn</code></dd>\n",
              "              <dt>AppName</dt>\n",
              "                <dd><code>PySparkShell</code></dd>\n",
              "            </dl>\n",
              "        </div>\n",
              "        \n",
              "            </div>\n",
              "        "
            ],
            "text/plain": [
              "<pyspark.sql.session.SparkSession at 0x7fd30510b3d0>"
            ]
          },
          "execution_count": 6,
          "metadata": {},
          "output_type": "execute_result"
        }
      ],
      "source": [
        "spark"
      ]
    },
    {
      "cell_type": "code",
      "execution_count": null,
      "id": "bd617124",
      "metadata": {
        "id": "bd617124",
        "nbgrader": {
          "grade": false,
          "grade_id": "cell-bucket_name",
          "locked": false,
          "schema_version": 3,
          "solution": true,
          "task": false
        },
        "outputId": "a91307e6-9d27-48e9-b943-173a240857f3"
      },
      "outputs": [
        {
          "name": "stdout",
          "output_type": "stream",
          "text": [
            "graphframes.sh\n"
          ]
        }
      ],
      "source": [
        "# Put your bucket name below and make sure you can access it without an error\n",
        "bucket_name = '206013310_313191645_final_project' \n",
        "client = storage.Client()\n",
        "blobs = client.list_blobs(bucket_name)\n",
        "for b in blobs:\n",
        "    print(b.name)"
      ]
    },
    {
      "cell_type": "markdown",
      "id": "6bdb01de",
      "metadata": {
        "id": "6bdb01de"
      },
      "source": [
        "***GCP setup is complete!*** If you got here without any errors you've earned 10 out of the 35 points of this part."
      ]
    },
    {
      "cell_type": "markdown",
      "id": "c08c1a11",
      "metadata": {
        "id": "c08c1a11"
      },
      "source": [
        "# Building an inverted index"
      ]
    },
    {
      "cell_type": "markdown",
      "id": "a0264c9f",
      "metadata": {
        "id": "a0264c9f"
      },
      "source": [
        "Here, we read the entire corpus to an rdd, directly from Google Storage Bucket and use your code from Colab to construct an inverted index."
      ]
    },
    {
      "cell_type": "code",
      "execution_count": null,
      "id": "1592f189",
      "metadata": {
        "id": "1592f189",
        "scrolled": false,
        "outputId": "dcaee7d8-89e8-48e3-9529-dd70f3d8574e"
      },
      "outputs": [
        {
          "name": "stderr",
          "output_type": "stream",
          "text": [
            "                                                                                \r"
          ]
        }
      ],
      "source": [
        "full_path = \"gs://wikidata_preprocessed/*\"\n",
        "parquetFile = spark.read.parquet(full_path)\n",
        "doc_text_pairs = parquetFile.select(\"text\", \"id\").rdd # Remark!! when we want to index the title and anchor, add here!!"
      ]
    },
    {
      "cell_type": "markdown",
      "id": "3e95289f",
      "metadata": {
        "id": "3e95289f"
      },
      "source": [
        "We will count the number of pages to make sure we are looking at the entire corpus. The number of pages should be more than 6M"
      ]
    },
    {
      "cell_type": "code",
      "execution_count": null,
      "id": "de9d4cf5",
      "metadata": {
        "id": "de9d4cf5",
        "outputId": "025cab04-229c-4ad0-90e9-040d98c46b40"
      },
      "outputs": [
        {
          "name": "stderr",
          "output_type": "stream",
          "text": [
            "                                                                                \r"
          ]
        },
        {
          "data": {
            "text/plain": [
              "6348910"
            ]
          },
          "execution_count": 9,
          "metadata": {},
          "output_type": "execute_result"
        }
      ],
      "source": [
        "# Count number of wiki pages\n",
        "total_number_of_docs_N = parquetFile.count()"
      ]
    },
    {
      "cell_type": "markdown",
      "id": "68584391",
      "metadata": {
        "id": "68584391"
      },
      "source": [
        "Let's import the inverted index module. Note that you need to use the staff-provided version called `inverted_index_gcp.py`, which contains helper functions to writing and reading the posting files similar to the Colab version, but with writing done to a Google Cloud Storage bucket."
      ]
    },
    {
      "cell_type": "code",
      "execution_count": null,
      "id": "d19acac7",
      "metadata": {
        "id": "d19acac7",
        "outputId": "327fe81b-80f4-4b3a-8894-e74720d92e35"
      },
      "outputs": [
        {
          "name": "stdout",
          "output_type": "stream",
          "text": [
            "inverted_index_gcp.py\r\n"
          ]
        }
      ],
      "source": [
        "# if nothing prints here you forgot to upload the file inverted_index_gcp.py to the home dir\n",
        "%cd -q /home/dataproc\n",
        "!ls inverted_index_gcp.py"
      ]
    },
    {
      "cell_type": "code",
      "execution_count": null,
      "id": "33ee80db",
      "metadata": {
        "id": "33ee80db",
        "scrolled": true
      },
      "outputs": [],
      "source": [
        "# adding our python module to the cluster\n",
        "sc.addFile(\"/home/dataproc/inverted_index_gcp.py\")\n",
        "sys.path.insert(0,SparkFiles.getRootDirectory())"
      ]
    },
    {
      "cell_type": "code",
      "execution_count": null,
      "id": "87fbc12e",
      "metadata": {
        "id": "87fbc12e"
      },
      "outputs": [],
      "source": [
        "from inverted_index_gcp import InvertedIndex"
      ]
    },
    {
      "cell_type": "markdown",
      "id": "2ecdfd6f",
      "metadata": {
        "id": "2ecdfd6f"
      },
      "source": [
        "**YOUR TASK (10 POINTS)**: Use your implementation of `word_count`, `reduce_word_counts`, `calculate_df`, and `partition_postings_and_write` functions from Colab to build an inverted index for all of English Wikipedia in under 2 hours.\n",
        "\n",
        "A few notes: \n",
        "1. The number of corpus stopwords below is a bit bigger than the colab version since we are working on the whole corpus and not just on one file.\n",
        "2. You need to slightly modify your implementation of  `partition_postings_and_write` because the signature of `InvertedIndex.write_a_posting_list` has changed and now includes an additional argument called `bucket_name` for the target bucket. See the module for more details.\n",
        "3. You are not allowed to change any of the code not coming from Colab. "
      ]
    },
    {
      "cell_type": "code",
      "execution_count": null,
      "id": "4b5a2e40",
      "metadata": {
        "id": "4b5a2e40",
        "nbgrader": {
          "grade": false,
          "grade_id": "cell-token2bucket",
          "locked": false,
          "schema_version": 3,
          "solution": true,
          "task": false
        }
      },
      "outputs": [],
      "source": [
        "#start addition-------------------------\n",
        "import json\n",
        "# Opening JSON file\n",
        "test_set_dict = None\n",
        "with open('queries_train.json') as json_file:\n",
        "    test_set_dict = json.load(json_file)\n",
        "test_set_terms = set(' '.join(' '.join(list(test_set_dict.keys())).split('?')).split())\n",
        "\n",
        "def our_sum(lst):\n",
        "  summ = 0\n",
        "  for i in lst:\n",
        "    summ+=i\n",
        "  return summ\n",
        "#end addition------------------------------\n",
        "\n",
        "english_stopwords = frozenset(stopwords.words('english'))\n",
        "corpus_stopwords = [\"category\", \"references\", \"also\", \"external\", \"links\", \n",
        "                    \"may\", \"first\", \"see\", \"history\", \"people\", \"one\", \"two\", \n",
        "                    \"part\", \"thumb\", \"including\", \"second\", \"following\", \n",
        "                    \"many\", \"however\", \"would\", \"became\"]\n",
        "\n",
        "all_stopwords = english_stopwords.union(corpus_stopwords)\n",
        "RE_WORD = re.compile(r\"\"\"[\\#\\@\\w](['\\-]?\\w){2,24}\"\"\", re.UNICODE)\n",
        "\n",
        "from functools import total_ordering\n",
        "\n",
        "NUM_BUCKETS = 124\n",
        "def token2bucket_id(token):\n",
        "  return int(_hash(token),16) % NUM_BUCKETS\n",
        "\n",
        "def word_count(text, id):\n",
        "  tokens = [token.group() for token in RE_WORD.finditer(text.lower())]\n",
        "  set_of_toks = set(tokens)\n",
        "  len_before = len(set_of_toks)\n",
        "  len_after = len(set_of_toks - test_set_terms)\n",
        "  if len_after == len_before:\n",
        "    return []\n",
        "  tf_counter = Counter()\n",
        "  for tok in tokens:\n",
        "    if tok not in all_stopwords:\n",
        "      tf_counter[tok] += 1\n",
        "  to_ret = []\n",
        "  for item in tf_counter.items():\n",
        "    to_ret.append((item[0],(id,item[1])))\n",
        "  return to_ret\n",
        "\n",
        "def reduce_word_counts(unsorted_pl):\n",
        "  return sorted(unsorted_pl,key=lambda x: x[0])\n",
        "\n",
        "def calculate_df(postings):\n",
        "  return postings.map(lambda x: (x[0], len(x[1])))\n",
        "\n",
        "#start addition-------------------------\n",
        "def vector_size(docid_to_freq,df_dict): #(12, [('anarchism', 125), ('political', 26), ('philosophy', 6), ('movement', 23), ('sceptical', 1), ('authority', 18), ('rejects', 1), ('involuntary', 1), ('coercive', 2), ('forms', 9), ('hierarchy', 4), ('calls', 3), ('abolition', 3), ('state', 50), ('holds', 2), ('undesirable', 1), ('unnecessary', 1), ('harmful', 1), ('historically', 3), ('far-left', 2), ('usually', 4), ('described', 2), ('alongside', 5), ('libertarian', 14), ('marxism', 6), ('wing', 3), ('socialism', 15), ('socialist', 14), ('strong', 2), ('historical', 4), ('association', 5), ('anti-capitalism', 3), ('history', 5), ('anarchy', 9), ('goes', 1), ('back', 2), ('prehistory', 1), ('humans', 4), ('arguably', 1), ('lived', 1), ('anarchic', 2), ('societies', 2), ('long', 2), ('establishment', 3), ('formal', 3), ('states', 8), ('realms', 1), ('empires', 1), ('rise', 1), ('organised', 2), ('hierarchical', 3), ('bodies', 1), ('scepticism', 1), ('toward', 3), ('rose', 1), ('19th', 6), ('century', 20), ('self-conscious', 1), ('emerged', 3), ('latter', 2), ('half', 2), ('first', 13), ('decades', 3), ('20th', 8), ('anarchist', 89), ('flourished', 2), ('parts', 1), ('world', 13), ('significant', 8), ('role', 6), ('workers', 11), ('struggles', 1), ('emancipation', 1), ('various', 15), ('schools', 13), ('thought', 12), ('formed', 5), ('period', 3), ('anarchists', 70), ('taken', 4), ('part', 8), ('several', 3), ('revolutions', 2), ('notably', 2), ('spanish', 4), ('civil', 5), ('war', 11), ('whose', 6), ('end', 5), ('marked', 1), ('classical', 14), ('era', 12), ('last', 2), ('21st', 3), ('resurgent', 1), ('employs', 1), ('diversity', 2), ('tactics', 15), ('order', 3), ('meet', 1), ('ideal', 8), ('ends', 4), ('broadly', 1), ('separated', 1), ('revolutionary', 10), ('evolutionary', 5), ('overlap', 2), ('two', 7), ('merely', 2), ('descriptive', 1), ('aim', 4), ('bring', 2), ('violent', 6), ('turn', 5), ('past', 2), ('prefigure', 1), ('society', 23), ('would', 14), ('like', 1), ('criticism', 10), ('praxis', 2), ('played', 1), ('diverse', 4), ('areas', 2), ('human', 9), ('criticisms', 1), ('include', 6), ('claims', 4), ('internally', 1), ('inconsistent', 1), ('utopian', 3), ('etymology', 2), ('terminology', 1), ('definition', 4), ('wilhelm', 2), ('weitling', 2), ('example', 3), ('writer', 1), ('added', 1), ('theory', 10), ('without', 10), ('using', 1), ('exact', 1), ('term', 4), ('etymological', 1), ('origin', 1), ('ancient', 2), ('greek', 1), ('anarkhia', 1), ('meaning', 3), ('ruler', 3), ('composed', 2), ('prefix', 1), ('word', 1), ('arkhos', 1), ('leader', 2), ('suffix', 1), ('ism', 1), ('denotes', 1), ('ideological', 2), ('current', 6), ('favours', 2), ('appears', 1), ('english', 2), ('1642', 1), ('anarchisme', 1), ('1539', 1), ('early', 6), ('usages', 1), ('emphasised', 1), ('sense', 3), ('disorder', 1), ('factions', 2), ('within', 12), ('french', 6), ('revolution', 10), ('labelled', 1), ('opponents', 1), ('although', 7), ('accused', 1), ('shared', 2), ('many', 16), ('views', 3), ('later', 6), ('revolutionaries', 2), ('william', 6), ('godwin', 4), ('1756', 1), ('1836', 1), ('1808', 1), ('1871', 2), ('contribute', 1), ('doctrines', 2), ('next', 1), ('generation', 1), ('use', 7), ('describing', 1), ('beliefs', 2), ('philosopher', 3), ('call', 2), ('pierre-joseph', 5), ('proudhon', 6), ('1809', 1), ('1865', 1), ('marking', 1), ('birth', 2), ('mid-19th', 1), ('since', 4), ('1890s', 2), ('beginning', 2), ('france', 3), ('libertarianism', 4), ('often', 6), ('used', 5), ('synonym', 3), ('still', 5), ('common', 8), ('outside', 1), ('united', 4), ('hand', 4), ('refer', 2), ('individualistic', 1), ('free-market', 2), ('referring', 2), ('largely', 6), ('synonymous', 1), ('recently', 1), ('diluted', 1), ('wider', 3), ('adoption', 1), ('ideologically', 3), ('disparate', 2), ('groups', 14), ('including', 3), ('new', 7), ('left', 7), ('marxists', 4), ('associate', 1), ('authoritarian', 2), ('socialists', 3), ('vanguard', 1), ('party', 2), ('well', 4), ('extreme', 2), ('liber\n",
        "  freq_list = docid_to_freq[2] # list of tuples\n",
        "  lst_tf_idf = []\n",
        "  doc_size = docid_to_freq[1]\n",
        "  for freq in freq_list:\n",
        "    term = freq[0]\n",
        "    num = freq[1]\n",
        "    df = df_dict[term]\n",
        "    lst_tf_idf.append(((num/doc_size) * math.log(total_number_of_docs_N/df ,2))**2)\n",
        "  return (docid_to_freq[0], our_sum(lst_tf_idf)**0.5)\n",
        "#end addition------------------------------\n",
        "\n",
        "def partition_postings_and_write(postings):\n",
        "  temp = postings.map(lambda x: (token2bucket_id(x[0]),(x[0],x[1])))\n",
        "  temp = temp.groupByKey()\n",
        "  return temp.map(lambda x: InvertedIndex.write_a_posting_list(x,bucket_name))"
      ]
    },
    {
      "cell_type": "code",
      "execution_count": null,
      "id": "7e36a929",
      "metadata": {
        "id": "7e36a929",
        "nbgrader": {
          "grade": false,
          "grade_id": "cell-index_construction",
          "locked": false,
          "schema_version": 3,
          "solution": true,
          "task": false
        },
        "outputId": "d8b74c9c-d531-4d2c-9f66-5ed154ae11d1"
      },
      "outputs": [
        {
          "name": "stderr",
          "output_type": "stream",
          "text": [
            "                                                                                \r"
          ]
        }
      ],
      "source": [
        "#start addition-------------------------\n",
        "doc_tf_vector_not_filtered = doc_text_pairs.map(lambda x: (x[1], word_count(x[0], x[1])))\n",
        "\n",
        "doc_tf_vector = doc_tf_vector_not_filtered.filter(lambda x: len(x[1]) > 0)\n",
        "\n",
        "doc_len = doc_tf_vector.map(lambda x: (x[0], our_sum([i[1][1] for i in x[1]]))) ## Di # 2 # key = dicId!!! value = doc len\n",
        "\n",
        "doc_tf_unnormalized = doc_tf_vector.map(lambda x:(x[0], [(i[0],i[1][1]) for i in x[1]])) ## f_(i,j) # 3 # key = docId!!! value = tf vector\n",
        "\n",
        "word_counts_not_filtered = doc_text_pairs.flatMap(lambda x: word_count(x[0], x[1]))\n",
        "\n",
        "word_counts = word_counts_not_filtered.filter(lambda x: len(x[1]) > 0)\n",
        "\n",
        "postings = word_counts.groupByKey().mapValues(reduce_word_counts)\n",
        "\n",
        "postings_filtered = postings.filter(lambda x: len(x[1])>10)\n",
        "\n",
        "df_for_terms = postings_filtered.map(lambda x: (x[0], len(x[1])))\n",
        "\n",
        "term_df = df_for_terms.collectAsMap()\n",
        "\n",
        "doc_tf_unnormalized_with_doc_len = doc_tf_unnormalized.map(lambda x : (x[0],our_sum([i[1] for i in x[1]]),x[1]))\n",
        "\n",
        "doc_vector_size = doc_tf_unnormalized_with_doc_len.map(lambda x : vector_size(x,term_df))\n",
        "#end addition------------------------------\n",
        "# partition posting lists and write out\n",
        "_ = partition_postings_and_write(postings_filtered).collect()\n"
      ]
    },
    {
      "cell_type": "code",
      "execution_count": null,
      "id": "06c7e410",
      "metadata": {
        "id": "06c7e410",
        "nbgrader": {
          "grade": true,
          "grade_id": "collect-posting",
          "locked": true,
          "points": 0,
          "schema_version": 3,
          "solution": false,
          "task": false
        }
      },
      "outputs": [],
      "source": [
        "# collect all posting lists locations into one super-set\n",
        "super_posting_locs = defaultdict(list)\n",
        "for blob in client.list_blobs(bucket_name, prefix='postings_gcp'):\n",
        "  if not blob.name.endswith(\"pickle\"):\n",
        "    continue\n",
        "  with blob.open(\"rb\") as f:\n",
        "    posting_locs = pickle.load(f)\n",
        "    for k, v in posting_locs.items():\n",
        "      super_posting_locs[k].extend(v)"
      ]
    },
    {
      "cell_type": "markdown",
      "id": "f0ea7784",
      "metadata": {
        "id": "f0ea7784"
      },
      "source": [
        "Putting it all together"
      ]
    },
    {
      "cell_type": "code",
      "execution_count": null,
      "id": "f093dd3e",
      "metadata": {
        "id": "f093dd3e",
        "outputId": "ae43b24f-a618-4194-e7b6-bab652c86874"
      },
      "outputs": [
        {
          "name": "stdout",
          "output_type": "stream",
          "text": [
            "Copying file://index.pkl [Content-Type=application/octet-stream]...\n",
            "/ [1 files][ 18.4 MiB/ 18.4 MiB]                                                \n",
            "Operation completed over 1 objects/18.4 MiB.                                     \n"
          ]
        }
      ],
      "source": [
        "body_index = InvertedIndex()\n",
        "# Adding the posting locations dictionary to the inverted index\n",
        "body_index.posting_locs = super_posting_locs\n",
        "# Add the token - df dictionary to the inverted index\n",
        "body_index.df = term_df\n",
        "body_index.doc_len = doc_len.collectAsMap()\n",
        "body_index.doc_vector_size = doc_vector_size.collectAsMap()\n",
        "body_index.N = len(body_index.doc_len)\n",
        "# write the global stats out\n",
        "body_index.write_index('.', 'body_index_for_only_queries_docs_GCP')\n",
        "# upload to gs\n",
        "index_src = \"body_index_for_only_queries_docs_GCP.pkl\"\n",
        "index_dst = f'gs://{bucket_name}/postings_gcp/{index_src}'\n",
        "!gsutil cp $index_src $index_dst"
      ]
    },
    {
      "cell_type": "code",
      "execution_count": null,
      "id": "834aa047",
      "metadata": {
        "id": "834aa047",
        "nbgrader": {
          "grade": false,
          "grade_id": "cell-index_dst_size",
          "locked": true,
          "schema_version": 3,
          "solution": false,
          "task": false
        },
        "outputId": "1d9cecb2-fff3-4dae-ba95-9099a187c80c"
      },
      "outputs": [
        {
          "name": "stdout",
          "output_type": "stream",
          "text": [
            " 18.45 MiB  2021-12-04T13:30:16Z  gs://206013310assignment3/postings_gcp/index.pkl\r\n",
            "TOTAL: 1 objects, 19343778 bytes (18.45 MiB)\r\n"
          ]
        }
      ],
      "source": [
        "!gsutil ls -lh $index_dst"
      ]
    },
    {
      "cell_type": "markdown",
      "id": "aa3a93ff",
      "metadata": {
        "id": "aa3a93ff",
        "nbgrader": {
          "grade": false,
          "grade_id": "cell-2a6d655c112e79c5",
          "locked": true,
          "schema_version": 3,
          "solution": false,
          "task": false
        }
      },
      "source": [
        "# PageRank"
      ]
    },
    {
      "cell_type": "markdown",
      "id": "e850f822",
      "metadata": {
        "id": "e850f822",
        "nbgrader": {
          "grade": false,
          "grade_id": "cell-2fee4bc8d83c1e2a",
          "locked": true,
          "schema_version": 3,
          "solution": false,
          "task": false
        }
      },
      "source": [
        "**YOUR TASK (10 POINTS):** Compute PageRank for the entire English Wikipedia. Use your implementation for `generate_graph` function from Colab below."
      ]
    },
    {
      "cell_type": "code",
      "execution_count": null,
      "id": "822b3839",
      "metadata": {
        "id": "822b3839"
      },
      "outputs": [],
      "source": [
        "# Put your `generate_graph` function here\n",
        "def generate_graph(pages):\n",
        "  edges = pages.flatMapValues(lambda x: x).map(lambda x: ((x[0],x[1][0]),None)).combineByKey(lambda x: x, lambda x, _: x, lambda x, _: x).map(lambda x: x[0])\n",
        "  vertices = edges.flatMap(lambda x: x).distinct().map(lambda x: (x,))\n",
        "  return edges, vertices"
      ]
    },
    {
      "cell_type": "code",
      "execution_count": null,
      "id": "788332b0",
      "metadata": {
        "id": "788332b0",
        "nbgrader": {
          "grade": false,
          "grade_id": "cell-PageRank",
          "locked": false,
          "schema_version": 3,
          "solution": true,
          "task": false
        },
        "outputId": "426a0416-9ff1-4903-9c27-aa0c4716b689"
      },
      "outputs": [
        {
          "name": "stderr",
          "output_type": "stream",
          "text": [
            "[Stage 340:=============================================>      (176 + 16) / 200]\r"
          ]
        },
        {
          "name": "stdout",
          "output_type": "stream",
          "text": [
            "+-------+------------------+\n",
            "|     id|          pagerank|\n",
            "+-------+------------------+\n",
            "|3434750| 9913.728782160779|\n",
            "|  10568|  5385.34926364204|\n",
            "|  32927| 5282.081575765276|\n",
            "|  30680|  5128.23370960412|\n",
            "|5843419|  4957.56768626387|\n",
            "|  68253|  4769.27826535516|\n",
            "|  31717|  4486.35018054831|\n",
            "|  11867|  4146.41465091277|\n",
            "|  14533| 3996.466440885503|\n",
            "| 645042| 3531.627089803743|\n",
            "|  17867|3246.0983906041406|\n",
            "|5042916| 2991.945739166178|\n",
            "|4689264|2982.3248830417474|\n",
            "|  14532|2934.7468292031717|\n",
            "|  25391|2903.5462235133973|\n",
            "|   5405|2891.4163291546356|\n",
            "|4764461|2834.3669873326608|\n",
            "|  15573| 2783.865118158838|\n",
            "|   9316| 2782.039646413769|\n",
            "|8569916|2775.2861918400154|\n",
            "+-------+------------------+\n",
            "only showing top 20 rows\n",
            "\n"
          ]
        },
        {
          "name": "stderr",
          "output_type": "stream",
          "text": [
            "                                                                                \r"
          ]
        }
      ],
      "source": [
        "t_start = time()\n",
        "pages_links = spark.read.parquet(\"gs://wikidata_preprocessed/*\").select(\"id\", \"anchor_text\").rdd\n",
        "# construct the graph \n",
        "edges, vertices = generate_graph(pages_links)\n",
        "# compute PageRank\n",
        "edgesDF = edges.toDF(['src', 'dst']).repartition(124, 'src')\n",
        "verticesDF = vertices.toDF(['id']).repartition(124, 'id')\n",
        "g = GraphFrame(verticesDF, edgesDF)\n",
        "pr_results = g.pageRank(resetProbability=0.15, maxIter=6)\n",
        "pr = pr_results.vertices.select(\"id\", \"pagerank\")\n",
        "pr = pr.sort(col('pagerank').desc())\n",
        "pr.repartition(1).write.csv(f'gs://{bucket_name}/pr', compression=\"gzip\")\n",
        "pr_time = time() - t_start\n",
        "pr.show()"
      ]
    },
    {
      "cell_type": "code",
      "execution_count": null,
      "id": "af9f3ebf",
      "metadata": {
        "id": "af9f3ebf",
        "nbgrader": {
          "grade": true,
          "grade_id": "cell-PageRank_time",
          "locked": true,
          "points": 10,
          "schema_version": 3,
          "solution": false,
          "task": false
        }
      },
      "outputs": [],
      "source": [
        "# test that PageRank computaion took less than 1 hour\n",
        "assert pr_time < 60*60"
      ]
    },
    {
      "cell_type": "markdown",
      "id": "18000ebe",
      "metadata": {
        "id": "18000ebe"
      },
      "source": [
        "# Reporting"
      ]
    },
    {
      "cell_type": "markdown",
      "id": "d16938f9",
      "metadata": {
        "id": "d16938f9"
      },
      "source": [
        "**YOUR TASK (5 points):** execute and complete the following lines to complete \n",
        "the reporting requirements for assignment #3. "
      ]
    },
    {
      "cell_type": "code",
      "execution_count": null,
      "id": "41bce1c8",
      "metadata": {
        "id": "41bce1c8",
        "nbgrader": {
          "grade": false,
          "grade_id": "cell-size_ofi_input_data",
          "locked": true,
          "schema_version": 3,
          "solution": false,
          "task": false
        },
        "outputId": "54595c29-4ae3-4b78-86d0-d8457ae9c150"
      },
      "outputs": [
        {
          "name": "stdout",
          "output_type": "stream",
          "text": [
            "14.28 GiB    gs://wikidata_preprocessed\r\n"
          ]
        }
      ],
      "source": [
        "# size of input data\n",
        "!gsutil du -sh \"gs://wikidata_preprocessed/\""
      ]
    },
    {
      "cell_type": "code",
      "execution_count": null,
      "id": "e805348d",
      "metadata": {
        "id": "e805348d",
        "nbgrader": {
          "grade": false,
          "grade_id": "cell-size_of_index_data",
          "locked": true,
          "schema_version": 3,
          "solution": false,
          "task": false
        },
        "outputId": "44d9721a-1cd7-4e59-9f78-5439864cfdad"
      },
      "outputs": [
        {
          "name": "stdout",
          "output_type": "stream",
          "text": [
            "5.92 GiB     gs://206013310assignment3/postings_gcp\r\n"
          ]
        }
      ],
      "source": [
        "# size of index data\n",
        "index_dst = f'gs://{bucket_name}/postings_gcp/'\n",
        "!gsutil du -sh \"$index_dst\""
      ]
    },
    {
      "cell_type": "code",
      "execution_count": null,
      "id": "125a6468",
      "metadata": {
        "id": "125a6468",
        "nbgrader": {
          "grade": false,
          "grade_id": "cell-credits",
          "locked": true,
          "schema_version": 3,
          "solution": false,
          "task": false
        },
        "outputId": "8834cc5a-945c-462b-ffa9-d5e519fedcd0"
      },
      "outputs": [
        {
          "name": "stdout",
          "output_type": "stream",
          "text": [
            "I used 0 USD credit during the course of this assignment\n"
          ]
        }
      ],
      "source": [
        "# How many USD credits did you use in GCP during the course of this assignment?\n",
        "cost = 3.67 \n",
        "print(f'I used {cost} USD credit during the course of this assignment')"
      ]
    },
    {
      "cell_type": "markdown",
      "id": "8185da4f",
      "metadata": {
        "id": "8185da4f"
      },
      "source": [
        "**Bonus (10 points)** if you implement PageRank in pure PySpark, i.e. without using the GraphFrames package, AND manage to complete 10 iterations of your algorithm on the entire English Wikipedia in less than an hour. \n"
      ]
    },
    {
      "cell_type": "code",
      "execution_count": null,
      "id": "055ca375",
      "metadata": {
        "nbgrader": {
          "grade": false,
          "grade_id": "cell-PageRank_Bonus",
          "locked": false,
          "schema_version": 3,
          "solution": true,
          "task": false
        },
        "id": "055ca375"
      },
      "outputs": [],
      "source": [
        "#If you have decided to do the bonus task - please copy the code here \n",
        "\n",
        "bonus_flag = False # Turn flag on (True) if you have implemented this part\n",
        "\n",
        "t_start = time()\n",
        "\n",
        "# PLACE YOUR CODE HERE\n",
        "\n",
        "pr_time_Bonus = time() - t_start\n"
      ]
    },
    {
      "cell_type": "code",
      "execution_count": null,
      "id": "dc8eb1e1",
      "metadata": {
        "nbgrader": {
          "grade": true,
          "grade_id": "cell-PageRank_Bonus-time",
          "locked": true,
          "points": 10,
          "schema_version": 3,
          "solution": false,
          "task": false
        },
        "id": "dc8eb1e1",
        "outputId": "a779d861-7f38-4e8a-8450-2b7f1308126d"
      },
      "outputs": [
        {
          "ename": "AssertionError",
          "evalue": "",
          "output_type": "error",
          "traceback": [
            "\u001b[0;31m---------------------------------------------------------------------------\u001b[0m",
            "\u001b[0;31mAssertionError\u001b[0m                            Traceback (most recent call last)",
            "\u001b[0;32m/tmp/ipykernel_18146/574311967.py\u001b[0m in \u001b[0;36m<module>\u001b[0;34m\u001b[0m\n\u001b[1;32m      1\u001b[0m \u001b[0;31m# Note:test that PageRank computaion took less than 1 hour\u001b[0m\u001b[0;34m\u001b[0m\u001b[0;34m\u001b[0m\u001b[0;34m\u001b[0m\u001b[0m\n\u001b[0;32m----> 2\u001b[0;31m \u001b[0;32massert\u001b[0m \u001b[0mpr_time_Bonus\u001b[0m \u001b[0;34m<\u001b[0m \u001b[0;36m60\u001b[0m\u001b[0;34m*\u001b[0m\u001b[0;36m60\u001b[0m \u001b[0;32mand\u001b[0m \u001b[0mbonus_flag\u001b[0m\u001b[0;34m\u001b[0m\u001b[0;34m\u001b[0m\u001b[0m\n\u001b[0m",
            "\u001b[0;31mAssertionError\u001b[0m: "
          ]
        }
      ],
      "source": [
        "# Note:test that PageRank computaion took less than 1 hour\n",
        "assert pr_time_Bonus < 60*60 and bonus_flag"
      ]
    },
    {
      "cell_type": "code",
      "execution_count": null,
      "id": "eaad4bd9",
      "metadata": {
        "id": "eaad4bd9"
      },
      "outputs": [],
      "source": [
        ""
      ]
    }
  ],
  "metadata": {
    "celltoolbar": "Create Assignment",
    "colab": {
      "collapsed_sections": [],
      "name": "queries_terms_index_builder_gcp.ipynb",
      "provenance": []
    },
    "kernelspec": {
      "display_name": "PySpark",
      "language": "python",
      "name": "pyspark"
    },
    "language_info": {
      "codemirror_mode": {
        "name": "ipython",
        "version": 3
      },
      "file_extension": ".py",
      "mimetype": "text/x-python",
      "name": "python",
      "nbconvert_exporter": "python",
      "pygments_lexer": "ipython3",
      "version": "3.8.12"
    }
  },
  "nbformat": 4,
  "nbformat_minor": 5
}