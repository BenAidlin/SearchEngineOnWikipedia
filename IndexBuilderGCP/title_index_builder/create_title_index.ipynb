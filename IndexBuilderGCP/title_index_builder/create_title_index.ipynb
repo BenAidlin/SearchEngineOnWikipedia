{
 "cells": [
  {
   "cell_type": "markdown",
   "id": "7bd1b3db",
   "metadata": {
    "id": "7bd1b3db"
   },
   "source": [
    "***Important*** DO NOT CLEAR THE OUTPUT OF THIS NOTEBOOK AFTER EXECUTION!!!"
   ]
  },
  {
   "cell_type": "code",
   "execution_count": null,
   "id": "99217fa4",
   "metadata": {
    "id": "99217fa4",
    "nbgrader": {
     "grade": false,
     "grade_id": "cell-Worker_Count",
     "locked": true,
     "schema_version": 3,
     "solution": false,
     "task": false
    },
    "outputId": "cf88b954-f39a-412a-d87e-660833e735b6"
   },
   "outputs": [],
   "source": [
    "# if the following command generates an error, you probably didn't enable \n",
    "# the cluster security option \"Allow API access to all Google Cloud services\"\n",
    "# under Manage Security → Project Access when setting up the cluster\n",
    "!gcloud dataproc clusters list --region us-central1"
   ]
  },
  {
   "cell_type": "markdown",
   "id": "c2c49573",
   "metadata": {
    "id": "c2c49573"
   },
   "source": [
    "# Imports & Setup"
   ]
  },
  {
   "cell_type": "code",
   "execution_count": null,
   "id": "061fb10e",
   "metadata": {
    "id": "061fb10e",
    "nbgrader": {
     "grade": false,
     "grade_id": "cell-Setup",
     "locked": true,
     "schema_version": 3,
     "solution": false,
     "task": false
    },
    "outputId": "fc0e315d-21e9-411d-d69c-5b97e4e5d629"
   },
   "outputs": [],
   "source": [
    "!pip install -q google-cloud-storage==1.43.0\n",
    "!pip install -q graphframes"
   ]
  },
  {
   "cell_type": "code",
   "execution_count": null,
   "id": "3a6810d7",
   "metadata": {
    "id": "3a6810d7",
    "nbgrader": {
     "grade": false,
     "grade_id": "cell-Imports",
     "locked": true,
     "schema_version": 3,
     "solution": false,
     "task": false
    },
    "outputId": "a24aa24b-aa75-4823-83ca-1d7deef0f0de"
   },
   "outputs": [],
   "source": [
    "import pyspark\n",
    "import sys\n",
    "from collections import Counter, OrderedDict, defaultdict\n",
    "import itertools\n",
    "from itertools import islice, count, groupby\n",
    "import pandas as pd\n",
    "import os\n",
    "import re\n",
    "from operator import itemgetter\n",
    "import nltk\n",
    "from nltk.stem.porter import *\n",
    "from nltk.corpus import stopwords\n",
    "from time import time\n",
    "from pathlib import Path\n",
    "import pickle\n",
    "import pandas as pd\n",
    "from google.cloud import storage\n",
    "import math\n",
    "import hashlib\n",
    "import json\n",
    "\n",
    "def _hash(s):\n",
    "    return hashlib.blake2b(bytes(s, encoding='utf8'), digest_size=5).hexdigest()\n",
    "\n",
    "nltk.download('stopwords')"
   ]
  },
  {
   "cell_type": "code",
   "execution_count": null,
   "id": "2fdd2267",
   "metadata": {
    "id": "2fdd2267",
    "nbgrader": {
     "grade": false,
     "grade_id": "cell-jar",
     "locked": true,
     "schema_version": 3,
     "solution": false,
     "task": false
    },
    "outputId": "8f93a7ec-71e0-49c1-fc81-9af385849a90"
   },
   "outputs": [],
   "source": [
    "# if nothing prints here you forgot to include the initialization script when starting the cluster\n",
    "!ls -l /usr/lib/spark/jars/graph*"
   ]
  },
  {
   "cell_type": "code",
   "execution_count": null,
   "id": "79a84160",
   "metadata": {
    "id": "79a84160",
    "nbgrader": {
     "grade": false,
     "grade_id": "cell-pyspark-import",
     "locked": true,
     "schema_version": 3,
     "solution": false,
     "task": false
    }
   },
   "outputs": [],
   "source": [
    "from pyspark.sql import *\n",
    "from pyspark.sql.functions import *\n",
    "from pyspark import SparkContext, SparkConf, SparkFiles\n",
    "from pyspark.sql import SQLContext\n",
    "from graphframes import *"
   ]
  },
  {
   "cell_type": "code",
   "execution_count": null,
   "id": "5876f9a7",
   "metadata": {
    "id": "5876f9a7",
    "nbgrader": {
     "grade": false,
     "grade_id": "cell-spark-version",
     "locked": true,
     "schema_version": 3,
     "solution": false,
     "task": false
    },
    "outputId": "07b4e22b-a252-42fb-fe46-d9050e4e7ca8",
    "scrolled": true
   },
   "outputs": [],
   "source": [
    "spark"
   ]
  },
  {
   "cell_type": "code",
   "execution_count": null,
   "id": "bd617124",
   "metadata": {
    "id": "bd617124",
    "nbgrader": {
     "grade": false,
     "grade_id": "cell-bucket_name",
     "locked": false,
     "schema_version": 3,
     "solution": true,
     "task": false
    },
    "outputId": "a91307e6-9d27-48e9-b943-173a240857f3"
   },
   "outputs": [],
   "source": [
    "# Put your bucket name below and make sure you can access it without an error\n",
    "bucket_name = 'ir-project-bucket-313191645-201013310' \n",
    "client = storage.Client()\n",
    "blobs = client.list_blobs(bucket_name)\n",
    "#for b in blobs:\n",
    "    #print(b.name)"
   ]
  },
  {
   "cell_type": "markdown",
   "id": "6bdb01de",
   "metadata": {
    "id": "6bdb01de"
   },
   "source": [
    "***GCP setup is complete!*** If you got here without any errors you've earned 10 out of the 35 points of this part."
   ]
  },
  {
   "cell_type": "markdown",
   "id": "c08c1a11",
   "metadata": {
    "id": "c08c1a11"
   },
   "source": [
    "# Building an inverted index"
   ]
  },
  {
   "cell_type": "markdown",
   "id": "a0264c9f",
   "metadata": {
    "id": "a0264c9f"
   },
   "source": [
    "Here, we read the entire corpus to an rdd, directly from Google Storage Bucket and use your code from Colab to construct an inverted index."
   ]
  },
  {
   "cell_type": "code",
   "execution_count": null,
   "id": "1592f189",
   "metadata": {
    "id": "1592f189",
    "outputId": "dcaee7d8-89e8-48e3-9529-dd70f3d8574e",
    "scrolled": false
   },
   "outputs": [],
   "source": [
    "full_path = \"gs://wikidata_preprocessed/*\"\n",
    "parquetFile = spark.read.parquet(full_path)\n",
    "title_doc_pairs = parquetFile.select(\"title\", \"id\").rdd# Remark!! when we want to index the title and anchor, add here!!"
   ]
  },
  {
   "cell_type": "code",
   "execution_count": null,
   "id": "de9d4cf5",
   "metadata": {
    "id": "de9d4cf5",
    "outputId": "025cab04-229c-4ad0-90e9-040d98c46b40"
   },
   "outputs": [],
   "source": [
    "# Count number of wiki pages\n",
    "total_number_of_docs_N = parquetFile.count()"
   ]
  },
  {
   "cell_type": "code",
   "execution_count": null,
   "id": "d19acac7",
   "metadata": {
    "id": "d19acac7",
    "outputId": "327fe81b-80f4-4b3a-8894-e74720d92e35"
   },
   "outputs": [],
   "source": [
    "# if nothing prints here you forgot to upload the file inverted_index_gcp.py to the home dir\n",
    "%cd -q /home/dataproc\n",
    "!ls inverted_index_gcp.py"
   ]
  },
  {
   "cell_type": "code",
   "execution_count": null,
   "id": "33ee80db",
   "metadata": {
    "id": "33ee80db",
    "scrolled": true
   },
   "outputs": [],
   "source": [
    "# adding our python module to the cluster\n",
    "sc.addFile(\"/home/dataproc/inverted_index_gcp.py\")\n",
    "sys.path.insert(0,SparkFiles.getRootDirectory())"
   ]
  },
  {
   "cell_type": "code",
   "execution_count": null,
   "id": "87fbc12e",
   "metadata": {
    "id": "87fbc12e"
   },
   "outputs": [],
   "source": [
    "from inverted_index_gcp import InvertedIndex\n",
    "InvertedIndex.DIR_NAME = 'title_index/postings_gcp_title_index'"
   ]
  },
  {
   "cell_type": "markdown",
   "id": "2ecdfd6f",
   "metadata": {
    "id": "2ecdfd6f"
   },
   "source": [
    "**YOUR TASK (10 POINTS)**: Use your implementation of `word_count`, `reduce_word_counts`, `calculate_df`, and `partition_postings_and_write` functions from Colab to build an inverted index for all of English Wikipedia in under 2 hours.\n",
    "\n",
    "A few notes: \n",
    "1. The number of corpus stopwords below is a bit bigger than the colab version since we are working on the whole corpus and not just on one file.\n",
    "2. You need to slightly modify your implementation of  `partition_postings_and_write` because the signature of `InvertedIndex.write_a_posting_list` has changed and now includes an additional argument called `bucket_name` for the target bucket. See the module for more details.\n",
    "3. You are not allowed to change any of the code not coming from Colab. "
   ]
  },
  {
   "cell_type": "code",
   "execution_count": null,
   "id": "4b5a2e40",
   "metadata": {
    "id": "4b5a2e40",
    "nbgrader": {
     "grade": false,
     "grade_id": "cell-token2bucket",
     "locked": false,
     "schema_version": 3,
     "solution": true,
     "task": false
    }
   },
   "outputs": [],
   "source": [
    "english_stopwords = frozenset(stopwords.words('english'))\n",
    "corpus_stopwords = [\"category\", \"references\", \"also\", \"external\", \"links\", \n",
    "                    \"may\", \"first\", \"see\", \"history\", \"people\", \"one\", \"two\", \n",
    "                    \"part\", \"thumb\", \"including\", \"second\", \"following\", \n",
    "                    \"many\", \"however\", \"would\", \"became\"]\n",
    "FILTERED = False\n",
    "POSTING_LEN_THRESH = 300\n",
    "TFIDF_ROUND_THRESH = 4\n",
    "TFIDF_MUL = 10**TFIDF_ROUND_THRESH # 10000\n",
    "DIR_NAME = \"title_index/postings_gcp_title_index\"\n",
    "\n",
    "all_stopwords = english_stopwords.union(corpus_stopwords)\n",
    "RE_WORD = re.compile(r\"\"\"[\\#\\@\\w](['\\-]?\\w){2,24}\"\"\", re.UNICODE)\n",
    "\n",
    "from functools import total_ordering\n",
    "\n",
    "NUM_BUCKETS = 124\n",
    "def token2bucket_id(token):\n",
    "  return int(_hash(token),16) % NUM_BUCKETS\n",
    "\n",
    "def word_count(text, id):\n",
    "  tokens = [token.group() for token in RE_WORD.finditer(text.lower())]\n",
    "  if FILTERED:\n",
    "      set_of_toks = set(tokens)\n",
    "      len_before = len(set_of_toks)\n",
    "      len_after = len(set_of_toks - test_set_terms)\n",
    "      if len_after == len_before:\n",
    "        return []\n",
    "  tf_counter = Counter()\n",
    "  for tok in tokens:\n",
    "    if tok not in all_stopwords:\n",
    "      tf_counter[tok] += 1\n",
    "  to_ret = []\n",
    "  for item in tf_counter.items():\n",
    "    to_ret.append((item[0],(id,item[1])))\n",
    "  return to_ret\n",
    "\n",
    "def reduce_word_counts(unsorted_pl):\n",
    "  return sorted(unsorted_pl,key=lambda x: x[0])\n",
    "\n",
    "#start addition-------------------------\n",
    "def get_posting_size(n):\n",
    "    if POSTING_LEN_THRESH > n:\n",
    "        return n\n",
    "    return POSTING_LEN_THRESH\n",
    "\n",
    "def our_sum(lst):\n",
    "  summ = 0\n",
    "  for i in lst:\n",
    "    summ+=i\n",
    "  return summ\n",
    "#end addition------------------------------\n",
    "\n",
    "def partition_postings_and_write(postings):\n",
    "  temp = postings.map(lambda x: (token2bucket_id(x[0]),(x[0],x[1])))\n",
    "  temp = temp.groupByKey()\n",
    "  return temp.map(lambda x: InvertedIndex.write_a_posting_list(x,bucket_name))\n"
   ]
  },
  {
   "cell_type": "code",
   "execution_count": null,
   "id": "7e36a929",
   "metadata": {
    "id": "7e36a929",
    "nbgrader": {
     "grade": false,
     "grade_id": "cell-index_construction",
     "locked": false,
     "schema_version": 3,
     "solution": true,
     "task": false
    },
    "outputId": "d8b74c9c-d531-4d2c-9f66-5ed154ae11d1"
   },
   "outputs": [],
   "source": [
    "#start addition-------------------------\n",
    "doc_tf_vector = title_doc_pairs.map(lambda x: (x[1], word_count(x[0], x[1]))).filter(lambda x: len(x[1]) > 0)\n",
    "doc_tf_vector_with_doc_len = doc_tf_vector.map(lambda x: (x[0], our_sum([i[1][1] for i in x[1]]),x[1]))\n",
    "doc_tf_div_by_doc_len = doc_tf_vector_with_doc_len.map(lambda x: (x[0],[(term,(tup[0],tup[1]/x[1])) for term, tup in x[2]]))\n",
    "\n",
    "flating = doc_tf_div_by_doc_len.map(lambda x: x[1]).flatMap(lambda x: x).groupByKey().mapValues(list)\n",
    "\n",
    "add_df_for_value = flating.mapValues(lambda x: (len(x),x)).filter(lambda x: x[1][0] > 10)\n",
    "\n",
    "posting_list_befor_trans = add_df_for_value.mapValues(lambda x: [(doc_id, tf*math.log(total_number_of_docs_N/x[0],2)) for doc_id, tf in x[1]])\n",
    "\n",
    "doc_to_vec =  posting_list_befor_trans.map(lambda x: x[1]).flatMap(lambda x: x).groupByKey().mapValues(list)\n",
    "doc_vec_size_rdd = doc_to_vec.mapValues(lambda x: our_sum([i**2 for i in x])**0.5)\n",
    "#end addition------------------------------"
   ]
  },
  {
   "cell_type": "code",
   "execution_count": null,
   "id": "5464627c",
   "metadata": {},
   "outputs": [],
   "source": [
    "doc_vec_size_dict  = dict(doc_vec_size_rdd.collect())"
   ]
  },
  {
   "cell_type": "code",
   "execution_count": null,
   "id": "e4cb023e",
   "metadata": {},
   "outputs": [],
   "source": [
    "posting_list_div_by_doc_vec_size = posting_list_befor_trans.mapValues(lambda x: [(doc_id, tfidf/doc_vec_size_dict[doc_id]) for doc_id, tfidf in x])"
   ]
  },
  {
   "cell_type": "code",
   "execution_count": null,
   "id": "ccefd82e",
   "metadata": {},
   "outputs": [],
   "source": [
    "rounded_posting_lists = posting_list_div_by_doc_vec_size.mapValues(lambda x: [(doc_id, int(tf_idf*10000)) for doc_id, tf_idf in x])\n",
    "\n",
    "sorted_posting_list = rounded_posting_lists.mapValues(lambda x: sorted(x, key=lambda y: y[1], reverse=True))\n",
    "\n",
    "# slicing posting list to POSTING_LEN_THRESH size (if posting list len is bigger)\n",
    "final_posting_lists = sorted_posting_list.map(lambda x: (x[0], x[1][:get_posting_size(len(x[1]))]))\n",
    "print('finish')"
   ]
  },
  {
   "cell_type": "code",
   "execution_count": null,
   "id": "5fb529db",
   "metadata": {
    "scrolled": true
   },
   "outputs": [],
   "source": [
    "_ = partition_postings_and_write(final_posting_lists).collect()"
   ]
  },
  {
   "cell_type": "code",
   "execution_count": null,
   "id": "06c7e410",
   "metadata": {
    "id": "06c7e410",
    "nbgrader": {
     "grade": true,
     "grade_id": "collect-posting",
     "locked": true,
     "points": 0,
     "schema_version": 3,
     "solution": false,
     "task": false
    }
   },
   "outputs": [],
   "source": [
    "super_posting_locs = defaultdict(list)\n",
    "for blob in client.list_blobs(bucket_name, prefix=DIR_NAME):\n",
    "  if not blob.name.endswith(\"pickle\"):\n",
    "    continue\n",
    "  print(\"found \" + blob.name)\n",
    "  with blob.open(\"rb\") as f:\n",
    "    posting_locs = pickle.load(f)\n",
    "    for k, v in posting_locs.items():\n",
    "      super_posting_locs[k].extend(v)\n",
    "    print(\"wrote \" + blob.name)\n",
    "print(\"finish2\")"
   ]
  },
  {
   "cell_type": "code",
   "execution_count": null,
   "id": "85a93ce1",
   "metadata": {},
   "outputs": [],
   "source": [
    "df_dict_rdd = final_posting_lists.mapValues(lambda x: len(x))\n",
    "df_dict = dict(df_dict_rdd.collect())\n",
    "print(df_dict[\"door\"])\n",
    "print(len(df_dict))"
   ]
  },
  {
   "cell_type": "code",
   "execution_count": null,
   "id": "f093dd3e",
   "metadata": {
    "id": "f093dd3e"
   },
   "outputs": [],
   "source": [
    "title_index = InvertedIndex()\n",
    "title_index.df = df_dict\n",
    "title_index.posting_locs = super_posting_locs"
   ]
  },
  {
   "cell_type": "code",
   "execution_count": null,
   "id": "156e9f81",
   "metadata": {},
   "outputs": [],
   "source": [
    "# write the global stats out\n",
    "title_index.write_index('.', 'title_index')\n",
    "# upload to gs\n",
    "index_src = \"title_index.pkl\"\n",
    "index_dst = f'gs://{bucket_name}/title_index/postings_tfidf_gcp/{index_src}'\n",
    "!gsutil cp $index_src $index_dst"
   ]
  },
  {
   "cell_type": "code",
   "execution_count": null,
   "id": "cce3fcd1",
   "metadata": {},
   "outputs": [],
   "source": [
    "!gsutil ls -lh $index_dst"
   ]
  },
  {
   "cell_type": "code",
   "execution_count": null,
   "id": "0d0e7164",
   "metadata": {},
   "outputs": [],
   "source": [
    "title_index.posting_locs['silicon']"
   ]
  }
 ],
 "metadata": {
  "celltoolbar": "Create Assignment",
  "colab": {
   "collapsed_sections": [],
   "name": "final_queries_terms_index_builder_gcp.ipynb",
   "provenance": []
  },
  "kernelspec": {
   "display_name": "PySpark",
   "language": "python",
   "name": "pyspark"
  },
  "language_info": {
   "codemirror_mode": {
    "name": "ipython",
    "version": 3
   },
   "file_extension": ".py",
   "mimetype": "text/x-python",
   "name": "python",
   "nbconvert_exporter": "python",
   "pygments_lexer": "ipython3",
   "version": "3.8.12"
  }
 },
 "nbformat": 4,
 "nbformat_minor": 5
}
