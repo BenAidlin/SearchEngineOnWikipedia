{
 "cells": [
  {
   "cell_type": "code",
   "execution_count": 1,
   "id": "f3141042",
   "metadata": {},
   "outputs": [],
   "source": [
    "import json\n",
    "from google.cloud import storage\n",
    "bucket_name = 'ir-project-bucket-313191645-201013310' \n",
    "storage_client = storage.Client()\n",
    "BUCKET = storage_client.get_bucket(bucket_name)\n",
    "\n",
    "\n",
    "# get the blob\n",
    "blob = BUCKET.get_blob('json_files/queries_train.json')\n",
    "# load blob using json\n",
    "queries = json.loads(blob.download_as_string())"
   ]
  },
  {
   "cell_type": "code",
   "execution_count": 2,
   "id": "f920aa38",
   "metadata": {},
   "outputs": [],
   "source": [
    "def average_precision(true_list, predicted_list, k=40):\n",
    "    true_set = frozenset(true_list)\n",
    "    predicted_list = predicted_list[:k]\n",
    "    precisions = []\n",
    "    for i,doc_id in enumerate(predicted_list):        \n",
    "        if doc_id in true_set:\n",
    "            prec = (len(precisions)+1) / (i+1)            \n",
    "            precisions.append(prec)\n",
    "    if len(precisions) == 0:\n",
    "        return 0.0\n",
    "    return round(sum(precisions)/len(precisions),3)"
   ]
  },
  {
   "cell_type": "code",
   "execution_count": 5,
   "id": "e83865cc",
   "metadata": {},
   "outputs": [],
   "source": [
    "import requests\n",
    "from time import time\n",
    "# url = 'http://35.232.59.3:8080'\n",
    "# place the domain you got from ngrok or GCP IP below. \n",
    "url = 'http://b47d-34-72-5-226.ngrok.io'\n",
    "\n",
    "qs_res = []\n",
    "for q, true_wids in queries.items():\n",
    "    duration, ap = None, None\n",
    "    t_start = time()\n",
    "    try:\n",
    "        res = requests.get(url + '/search_body', {'query': q}, timeout=35)\n",
    "        duration = time() - t_start\n",
    "        if res.status_code == 200:\n",
    "            pred_wids, _ = zip(*res.json())\n",
    "            ap = average_precision(true_wids, pred_wids)\n",
    "    except:\n",
    "        print(q + ': not good...')\n",
    "    qs_res.append((q, duration, ap))\n",
    "\n",
    "print('Finish')"
   ]
  },
  {
   "cell_type": "code",
   "execution_count": 10,
   "id": "9391983b",
   "metadata": {},
   "outputs": [
    {
     "name": "stdout",
     "output_type": "stream",
     "text": [
      "[('python', 12.294742822647095, 0.168), ('data science', 7.939196348190308, 0.091), ('migraine', 7.624596118927002, 0.234), ('chocolate', 7.866066217422485, 0.159), ('how to make pasta', 7.86054253578186, 0.277), ('Does pasta have preservatives?', 7.693466901779175, 0.0), ('how google works', 7.893348693847656, 0.227), ('what is information retrieval', 7.770978212356567, 0.258), ('NBA', 7.712854862213135, 0.135), ('yoga', 7.680114507675171, 0.522), ('how to not kill plants', 7.916727781295776, 0.111), ('masks', 7.842602491378784, 0.216), ('black friday', 7.76887321472168, 0.0), ('why do men have nipples', 7.8874571323394775, 0.078), ('rubber duck', 7.925971508026123, 0.0), ('michelin', 7.7022483348846436, 0.143), ('what to watch', 7.773510217666626, 0.067), ('best marvel movie', 7.8394997119903564, 0.063), ('how tall is the eiffel tower', 8.07307481765747, 0.236), ('where does vanilla flavoring come from', 8.160261869430542, 0.069), ('best ice cream flavour', 8.065742015838623, 0.09), ('how to tie a tie', 7.746157169342041, 0.378), ('how to earn money online', 8.048466920852661, 0.083), ('what is critical race theory', 7.924978971481323, 0.0), ('what space movie was made in 1992', 8.310042381286621, 0.036), ('how to vote', 8.201421737670898, 0.215), ('google trends', 7.699093818664551, 0.143), ('dim sum', 7.745569705963135, 0.102), ('ted', 7.671856641769409, 0.029), ('fairy tale', 7.837843656539917, 0.113)]\n",
      "MAP@40: 0.14143333333333336\n",
      "AVG run time: 8.015910243988037\n"
     ]
    }
   ],
   "source": [
    "print(qs_res)\n",
    "print('MAP@40: ' + str(sum(i[2] for i in qs_res)/30))\n",
    "print('AVG run time: ' + str(sum(i[1] for i in qs_res)/30))"
   ]
  }
 ],
 "metadata": {
  "kernelspec": {
   "display_name": "PySpark",
   "language": "python",
   "name": "pyspark"
  },
  "language_info": {
   "codemirror_mode": {
    "name": "ipython",
    "version": 3
   },
   "file_extension": ".py",
   "mimetype": "text/x-python",
   "name": "python",
   "nbconvert_exporter": "python",
   "pygments_lexer": "ipython3",
   "version": "3.8.12"
  }
 },
 "nbformat": 4,
 "nbformat_minor": 5
}
