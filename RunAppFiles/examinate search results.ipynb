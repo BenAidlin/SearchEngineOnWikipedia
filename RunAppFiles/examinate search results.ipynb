{
 "cells": [
  {
   "cell_type": "code",
   "execution_count": 1,
   "id": "f3141042",
   "metadata": {},
   "outputs": [],
   "source": [
    "import json\n",
    "from google.cloud import storage\n",
    "bucket_name = 'ir-project-bucket-313191645-201013310' \n",
    "storage_client = storage.Client()\n",
    "BUCKET = storage_client.get_bucket(bucket_name)\n",
    "\n",
    "\n",
    "# get the blob\n",
    "blob = BUCKET.get_blob('json_files/queries_train.json')\n",
    "# load blob using json\n",
    "queries = json.loads(blob.download_as_string())"
   ]
  },
  {
   "cell_type": "code",
   "execution_count": 2,
   "id": "f920aa38",
   "metadata": {},
   "outputs": [],
   "source": [
    "def average_precision(true_list, predicted_list, k=40):\n",
    "    true_set = frozenset(true_list)\n",
    "    predicted_list = predicted_list[:k]\n",
    "    precisions = []\n",
    "    for i,doc_id in enumerate(predicted_list):        \n",
    "        if doc_id in true_set:\n",
    "            prec = (len(precisions)+1) / (i+1)            \n",
    "            precisions.append(prec)\n",
    "    if len(precisions) == 0:\n",
    "        return 0.0\n",
    "    return round(sum(precisions)/len(precisions),3)"
   ]
  },
  {
   "cell_type": "code",
   "execution_count": 3,
   "id": "e83865cc",
   "metadata": {},
   "outputs": [
    {
     "name": "stdout",
     "output_type": "stream",
     "text": [
      "python0.791\n",
      "data science0.816\n",
      "migraine0.959\n",
      "chocolate0.684\n",
      "how to make pasta0.513\n",
      "Does pasta have preservatives?0.129\n",
      "how google works0.751\n",
      "what is information retrieval0.21\n",
      "NBA0.381\n",
      "yoga0.841\n",
      "how to not kill plants1.0\n",
      "masks0.713\n",
      "black friday0.543\n",
      "why do men have nipples0.198\n",
      "rubber duck0.447\n",
      "michelin0.758\n",
      "what to watch0.601\n",
      "best marvel movie0.533\n",
      "how tall is the eiffel tower0.578\n",
      "where does vanilla flavoring come from0.733\n",
      "best ice cream flavour0.361\n",
      "how to tie a tie0.573\n",
      "how to earn money online0.75\n",
      "what is critical race theory0.738\n",
      "what space movie was made in 19920.083\n",
      "how to vote0.433\n",
      "google trends0.165\n",
      "dim sum0.359\n",
      "ted0.655\n",
      "fairy tale0.367\n",
      "Finish\n"
     ]
    }
   ],
   "source": [
    "import requests\n",
    "from time import time\n",
    "# url = 'http://35.232.59.3:8080'\n",
    "# place the domain you got from ngrok or GCP IP below. \n",
    "url = 'http://df5d-34-69-157-136.ngrok.io'\n",
    "\n",
    "qs_res = []\n",
    "for q, true_wids in queries.items():\n",
    "    duration, ap = None, None\n",
    "    t_start = time()\n",
    "    try:\n",
    "        res = requests.get(url + '/search', {'query': q}, timeout=35)\n",
    "        duration = time() - t_start\n",
    "        if res.status_code == 200:\n",
    "            pred_wids, _ = zip(*res.json())\n",
    "            ap = average_precision(true_wids, pred_wids)\n",
    "    except:\n",
    "        print(q + ': not good...')\n",
    "    \n",
    "    print(str(q) + str(ap))\n",
    "    qs_res.append((q, duration, ap))\n",
    "\n",
    "print('Finish')"
   ]
  },
  {
   "cell_type": "code",
   "execution_count": 4,
   "id": "9391983b",
   "metadata": {},
   "outputs": [
    {
     "name": "stdout",
     "output_type": "stream",
     "text": [
      "[('python', 0.25699806213378906, 0.791), ('data science', 0.4214906692504883, 0.816), ('migraine', 0.44453859329223633, 0.959), ('chocolate', 0.2520716190338135, 0.684), ('how to make pasta', 0.40336060523986816, 0.513), ('Does pasta have preservatives?', 0.3402280807495117, 0.129), ('how google works', 0.44317078590393066, 0.751), ('what is information retrieval', 0.4661073684692383, 0.21), ('NBA', 0.26473212242126465, 0.381), ('yoga', 0.29473423957824707, 0.841), ('how to not kill plants', 0.42281270027160645, 1.0), ('masks', 0.24218988418579102, 0.713), ('black friday', 0.39371395111083984, 0.543), ('why do men have nipples', 0.32949328422546387, 0.198), ('rubber duck', 0.4330766201019287, 0.447), ('michelin', 0.26267051696777344, 0.758), ('what to watch', 0.2745530605316162, 0.601), ('best marvel movie', 0.6348423957824707, 0.533), ('how tall is the eiffel tower', 0.7263848781585693, 0.578), ('where does vanilla flavoring come from', 0.5532574653625488, 0.733), ('best ice cream flavour', 0.9091043472290039, 0.361), ('how to tie a tie', 0.2796976566314697, 0.573), ('how to earn money online', 0.5283095836639404, 0.75), ('what is critical race theory', 0.5607843399047852, 0.738), ('what space movie was made in 1992', 0.7206330299377441, 0.083), ('how to vote', 0.24529647827148438, 0.433), ('google trends', 0.39443373680114746, 0.165), ('dim sum', 0.3856358528137207, 0.359), ('ted', 0.3073439598083496, 0.655), ('fairy tale', 0.38857364654541016, 0.367)]\n",
      "MAP@40: 0.5554333333333332\n",
      "AVG run time: 0.4193413178126017\n"
     ]
    }
   ],
   "source": [
    "print(qs_res)\n",
    "print('MAP@40: ' + str(sum(i[2] for i in qs_res)/30))\n",
    "print('AVG run time: ' + str(sum(i[1] for i in qs_res)/30))"
   ]
  },
  {
   "cell_type": "code",
   "execution_count": 5,
   "id": "5cc5a10c",
   "metadata": {},
   "outputs": [
    {
     "name": "stdout",
     "output_type": "stream",
     "text": [
      "data science0.0\n"
     ]
    }
   ],
   "source": [
    "q = 'data science'\n",
    "res = requests.get(url + '/search', {'query': q}, timeout=35)\n",
    "duration = time() - t_start\n",
    "if res.status_code == 200:\n",
    "    pred_wids, _ = zip(*res.json())\n",
    "    ap = average_precision(true_wids, pred_wids)\n",
    "print(str(q) + str(ap))\n",
    "qs_res.append((q, duration, ap))"
   ]
  },
  {
   "cell_type": "code",
   "execution_count": null,
   "id": "5e259d56",
   "metadata": {},
   "outputs": [],
   "source": []
  }
 ],
 "metadata": {
  "kernelspec": {
   "display_name": "PySpark",
   "language": "python",
   "name": "pyspark"
  },
  "language_info": {
   "codemirror_mode": {
    "name": "ipython",
    "version": 3
   },
   "file_extension": ".py",
   "mimetype": "text/x-python",
   "name": "python",
   "nbconvert_exporter": "python",
   "pygments_lexer": "ipython3",
   "version": "3.8.12"
  }
 },
 "nbformat": 4,
 "nbformat_minor": 5
}
