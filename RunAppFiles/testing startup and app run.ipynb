{
 "cells": [
  {
   "cell_type": "code",
   "execution_count": 1,
   "id": "33fcd486",
   "metadata": {},
   "outputs": [],
   "source": [
    "bucket_name = 'ir-project-bucket-313191645-201013310'"
   ]
  },
  {
   "cell_type": "code",
   "execution_count": 2,
   "id": "f6bcaa54",
   "metadata": {
    "scrolled": true
   },
   "outputs": [
    {
     "name": "stdout",
     "output_type": "stream",
     "text": [
      "Requirement already satisfied: gensim in /opt/conda/miniconda3/lib/python3.8/site-packages (4.1.2)\n",
      "Requirement already satisfied: numpy>=1.17.0 in /opt/conda/miniconda3/lib/python3.8/site-packages (from gensim) (1.19.5)\n",
      "Requirement already satisfied: scipy>=0.18.1 in /opt/conda/miniconda3/lib/python3.8/site-packages (from gensim) (1.6.3)\n",
      "Requirement already satisfied: smart-open>=1.8.1 in /opt/conda/miniconda3/lib/python3.8/site-packages (from gensim) (5.2.1)\n",
      "\u001b[33mWARNING: Running pip as the 'root' user can result in broken permissions and conflicting behaviour with the system package manager. It is recommended to use a virtual environment instead: https://pip.pypa.io/warnings/venv\u001b[0m\n"
     ]
    },
    {
     "name": "stderr",
     "output_type": "stream",
     "text": [
      "[nltk_data] Downloading package stopwords to /root/nltk_data...\n",
      "[nltk_data]   Package stopwords is already up-to-date!\n"
     ]
    }
   ],
   "source": [
    "# imports\n",
    "import pickle\n",
    "import sys\n",
    "import pyspark\n",
    "from pyspark.sql import *\n",
    "from pyspark.sql.functions import *\n",
    "from pyspark import SparkContext, SparkConf, SparkFiles\n",
    "from pyspark.sql import SQLContext\n",
    "from graphframes import *\n",
    "!pip install gensim\n",
    "import gensim\n",
    "# adding our python module to the cluster\n",
    "sc.addFile(\"/home/dataproc/inverted_index_gcp.py\")\n",
    "sys.path.insert(0,SparkFiles.getRootDirectory())\n",
    "sc.addFile(\"/home/dataproc/search_frontend_gcp_testing.py\")\n",
    "sys.path.insert(0,SparkFiles.getRootDirectory())\n",
    "from google.cloud import storage\n",
    "from inverted_index_gcp import InvertedIndex, MultiFileReader\n",
    "from search_frontend_gcp_testing import *\n",
    "sc.addFile(\"/home/dataproc/search_frontend_gcp.py\")\n",
    "sys.path.insert(0,SparkFiles.getRootDirectory())\n",
    "sc.addFile(\"/home/dataproc/helper_functions.py\")\n",
    "sys.path.insert(0,SparkFiles.getRootDirectory())\n",
    "from helper_functions import *\n",
    "import search_frontend_gcp as se\n",
    "import json\n"
   ]
  },
  {
   "cell_type": "code",
   "execution_count": 3,
   "id": "9271791b",
   "metadata": {},
   "outputs": [
    {
     "name": "stdout",
     "output_type": "stream",
     "text": [
      "WARNING: timestamping does nothing in combination with -O. See the manual\n",
      "for details.\n",
      "\n",
      "--2022-01-10 15:33:27--  https://bin.equinox.io/c/4VmDzA7iaHb/ngrok-stable-linux-amd64.zip\n",
      "Resolving bin.equinox.io (bin.equinox.io)... 52.202.168.65, 18.205.222.128, 54.161.241.46, ...\n",
      "Connecting to bin.equinox.io (bin.equinox.io)|52.202.168.65|:443... connected.\n",
      "HTTP request sent, awaiting response... 200 OK\n",
      "Length: 13832437 (13M) [application/octet-stream]\n",
      "Saving to: ‘ngrok-stable-linux-amd64.zip’\n",
      "\n",
      "ngrok-stable-linux- 100%[===================>]  13.19M  33.2MB/s    in 0.4s    \n",
      "\n",
      "2022-01-10 15:33:28 (33.2 MB/s) - ‘ngrok-stable-linux-amd64.zip’ saved [13832437/13832437]\n",
      "\n",
      "Archive:  ngrok-stable-linux-amd64.zip\n"
     ]
    }
   ],
   "source": [
    "!wget -N https://bin.equinox.io/c/4VmDzA7iaHb/ngrok-stable-linux-amd64.zip -O ngrok-stable-linux-amd64.zip\n",
    "!unzip -u ngrok-stable-linux-amd64.zip"
   ]
  },
  {
   "cell_type": "code",
   "execution_count": 4,
   "id": "2e95cf44",
   "metadata": {},
   "outputs": [
    {
     "name": "stdout",
     "output_type": "stream",
     "text": [
      "fetching body index...\n",
      "fetching title index...\n",
      "fetching anchor index...\n",
      "fetching page view...\n",
      "fetching page ranks...\n",
      "fetching doc titles...\n",
      "done! starting application\n"
     ]
    }
   ],
   "source": [
    "print(\"fetching body index...\")\n",
    "get_body_index()\n",
    "print(\"fetching title index...\")\n",
    "get_title_index()\n",
    "print(\"fetching anchor index...\")\n",
    "get_anchor_index()\n",
    "print(\"fetching page view...\")\n",
    "get_page_view()\n",
    "print(\"fetching page ranks...\")\n",
    "get_docs_page_ranks_dict()\n",
    "print(\"fetching doc titles...\")\n",
    "get_docs_titles()\n",
    "print(\"done! starting application\")"
   ]
  },
  {
   "cell_type": "code",
   "execution_count": null,
   "id": "cacac8e9",
   "metadata": {},
   "outputs": [
    {
     "name": "stderr",
     "output_type": "stream",
     "text": [
      " * Running on http://127.0.0.1:5000/ (Press CTRL+C to quit)\n"
     ]
    },
    {
     "name": "stdout",
     "output_type": "stream",
     "text": [
      " * Running on http://df5d-34-69-157-136.ngrok.io\n",
      " * Traffic stats available on http://127.0.0.1:4040\n"
     ]
    },
    {
     "name": "stderr",
     "output_type": "stream",
     "text": [
      "127.0.0.1 - - [10/Jan/2022 15:34:37] \"GET /search?query=python HTTP/1.1\" 200 -\n",
      "127.0.0.1 - - [10/Jan/2022 15:34:37] \"GET /search?query=data+science HTTP/1.1\" 200 -\n",
      "127.0.0.1 - - [10/Jan/2022 15:34:38] \"GET /search?query=migraine HTTP/1.1\" 200 -\n",
      "127.0.0.1 - - [10/Jan/2022 15:34:38] \"GET /search?query=chocolate HTTP/1.1\" 200 -\n",
      "127.0.0.1 - - [10/Jan/2022 15:34:39] \"GET /search?query=how+to+make+pasta HTTP/1.1\" 200 -\n",
      "127.0.0.1 - - [10/Jan/2022 15:34:39] \"GET /search?query=Does+pasta+have+preservatives%3F HTTP/1.1\" 200 -\n",
      "127.0.0.1 - - [10/Jan/2022 15:34:39] \"GET /search?query=how+google+works HTTP/1.1\" 200 -\n",
      "127.0.0.1 - - [10/Jan/2022 15:34:40] \"GET /search?query=what+is+information+retrieval HTTP/1.1\" 200 -\n",
      "127.0.0.1 - - [10/Jan/2022 15:34:40] \"GET /search?query=NBA HTTP/1.1\" 200 -\n",
      "127.0.0.1 - - [10/Jan/2022 15:34:40] \"GET /search?query=yoga HTTP/1.1\" 200 -\n",
      "127.0.0.1 - - [10/Jan/2022 15:34:41] \"GET /search?query=how+to+not+kill+plants HTTP/1.1\" 200 -\n",
      "127.0.0.1 - - [10/Jan/2022 15:34:41] \"GET /search?query=masks HTTP/1.1\" 200 -\n",
      "127.0.0.1 - - [10/Jan/2022 15:34:41] \"GET /search?query=black+friday HTTP/1.1\" 200 -\n",
      "127.0.0.1 - - [10/Jan/2022 15:34:42] \"GET /search?query=why+do+men+have+nipples HTTP/1.1\" 200 -\n",
      "127.0.0.1 - - [10/Jan/2022 15:34:42] \"GET /search?query=rubber+duck HTTP/1.1\" 200 -\n",
      "127.0.0.1 - - [10/Jan/2022 15:34:42] \"GET /search?query=michelin HTTP/1.1\" 200 -\n",
      "127.0.0.1 - - [10/Jan/2022 15:34:43] \"GET /search?query=what+to+watch HTTP/1.1\" 200 -\n",
      "127.0.0.1 - - [10/Jan/2022 15:34:43] \"GET /search?query=best+marvel+movie HTTP/1.1\" 200 -\n",
      "127.0.0.1 - - [10/Jan/2022 15:34:44] \"GET /search?query=how+tall+is+the+eiffel+tower HTTP/1.1\" 200 -\n",
      "127.0.0.1 - - [10/Jan/2022 15:34:45] \"GET /search?query=where+does+vanilla+flavoring+come+from HTTP/1.1\" 200 -\n",
      "127.0.0.1 - - [10/Jan/2022 15:34:46] \"GET /search?query=best+ice+cream+flavour HTTP/1.1\" 200 -\n",
      "127.0.0.1 - - [10/Jan/2022 15:34:46] \"GET /search?query=how+to+tie+a+tie HTTP/1.1\" 200 -\n",
      "127.0.0.1 - - [10/Jan/2022 15:34:46] \"GET /search?query=how+to+earn+money+online HTTP/1.1\" 200 -\n",
      "127.0.0.1 - - [10/Jan/2022 15:34:47] \"GET /search?query=what+is+critical+race+theory HTTP/1.1\" 200 -\n",
      "127.0.0.1 - - [10/Jan/2022 15:34:48] \"GET /search?query=what+space+movie+was+made+in+1992 HTTP/1.1\" 200 -\n",
      "127.0.0.1 - - [10/Jan/2022 15:34:48] \"GET /search?query=how+to+vote HTTP/1.1\" 200 -\n",
      "127.0.0.1 - - [10/Jan/2022 15:34:48] \"GET /search?query=google+trends HTTP/1.1\" 200 -\n",
      "127.0.0.1 - - [10/Jan/2022 15:34:49] \"GET /search?query=dim+sum HTTP/1.1\" 200 -\n",
      "127.0.0.1 - - [10/Jan/2022 15:34:49] \"GET /search?query=ted HTTP/1.1\" 200 -\n",
      "127.0.0.1 - - [10/Jan/2022 15:34:49] \"GET /search?query=fairy+tale HTTP/1.1\" 200 -\n",
      "127.0.0.1 - - [10/Jan/2022 15:34:50] \"GET /search?query=data+science HTTP/1.1\" 200 -\n"
     ]
    }
   ],
   "source": [
    "from flask_ngrok import run_with_ngrok\n",
    "run_with_ngrok(se.app) \n",
    "se.app.run()"
   ]
  }
 ],
 "metadata": {
  "kernelspec": {
   "display_name": "PySpark",
   "language": "python",
   "name": "pyspark"
  },
  "language_info": {
   "codemirror_mode": {
    "name": "ipython",
    "version": 3
   },
   "file_extension": ".py",
   "mimetype": "text/x-python",
   "name": "python",
   "nbconvert_exporter": "python",
   "pygments_lexer": "ipython3",
   "version": "3.8.12"
  }
 },
 "nbformat": 4,
 "nbformat_minor": 5
}
