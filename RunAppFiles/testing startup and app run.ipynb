{
 "cells": [
  {
   "cell_type": "code",
   "execution_count": 1,
   "id": "33fcd486",
   "metadata": {},
   "outputs": [],
   "source": [
    "bucket_name = 'ir-project-bucket-313191645-201013310'"
   ]
  },
  {
   "cell_type": "code",
   "execution_count": null,
   "id": "148c7c90",
   "metadata": {},
   "outputs": [],
   "source": [
    "# # check that all bin's and pickles exist in the bucket\n",
    "# !gsutil ls 'gs://ir-project-bucket-313191645-201013310/postings_gcp/'"
   ]
  },
  {
   "cell_type": "code",
   "execution_count": 2,
   "id": "f6bcaa54",
   "metadata": {
    "scrolled": true
   },
   "outputs": [
    {
     "name": "stderr",
     "output_type": "stream",
     "text": [
      "[nltk_data] Downloading package stopwords to /root/nltk_data...\n",
      "[nltk_data]   Package stopwords is already up-to-date!\n"
     ]
    }
   ],
   "source": [
    "# imports\n",
    "import pickle\n",
    "import sys\n",
    "import pyspark\n",
    "from pyspark.sql import *\n",
    "from pyspark.sql.functions import *\n",
    "from pyspark import SparkContext, SparkConf, SparkFiles\n",
    "from pyspark.sql import SQLContext\n",
    "from graphframes import *\n",
    "# adding our python module to the cluster\n",
    "sc.addFile(\"/home/dataproc/inverted_index_gcp.py\")\n",
    "sys.path.insert(0,SparkFiles.getRootDirectory())\n",
    "sc.addFile(\"/home/dataproc/search_frontend_gcp_testing.py\")\n",
    "sys.path.insert(0,SparkFiles.getRootDirectory())\n",
    "# !pip install -q google-cloud-storage==1.43.0\n",
    "# !pip install flask\n",
    "from google.cloud import storage\n",
    "from inverted_index_gcp import InvertedIndex, MultiFileReader\n",
    "from search_frontend_gcp_testing import *\n",
    "sc.addFile(\"/home/dataproc/search_frontend_gcp.py\")\n",
    "sys.path.insert(0,SparkFiles.getRootDirectory())\n",
    "import search_frontend_gcp as se\n",
    "import json"
   ]
  },
  {
   "cell_type": "code",
   "execution_count": null,
   "id": "11857d64",
   "metadata": {},
   "outputs": [],
   "source": [
    "# # declare storage client, load index\n",
    "# client = storage.Client()\n",
    "# index = None\n",
    "# for blob in client.list_blobs(bucket_name, prefix='title_index/postings_tfidf_gcp'):\n",
    "#   if blob.name.endswith(\"pkl\"):\n",
    "#     pickle_in = blob.download_as_string()\n",
    "#     index = pickle.loads(pickle_in)"
   ]
  },
  {
   "cell_type": "code",
   "execution_count": null,
   "id": "1eefa5f5",
   "metadata": {},
   "outputs": [],
   "source": [
    "# index = get_title_index()"
   ]
  },
  {
   "cell_type": "code",
   "execution_count": null,
   "id": "7d51dd0b",
   "metadata": {},
   "outputs": [],
   "source": [
    "# # check that index is loaded...\n",
    "# print(index.posting_locs[\"door\"])\n",
    "# locs = index.posting_locs[\"door\"]"
   ]
  },
  {
   "cell_type": "code",
   "execution_count": null,
   "id": "87b6bd66",
   "metadata": {},
   "outputs": [],
   "source": [
    "# # view top results for chocolate\n",
    "# index.read_posting_list('chocolate', 'title_index/postings_gcp_title_index')"
   ]
  },
  {
   "cell_type": "code",
   "execution_count": null,
   "id": "0d1d0113",
   "metadata": {},
   "outputs": [],
   "source": [
    "# check functionallity...\n",
    "index = get_body_index()\n",
    "index.posting_locs['information']"
   ]
  },
  {
   "cell_type": "code",
   "execution_count": null,
   "id": "91324d52",
   "metadata": {},
   "outputs": [],
   "source": [
    "search_body('NBA')"
   ]
  },
  {
   "cell_type": "code",
   "execution_count": null,
   "id": "5e9a38b5",
   "metadata": {},
   "outputs": [],
   "source": [
    "doc_title = get_docs_titles()\n",
    "print(type(list(doc_title.items())[0][0]))"
   ]
  },
  {
   "cell_type": "code",
   "execution_count": null,
   "id": "7c3c856b",
   "metadata": {},
   "outputs": [],
   "source": [
    "doc_title = get_docs_titles()\n",
    "print(type(list(doc_title.items())[0][0]))"
   ]
  },
  {
   "cell_type": "code",
   "execution_count": null,
   "id": "2b1eb42b",
   "metadata": {},
   "outputs": [],
   "source": [
    "search_title('chocolate')"
   ]
  },
  {
   "cell_type": "code",
   "execution_count": null,
   "id": "49180558",
   "metadata": {},
   "outputs": [],
   "source": [
    "get_pagerank(['12'])"
   ]
  },
  {
   "cell_type": "code",
   "execution_count": null,
   "id": "5bee6d29",
   "metadata": {},
   "outputs": [],
   "source": [
    "get_page_view([12])"
   ]
  },
  {
   "cell_type": "code",
   "execution_count": null,
   "id": "130bee4a",
   "metadata": {},
   "outputs": [],
   "source": [
    "search('chocolate')"
   ]
  },
  {
   "cell_type": "code",
   "execution_count": 3,
   "id": "9271791b",
   "metadata": {},
   "outputs": [
    {
     "name": "stdout",
     "output_type": "stream",
     "text": [
      "WARNING: timestamping does nothing in combination with -O. See the manual\n",
      "for details.\n",
      "\n",
      "--2022-01-07 22:28:30--  https://bin.equinox.io/c/4VmDzA7iaHb/ngrok-stable-linux-amd64.zip\n",
      "Resolving bin.equinox.io (bin.equinox.io)... 54.161.241.46, 54.237.133.81, 18.205.222.128, ...\n",
      "Connecting to bin.equinox.io (bin.equinox.io)|54.161.241.46|:443... connected.\n",
      "HTTP request sent, awaiting response... 200 OK\n",
      "Length: 13832437 (13M) [application/octet-stream]\n",
      "Saving to: ‘ngrok-stable-linux-amd64.zip’\n",
      "\n",
      "ngrok-stable-linux- 100%[===================>]  13.19M  42.2MB/s    in 0.3s    \n",
      "\n",
      "2022-01-07 22:28:30 (42.2 MB/s) - ‘ngrok-stable-linux-amd64.zip’ saved [13832437/13832437]\n",
      "\n",
      "Archive:  ngrok-stable-linux-amd64.zip\n"
     ]
    }
   ],
   "source": [
    "!wget -N https://bin.equinox.io/c/4VmDzA7iaHb/ngrok-stable-linux-amd64.zip -O ngrok-stable-linux-amd64.zip\n",
    "!unzip -u ngrok-stable-linux-amd64.zip"
   ]
  },
  {
   "cell_type": "code",
   "execution_count": null,
   "id": "15d6df02",
   "metadata": {},
   "outputs": [
    {
     "name": "stderr",
     "output_type": "stream",
     "text": [
      " * Running on http://127.0.0.1:5000/ (Press CTRL+C to quit)\n"
     ]
    },
    {
     "name": "stdout",
     "output_type": "stream",
     "text": [
      " * Running on http://b47d-34-72-5-226.ngrok.io\n",
      " * Traffic stats available on http://127.0.0.1:4040\n"
     ]
    },
    {
     "name": "stderr",
     "output_type": "stream",
     "text": [
      "127.0.0.1 - - [07/Jan/2022 22:30:16] \"GET /search_body?query=python HTTP/1.1\" 200 -\n",
      "127.0.0.1 - - [07/Jan/2022 22:30:24] \"GET /search_body?query=data+science HTTP/1.1\" 200 -\n",
      "127.0.0.1 - - [07/Jan/2022 22:30:32] \"GET /search_body?query=migraine HTTP/1.1\" 200 -\n",
      "127.0.0.1 - - [07/Jan/2022 22:30:40] \"GET /search_body?query=chocolate HTTP/1.1\" 200 -\n",
      "127.0.0.1 - - [07/Jan/2022 22:30:47] \"GET /search_body?query=how+to+make+pasta HTTP/1.1\" 200 -\n",
      "127.0.0.1 - - [07/Jan/2022 22:30:55] \"GET /search_body?query=Does+pasta+have+preservatives%3F HTTP/1.1\" 200 -\n",
      "127.0.0.1 - - [07/Jan/2022 22:31:03] \"GET /search_body?query=how+google+works HTTP/1.1\" 200 -\n",
      "127.0.0.1 - - [07/Jan/2022 22:31:11] \"GET /search_body?query=what+is+information+retrieval HTTP/1.1\" 200 -\n",
      "127.0.0.1 - - [07/Jan/2022 22:31:18] \"GET /search_body?query=NBA HTTP/1.1\" 200 -\n",
      "127.0.0.1 - - [07/Jan/2022 22:31:26] \"GET /search_body?query=yoga HTTP/1.1\" 200 -\n",
      "127.0.0.1 - - [07/Jan/2022 22:31:34] \"GET /search_body?query=how+to+not+kill+plants HTTP/1.1\" 200 -\n",
      "127.0.0.1 - - [07/Jan/2022 22:31:42] \"GET /search_body?query=masks HTTP/1.1\" 200 -\n",
      "127.0.0.1 - - [07/Jan/2022 22:31:50] \"GET /search_body?query=black+friday HTTP/1.1\" 200 -\n",
      "127.0.0.1 - - [07/Jan/2022 22:31:58] \"GET /search_body?query=why+do+men+have+nipples HTTP/1.1\" 200 -\n",
      "127.0.0.1 - - [07/Jan/2022 22:32:06] \"GET /search_body?query=rubber+duck HTTP/1.1\" 200 -\n",
      "127.0.0.1 - - [07/Jan/2022 22:32:13] \"GET /search_body?query=michelin HTTP/1.1\" 200 -\n",
      "127.0.0.1 - - [07/Jan/2022 22:32:21] \"GET /search_body?query=what+to+watch HTTP/1.1\" 200 -\n",
      "127.0.0.1 - - [07/Jan/2022 22:32:29] \"GET /search_body?query=best+marvel+movie HTTP/1.1\" 200 -\n",
      "127.0.0.1 - - [07/Jan/2022 22:32:37] \"GET /search_body?query=how+tall+is+the+eiffel+tower HTTP/1.1\" 200 -\n",
      "127.0.0.1 - - [07/Jan/2022 22:32:45] \"GET /search_body?query=where+does+vanilla+flavoring+come+from HTTP/1.1\" 200 -\n",
      "127.0.0.1 - - [07/Jan/2022 22:32:53] \"GET /search_body?query=best+ice+cream+flavour HTTP/1.1\" 200 -\n",
      "127.0.0.1 - - [07/Jan/2022 22:33:01] \"GET /search_body?query=how+to+tie+a+tie HTTP/1.1\" 200 -\n",
      "127.0.0.1 - - [07/Jan/2022 22:33:09] \"GET /search_body?query=how+to+earn+money+online HTTP/1.1\" 200 -\n",
      "127.0.0.1 - - [07/Jan/2022 22:33:17] \"GET /search_body?query=what+is+critical+race+theory HTTP/1.1\" 200 -\n",
      "127.0.0.1 - - [07/Jan/2022 22:33:25] \"GET /search_body?query=what+space+movie+was+made+in+1992 HTTP/1.1\" 200 -\n",
      "127.0.0.1 - - [07/Jan/2022 22:33:33] \"GET /search_body?query=how+to+vote HTTP/1.1\" 200 -\n",
      "127.0.0.1 - - [07/Jan/2022 22:33:41] \"GET /search_body?query=google+trends HTTP/1.1\" 200 -\n",
      "127.0.0.1 - - [07/Jan/2022 22:33:49] \"GET /search_body?query=dim+sum HTTP/1.1\" 200 -\n",
      "127.0.0.1 - - [07/Jan/2022 22:33:56] \"GET /search_body?query=ted HTTP/1.1\" 200 -\n",
      "127.0.0.1 - - [07/Jan/2022 22:34:04] \"GET /search_body?query=fairy+tale HTTP/1.1\" 200 -\n"
     ]
    }
   ],
   "source": [
    "from flask_ngrok import run_with_ngrok\n",
    "run_with_ngrok(se.app) \n",
    "se.app.run()"
   ]
  }
 ],
 "metadata": {
  "kernelspec": {
   "display_name": "PySpark",
   "language": "python",
   "name": "pyspark"
  },
  "language_info": {
   "codemirror_mode": {
    "name": "ipython",
    "version": 3
   },
   "file_extension": ".py",
   "mimetype": "text/x-python",
   "name": "python",
   "nbconvert_exporter": "python",
   "pygments_lexer": "ipython3",
   "version": "3.8.12"
  }
 },
 "nbformat": 4,
 "nbformat_minor": 5
}
